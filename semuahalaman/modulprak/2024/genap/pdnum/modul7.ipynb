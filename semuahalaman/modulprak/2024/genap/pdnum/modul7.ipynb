{
 "cells": [
  {
   "cell_type": "markdown",
   "metadata": {},
   "source": [
    "# Modul 7 Persamaan Diferensial Numerik: *Nonlinear Finite Difference*, PDP Eliptik & Hiperbolik"
   ]
  },
  {
   "cell_type": "markdown",
   "metadata": {},
   "source": [
    "Kembali ke [Persamaan Diferensial Numerik](./pdnum2024genap.qmd)"
   ]
  },
  {
   "cell_type": "markdown",
   "metadata": {},
   "source": [
    "(work in progress!)"
   ]
  },
  {
   "cell_type": "markdown",
   "metadata": {},
   "source": [
    "Melanjutkan dari modul sebelumnya, untuk masalah nilai batas PDB, kita akan membahas metode\n",
    "\n",
    "- *Nonlinear Finite Difference*\n",
    "\n",
    "Kemudian, kita akan membahas metode numerik untuk menyelesaikan PDP (persamaan diferensial parsial) orde 2\n",
    "\n",
    "- yang eliptik (persamaan Laplace / persamaan Poisson); dan\n",
    "\n",
    "- yang hiperbolik (persamaan gelombang)."
   ]
  },
  {
   "cell_type": "markdown",
   "metadata": {},
   "source": [
    "## *Nonlinear Finite Difference*"
   ]
  },
  {
   "cell_type": "markdown",
   "metadata": {},
   "source": [
    "Metode ini digunakan untuk mengaproksimasi masalah nilai batas:"
   ]
  },
  {
   "cell_type": "markdown",
   "metadata": {},
   "source": [
    "$$\n",
    "\\begin{gathered}\n",
    "y^{\\prime \\prime}=f\\left(x, y, y^{\\prime}\\right), \\quad a \\leq x \\leq b \\\\\n",
    "y(a)=\\alpha, \\quad y(b)=\\beta\n",
    "\\end{gathered}\n",
    "$$"
   ]
  },
  {
   "cell_type": "markdown",
   "metadata": {},
   "source": [
    "### Function file (dari pseudocode)"
   ]
  },
  {
   "cell_type": "code",
   "execution_count": null,
   "metadata": {},
   "outputs": [],
   "source": [
    "function [t_grid,w]=nonlinear_FDM_pseudocode(f,f_y,f_yprime,a,b,n,alpha,beta,max_iter,TOL)\n",
    "  h=(b-a)/(n+1); %sepsize\n",
    "  w=zeros(n,1); %vektor solusi aproksimasi\n",
    "  t_grid=[a:h:b]; %mesh_poitnya\n",
    "  J=zeros(n,n); %matriks jacobian\n",
    "  F=zeros(n,1); %vektor fungsi  F=(f_1,f_2,...,f_n) yang dievaluasi di x_k\n",
    "\n",
    "  for i=1:n %inisialisasi solusi awal\n",
    "    w(i)=alpha+i*(beta-alpha)/(b-a)*h;\n",
    "  endfor\n",
    "  k=1;\n",
    "  while k<=max_iter %lakukan iterasi jika masih belum didapat kriteria stopnya\n",
    "\n",
    "    %solve nonlinear sistem tersebut dengan metode newton\n",
    "    x=a+h;\n",
    "    %kontruksi matriks Jacobian, dan vektor F-nya\n",
    "    t=(w(2)-alpha)/(2*h);\n",
    "    J(1,1)=2+h^2*f_y(x,w(1),t); %main diagoanal\n",
    "    J(1,2)=-1+(h/2)*f_yprime(x,w(1),t); %right diagonal\n",
    "    F(1)=(2*w(1)-w(2)-alpha+h^2*f(x,w(1),t));\n",
    "    for i =2:n-1\n",
    "      x=a+i*h;\n",
    "      t=(w(i+1)-w(i-1))/(2*h);\n",
    "      J(i,i)=2+h^2*f_y(x,w(i),t); %main diagoanal\n",
    "      J(i,i+1)=-1+(h/2)*f_yprime(x,w(i),t); %main diagoanal\n",
    "      J(i,i-1)=-1-(h/2)*f_yprime(x,w(i),t); %left diagoanal\n",
    "      F(i)=(2*w(i)-w(i+1)-w(i-1)+h^2*f(x,w(i),t));\n",
    "    endfor\n",
    "     x=b-h;\n",
    "     t=(beta-w(n-1))/(2*h);\n",
    "     J(n,n)=2+h^2*f_y(x,w(n),t); %main diagonal\n",
    "     J(n,n-1)=-1-(h/2)*f_yprime(x,w(n),t); %right diagonal\n",
    "     F(n)=(2*w(n)-w(n-1)-beta+h^2*f(x,w(n),t));\n",
    "\n",
    "\n",
    "\n",
    "    v=inverse(J)*F; %vector v adalah product dari J^-1 F\n",
    "    w= w-v; % lakukan update nilai pada w\n",
    "\n",
    "    if norm(v,2)<= TOL %kriteria stop jika norm(v)<=toleransinya\n",
    "      break;\n",
    "     else\n",
    "        k=k+1; %jika belum memenuhi kriteria stop terus lanjut iterasinya (memperbaiki nilai w)\n",
    "    endif\n",
    "  endwhile\n",
    "  w=[alpha ; w ; beta]; %konstruksi akhir w\n",
    "  t_grid=transpose(t_grid); % %transpose meshpoint\n",
    "  % untuk konsistensi dimensi saja\n",
    "\n",
    "endfunction"
   ]
  },
  {
   "cell_type": "markdown",
   "metadata": {},
   "source": [
    "### Contoh *Nonlinear Finite Difference*"
   ]
  },
  {
   "cell_type": "markdown",
   "metadata": {},
   "source": [
    "Gunakan metode beda hingga nonlinear dengan $h=0.1$ dan toleransi $10^{-4}$ untuk mengaproksimasi BVP berikut:\n",
    "$$\n",
    "\\begin{aligned}\n",
    "y^{\\prime \\prime} & =y^{\\prime}+2(y-\\ln x)^3-\\frac{1}{x}, \\quad 2 \\leq x \\leq 3 \\\\\n",
    "y(2) & =\\frac{1}{2}+\\ln 2, \\quad y(3)=\\frac{1}{3}+\\ln 3\n",
    "\\end{aligned}\n",
    "$$\n",
    "Solusi eksak:\n",
    "$$\n",
    "y(x)=\\frac{1}{x}+\\ln x\n",
    "$$"
   ]
  },
  {
   "cell_type": "code",
   "execution_count": null,
   "metadata": {},
   "outputs": [],
   "source": [
    "f=@(x,y,yp) yp+2*(y-log(x))^3-1/x ; %fungsi f pada y=f(x,y,y')\n",
    "f_y=@(x,y,yp) 6*(y-log(x))^2; %turunan fungsi f terhadap y\n",
    "f_yp=@(x,y,yp) 1; %turunan fungsi f terhadap yprime\n",
    "a=2; %left boundary\n",
    "b=3; %right boundary\n",
    "alpha=0.5+log(2); %y(a)\n",
    "beta=1/3+ log(3); %y(b)\n",
    "n=9; %banyaknya partisi (pilih n=9 sehingga h=0.1)\n",
    "maxiter=30; %masksimal iterasi newton methodnya\n",
    "TOL=10^(-4); %toleransi nilai (untuk kriteria stop)\n",
    "\n",
    "%memanggil fungsi nonlinear_FDM_naive\n",
    "[x_grid,w]=nonlinear_FDM_naive(f,f_y,f_yp,a,b,n,alpha,beta,maxiter,TOL)\n",
    "f_anal= @(x) 1./x +log(x); %sol analitik\n",
    "\n",
    "%membuat grafiknya\n",
    "fplot(f_anal, [a,b],'b')\n",
    "hold on;\n",
    "scatter(x_grid,w,'r')\n",
    "legend('solusi analitik', 'solusi linear FDM');\n",
    "legend(\"location\", \"northwest\");\n",
    "\n",
    "%membuat tabel saja.\n",
    "sol_anal=f_anal(x_grid); %sol analitik di meshpoint\n",
    "error=abs(w-sol_anal); %error\n",
    "[x_grid,w,sol_anal,error]"
   ]
  },
  {
   "cell_type": "markdown",
   "metadata": {},
   "source": [
    "## PDP Eliptik dengan metode Gauss-Seidel"
   ]
  },
  {
   "cell_type": "markdown",
   "metadata": {},
   "source": [
    "### Bentuk umum, ide utama, penyederhanaan"
   ]
  },
  {
   "cell_type": "markdown",
   "metadata": {},
   "source": []
  },
  {
   "cell_type": "markdown",
   "metadata": {},
   "source": [
    "### *Function file*"
   ]
  },
  {
   "cell_type": "code",
   "execution_count": null,
   "metadata": {},
   "outputs": [],
   "source": []
  },
  {
   "cell_type": "markdown",
   "metadata": {},
   "source": [
    "### Contoh soal"
   ]
  },
  {
   "cell_type": "markdown",
   "metadata": {},
   "source": []
  },
  {
   "cell_type": "code",
   "execution_count": null,
   "metadata": {},
   "outputs": [],
   "source": []
  },
  {
   "cell_type": "markdown",
   "metadata": {},
   "source": [
    "## PDP Hiperbolik / Persamaan Gelombang"
   ]
  },
  {
   "cell_type": "markdown",
   "metadata": {},
   "source": [
    "### Bentuk umum, ide utama, penyederhanaan"
   ]
  },
  {
   "cell_type": "markdown",
   "metadata": {},
   "source": []
  },
  {
   "cell_type": "markdown",
   "metadata": {},
   "source": [
    "### *Function file*"
   ]
  },
  {
   "cell_type": "code",
   "execution_count": null,
   "metadata": {},
   "outputs": [],
   "source": []
  },
  {
   "cell_type": "markdown",
   "metadata": {},
   "source": [
    "### Contoh soal"
   ]
  },
  {
   "cell_type": "markdown",
   "metadata": {},
   "source": []
  }
 ],
 "metadata": {
  "kernelspec": {
   "display_name": "Octave",
   "language": "octave",
   "name": "octave"
  },
  "language_info": {
   "name": "octave"
  }
 },
 "nbformat": 4,
 "nbformat_minor": 2
}
