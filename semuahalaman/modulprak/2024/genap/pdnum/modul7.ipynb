{
 "cells": [
  {
   "cell_type": "markdown",
   "metadata": {},
   "source": [
    "# Modul 7 Persamaan Diferensial Numerik: *Nonlinear Finite Difference*, PDP Eliptik & Hiperbolik"
   ]
  },
  {
   "cell_type": "markdown",
   "metadata": {},
   "source": [
    "Kembali ke [Persamaan Diferensial Numerik](./pdnum2024genap.qmd)"
   ]
  },
  {
   "cell_type": "markdown",
   "metadata": {},
   "source": [
    "(work in progress!)"
   ]
  },
  {
   "cell_type": "markdown",
   "metadata": {},
   "source": [
    "Melanjutkan dari modul sebelumnya, untuk masalah nilai batas PDB, kita akan membahas metode\n",
    "\n",
    "- *Nonlinear Finite Difference*\n",
    "\n",
    "Kemudian, kita akan membahas metode numerik untuk menyelesaikan PDP (persamaan diferensial parsial) orde 2\n",
    "\n",
    "- yang eliptik (persamaan Laplace / persamaan Poisson); dan\n",
    "\n",
    "- yang hiperbolik (persamaan gelombang)."
   ]
  },
  {
   "cell_type": "markdown",
   "metadata": {},
   "source": [
    "## *Nonlinear Finite Difference*"
   ]
  },
  {
   "cell_type": "markdown",
   "metadata": {},
   "source": [
    "Metode ini digunakan untuk mengaproksimasi masalah nilai batas:"
   ]
  },
  {
   "cell_type": "markdown",
   "metadata": {},
   "source": [
    "$$\n",
    "\\begin{gathered}\n",
    "y^{\\prime \\prime}=f\\left(x, y, y^{\\prime}\\right), \\quad a \\leq x \\leq b \\\\\n",
    "y(a)=\\alpha, \\quad y(b)=\\beta\n",
    "\\end{gathered}\n",
    "$$"
   ]
  },
  {
   "cell_type": "markdown",
   "metadata": {},
   "source": [
    "dengan $f$ boleh berupa fungsi linier maupun nonlinier."
   ]
  },
  {
   "cell_type": "markdown",
   "metadata": {},
   "source": [
    "Metode ini bersifat iteratif, memanfaatkan yang namanya \"metode Newton untuk sistem\" yang dibahas di subbab 10.2 buku Burden, yang dibahas di mata kuliah Matematika Numerik. Daripada membahas secara umum mengenai metode Newton untuk sistem, kita cukup membahas bagaimana langkah-langkah metodenya khusus dalam penerapannya sebagai metode *nonlinear finite difference* untuk menyelesaikan masalah nilai batas."
   ]
  },
  {
   "cell_type": "markdown",
   "metadata": {},
   "source": [
    "Langkah-langkah metode *nonlinear finite difference* bisa ditulis sebagai berikut:"
   ]
  },
  {
   "cell_type": "markdown",
   "metadata": {},
   "source": [
    "1.  Hitung rumus $f_y(x,y,y')$ (yaitu $\\frac{\\partial f}{\\partial y}(x,y,y')$) dan rumus $f_{y'}(x,y,y')$ (yaitu $\\frac{\\partial f}{\\partial y'}(x,y,y')$) secara analitik.\n",
    "\n",
    "2. Tentukan toleransi $\\varepsilon$, dan/atau maksimum banyaknya iterasi $M$.\n",
    "\n",
    "3. Pastikan nilai $N$ dan *step size* $h$ sudah dimiliki. Biasanya hanya salah satu nilai yang diberikan (biasanya $N$). Hubungan antara keduanya adalah\n",
    "\n",
    "    $$h = \\frac{b-a}{N+1}$$\n",
    "\n",
    "4. Ingat bahwa $w_0 = \\alpha$ dan $w_{N+1} = \\beta$. Kita perlu menentukan nilai-nilai $w_1, \\dots, w_N$. Untuk nilai-nilai tersebut, pasang tebakan awal, berupa nilai-nilai di antara $\\alpha$ dan $\\beta$, sebagai berikut untuk $i = 1, \\dots, N$:\n",
    "\n",
    "    $$w_i = \\alpha + i\\left(\\frac{\\beta - \\alpha}{b-a}\\right)h$$\n",
    "\n",
    "5. Susun suatu matriks tridiagonal berukuran $N \\times N$ yang dinamakan matriks Jacobian, dengan entri\n",
    "    $$J_{ij} = \\begin{cases}\n",
    "        -\\left(1 + \\frac{h}{2}\\right) f_{y'} \\left(x_i, w_i, \\frac{w_{i+1} - w_{i-1}}{2h}\\right) & \\text{di bawah/kiri diagonal, baris ke-$i$} \\\\\n",
    "        2 + h^2 f_{y} \\left(x_i, w_i, \\frac{w_{i+1} - w_{i-1}}{2h}\\right) & \\text{di diagonal, baris ke-$i$} \\\\\n",
    "        -\\left(1 - \\frac{h}{2}\\right) f_{y'} \\left(x_i, w_i, \\frac{w_{i+1} - w_{i-1}}{2h}\\right) & \\text{di atas/kanan diagonal, barsi ke-$i$} \\\\\n",
    "        0 & \\text{untuk semua elemen lainnya}\n",
    "    \\end{cases}$$\n",
    "\n",
    "6. Susun vektor kolom bernama $d$ dengan $N$ baris, yang isinya sebagai berikut untuk $i = 1, \\dots, N$:\n",
    "    $$d_i = -w_{i-1} + 2w_i - w_{i+1} + h^2 f\\left(x_i, w_i, \\frac{w_{i+1}-w_{i-1}}{2h}\\right)$$\n",
    "\n",
    "7. Selesaikan SPL $Jv = -d$ (iya pakai minus), di mana vektor $v$ berisi nilai-nilai $v_1,\\dots,v_N$ yang ingin diperoleh. Metode penyelesaian SPLnya terserah.\n",
    "\n",
    "8. Perbarui vektor $w$ dengan menambahkan vektor $v$. Yaitu, nilai $w_1$ ditambahkan $v_1$, nilai $w_2$ ditambahkan $v_2$, dan seterusnya.\n",
    "\n",
    "9. Sampai sini, selesai satu iterasi. Periksa apakah $\\left|\\left|v\\right|\\right| \\le \\varepsilon$ (atau periksa apakah sudah memenuhi banyaknya iterasi yang diminta). Kalau sudah terpenuhi, metode selesai. Kalau belum, masuk ke iterasi selanjutnya, yaitu melanjutkan kembali dari langkah 5, dengan nilai-nilai $w_1, \\dots, w_N$ terbaru."
   ]
  },
  {
   "cell_type": "markdown",
   "metadata": {},
   "source": [
    "### *Function file* (dari *pseudocode*)"
   ]
  },
  {
   "cell_type": "raw",
   "metadata": {},
   "source": [
    "::: {.panel-tabset}\n",
    "\n",
    "### *Function file* `nonlinear_FDM_pseudocode.m` - nama *file* harus sama dengan nama fungsi"
   ]
  },
  {
   "cell_type": "code",
   "execution_count": 43,
   "metadata": {},
   "outputs": [],
   "source": [
    "function [t_grid,w]=nonlinear_FDM_pseudocode(f,f_y,f_yprime,a,b,n,alpha,beta,max_iter,TOL)\n",
    "  h=(b-a)/(n+1); %sepsize\n",
    "  w=zeros(n,1); %vektor solusi aproksimasi\n",
    "  t_grid=[a:h:b]; %mesh_poitnya\n",
    "  J=zeros(n,n); %matriks jacobian\n",
    "  F=zeros(n,1); %vektor fungsi  F=(f_1,f_2,...,f_n) yang dievaluasi di x_k\n",
    "\n",
    "  for i=1:n %inisialisasi solusi awal\n",
    "    w(i)=alpha+i*(beta-alpha)/(b-a)*h;\n",
    "  endfor\n",
    "  k=1;\n",
    "  while k<=max_iter %lakukan iterasi jika masih belum didapat kriteria stopnya\n",
    "\n",
    "    %solve nonlinear sistem tersebut dengan metode newton\n",
    "    x=a+h;\n",
    "    %kontruksi matriks Jacobian, dan vektor F-nya\n",
    "    t=(w(2)-alpha)/(2*h);\n",
    "    J(1,1)=2+h^2*f_y(x,w(1),t); %main diagoanal\n",
    "    J(1,2)=-1+(h/2)*f_yprime(x,w(1),t); %right diagonal\n",
    "    F(1)=(2*w(1)-w(2)-alpha+h^2*f(x,w(1),t));\n",
    "    for i =2:n-1\n",
    "      x=a+i*h;\n",
    "      t=(w(i+1)-w(i-1))/(2*h);\n",
    "      J(i,i)=2+h^2*f_y(x,w(i),t); %main diagoanal\n",
    "      J(i,i+1)=-1+(h/2)*f_yprime(x,w(i),t); %main diagoanal\n",
    "      J(i,i-1)=-1-(h/2)*f_yprime(x,w(i),t); %left diagoanal\n",
    "      F(i)=(2*w(i)-w(i+1)-w(i-1)+h^2*f(x,w(i),t));\n",
    "    endfor\n",
    "     x=b-h;\n",
    "     t=(beta-w(n-1))/(2*h);\n",
    "     J(n,n)=2+h^2*f_y(x,w(n),t); %main diagonal\n",
    "     J(n,n-1)=-1-(h/2)*f_yprime(x,w(n),t); %right diagonal\n",
    "     F(n)=(2*w(n)-w(n-1)-beta+h^2*f(x,w(n),t));\n",
    "\n",
    "    v=inverse(J)*F; %vector v adalah product dari J^-1 F\n",
    "    w= w-v; % lakukan update nilai pada w\n",
    "\n",
    "    if norm(v,2)<= TOL %kriteria stop jika norm(v)<=toleransinya\n",
    "      break;\n",
    "     else\n",
    "        k=k+1; %jika belum memenuhi kriteria stop terus lanjut iterasinya (memperbaiki nilai w)\n",
    "    endif\n",
    "  endwhile\n",
    "  w=[alpha ; w ; beta]; %konstruksi akhir w\n",
    "  t_grid=transpose(t_grid); % %transpose meshpoint\n",
    "  % untuk konsistensi dimensi saja\n",
    "\n",
    "endfunction"
   ]
  },
  {
   "cell_type": "raw",
   "metadata": {},
   "source": [
    ":::"
   ]
  },
  {
   "cell_type": "markdown",
   "metadata": {},
   "source": [
    "### *Function file* (dengan solusi SPL secara langsung)"
   ]
  },
  {
   "cell_type": "markdown",
   "metadata": {},
   "source": [
    "Berikut ini, matriks Jacobian disusun dengan mempertimbangkan tiap elemen matriks, sehingga kompleksiasnya bisa dianggap $O(N^2)$:"
   ]
  },
  {
   "cell_type": "code",
   "execution_count": 44,
   "metadata": {},
   "outputs": [],
   "source": [
    "function [x_grid, w_grid] = nonlinear_fd_langsung_on2(f, fy, fyp, a, b, N, alph, bet, tol, M)\n",
    "  h = (b-a) / (N+1);\n",
    "  x_grid = (a : h : b)'; % transpos juga agar menjadi vektor kolom\n",
    "  x = x_grid(2 : N+1);\n",
    "  w = zeros(N, 1);\n",
    "  for i = 1 : N\n",
    "    w(i) = alph + i * ((bet - alph)/(b-a)) * h;\n",
    "  endfor\n",
    "  \n",
    "  % banyaknya iterasi\n",
    "  k = 1;\n",
    "\n",
    "  err = tol + 1;\n",
    "  % selama belum memenuhi toleransi ataupun mencapai batas iterasi\n",
    "  while (!(err <= tol) && k != M+1)\n",
    "    % menyusun matriks Jacobian\n",
    "    matriks_J = zeros(N, N);\n",
    "    for i = 1 : N\n",
    "      for j = 1 : N\n",
    "        if (i == j+1) % kiri/bawah diagonal\n",
    "          if (i == 1) % w(0) = alfa\n",
    "            matriks_J(i, j) = -(1 + h/2) * fyp(x(i), w(i), (w(i+1) - alph)/(2*h));\n",
    "          elseif (i == N) % w(N+1) = beta\n",
    "            matriks_J(i, j) = -(1 + h/2) * fyp(x(i), w(i), (bet - w(i-1))/(2*h));\n",
    "          else\n",
    "            matriks_J(i, j) = -(1 + h/2) * fyp(x(i), w(i), (w(i+1) - w(i-1))/(2*h));\n",
    "          endif\n",
    "        elseif (i == j) % pada diagonal\n",
    "          if (i == 1) % w(0) = alfa\n",
    "            matriks_J(i, j) = 2 + h^2 * fy(x(i), w(i), (w(i+1) - alph)/(2*h));\n",
    "          elseif (i == N) % w(N+1) = beta\n",
    "            matriks_J(i, j) = 2 + h^2 * fy(x(i), w(i), (bet - w(i-1))/(2*h));\n",
    "          else\n",
    "            matriks_J(i, j) = 2 + h^2 * fy(x(i), w(i), (w(i+1) - w(i-1))/(2*h));\n",
    "          endif\n",
    "        elseif (i == j-1) % kanan/atas diagonal\n",
    "          if (i == 1) % w(0) = alfa\n",
    "            matriks_J(i, j) = -(1 - h/2) * fyp(x(i), w(i), (w(i+1) - alph)/(2*h));\n",
    "          elseif (i == N) % w(N+1) = beta\n",
    "            matriks_J(i, j) = -(1 - h/2) * fyp(x(i), w(i), (bet - w(i-1))/(2*h));\n",
    "          else\n",
    "            matriks_J(i, j) = -(1 - h/2) * fyp(x(i), w(i), (w(i+1) - w(i-1))/(2*h));\n",
    "          endif\n",
    "        else\n",
    "          matriks_J(i, j) = 0;\n",
    "        endif\n",
    "      endfor\n",
    "    endfor\n",
    "    \n",
    "    % menyusun vektor d\n",
    "    d = zeros(N, 1);\n",
    "    % khusus baris pertama\n",
    "    i = 1;\n",
    "    d(i) = -alph + 2 * w(i) - w(i+1) + h^2 * f(x(i), w(i), (w(i+1) - alph)/(2*h));\n",
    "    for i = 2 : (N-1)\n",
    "      d(i) = -w(i-1) + 2 * w(i) - w(i+1) + h^2 * f(x(i), w(i), (w(i+1) - w(i-1))/(2*h));\n",
    "    endfor\n",
    "    % khusus baris terakhir\n",
    "    i = N;\n",
    "    d(i) = -w(i-1) + 2 * w(i) - bet + h^2 * f(x(i), w(i), (bet - w(i-1))/(2*h));\n",
    "    \n",
    "    % selesaikan SPL\n",
    "    v = matriks_J \\ (-d);\n",
    "    \n",
    "    w_baru = w + v;\n",
    "    err = sum(v.^2); % norm Euclid\n",
    "    w = w_baru;\n",
    "\n",
    "    k += 1; % lanjut ke iterasi selanjutnya\n",
    "  endwhile\n",
    "\n",
    "  % gabungkan w_0 (alfa), dengan w_1, ..., w_N, dengan w_{N+1} (beta)\n",
    "  w_grid = [alph; w; bet];\n",
    "endfunction"
   ]
  },
  {
   "cell_type": "markdown",
   "metadata": {},
   "source": [
    "Daripada mempertimbangkan tiap elemen di matriks Jacobian, kita bisa isi matriksnya dengan nol semua terlebih dahulu, kemudian melihat per baris saja dan hanya mempertimbangkan elemen diagonal dan kolom sebelum/setelah diagonal (karena matriksnya tridiagonal). Kodenya menjadi seperti berikut:"
   ]
  },
  {
   "cell_type": "code",
   "execution_count": 50,
   "metadata": {},
   "outputs": [],
   "source": [
    "function [x_grid, w_grid] = nonlinear_fd_langsung(f, fy, fyp, a, b, N, alph, bet, tol, M)\n",
    "  h = (b-a) / (N+1);\n",
    "  x_grid = (a : h : b)'; % transpos juga agar menjadi vektor kolom\n",
    "  x = x_grid(2 : N+1);\n",
    "  w = zeros(N, 1);\n",
    "  for i = 1 : N\n",
    "    w(i) = alph + i * ((bet - alph)/(b-a)) * h;\n",
    "  endfor\n",
    "  \n",
    "  % banyaknya iterasi\n",
    "  k = 1;\n",
    "\n",
    "  err = tol + 1;\n",
    "  % selama belum memenuhi toleransi ataupun mencapai batas iterasi\n",
    "  while (!(err <= tol) && k != M+1)\n",
    "    % menyusun matriks Jacobian\n",
    "    matriks_J = zeros(N, N); % isi nol semua dulu\n",
    "    for i = 1 : N\n",
    "      % kiri/bawah diagonal (kecuali di baris pertama)\n",
    "      if (i == N) % w(N+1) = beta\n",
    "        matriks_J(i, i-1) = -(1 + h/2) * fyp(x(i), w(i), (bet - w(i-1))/(2*h));\n",
    "      elseif (i != 1) % rumus biasa\n",
    "        matriks_J(i, i-1) = -(1 + h/2) * fyp(x(i), w(i), (w(i+1) - w(i-1))/(2*h));\n",
    "      endif\n",
    "\n",
    "      % pada diagonal\n",
    "      if (i == 1) % w(0) = alfa\n",
    "        matriks_J(i, i) = 2 + h^2 * fy(x(i), w(i), (w(i+1) - alph)/(2*h));\n",
    "      elseif (i == N) % w(N+1) = beta\n",
    "        matriks_J(i, i) = 2 + h^2 * fy(x(i), w(i), (bet - w(i-1))/(2*h));\n",
    "      else % rumus biasa\n",
    "        matriks_J(i, i) = 2 + h^2 * fy(x(i), w(i), (w(i+1) - w(i-1))/(2*h));\n",
    "      endif\n",
    "\n",
    "      % kanan/atas diagonal (kecuali di baris terakhir)\n",
    "      if (i == 1) % w(0) = alfa\n",
    "        matriks_J(i, i+1) = -(1 - h/2) * fyp(x(i), w(i), (w(i+1) - alph)/(2*h));\n",
    "      elseif (i != N) % rumus biasa\n",
    "        matriks_J(i, i+1) = -(1 - h/2) * fyp(x(i), w(i), (w(i+1) - w(i-1))/(2*h));\n",
    "      endif\n",
    "    endfor\n",
    "    \n",
    "    % menyusun vektor d\n",
    "    d = zeros(N, 1);\n",
    "    % khusus baris pertama\n",
    "    i = 1;\n",
    "    d(i) = -alph + 2 * w(i) - w(i+1) + h^2 * f(x(i), w(i), (w(i+1) - alph)/(2*h));\n",
    "    for i = 2 : (N-1)\n",
    "      d(i) = -w(i-1) + 2 * w(i) - w(i+1) + h^2 * f(x(i), w(i), (w(i+1) - w(i-1))/(2*h));\n",
    "    endfor\n",
    "    % khusus baris terakhir\n",
    "    i = N;\n",
    "    d(i) = -w(i-1) + 2 * w(i) - bet + h^2 * f(x(i), w(i), (bet - w(i-1))/(2*h));\n",
    "    \n",
    "    % selesaikan SPL\n",
    "    v = matriks_J \\ (-d);\n",
    "    \n",
    "    w_baru = w + v;\n",
    "    err = sum(v.^2); % norm Euclid\n",
    "    w = w_baru;\n",
    "\n",
    "    k += 1; % lanjut ke iterasi selanjutnya\n",
    "  endwhile\n",
    "\n",
    "  % gabungkan w_0 (alfa), dengan w_1, ..., w_N, dengan w_{N+1} (beta)\n",
    "  w_grid = [alph; w; bet];\n",
    "endfunction"
   ]
  },
  {
   "cell_type": "markdown",
   "metadata": {},
   "source": [
    "### Contoh 1"
   ]
  },
  {
   "cell_type": "markdown",
   "metadata": {},
   "source": [
    "Gunakan metode beda hingga nonlinear dengan $h=0.1$ dan toleransi $10^{-4}$ untuk mengaproksimasi BVP berikut:\n",
    "$$\n",
    "\\begin{aligned}\n",
    "y^{\\prime \\prime} & =y^{\\prime}+2(y-\\ln x)^3-\\frac{1}{x}, \\quad 2 \\leq x \\leq 3 \\\\\n",
    "y(2) & =\\frac{1}{2}+\\ln 2, \\quad y(3)=\\frac{1}{3}+\\ln 3\n",
    "\\end{aligned}\n",
    "$$\n",
    "\n",
    "Solusi eksak:\n",
    "\n",
    "$$y(x)=\\frac{1}{x}+\\ln x$$"
   ]
  },
  {
   "cell_type": "markdown",
   "metadata": {},
   "source": [
    "Hint:\n",
    "\n",
    "$$y'' = f\\left(x,y,y'\\right) = y'+2(y-\\ln x)^3-\\frac{1}{x}$$\n",
    "\n",
    "$$f_{y}\\left(x,y,y'\\right) = \\frac{\\partial f}{\\partial y} \\left(x,y,y'\\right) = 6\\left(y - \\ln{x}\\right)^2$$\n",
    "\n",
    "$$f_{y'}\\left(x,y,y'\\right) = \\frac{\\partial f}{\\partial y'} \\left(x,y,y'\\right) = 1$$"
   ]
  },
  {
   "cell_type": "markdown",
   "metadata": {},
   "source": [
    "Menggunakan fungsi dari *pseudocode*:"
   ]
  },
  {
   "cell_type": "code",
   "execution_count": 46,
   "metadata": {},
   "outputs": [
    {
     "name": "stdout",
     "output_type": "stream",
     "text": [
      "ans =\n",
      "\n",
      "   2.0000   1.1931   1.1931        0\n",
      "   2.1000   1.2181   1.2181   0.0000\n",
      "   2.2000   1.2430   1.2430   0.0000\n",
      "   2.3000   1.2677   1.2677   0.0000\n",
      "   2.4000   1.2922   1.2921   0.0000\n",
      "   2.5000   1.3163   1.3163   0.0000\n",
      "   2.6000   1.3401   1.3401   0.0000\n",
      "   2.7000   1.3636   1.3636   0.0000\n",
      "   2.8000   1.3868   1.3868   0.0000\n",
      "   2.9000   1.4095   1.4095   0.0000\n",
      "   3.0000   1.4319   1.4319        0\n",
      "\n"
     ]
    },
    {
     "data": {
      "image/png": "[encoded data removed]",
      "text/plain": [
       "<IPython.core.display.Image object>"
      ]
     },
     "metadata": {},
     "output_type": "display_data"
    }
   ],
   "source": [
    "f=@(x,y,yp) yp+2*(y-log(x)).^3-1./x ; %fungsi f pada y=f(x,y,y')\n",
    "f_y=@(x,y,yp) 6*(y-log(x)).^2; %turunan fungsi f terhadap y\n",
    "f_yp=@(x,y,yp) 1; %turunan fungsi f terhadap yprime\n",
    "a=2; %left boundary\n",
    "b=3; %right boundary\n",
    "alpha=0.5+log(2); %y(a)\n",
    "beta=1/3+ log(3); %y(b)\n",
    "n=9; %banyaknya partisi (pilih n=9 sehingga h=0.1)\n",
    "maxiter=30; %masksimal itesrasi newton methodnya\n",
    "TOL=10^(-4); %toleransi nilai (untuk kriteria stop)\n",
    "\n",
    "%memanggil fungsi nonlinear_FDM_pseudocode\n",
    "[x_grid, w_grid] = nonlinear_FDM_pseudocode(f,f_y,f_yp,a,b,n,alpha,beta,maxiter,TOL);\n",
    "sln = @(x) 1./x + log(x); %sol analitik\n",
    "y_eksak = sln(x_grid);\n",
    "\n",
    "% menghitung error\n",
    "err_w = abs(y_eksak - w_grid);\n",
    "\n",
    "[x_grid, w_grid, y_eksak, err_w]\n",
    "\n",
    "%membuat grafiknya\n",
    "fplot(sln, [a,b], 'b');\n",
    "hold on;\n",
    "scatter(x_grid, w_grid, 'r');\n",
    "title(\"Aproksimasi y(x)\");\n",
    "legend(\"Eksak\", \"Aproksimasi\");\n",
    "legend(\"location\", \"northwest\");"
   ]
  },
  {
   "cell_type": "markdown",
   "metadata": {},
   "source": [
    "Menggunakan fungsi yang menyusun matriks Jacobian per elemen secara $O(N^2)$:"
   ]
  },
  {
   "cell_type": "code",
   "execution_count": 51,
   "metadata": {},
   "outputs": [
    {
     "name": "stdout",
     "output_type": "stream",
     "text": [
      "Tabel aproksimasi, solusi y(x), dan error:\n",
      "ans =\n",
      "\n",
      "   2.000000000000000   1.193147180559945   1.193147180559945                   0\n",
      "   2.100000000000000   1.218136665897076   1.218127820919853   0.000008844977223\n",
      "   2.200000000000000   1.243017438585886   1.243002814909725   0.000014623676161\n",
      "   2.300000000000000   1.267709758540398   1.267691731630756   0.000018026909642\n",
      "   2.400000000000000   1.292154898557824   1.292135404020567   0.000019494537257\n",
      "   2.500000000000000   1.316310046093640   1.316290731874155   0.000019314219485\n",
      "   2.600000000000000   1.340144522402694   1.340126829642821   0.000017692759873\n",
      "   2.700000000000000   1.363636945192896   1.363622143380654   0.000014801812242\n",
      "   2.800000000000000   1.386773073873609   1.386762274324015   0.000010799549594\n",
      "   2.900000000000000   1.409544153003318   1.409538323199325   0.000005829803994\n",
      "   3.000000000000000   1.431945622001443   1.431945622001443                   0\n",
      "\n"
     ]
    },
    {
     "data": {
      "image/png": "[encoded data removed]",
      "text/plain": [
       "<IPython.core.display.Image object>"
      ]
     },
     "metadata": {},
     "output_type": "display_data"
    }
   ],
   "source": [
    "f = @(x,y,yp) yp + 2*(y-log(x)).^3 - 1./x ; %fungsi f pada y=f(x,y,y')\n",
    "fy = @(x,y,yp) 6*(y-log(x)).^2; %turunan fungsi f terhadap y\n",
    "fyp = @(x,y,yp) 1; %turunan fungsi f terhadap yprime\n",
    "a = 2; %left boundary\n",
    "b = 3; %right boundary\n",
    "N = 9; %banyaknya partisi (pilih N=9 sehingga h=0.1)\n",
    "alph = 0.5 + log(2); %y(a)\n",
    "bet = 1/3 + log(3); %y(b)\n",
    "tol = 10^(-4); %toleransi nilai (untuk kriteria stop)\n",
    "M = 30; %masksimal itesrasi newton methodnya\n",
    "\n",
    "[x_grid, w_grid] = nonlinear_fd_langsung(f, fy, fyp, a, b, N, alph, bet, tol, M);\n",
    "\n",
    "% solusi eksak\n",
    "sln = @(x) 1./x + log(x);\n",
    "y_eksak = sln(x_grid);\n",
    "\n",
    "% menghitung error\n",
    "err_w = abs(y_eksak - w_grid);\n",
    "\n",
    "% tampilkan tabel\n",
    "format long;\n",
    "disp(\"Tabel aproksimasi, solusi y(x), dan error:\");\n",
    "[x_grid, w_grid, y_eksak, err_w]\n",
    "format;\n",
    "\n",
    "hold on;\n",
    "fplot(sln, [a, b], 'b');\n",
    "scatter(x_grid, w_grid, 'r');\n",
    "title(\"Aproksimasi y(x)\");\n",
    "legend(\"Eksak\", \"Aproksimasi\");\n",
    "legend(\"location\", \"northwest\");"
   ]
  },
  {
   "cell_type": "markdown",
   "metadata": {},
   "source": [
    "### Contoh 2"
   ]
  },
  {
   "cell_type": "code",
   "execution_count": 57,
   "metadata": {},
   "outputs": [
    {
     "name": "stdout",
     "output_type": "stream",
     "text": [
      "ans =\n",
      "\n",
      "   1.0000e+00   1.7000e+01\n",
      "   1.0952e+00  -2.2808e+03\n",
      "   1.1905e+00  -1.1873e+03\n",
      "   1.2857e+00   2.4039e+03\n",
      "   1.3810e+00   1.7078e+03\n",
      "   1.4762e+00   8.4732e+02\n",
      "   1.5714e+00  -2.5554e+03\n",
      "   1.6667e+00  -6.0506e+02\n",
      "   1.7619e+00   2.9976e+03\n",
      "   1.8571e+00  -6.5181e+02\n",
      "   1.9524e+00  -2.6408e+03\n",
      "   2.0476e+00  -2.0496e+02\n",
      "   2.1429e+00  -1.2372e+02\n",
      "   2.2381e+00  -2.2778e+02\n",
      "   2.3333e+00   6.1437e+03\n",
      "   2.4286e+00  -3.0121e+02\n",
      "   2.5238e+00  -2.1494e+04\n",
      "   2.6190e+00  -3.6201e+02\n",
      "   2.7143e+00   5.2434e+04\n",
      "   2.8095e+00  -2.5880e+02\n",
      "   2.9048e+00  -1.0755e+05\n",
      "   3.0000e+00   1.4333e+01\n",
      "\n"
     ]
    }
   ],
   "source": [
    "f = @(x, y, yp) ((1/8)*(32 + 2 * x.^3 - y .* yp));\n",
    "fy = @(x, y, yp) (-yp/8);\n",
    "fyp = @(x, y, yp) (-y/8);\n",
    "a = 1;\n",
    "b = 3;\n",
    "N = 20;\n",
    "alph = 17;\n",
    "bet = 43/3;\n",
    "tol = 10^(-8);\n",
    "M = 30;\n",
    "\n",
    "[x_grid, w_grid] = nonlinear_fd_langsung(f, fy, fyp, a, b, N, alph, bet, tol, M);\n",
    "\n",
    "[x_grid, w_grid]"
   ]
  },
  {
   "cell_type": "markdown",
   "metadata": {},
   "source": [
    "## PDP Eliptik dengan metode Gauss-Seidel"
   ]
  },
  {
   "cell_type": "markdown",
   "metadata": {},
   "source": [
    "### Bentuk umum, ide utama, penyederhanaan"
   ]
  },
  {
   "cell_type": "markdown",
   "metadata": {},
   "source": []
  },
  {
   "cell_type": "markdown",
   "metadata": {},
   "source": [
    "### *Function file*"
   ]
  },
  {
   "cell_type": "code",
   "execution_count": null,
   "metadata": {},
   "outputs": [],
   "source": [
    "function [x, y, w] = metode_eliptik_iteratif(lb, rb, ub, db, f, xb, xu, yb, yu, h, k, iterasi)\n",
    "  dx = h;\n",
    "  dy = k;\n",
    "  x = xb : dx : xu;\n",
    "  y = yb : dy : yu;\n",
    "  n_1 = length(x);\n",
    "  m_1 = length(y);\n",
    "  \n",
    "  % susun matriks solusi\n",
    "  w = zeros(n_1, m_1);\n",
    "  % mengisi syarat batas\n",
    "  for i = 1 : n_1\n",
    "    w(i, 1) = db(x(i), yb);\n",
    "    w(i, m_1) = ub(x(i), yu);\n",
    "  endfor\n",
    "  for j = 2 : m_1\n",
    "    w(1, j) = lb(xb, y(j));\n",
    "    w(n_1, j) = rb(xu, y(j));\n",
    "  endfor\n",
    "  \n",
    "  for iter = 1 : iterasi\n",
    "    for i = 2 : n_1 - 1\n",
    "      for j = 2 : m_1 - 1\n",
    "        w(i, j) = w(i+1, j) + w(i-1, j) + (h/k)^2 * (w(i, j+1) + w(i, j-1));\n",
    "        w(i, j) += - h^2 * f(x(i), y(j));\n",
    "        w(i, j) /= 2 * ((h/k)^2 + 1);\n",
    "      endfor\n",
    "    endfor\n",
    "  endfor\n",
    "endfunction"
   ]
  },
  {
   "cell_type": "markdown",
   "metadata": {},
   "source": [
    "### Contoh soal"
   ]
  },
  {
   "cell_type": "markdown",
   "metadata": {},
   "source": []
  },
  {
   "cell_type": "code",
   "execution_count": null,
   "metadata": {},
   "outputs": [],
   "source": [
    "db = @(x,y) 0;\n",
    "ub = @(x,y) 200*x;\n",
    "lb = @(x,y) 0;\n",
    "rb = @(x,y) 200*y;\n",
    "f = @(x,y) 0;\n",
    "xb = 0;\n",
    "xu = 0.5;\n",
    "yb = 0;\n",
    "yu = 0.5;\n",
    "dx = 0.1;\n",
    "dy = 0.1;\n",
    "iterasi = 50;\n",
    "\n",
    "[x, y, w] = metode_eliptik_iteratif(db, ub, lb, rb, f, xb, xu, yb, yu, dx, dy, iterasi);\n",
    "\n",
    "mesh(x, y, w');"
   ]
  },
  {
   "cell_type": "markdown",
   "metadata": {},
   "source": [
    "## PDP Hiperbolik / Persamaan Gelombang"
   ]
  },
  {
   "cell_type": "markdown",
   "metadata": {},
   "source": [
    "### Bentuk umum, ide utama, penyederhanaan"
   ]
  },
  {
   "cell_type": "markdown",
   "metadata": {},
   "source": []
  },
  {
   "cell_type": "markdown",
   "metadata": {},
   "source": [
    "### *Function file*"
   ]
  },
  {
   "cell_type": "code",
   "execution_count": null,
   "metadata": {},
   "outputs": [],
   "source": []
  },
  {
   "cell_type": "markdown",
   "metadata": {},
   "source": [
    "### Contoh soal"
   ]
  },
  {
   "cell_type": "markdown",
   "metadata": {},
   "source": []
  }
 ],
 "metadata": {
  "kernelspec": {
   "display_name": "Octave",
   "language": "octave",
   "name": "octave"
  },
  "language_info": {
   "file_extension": ".m",
   "help_links": [
    {
     "text": "GNU Octave",
     "url": "https://www.gnu.org/software/octave/support.html"
    },
    {
     "text": "Octave Kernel",
     "url": "https://github.com/Calysto/octave_kernel"
    },
    {
     "text": "MetaKernel Magics",
     "url": "https://metakernel.readthedocs.io/en/latest/source/README.html"
    }
   ],
   "mimetype": "text/x-octave",
   "name": "octave",
   "version": "6.2.0"
  }
 },
 "nbformat": 4,
 "nbformat_minor": 2
}
