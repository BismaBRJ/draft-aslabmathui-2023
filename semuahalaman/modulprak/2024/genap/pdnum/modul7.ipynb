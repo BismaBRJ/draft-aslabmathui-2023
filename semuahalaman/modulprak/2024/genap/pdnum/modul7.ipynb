{
 "cells": [
  {
   "cell_type": "markdown",
   "metadata": {},
   "source": [
    "# Modul 7 Persamaan Diferensial Numerik: *Nonlinear Finite Difference*, PDP Eliptik & Hiperbolik"
   ]
  },
  {
   "cell_type": "markdown",
   "metadata": {},
   "source": [
    "Kembali ke [Persamaan Diferensial Numerik](./pdnum2024genap.qmd)"
   ]
  },
  {
   "cell_type": "markdown",
   "metadata": {},
   "source": [
    "(work in progress!)"
   ]
  },
  {
   "cell_type": "markdown",
   "metadata": {},
   "source": [
    "Melanjutkan dari modul sebelumnya, untuk masalah nilai batas PDB, kita akan membahas metode\n",
    "\n",
    "- *Nonlinear Finite Difference*\n",
    "\n",
    "Kemudian, kita akan membahas metode numerik untuk menyelesaikan PDP (persamaan diferensial parsial) orde 2\n",
    "\n",
    "- yang eliptik (persamaan Laplace / persamaan Poisson); dan\n",
    "\n",
    "- yang hiperbolik (persamaan gelombang)."
   ]
  },
  {
   "cell_type": "markdown",
   "metadata": {},
   "source": [
    "## *Nonlinear Finite Difference*"
   ]
  },
  {
   "cell_type": "markdown",
   "metadata": {},
   "source": [
    "Metode ini digunakan untuk mengaproksimasi masalah nilai batas:"
   ]
  },
  {
   "cell_type": "markdown",
   "metadata": {},
   "source": [
    "$$\n",
    "\\begin{gathered}\n",
    "y^{\\prime \\prime}=f\\left(x, y, y^{\\prime}\\right), \\quad a \\leq x \\leq b \\\\\n",
    "y(a)=\\alpha, \\quad y(b)=\\beta\n",
    "\\end{gathered}\n",
    "$$"
   ]
  },
  {
   "cell_type": "markdown",
   "metadata": {},
   "source": [
    "### *Function file* (dari *pseudocode*)"
   ]
  },
  {
   "cell_type": "code",
   "execution_count": null,
   "metadata": {},
   "outputs": [],
   "source": [
    "function [t_grid,w]=nonlinear_FDM_pseudocode(f,f_y,f_yprime,a,b,n,alpha,beta,max_iter,TOL)\n",
    "  h=(b-a)/(n+1); %sepsize\n",
    "  w=zeros(n,1); %vektor solusi aproksimasi\n",
    "  t_grid=[a:h:b]; %mesh_poitnya\n",
    "  J=zeros(n,n); %matriks jacobian\n",
    "  F=zeros(n,1); %vektor fungsi  F=(f_1,f_2,...,f_n) yang dievaluasi di x_k\n",
    "\n",
    "  for i=1:n %inisialisasi solusi awal\n",
    "    w(i)=alpha+i*(beta-alpha)/(b-a)*h;\n",
    "  endfor\n",
    "  k=1;\n",
    "  while k<=max_iter %lakukan iterasi jika masih belum didapat kriteria stopnya\n",
    "\n",
    "    %solve nonlinear sistem tersebut dengan metode newton\n",
    "    x=a+h;\n",
    "    %kontruksi matriks Jacobian, dan vektor F-nya\n",
    "    t=(w(2)-alpha)/(2*h);\n",
    "    J(1,1)=2+h^2*f_y(x,w(1),t); %main diagoanal\n",
    "    J(1,2)=-1+(h/2)*f_yprime(x,w(1),t); %right diagonal\n",
    "    F(1)=(2*w(1)-w(2)-alpha+h^2*f(x,w(1),t));\n",
    "    for i =2:n-1\n",
    "      x=a+i*h;\n",
    "      t=(w(i+1)-w(i-1))/(2*h);\n",
    "      J(i,i)=2+h^2*f_y(x,w(i),t); %main diagoanal\n",
    "      J(i,i+1)=-1+(h/2)*f_yprime(x,w(i),t); %main diagoanal\n",
    "      J(i,i-1)=-1-(h/2)*f_yprime(x,w(i),t); %left diagoanal\n",
    "      F(i)=(2*w(i)-w(i+1)-w(i-1)+h^2*f(x,w(i),t));\n",
    "    endfor\n",
    "     x=b-h;\n",
    "     t=(beta-w(n-1))/(2*h);\n",
    "     J(n,n)=2+h^2*f_y(x,w(n),t); %main diagonal\n",
    "     J(n,n-1)=-1-(h/2)*f_yprime(x,w(n),t); %right diagonal\n",
    "     F(n)=(2*w(n)-w(n-1)-beta+h^2*f(x,w(n),t));\n",
    "\n",
    "\n",
    "\n",
    "    v=inverse(J)*F; %vector v adalah product dari J^-1 F\n",
    "    w= w-v; % lakukan update nilai pada w\n",
    "\n",
    "    if norm(v,2)<= TOL %kriteria stop jika norm(v)<=toleransinya\n",
    "      break;\n",
    "     else\n",
    "        k=k+1; %jika belum memenuhi kriteria stop terus lanjut iterasinya (memperbaiki nilai w)\n",
    "    endif\n",
    "  endwhile\n",
    "  w=[alpha ; w ; beta]; %konstruksi akhir w\n",
    "  t_grid=transpose(t_grid); % %transpose meshpoint\n",
    "  % untuk konsistensi dimensi saja\n",
    "\n",
    "endfunction"
   ]
  },
  {
   "cell_type": "markdown",
   "metadata": {},
   "source": [
    "### *Function file* (dengan solusi SPL secara langsung)"
   ]
  },
  {
   "cell_type": "markdown",
   "metadata": {},
   "source": [
    "Berikut ini, matriks Jacobian disusun dengan mempertimbangkan tiap elemen matriks, sehingga kompleksiasnya bisa dianggap $O(n^2)$:"
   ]
  },
  {
   "cell_type": "code",
   "execution_count": null,
   "metadata": {},
   "outputs": [],
   "source": [
    "function [x_grid, w_grid] = nonlinear_fd_langsung_on2(f, fy, fyp, a, b, N, alph, bet, tol)\n",
    "  h = (b-a) / (N+1);\n",
    "  x_grid = a : h : b;\n",
    "  x = x_grid(2:N+1);\n",
    "  w = zeros(N, 1);\n",
    "  for i = 1 : N\n",
    "    w(i) = alph + i * ((bet - alph)/(b-a)) * h;\n",
    "  endfor\n",
    "  \n",
    "  err = tol + 1;\n",
    "  while !(err <= tol)\n",
    "    matriks_J = zeros(N, N);\n",
    "    for i = 1 : N\n",
    "      for j = 1 : N\n",
    "        if (i == j-1)\n",
    "          if (i == 1)\n",
    "            matriks_J(i, j) = -1 + h/2 * fyp(x(i), w(i), (w(i+1) - alph)/(2*h));\n",
    "          elseif (i == N)\n",
    "            matriks_J(i, j) = -1 + h/2 * fyp(x(i), w(i), (bet - w(i-1))/(2*h));\n",
    "          else\n",
    "            matriks_J(i, j) = -1 + h/2 * fyp(x(i), w(i), (w(i+1) - w(i-1))/(2*h));\n",
    "          endif\n",
    "        elseif (i == j)\n",
    "          if (i == 1)\n",
    "            matriks_J(i, j) = 2 + h^2 * fy(x(i), w(i), (w(i+1) - alph)/(2*h));\n",
    "          elseif (i == N)\n",
    "            matriks_J(i, j) = 2 + h^2 * fy(x(i), w(i), (bet - w(i-1))/(2*h));\n",
    "          else\n",
    "            matriks_J(i, j) = 2 + h^2 * fy(x(i), w(i), (w(i+1) - w(i-1))/(2*h));\n",
    "          endif\n",
    "        elseif (i == j+1)\n",
    "          if (i == 1)\n",
    "            matriks_J(i, j) = -1 - h/2 * fyp(x(i), w(i), (w(i+1) - alph)/(2*h));\n",
    "          elseif (i == N)\n",
    "            matriks_J(i, j) = -1 - h/2 * fyp(x(i), w(i), (bet - w(i-1))/(2*h));\n",
    "          else\n",
    "            matriks_J(i, j) = -1 - h/2 * fyp(x(i), w(i), (w(i+1) - w(i-1))/(2*h));\n",
    "          endif\n",
    "        else\n",
    "          matriks_J(i, j) = 0;\n",
    "        endif\n",
    "      endfor\n",
    "    endfor\n",
    "    \n",
    "    z = zeros(N, 1);\n",
    "    % khusus baris pertama\n",
    "    i = 1\n",
    "    z(i) = -alph + 2 .* w(i) - w(i+1) + h^2 * f(x(i), w(i), (w(i+1) - alph)/(2*h));\n",
    "    for i = 2 : (N-1)\n",
    "      z(i) = -w(i-1) + 2 .* w(i) - w(i+1) + h^2 * f(x(i), w(i), (w(i+1) - w(i-1))/(2*h));\n",
    "    endfor\n",
    "    % khusus baris terakhir\n",
    "    i = N;\n",
    "    z(i) = -w(i-1) + 2 .* w(i) - bet + h^2 * f(x(i), w(i), (bet - w(i-1))/(2*h));\n",
    "    \n",
    "    % selesaikan SPL\n",
    "    v = J \\ z;\n",
    "    \n",
    "    w_baru = w + v;\n",
    "    err = sum(abs(w_baru - w));\n",
    "    w = w_baru;\n",
    "  endwhile\n",
    "endfunction"
   ]
  },
  {
   "cell_type": "markdown",
   "metadata": {},
   "source": [
    "Daripada mempertimbangkan tiap elemen di matriks Jacobian, kita bisa isi matriksnya dengan nol semua terlebih dahulu, kemudian melihat per baris saja dan hanya mempertimbangkan elemen diagonal dan kolom sebelum/setelah diagonal (karena matriksnya tridiagonal)."
   ]
  },
  {
   "cell_type": "markdown",
   "metadata": {},
   "source": [
    "### Contoh 1"
   ]
  },
  {
   "cell_type": "markdown",
   "metadata": {},
   "source": [
    "Gunakan metode beda hingga nonlinear dengan $h=0.1$ dan toleransi $10^{-4}$ untuk mengaproksimasi BVP berikut:\n",
    "$$\n",
    "\\begin{aligned}\n",
    "y^{\\prime \\prime} & =y^{\\prime}+2(y-\\ln x)^3-\\frac{1}{x}, \\quad 2 \\leq x \\leq 3 \\\\\n",
    "y(2) & =\\frac{1}{2}+\\ln 2, \\quad y(3)=\\frac{1}{3}+\\ln 3\n",
    "\\end{aligned}\n",
    "$$\n",
    "Solusi eksak:\n",
    "$$\n",
    "y(x)=\\frac{1}{x}+\\ln x\n",
    "$$"
   ]
  },
  {
   "cell_type": "code",
   "execution_count": null,
   "metadata": {},
   "outputs": [],
   "source": [
    "f=@(x,y,yp) yp+2*(y-log(x))^3-1/x ; %fungsi f pada y=f(x,y,y')\n",
    "f_y=@(x,y,yp) 6*(y-log(x))^2; %turunan fungsi f terhadap y\n",
    "f_yp=@(x,y,yp) 1; %turunan fungsi f terhadap yprime\n",
    "a=2; %left boundary\n",
    "b=3; %right boundary\n",
    "alpha=0.5+log(2); %y(a)\n",
    "beta=1/3+ log(3); %y(b)\n",
    "n=9; %banyaknya partisi (pilih n=9 sehingga h=0.1)\n",
    "maxiter=30; %masksimal iterasi newton methodnya\n",
    "TOL=10^(-4); %toleransi nilai (untuk kriteria stop)\n",
    "\n",
    "%memanggil fungsi nonlinear_FDM_pseudocode\n",
    "[x_grid,w]=nonlinear_FDM_pseudocode(f,f_y,f_yp,a,b,n,alpha,beta,maxiter,TOL)\n",
    "f_anal= @(x) 1./x +log(x); %sol analitik\n",
    "\n",
    "%membuat grafiknya\n",
    "fplot(f_anal, [a,b],'b')\n",
    "hold on;\n",
    "scatter(x_grid,w,'r')\n",
    "legend('solusi analitik', 'solusi linear FDM');\n",
    "legend(\"location\", \"northwest\");\n",
    "\n",
    "%membuat tabel saja.\n",
    "sol_anal=f_anal(x_grid); %sol analitik di meshpoint\n",
    "error=abs(w-sol_anal); %error\n",
    "[x_grid,w,sol_anal,error]"
   ]
  },
  {
   "cell_type": "markdown",
   "metadata": {},
   "source": [
    "### Contoh 2"
   ]
  },
  {
   "cell_type": "code",
   "execution_count": null,
   "metadata": {},
   "outputs": [],
   "source": [
    "f = @(x, y, yp) ((1/8)*(32 + 2 * x.^3 - y .* yp));\n",
    "fy = @(x, y, yp) (-yp/8);\n",
    "fyp = @(x, y, yp) (-y/8);\n",
    "a = 1;\n",
    "b = 3;\n",
    "N = 20;\n",
    "alph = 17;\n",
    "bet = 43/3;\n",
    "tol = 10^(-8);\n",
    "\n",
    "[x_grid, w_grid] = nonlinear_fd_langsung(f, fy, fyp, a, b, N, alph, bet, tol);\n",
    "\n",
    "[x_grid, w_grid]"
   ]
  },
  {
   "cell_type": "markdown",
   "metadata": {},
   "source": [
    "## PDP Eliptik dengan metode Gauss-Seidel"
   ]
  },
  {
   "cell_type": "markdown",
   "metadata": {},
   "source": [
    "### Bentuk umum, ide utama, penyederhanaan"
   ]
  },
  {
   "cell_type": "markdown",
   "metadata": {},
   "source": []
  },
  {
   "cell_type": "markdown",
   "metadata": {},
   "source": [
    "### *Function file*"
   ]
  },
  {
   "cell_type": "code",
   "execution_count": null,
   "metadata": {},
   "outputs": [],
   "source": [
    "function [x, y, w] = metode_eliptik_iteratif(lb, rb, ub, db, f, xb, xu, yb, yu, h, k, iterasi)\n",
    "  dx = h;\n",
    "  dy = k;\n",
    "  x = xb : dx : xu;\n",
    "  y = yb : dy : yu;\n",
    "  n_1 = length(x);\n",
    "  m_1 = length(y);\n",
    "  \n",
    "  % susun matriks solusi\n",
    "  w = zeros(n_1, m_1);\n",
    "  % mengisi syarat batas\n",
    "  for i = 1 : n_1\n",
    "    w(i, 1) = db(x(i), yb);\n",
    "    w(i, m_1) = ub(x(i), yu);\n",
    "  endfor\n",
    "  for j = 2 : m_1\n",
    "    w(1, j) = lb(xb, y(j));\n",
    "    w(n_1, j) = rb(xu, y(j));\n",
    "  endfor\n",
    "  \n",
    "  for iter = 1 : iterasi\n",
    "    for i = 2 : n_1 - 1\n",
    "      for j = 2 : m_1 - 1\n",
    "        w(i, j) = w(i+1, j) + w(i-1, j) + (h/k)^2 * (w(i, j+1) + w(i, j-1));\n",
    "        w(i, j) += - h^2 * f(x(i), y(j));\n",
    "        w(i, j) /= 2 * ((h/k)^2 + 1);\n",
    "      endfor\n",
    "    endfor\n",
    "  endfor\n",
    "endfunction"
   ]
  },
  {
   "cell_type": "markdown",
   "metadata": {},
   "source": [
    "### Contoh soal"
   ]
  },
  {
   "cell_type": "markdown",
   "metadata": {},
   "source": []
  },
  {
   "cell_type": "code",
   "execution_count": null,
   "metadata": {},
   "outputs": [],
   "source": [
    "db = @(x,y) 0;\n",
    "ub = @(x,y) 200*x;\n",
    "lb = @(x,y) 0;\n",
    "rb = @(x,y) 200*y;\n",
    "f = @(x,y) 0;\n",
    "xb = 0;\n",
    "xu = 0.5;\n",
    "yb = 0;\n",
    "yu = 0.5;\n",
    "dx = 0.1;\n",
    "dy = 0.1;\n",
    "iterasi = 50;\n",
    "\n",
    "[x, y, w] = metode_eliptik_iteratif(db, ub, lb, rb, f, xb, xu, yb, yu, dx, dy, iterasi);\n",
    "\n",
    "mesh(x, y, w');"
   ]
  },
  {
   "cell_type": "markdown",
   "metadata": {},
   "source": [
    "## PDP Hiperbolik / Persamaan Gelombang"
   ]
  },
  {
   "cell_type": "markdown",
   "metadata": {},
   "source": [
    "### Bentuk umum, ide utama, penyederhanaan"
   ]
  },
  {
   "cell_type": "markdown",
   "metadata": {},
   "source": []
  },
  {
   "cell_type": "markdown",
   "metadata": {},
   "source": [
    "### *Function file*"
   ]
  },
  {
   "cell_type": "code",
   "execution_count": null,
   "metadata": {},
   "outputs": [],
   "source": []
  },
  {
   "cell_type": "markdown",
   "metadata": {},
   "source": [
    "### Contoh soal"
   ]
  },
  {
   "cell_type": "markdown",
   "metadata": {},
   "source": []
  }
 ],
 "metadata": {
  "kernelspec": {
   "display_name": "Octave",
   "language": "octave",
   "name": "octave"
  },
  "language_info": {
   "name": "octave"
  }
 },
 "nbformat": 4,
 "nbformat_minor": 2
}
