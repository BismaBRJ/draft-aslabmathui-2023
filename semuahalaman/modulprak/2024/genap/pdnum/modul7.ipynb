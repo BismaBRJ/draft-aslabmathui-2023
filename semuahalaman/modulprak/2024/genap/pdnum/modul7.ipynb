{
 "cells": [
  {
   "cell_type": "markdown",
   "metadata": {},
   "source": [
    "# Modul 7 Persamaan Diferensial Numerik: *Nonlinear Finite Difference*, PDP Eliptik & Hiperbolik"
   ]
  },
  {
   "cell_type": "markdown",
   "metadata": {},
   "source": [
    "Kembali ke [Persamaan Diferensial Numerik](./pdnum2024genap.qmd)"
   ]
  },
  {
   "cell_type": "markdown",
   "metadata": {},
   "source": [
    "(work in progress!)"
   ]
  },
  {
   "cell_type": "markdown",
   "metadata": {},
   "source": [
    "Melanjutkan dari modul sebelumnya, untuk masalah nilai batas PDB, kita akan membahas metode\n",
    "\n",
    "- *Nonlinear Finite Difference*\n",
    "\n",
    "Kemudian, kita akan membahas metode numerik untuk menyelesaikan PDP (persamaan diferensial parsial) orde 2\n",
    "\n",
    "- yang eliptik (persamaan Laplace / persamaan Poisson); dan\n",
    "\n",
    "- yang hiperbolik (persamaan gelombang)."
   ]
  },
  {
   "cell_type": "markdown",
   "metadata": {},
   "source": [
    "## *Nonlinear Finite Difference*"
   ]
  },
  {
   "cell_type": "markdown",
   "metadata": {},
   "source": [
    "Metode ini digunakan untuk mengaproksimasi masalah nilai batas:"
   ]
  },
  {
   "cell_type": "markdown",
   "metadata": {},
   "source": [
    "$$\n",
    "\\begin{gathered}\n",
    "y^{\\prime \\prime}=f\\left(x, y, y^{\\prime}\\right), \\quad a \\leq x \\leq b \\\\\n",
    "y(a)=\\alpha, \\quad y(b)=\\beta\n",
    "\\end{gathered}\n",
    "$$"
   ]
  },
  {
   "cell_type": "markdown",
   "metadata": {},
   "source": [
    "dengan $f$ boleh berupa fungsi linier maupun nonlinier."
   ]
  },
  {
   "cell_type": "markdown",
   "metadata": {},
   "source": [
    "Metode ini bersifat iteratif, memanfaatkan yang namanya \"metode Newton untuk sistem\" yang dibahas di subbab 10.2 buku Burden, yang dibahas di mata kuliah Matematika Numerik. Daripada membahas secara umum mengenai metode Newton untuk sistem, kita cukup membahas bagaimana langkah-langkah metodenya khusus dalam penerapannya sebagai metode *nonlinear finite difference* untuk menyelesaikan masalah nilai batas."
   ]
  },
  {
   "cell_type": "markdown",
   "metadata": {},
   "source": [
    "Langkah-langkah metode *nonlinear finite difference* bisa ditulis sebagai berikut:"
   ]
  },
  {
   "cell_type": "markdown",
   "metadata": {},
   "source": [
    "1.  Hitung rumus $f_y(x,y,y')$ (yaitu $\\frac{\\partial f}{\\partial y}(x,y,y')$) dan rumus $f_{y'}(x,y,y')$ (yaitu $\\frac{\\partial f}{\\partial y'}(x,y,y')$) secara analitik.\n",
    "\n",
    "2. Tentukan toleransi $\\varepsilon$, dan/atau maksimum banyaknya iterasi $M$.\n",
    "\n",
    "3. Pastikan nilai $N$ dan *step size* $h$ sudah dimiliki. Biasanya hanya salah satu nilai yang diberikan (biasanya $N$). Hubungan antara keduanya adalah\n",
    "\n",
    "    $$h = \\frac{b-a}{N+1}$$\n",
    "\n",
    "4. Ingat bahwa $w_0 = \\alpha$ dan $w_{N+1} = \\beta$. Kita perlu menentukan nilai-nilai $w_1, \\dots, w_N$. Untuk nilai-nilai tersebut, pasang tebakan awal, berupa nilai-nilai di antara $\\alpha$ dan $\\beta$, sebagai berikut untuk $i = 1, \\dots, N$:\n",
    "\n",
    "    $$w_i = \\alpha + i\\left(\\frac{\\beta - \\alpha}{b-a}\\right)h$$\n",
    "\n",
    "5. Susun suatu matriks tridiagonal berukuran $N \\times N$ yang dinamakan matriks Jacobian, dengan entri\n",
    "    $$J_{ij} = \\begin{cases}\n",
    "        -\\left(1 + \\frac{h}{2} f_{y'} \\left(x_i, w_i, \\frac{w_{i+1} - w_{i-1}}{2h}\\right)\\right) & \\text{di bawah/kiri diagonal, baris ke-$i$} \\\\\n",
    "        2 + h^2 f_{y} \\left(x_i, w_i, \\frac{w_{i+1} - w_{i-1}}{2h}\\right) & \\text{di diagonal, baris ke-$i$} \\\\\n",
    "        -\\left(1 - \\frac{h}{2} f_{y'} \\left(x_i, w_i, \\frac{w_{i+1} - w_{i-1}}{2h}\\right) \\right) & \\text{di atas/kanan diagonal, barsi ke-$i$} \\\\\n",
    "        0 & \\text{untuk semua elemen lainnya}\n",
    "    \\end{cases}$$\n",
    "\n",
    "6. Susun vektor kolom bernama $d$ dengan $N$ baris, yang isinya sebagai berikut untuk $i = 1, \\dots, N$:\n",
    "    $$d_i = -w_{i-1} + 2w_i - w_{i+1} + h^2 f\\left(x_i, w_i, \\frac{w_{i+1}-w_{i-1}}{2h}\\right)$$\n",
    "\n",
    "7. Selesaikan SPL $Jv = -d$ (iya pakai minus), di mana vektor $v$ berisi nilai-nilai $v_1,\\dots,v_N$ yang ingin diperoleh. Metode penyelesaian SPLnya terserah.\n",
    "\n",
    "8. Perbarui vektor $w$ dengan menambahkan vektor $v$. Yaitu, nilai $w_1$ ditambahkan $v_1$, nilai $w_2$ ditambahkan $v_2$, dan seterusnya.\n",
    "\n",
    "9. Sampai sini, selesai satu iterasi. Periksa apakah $\\left|\\left|v\\right|\\right| \\le \\varepsilon$ (atau periksa apakah sudah memenuhi banyaknya iterasi yang diminta). Kalau sudah terpenuhi, metode selesai. Kalau belum, masuk ke iterasi selanjutnya, yaitu melanjutkan kembali dari langkah 5, dengan nilai-nilai $w_1, \\dots, w_N$ terbaru."
   ]
  },
  {
   "cell_type": "markdown",
   "metadata": {},
   "source": [
    "### *Function file* (dengan solusi SPL secara langsung)"
   ]
  },
  {
   "cell_type": "markdown",
   "metadata": {},
   "source": [
    "Berikut ini, matriks Jacobian disusun dengan mempertimbangkan tiap elemen matriks, sehingga kompleksiasnya bisa dianggap $O(N^2)$:"
   ]
  },
  {
   "cell_type": "raw",
   "metadata": {},
   "source": [
    "::: {.panel-tabset}\n",
    "\n",
    "### *Function file* `nonlinear_fd_langsung_on2.m` - nama *file* harus sama dengan nama fungsi"
   ]
  },
  {
   "cell_type": "code",
   "execution_count": 105,
   "metadata": {},
   "outputs": [],
   "source": [
    "function [x_grid, w_grid] = nonlinear_fd_langsung_on2(f, fy, fyp, a, b, N, alph, bet, tol, M)\n",
    "  h = (b-a) / (N+1);\n",
    "  x_grid = (a : h : b)'; % transpos juga agar menjadi vektor kolom\n",
    "  x = x_grid(2 : N+1);\n",
    "  w = zeros(N, 1);\n",
    "  for i = 1 : N\n",
    "    w(i) = alph + i * ((bet - alph)/(b-a)) * h;\n",
    "  endfor\n",
    "  \n",
    "  % banyaknya iterasi\n",
    "  k = 1;\n",
    "\n",
    "  err = tol + 1;\n",
    "  % selama belum memenuhi toleransi ataupun mencapai batas iterasi\n",
    "  while (!(err <= tol) && k != M+1)\n",
    "    % menyusun matriks Jacobian\n",
    "    matriks_J = zeros(N, N);\n",
    "    for i = 1 : N\n",
    "      for j = 1 : N\n",
    "        if (i == j+1) % kiri/bawah diagonal\n",
    "          if (i == 1) % w(0) = alfa\n",
    "            matriks_J(i, j) = -(1 + h/2 * fyp(x(i), w(i), (w(i+1) - alph)/(2*h)));\n",
    "          elseif (i == N) % w(N+1) = beta\n",
    "            matriks_J(i, j) = -(1 + h/2 * fyp(x(i), w(i), (bet - w(i-1))/(2*h)));\n",
    "          else\n",
    "            matriks_J(i, j) = -(1 + h/2 * fyp(x(i), w(i), (w(i+1) - w(i-1))/(2*h)));\n",
    "          endif\n",
    "        elseif (i == j) % pada diagonal\n",
    "          if (i == 1) % w(0) = alfa\n",
    "            matriks_J(i, j) = 2 + h^2 * fy(x(i), w(i), (w(i+1) - alph)/(2*h));\n",
    "          elseif (i == N) % w(N+1) = beta\n",
    "            matriks_J(i, j) = 2 + h^2 * fy(x(i), w(i), (bet - w(i-1))/(2*h));\n",
    "          else\n",
    "            matriks_J(i, j) = 2 + h^2 * fy(x(i), w(i), (w(i+1) - w(i-1))/(2*h));\n",
    "          endif\n",
    "        elseif (i == j-1) % kanan/atas diagonal\n",
    "          if (i == 1) % w(0) = alfa\n",
    "            matriks_J(i, j) = -(1 - h/2 * fyp(x(i), w(i), (w(i+1) - alph)/(2*h)));\n",
    "          elseif (i == N) % w(N+1) = beta\n",
    "            matriks_J(i, j) = -(1 - h/2 * fyp(x(i), w(i), (bet - w(i-1))/(2*h)));\n",
    "          else\n",
    "            matriks_J(i, j) = -(1 - h/2 * fyp(x(i), w(i), (w(i+1) - w(i-1))/(2*h)));\n",
    "          endif\n",
    "        else\n",
    "          matriks_J(i, j) = 0;\n",
    "        endif\n",
    "      endfor\n",
    "    endfor\n",
    "    \n",
    "    % menyusun vektor d\n",
    "    d = zeros(N, 1);\n",
    "    % khusus baris pertama\n",
    "    i = 1;\n",
    "    d(i) = -alph + 2 * w(i) - w(i+1) + h^2 * f(x(i), w(i), (w(i+1) - alph)/(2*h));\n",
    "    for i = 2 : (N-1)\n",
    "      d(i) = -w(i-1) + 2 * w(i) - w(i+1) + h^2 * f(x(i), w(i), (w(i+1) - w(i-1))/(2*h));\n",
    "    endfor\n",
    "    % khusus baris terakhir\n",
    "    i = N;\n",
    "    d(i) = -w(i-1) + 2 * w(i) - bet + h^2 * f(x(i), w(i), (bet - w(i-1))/(2*h));\n",
    "    \n",
    "    % selesaikan SPL\n",
    "    v = matriks_J \\ (-d);\n",
    "    \n",
    "    % update w\n",
    "    w = w + v;\n",
    "\n",
    "    % hitung error dengan norm Euclid\n",
    "    err = sum(v.^2);\n",
    "\n",
    "    k += 1; % lanjut ke iterasi selanjutnya\n",
    "  endwhile\n",
    "\n",
    "  % gabungkan w_0 (alfa), dengan w_1, ..., w_N, dengan w_{N+1} (beta)\n",
    "  w_grid = [alph; w; bet];\n",
    "endfunction"
   ]
  },
  {
   "cell_type": "raw",
   "metadata": {},
   "source": [
    ":::"
   ]
  },
  {
   "cell_type": "markdown",
   "metadata": {},
   "source": [
    "Daripada mempertimbangkan tiap elemen di matriks Jacobian, kita bisa isi matriksnya dengan nol semua terlebih dahulu, kemudian melihat per baris saja dan hanya mempertimbangkan elemen diagonal dan kolom sebelum/setelah diagonal (karena matriksnya tridiagonal). Kodenya menjadi seperti berikut:"
   ]
  },
  {
   "cell_type": "raw",
   "metadata": {},
   "source": [
    "::: {.panel-tabset}\n",
    "\n",
    "### *Function file* `nonlinear_fd_langsung.m` - nama *file* harus sama dengan nama fungsi"
   ]
  },
  {
   "cell_type": "code",
   "execution_count": 107,
   "metadata": {},
   "outputs": [],
   "source": [
    "function [x_grid, w_grid] = nonlinear_fd_langsung(f, fy, fyp, a, b, N, alph, bet, tol, M)\n",
    "  h = (b-a) / (N+1);\n",
    "  x_grid = (a : h : b)'; % transpos juga agar menjadi vektor kolom\n",
    "  x = x_grid(2 : N+1);\n",
    "  w = zeros(N, 1);\n",
    "  for i = 1 : N\n",
    "    w(i) = alph + i * ((bet - alph)/(b-a)) * h;\n",
    "  endfor\n",
    "  \n",
    "  % banyaknya iterasi\n",
    "  k = 1;\n",
    "\n",
    "  err = tol + 1;\n",
    "  % selama belum memenuhi toleransi ataupun mencapai batas iterasi\n",
    "  while (!(err <= tol) && k != M+1)\n",
    "    % menyusun matriks Jacobian\n",
    "    matriks_J = zeros(N, N); % isi nol semua dulu\n",
    "    for i = 1 : N % untuk tiap baris ke-i, dengan i = 1, ..., N\n",
    "      % kiri/bawah diagonal (kecuali di baris pertama)\n",
    "      if (i == N) % w(N+1) = beta\n",
    "        matriks_J(i, i-1) = -(1 + h/2 * fyp(x(i), w(i), (bet - w(i-1))/(2*h)));\n",
    "      elseif (i != 1) % rumus biasa\n",
    "        matriks_J(i, i-1) = -(1 + h/2 * fyp(x(i), w(i), (w(i+1) - w(i-1))/(2*h)));\n",
    "      endif\n",
    "\n",
    "      % pada diagonal\n",
    "      if (i == 1) % w(0) = alfa\n",
    "        matriks_J(i, i) = 2 + h^2 * fy(x(i), w(i), (w(i+1) - alph)/(2*h));\n",
    "      elseif (i == N) % w(N+1) = beta\n",
    "        matriks_J(i, i) = 2 + h^2 * fy(x(i), w(i), (bet - w(i-1))/(2*h));\n",
    "      else % rumus biasa\n",
    "        matriks_J(i, i) = 2 + h^2 * fy(x(i), w(i), (w(i+1) - w(i-1))/(2*h));\n",
    "      endif\n",
    "\n",
    "      % kanan/atas diagonal (kecuali di baris terakhir)\n",
    "      if (i == 1) % w(0) = alfa\n",
    "        matriks_J(i, i+1) = -(1 - h/2 * fyp(x(i), w(i), (w(i+1) - alph)/(2*h)));\n",
    "      elseif (i != N) % rumus biasa\n",
    "        matriks_J(i, i+1) = -(1 - h/2 * fyp(x(i), w(i), (w(i+1) - w(i-1))/(2*h)));\n",
    "      endif\n",
    "    endfor\n",
    "    \n",
    "    % menyusun vektor d\n",
    "    d = zeros(N, 1);\n",
    "    % khusus baris pertama\n",
    "    i = 1;\n",
    "    d(i) = -alph + 2 * w(i) - w(i+1) + h^2 * f(x(i), w(i), (w(i+1) - alph)/(2*h));\n",
    "    for i = 2 : (N-1)\n",
    "      d(i) = -w(i-1) + 2 * w(i) - w(i+1) + h^2 * f(x(i), w(i), (w(i+1) - w(i-1))/(2*h));\n",
    "    endfor\n",
    "    % khusus baris terakhir\n",
    "    i = N;\n",
    "    d(i) = -w(i-1) + 2 * w(i) - bet + h^2 * f(x(i), w(i), (bet - w(i-1))/(2*h));\n",
    "    \n",
    "    % selesaikan SPL\n",
    "    v = matriks_J \\ (-d);\n",
    "    \n",
    "    % update w\n",
    "    w = w + v;\n",
    "\n",
    "    % hitung error dengan norm Euclid\n",
    "    err = sum(v.^2);\n",
    "\n",
    "    k += 1; % lanjut ke iterasi selanjutnya\n",
    "  endwhile\n",
    "\n",
    "  % gabungkan w_0 (alfa), dengan w_1, ..., w_N, dengan w_{N+1} (beta)\n",
    "  w_grid = [alph; w; bet];\n",
    "endfunction"
   ]
  },
  {
   "cell_type": "raw",
   "metadata": {},
   "source": [
    ":::"
   ]
  },
  {
   "cell_type": "markdown",
   "metadata": {},
   "source": [
    "### Contoh 1"
   ]
  },
  {
   "cell_type": "markdown",
   "metadata": {},
   "source": [
    "Gunakan metode beda hingga nonlinier *(nonlinear finite difference)* dengan $h=0.1$ dan toleransi $10^{-4}$ untuk mengaproksimasi *Boundary Value Problem* (BVP) / Masalah Nilai Batas (MNB) berikut:\n",
    "$$\n",
    "\\begin{aligned}\n",
    "y^{\\prime \\prime} & =y^{\\prime}+2(y-\\ln x)^3-\\frac{1}{x}, \\quad 2 \\leq x \\leq 3 \\\\\n",
    "y(2) & =\\frac{1}{2}+\\ln 2, \\quad y(3)=\\frac{1}{3}+\\ln 3\n",
    "\\end{aligned}\n",
    "$$\n",
    "\n",
    "Solusi eksak:\n",
    "\n",
    "$$y(x)=\\frac{1}{x}+\\ln x$$"
   ]
  },
  {
   "cell_type": "markdown",
   "metadata": {},
   "source": [
    "Hint:\n",
    "\n",
    "$$y'' = f\\left(x,y,y'\\right) = y'+2(y-\\ln x)^3-\\frac{1}{x}$$\n",
    "\n",
    "$$f_{y}\\left(x,y,y'\\right) = \\frac{\\partial f}{\\partial y} \\left(x,y,y'\\right) = 6\\left(y - \\ln{x}\\right)^2$$\n",
    "\n",
    "$$f_{y'}\\left(x,y,y'\\right) = \\frac{\\partial f}{\\partial y'} \\left(x,y,y'\\right) = 1$$"
   ]
  },
  {
   "cell_type": "raw",
   "metadata": {},
   "source": [
    "::: {.panel-tabset}\n",
    "\n",
    "### *Script file* `coba_nonlinear_fd_langsung.m` - nama *file* bebas"
   ]
  },
  {
   "cell_type": "code",
   "execution_count": 109,
   "metadata": {},
   "outputs": [
    {
     "name": "stdout",
     "output_type": "stream",
     "text": [
      "Tabel aproksimasi, solusi y(x), dan error:\n",
      "ans =\n",
      "\n",
      "   2.000000000000000   1.193147180559945   1.193147180559945                   0\n",
      "   2.100000000000000   1.218136665897076   1.218127820919853   0.000008844977223\n",
      "   2.200000000000000   1.243017438585886   1.243002814909725   0.000014623676161\n",
      "   2.300000000000000   1.267709758540398   1.267691731630756   0.000018026909642\n",
      "   2.400000000000000   1.292154898557824   1.292135404020567   0.000019494537257\n",
      "   2.500000000000000   1.316310046093640   1.316290731874155   0.000019314219485\n",
      "   2.600000000000000   1.340144522402694   1.340126829642821   0.000017692759873\n",
      "   2.700000000000000   1.363636945192896   1.363622143380654   0.000014801812242\n",
      "   2.800000000000000   1.386773073873609   1.386762274324015   0.000010799549594\n",
      "   2.900000000000000   1.409544153003318   1.409538323199325   0.000005829803994\n",
      "   3.000000000000000   1.431945622001443   1.431945622001443                   0\n",
      "\n"
     ]
    },
    {
     "data": {
      "image/png": "[encoded data removed]",
      "text/plain": [
       "<IPython.core.display.Image object>"
      ]
     },
     "metadata": {},
     "output_type": "display_data"
    }
   ],
   "source": [
    "f = @(x,y,yp) yp + 2*(y-log(x)).^3 - 1./x ; % fungsi f pada y=f(x,y,y')\n",
    "fy = @(x,y,yp) 6*(y-log(x)).^2; % turunan fungsi f terhadap y\n",
    "fyp = @(x,y,yp) 1; % turunan fungsi f terhadap y prime, yaitu y'\n",
    "a = 2; % left boundary\n",
    "b = 3; % right boundary\n",
    "N = 9; % banyaknya partisi (pilih N=9 sehingga h=0.1)\n",
    "alph = 0.5 + log(2); % y(a)\n",
    "bet = 1/3 + log(3); % y(b)\n",
    "tol = 10^(-4); % toleransi nilai (untuk kriteria stop)\n",
    "M = 30; % maksimum iterasi\n",
    "\n",
    "[x_grid, w_grid] = nonlinear_fd_langsung(f, fy, fyp, a, b, N, alph, bet, tol, M);\n",
    "\n",
    "% solusi eksak\n",
    "sln = @(x) 1./x + log(x);\n",
    "y_eksak = sln(x_grid);\n",
    "\n",
    "% menghitung error\n",
    "err_w = abs(y_eksak - w_grid);\n",
    "\n",
    "% tampilkan tabel\n",
    "format long;\n",
    "disp(\"Tabel aproksimasi, solusi y(x), dan error:\");\n",
    "[x_grid, w_grid, y_eksak, err_w]\n",
    "format;\n",
    "\n",
    "hold on;\n",
    "fplot(sln, [a, b], 'k');\n",
    "scatter(x_grid, w_grid, 'r');\n",
    "title(\"Aproksimasi y(x)\");\n",
    "legend(\"Eksak\", \"Aproksimasi\");\n",
    "legend(\"location\", \"northwest\");"
   ]
  },
  {
   "cell_type": "raw",
   "metadata": {},
   "source": [
    ":::"
   ]
  },
  {
   "cell_type": "markdown",
   "metadata": {},
   "source": [
    "### Contoh 2"
   ]
  },
  {
   "cell_type": "markdown",
   "metadata": {},
   "source": [
    "Selesaikan maslaah nilai batas berikut\n",
    "\n",
    "$$y'' = \\frac{1}{8} \\left(32 + 2x^3 - yy'\\right), \\quad 1 \\le x \\le 3$$\n",
    "$$y(1) = 17, \\quad y(3) = \\frac{43}{3}$$\n",
    "\n",
    "dengan $h=0.1$, toleransi $10^{-8}$, dan maksimum iterasi $M=30$. Bandingkan hasilnya dengan solusi eksak\n",
    "\n",
    "$$y(x) = x^2 + \\frac{16}{x}$$"
   ]
  },
  {
   "cell_type": "markdown",
   "metadata": {},
   "source": [
    "Hint:\n",
    "\n",
    "$$y'' = f(x, y, y') = \\frac{1}{8} \\left(32 + 2x^3 - yy'\\right)$$\n",
    "\n",
    "$$f_{y} (x, y, y') = \\frac{\\partial f}{\\partial y} (x, y, y') = -\\frac{1}{8} y'$$\n",
    "\n",
    "$$f_{y'} (x, y, y') = \\frac{\\partial f}{\\partial y'} (x, y, y') = -\\frac{1}{8} y$$"
   ]
  },
  {
   "cell_type": "raw",
   "metadata": {},
   "source": [
    "::: {.panel-tabset}\n",
    "\n",
    "### *Script file* `coba2_nonlinear_fd_langsung.m` - nama *file* bebas"
   ]
  },
  {
   "cell_type": "code",
   "execution_count": 113,
   "metadata": {},
   "outputs": [
    {
     "name": "stdout",
     "output_type": "stream",
     "text": [
      "Tabel aproksimasi, solusi y(x), dan error:\n",
      "ans =\n",
      "\n",
      " Columns 1 through 3:\n",
      "\n",
      "   1.000000000000000e+00   1.700000000000000e+01   1.700000000000000e+01\n",
      "   1.100000000000000e+00   1.575450253529389e+01   1.575545454545455e+01\n",
      "   1.200000000000000e+00   1.477173965356983e+01   1.477333333333333e+01\n",
      "   1.300000000000000e+00   1.399567743713438e+01   1.399769230769231e+01\n",
      "   1.400000000000000e+00   1.338629656205142e+01   1.338857142857143e+01\n",
      "   1.500000000000000e+00   1.291425241252499e+01   1.291666666666667e+01\n",
      "   1.600000000000000e+00   1.255753822750665e+01   1.256000000000000e+01\n",
      "   1.700000000000000e+00   1.229932628240154e+01   1.230176470588235e+01\n",
      "   1.800000000000000e+00   1.212652886701783e+01   1.212888888888889e+01\n",
      "   1.900000000000000e+00   1.202881380980783e+01   1.203105263157895e+01\n",
      "   2.000000000000000e+00   1.199791542246045e+01   1.200000000000000e+01\n",
      "   2.100000000000000e+00   1.202714237122990e+01   1.202904761904762e+01\n",
      "   2.200000000000000e+00   1.211101980435058e+01   1.211272727272727e+01\n",
      "   2.300000000000000e+00   1.224502486731439e+01   1.224652173913043e+01\n",
      "   2.400000000000000e+00   1.242538836268850e+01   1.242666666666667e+01\n",
      "   2.500000000000000e+00   1.264894403015380e+01   1.265000000000000e+01\n",
      "   2.600000000000000e+00   1.291301262278355e+01   1.291384615384615e+01\n",
      "   2.700000000000000e+00   1.321531175549766e+01   1.321592592592593e+01\n",
      "   2.800000000000000e+00   1.355388507997838e+01   1.355428571428571e+01\n",
      "   2.900000000000000e+00   1.392704611844152e+01   1.392724137931035e+01\n",
      "   3.000000000000000e+00   1.433333333333333e+01   1.433333333333333e+01\n",
      "\n",
      " Column 4:\n",
      "\n",
      "                       0\n",
      "   9.520101606579345e-04\n",
      "   1.593679763500333e-03\n",
      "   2.014870557925263e-03\n",
      "   2.274866520011187e-03\n",
      "   2.414254141680061e-03\n",
      "   2.461772493353109e-03\n",
      "   2.438423480807472e-03\n",
      "   2.360021871062656e-03\n",
      "   2.238821771113564e-03\n",
      "   2.084577539545052e-03\n",
      "   1.905247817717282e-03\n",
      "   1.707468376690002e-03\n",
      "   1.496871816048184e-03\n",
      "   1.278303978164530e-03\n",
      "   1.055969846202487e-03\n",
      "   8.335310626090831e-04\n",
      "   6.141704282711657e-04\n",
      "   4.006343073346130e-04\n",
      "   1.952608688231550e-04\n",
      "   1.776356839400250e-15\n",
      "\n"
     ]
    },
    {
     "data": {
      "image/png": "[encoded data removed]",
      "text/plain": [
       "<IPython.core.display.Image object>"
      ]
     },
     "metadata": {},
     "output_type": "display_data"
    }
   ],
   "source": [
    "f = @(x, y, yp) ((1/8)*(32 + 2 * x.^3 - y .* yp));\n",
    "fy = @(x, y, yp) (-yp/8);\n",
    "fyp = @(x, y, yp) (-y/8);\n",
    "a = 1;\n",
    "b = 3;\n",
    "h = 0.1;\n",
    "N = (b - a)/h - 1;\n",
    "alph = 17;\n",
    "bet = 43/3;\n",
    "tol = 10^(-8);\n",
    "M = 30;\n",
    "\n",
    "[x_grid, w_grid] = nonlinear_fd_langsung(f, fy, fyp, a, b, N, alph, bet, tol, M);\n",
    "\n",
    "% solusi eksak\n",
    "sln = @(x) ((x .^ 2) + ((16 ./ x)));\n",
    "y_eksak = sln(x_grid);\n",
    "\n",
    "% menghitung error\n",
    "err_w = abs(y_eksak - w_grid);\n",
    "\n",
    "% tampilkan tabel\n",
    "format long;\n",
    "disp(\"Tabel aproksimasi, solusi y(x), dan error:\");\n",
    "[x_grid, w_grid, y_eksak, err_w]\n",
    "format;\n",
    "\n",
    "hold on;\n",
    "fplot(sln, [a, b], 'k');\n",
    "scatter(x_grid, w_grid, 'r');\n",
    "title(\"Aproksimasi y(x)\");\n",
    "legend(\"Eksak\", \"Aproksimasi\");\n",
    "legend('location', 'northeast');"
   ]
  },
  {
   "cell_type": "raw",
   "metadata": {},
   "source": [
    ":::"
   ]
  },
  {
   "cell_type": "markdown",
   "metadata": {},
   "source": [
    "## Plot tiga dimensi dan *grid*"
   ]
  },
  {
   "cell_type": "markdown",
   "metadata": {},
   "source": [
    "Misalnya kita ingin membuat plot fungsi $u(x,y) = 4x + y$, setidaknya di titik-titik $x = 0,1,2,3$ dan $y = 0, 1, 2$. (Materi ini bisa dianggap perumuman dari materi *plotting* dua dimensi di [Modul 2](./modul2.ipynb); kalau lupa, mungkin bisa baca itu dulu.)"
   ]
  },
  {
   "cell_type": "markdown",
   "metadata": {},
   "source": [
    "Pertama-tama, kita bisa membuat *array* untuk nilai-nilai $x$ dan untuk nilai-nilai $y$ yang kita ingin gunakan untuk *plotting*"
   ]
  },
  {
   "cell_type": "code",
   "execution_count": 6,
   "metadata": {},
   "outputs": [
    {
     "name": "stdout",
     "output_type": "stream",
     "text": [
      "x_arr =\n",
      "\n",
      "   0   1   2   3\n",
      "\n",
      "y_arr =\n",
      "\n",
      "   0   1   2\n",
      "\n"
     ]
    }
   ],
   "source": [
    "x_arr = [0, 1, 2, 3]\n",
    "y_arr = [0, 1, 2]"
   ]
  },
  {
   "cell_type": "markdown",
   "metadata": {},
   "source": [
    "Apabila fungsi $u(x,y) = 4x + y$ dihitung di semua titik tersebut, bentuknya akan berupa *grid*, agar semua kemungkinan nilai $x$ dicoba dengan semua kemungkinan nilai $y$."
   ]
  },
  {
   "cell_type": "markdown",
   "metadata": {},
   "source": [
    "Caranya, kita susun terlebih dahulu dua *grid*, yaitu satu *grid* untuk nilai $x$ yang berisi nilai $x$ di posisi yang sesuai, dan satu *grid* untuk nilai $y$ yang berisi nilai $y$ di posisi yang sesuai. Ada fungsi Octave untuk melakukan ini, yaitu `meshgrid` yang bisa digunakan sebagai berikut."
   ]
  },
  {
   "cell_type": "code",
   "execution_count": 7,
   "metadata": {},
   "outputs": [
    {
     "name": "stdout",
     "output_type": "stream",
     "text": [
      "x_grid =\n",
      "\n",
      "   0   1   2   3\n",
      "   0   1   2   3\n",
      "   0   1   2   3\n",
      "\n",
      "y_grid =\n",
      "\n",
      "   0   0   0   0\n",
      "   1   1   1   1\n",
      "   2   2   2   2\n",
      "\n"
     ]
    }
   ],
   "source": [
    "[x_grid, y_grid] = meshgrid(x_arr, y_arr)"
   ]
  },
  {
   "cell_type": "markdown",
   "metadata": {},
   "source": [
    "Perhatikan,\n",
    "\n",
    "- untuk posisi pertama $x$, yaitu dengan $x=0$, satu kolom itu semuanya diisi $x=0$. Untuk posisi kedua, satu kolom itu semuanya diisi $x=1$. Begitu juga untuk $x=2$ dan $x=3$. Arahnya dari kiri ke kanan.\n",
    "\n",
    "- untuk *grid* $y$, mirip dengan *grid* $x$, tetapi arahnya dari atas ke bawah (bukan bawah ke atas)."
   ]
  },
  {
   "cell_type": "markdown",
   "metadata": {},
   "source": [
    "Setelah itu, barulah kita buat *grid* untuk hasilnya yaitu *grid* untuk $u$, dengan menerapkan fungsi $u$ menggunakan *grid* $x$ dan *grid* $y$ tersebut."
   ]
  },
  {
   "cell_type": "code",
   "execution_count": 8,
   "metadata": {},
   "outputs": [],
   "source": [
    "% contoh fungsi yang ingin kita coba\n",
    "u = @(x, y) (4 * x + y);"
   ]
  },
  {
   "cell_type": "code",
   "execution_count": 9,
   "metadata": {},
   "outputs": [
    {
     "name": "stdout",
     "output_type": "stream",
     "text": [
      "u_grid =\n",
      "\n",
      "    0    4    8   12\n",
      "    1    5    9   13\n",
      "    2    6   10   14\n",
      "\n"
     ]
    }
   ],
   "source": [
    "% menggunakan fungsinya untuk memperoleh grid u dari grid x dan grid y\n",
    "u_grid = u(x_grid, y_grid)"
   ]
  },
  {
   "cell_type": "markdown",
   "metadata": {},
   "source": [
    "Terakhir, kita tinggal menggambarnya menggunakan fungsi `mesh` seperti berikut:"
   ]
  },
  {
   "cell_type": "code",
   "execution_count": 11,
   "metadata": {},
   "outputs": [
    {
     "data": {
      "image/png": "[encoded data removed]",
      "text/plain": [
       "<IPython.core.display.Image object>"
      ]
     },
     "metadata": {},
     "output_type": "display_data"
    }
   ],
   "source": [
    "mesh(x_arr, y_arr, u_grid);\n",
    "title(\"Plot u(x,y)=4x+y\");\n",
    "xlabel(\"x\");\n",
    "ylabel(\"y\");\n",
    "zlabel(\"u\");"
   ]
  },
  {
   "cell_type": "markdown",
   "metadata": {},
   "source": [
    "Perhatikan,\n",
    "\n",
    "- walaupun tadi arah di *grid* $y$ adalah dari atas ke bawah, gambarnya masih dari bawah ke atas seperti biasanya (perhatikan sumbunya).\n",
    "\n",
    "- walaupun tadi kita libatkan `x_grid` dan `y_grid` dalam perhitungan untuk memperoleh `u_grid`, pada akhirnya, yang digunakan untuk *plot* adalah `x_arr` dan `y_arr`"
   ]
  },
  {
   "cell_type": "markdown",
   "metadata": {},
   "source": [
    "Ketika nilai-nilai `u_grid` ditampilkan, ia ditampilkan sebagai matriks (nilai $y$ dari atas ke bawah), sehingga mungkin arahnya kurang sesuai dengan gambar (nilai $y$ dari bawah ke atas), seperti terbalik.\n",
    "\n",
    "Ada fungsi Octave untuk mem-*flip* atau membalik arah atas-bawah ini, yaitu `flipud` (*flip up-down*)"
   ]
  },
  {
   "cell_type": "code",
   "execution_count": 12,
   "metadata": {},
   "outputs": [
    {
     "name": "stdout",
     "output_type": "stream",
     "text": [
      "ans =\n",
      "\n",
      "    2    6   10   14\n",
      "    1    5    9   13\n",
      "    0    4    8   12\n",
      "\n"
     ]
    }
   ],
   "source": [
    "flipud(u_grid)"
   ]
  },
  {
   "cell_type": "markdown",
   "metadata": {},
   "source": [
    "Ketika ditampilkan seperti ini, nilai-nilai `u_grid` terlihat cocok dengan gambar."
   ]
  },
  {
   "cell_type": "markdown",
   "metadata": {},
   "source": [
    "Namun, misalkan kita memerlukan nilai $u(2, 1)$. Bagaimana cara membacanya dari *grid*?"
   ]
  },
  {
   "cell_type": "markdown",
   "metadata": {},
   "source": [
    "$x=2$ ada di indeks 3 di `x_arr`"
   ]
  },
  {
   "cell_type": "code",
   "execution_count": 18,
   "metadata": {},
   "outputs": [
    {
     "name": "stdout",
     "output_type": "stream",
     "text": [
      "ans = 3\n"
     ]
    }
   ],
   "source": [
    "find(x_arr == 2)"
   ]
  },
  {
   "cell_type": "markdown",
   "metadata": {},
   "source": [
    "$y = 1$ ada di indeks 2 di `y_arr`"
   ]
  },
  {
   "cell_type": "code",
   "execution_count": 19,
   "metadata": {},
   "outputs": [
    {
     "name": "stdout",
     "output_type": "stream",
     "text": [
      "ans = 2\n"
     ]
    }
   ],
   "source": [
    "find(y_arr == 1)"
   ]
  },
  {
   "cell_type": "markdown",
   "metadata": {},
   "source": [
    "Sehingga nilai $u(2,1)$ seharusnya ada di indeks (3,2) dari `u_grid`..."
   ]
  },
  {
   "cell_type": "code",
   "execution_count": 22,
   "metadata": {},
   "outputs": [
    {
     "name": "stdout",
     "output_type": "stream",
     "text": [
      "ans = 6\n"
     ]
    }
   ],
   "source": [
    "u_grid(3, 2)"
   ]
  },
  {
   "cell_type": "markdown",
   "metadata": {},
   "source": [
    "Hmm, kok aneh? Harusnya kan $u(2,1) = 4(2)+1 = 9$?"
   ]
  },
  {
   "cell_type": "markdown",
   "metadata": {},
   "source": [
    "Karena satu dan lain hal, kita perlu mentranspos matriks *grid* nya terlebih dahulu:"
   ]
  },
  {
   "cell_type": "code",
   "execution_count": 23,
   "metadata": {},
   "outputs": [
    {
     "name": "stdout",
     "output_type": "stream",
     "text": [
      "ans = 9\n"
     ]
    }
   ],
   "source": [
    "u_grid'(3, 2)"
   ]
  },
  {
   "cell_type": "markdown",
   "metadata": {},
   "source": [
    "Selama berurusan dengan PDP secara numerik, seringkali akan seperti itu; matriks untuk menyimpan/mengakses hasil perhitungan adalah transpos dari matriks yang diberikan ke fungsi `mesh`.\n",
    "\n",
    "Kali ini, matriks `u_grid` menyimpan nilai-nilai untuk `mesh`, sehingga perlu ditranspos untuk keperluan mengakses hasil perhitungan. Nanti bisa juga sebaliknya, yaitu dimiliki matriks yang menyimpan hasil perhitungan, sehingga perlu ditranspos ketika ingin menggunakan `mesh`.\n",
    "\n",
    "(Terlebih lagi, orientasi matriks untuk menampilkan nilai-nilai di *grid* dengan `flipud` akan sama dengan orientasi matriks untuk fungsi `mesh`. Jadi, kalau nantinya perlu ditranspos ketika ingin menggunakan `mesh`, kita juga perlu mentranspos ketika ingin menggunakan `flipud` untuk menampilkan nilai-nilai di *grid*.)"
   ]
  },
  {
   "cell_type": "markdown",
   "metadata": {},
   "source": [
    "Mengapa harus berurusan dengan transpos? Mari kita lihat lagi bentuk matriks `u_grid`"
   ]
  },
  {
   "cell_type": "code",
   "execution_count": 26,
   "metadata": {},
   "outputs": [
    {
     "name": "stdout",
     "output_type": "stream",
     "text": [
      "u_grid =\n",
      "\n",
      "    0    4    8   12\n",
      "    1    5    9   13\n",
      "    2    6   10   14\n",
      "\n"
     ]
    }
   ],
   "source": [
    "u_grid"
   ]
  },
  {
   "cell_type": "markdown",
   "metadata": {},
   "source": [
    "Nilai 9 ada di mana? Harusnya di indeks (3,2). Kalau kita bayangkan itu adalah *grid* yang terbalik secara atas-bawah. Berarti, dari ujung kiri-atas yaitu indeks (1,1), kita ke kanan dua langkah, lalu ke bawah satu langkah.\n",
    "\n",
    "Perhatikan: ke kanan dua langkah adalah **perpindahan kolom**, dan ke bawah satu langkah adalah **perpinahan baris**. Sedangkan, urutan indeks dalam mengakses nilai pada matriks aalah baris dulu, baru kolom. Karena dimensinya terbalik seperti itu, kita perlu mentranspos sebelum mengakses nilainya."
   ]
  },
  {
   "cell_type": "markdown",
   "metadata": {},
   "source": [
    "Kalau kita transpos dulu,"
   ]
  },
  {
   "cell_type": "code",
   "execution_count": 27,
   "metadata": {},
   "outputs": [
    {
     "name": "stdout",
     "output_type": "stream",
     "text": [
      "ans =\n",
      "\n",
      "    0    1    2\n",
      "    4    5    6\n",
      "    8    9   10\n",
      "   12   13   14\n",
      "\n"
     ]
    }
   ],
   "source": [
    "u_grid'"
   ]
  },
  {
   "cell_type": "markdown",
   "metadata": {},
   "source": [
    "barulah kita bisa menggunakan indeks (3,2), yaitu di baris ke-3, kolom ke-2."
   ]
  },
  {
   "cell_type": "code",
   "execution_count": 28,
   "metadata": {},
   "outputs": [
    {
     "name": "stdout",
     "output_type": "stream",
     "text": [
      "ans = 9\n"
     ]
    }
   ],
   "source": [
    "u_grid'(3,2)"
   ]
  },
  {
   "cell_type": "markdown",
   "metadata": {},
   "source": [
    "Sedikit tambahan: alternatif dari fungsi `mesh` adalah fungsi `surf`"
   ]
  },
  {
   "cell_type": "code",
   "execution_count": 17,
   "metadata": {},
   "outputs": [
    {
     "data": {
      "image/png": "[encoded data removed]",
      "text/plain": [
       "<IPython.core.display.Image object>"
      ]
     },
     "metadata": {},
     "output_type": "display_data"
    }
   ],
   "source": [
    "surf(x_arr, y_arr, u_grid);\n",
    "title(\"Plot u(x,y)=4x+y\");\n",
    "xlabel(\"x\");\n",
    "ylabel(\"y\");\n",
    "zlabel(\"u\");"
   ]
  },
  {
   "cell_type": "markdown",
   "metadata": {},
   "source": [
    "Bedanya, fungsi `surf` memberi warna seperti itu. Walaupun terlihat bagus, mungkin *plot*nya malah menjadi lebih sulit dibaca, sehingga kita akan tetap menggunakan `mesh`"
   ]
  },
  {
   "cell_type": "markdown",
   "metadata": {},
   "source": [
    "## PDP Eliptik/Laplace/Poisson"
   ]
  },
  {
   "cell_type": "markdown",
   "metadata": {},
   "source": [
    "### Bentuk umum persamaan Laplace"
   ]
  },
  {
   "cell_type": "markdown",
   "metadata": {},
   "source": [
    "Di mata kuliah Persamaan Diferensial Numerik, PDP orde 2 eliptik yang dibahas adalah persamaan Laplace, atau juga disebut persamaan Poisson.\n",
    "\n",
    "Bentuk umum dari persamaan Laplace bisa ditulis\n",
    "$$\\frac{\\partial^2 u}{\\partial x^2}\\left(x,y\\right) + \\frac{\\partial^2 u}{\\partial y^2}\\left(x,y\\right) = f\\left(x,y\\right), \\quad a < x < b, \\quad c < y < d$$\n",
    "$$u\\left(x, c\\right) = g\\left(x, c\\right), \\quad u\\left(x, d\\right) = g\\left(x, d\\right), \\quad a \\le x \\le b$$\n",
    "$$u\\left(a, y\\right) = g\\left(a, y\\right), \\quad u\\left(b, y\\right) = g\\left(b, y\\right), \\quad c \\le y \\le d$$\n",
    "yang disertai nilai *step size* $h$ (yaitu $\\Delta x$) dan nilai *step size* $k$ (yaitu $\\Delta y$).\n",
    "\n",
    "Perhatikan bahwa ada *source function* $f\\left(x,y\\right)$ (yang bisa saja bernilai nol) dan ada syarat batas semua sisi (karena PDP ini dalam variabel $x,y$)."
   ]
  },
  {
   "cell_type": "markdown",
   "metadata": {},
   "source": [
    "Selain itu, semua syarat batas seolah-olah diberikan oleh satu fungsi $g$. Namun, biasanya, syarat batas bawah, atas, kiri, dan kanan yang diketahui tampak seperti fungsi yang berbeda-beda (walaupun sebenarnya digunakan satu fungsi yang sama).\n",
    "\n",
    "Oleh karena itu, untuk kebutuhan praktikum, kita bisa menuliskan bentuk umum persamaan Laplace sebagai berikut:\n",
    "\n",
    "$$\\frac{\\partial^2 u}{\\partial x^2}\\left(x,y\\right) + \\frac{\\partial^2 u}{\\partial y^2}\\left(x,y\\right) = f\\left(x,y\\right), \\quad a < x < b, \\quad c < y < d$$\n",
    "$$u\\left(x, c\\right) = \\text{db}\\left(x, c\\right), \\quad u\\left(x, d\\right) = \\text{ub}\\left(x, d\\right), \\quad a \\le x \\le b$$\n",
    "$$u\\left(a, y\\right) = \\text{lb}\\left(a, y\\right), \\quad u\\left(b, y\\right) = \\text{rb}\\left(b, y\\right), \\quad c \\le y \\le d$$\n",
    "\n",
    "Keterangan:\n",
    "\n",
    "- `db` bisa diingat *down boundary condition*, maksudnya syarat batas bawah\n",
    "\n",
    "- `ub` bisa diingat *upper boundary condition*, maksudnya syarat batas atas\n",
    "\n",
    "- `lb` bisa diingat *left boundary condition*, maksudnya syarat batas kiri\n",
    "\n",
    "- `rb` bisa diingat *right boundary condition*, maksudnya syarat batas kanan\n",
    "\n",
    "Kita memberi nama yang berbeda-beda untuk fungsi-fungsi syarat batas ini agar lebih mudah nantinya ketika ingin menginput syarat batas."
   ]
  },
  {
   "cell_type": "markdown",
   "metadata": {},
   "source": [
    "Lebih lanjut, batasan interval bisa kita tulis\n",
    "\n",
    "$$\\text{xb} < x < \\text{xu}, \\quad \\text{yb} < y < \\text{yu}$$\n",
    "\n",
    "- `xb` bisa diingat \"$x$ (below)\"\n",
    "\n",
    "- `xu` bisa diingat \"$x$ (upper)\"\n",
    "\n",
    "- `yb` bisa diingat \"$y$ (below)\"\n",
    "\n",
    "- `yu` bisa diingat \"$y$ (upper)\""
   ]
  },
  {
   "cell_type": "markdown",
   "metadata": {},
   "source": [
    "### Ide utama"
   ]
  },
  {
   "cell_type": "markdown",
   "metadata": {},
   "source": [
    "Metode yang umum digunakan dalam penyelesaian PDP secara numerik adalah metode *finite difference*, melibatkan yang namanaya **diskretisasi**, yaitu memecah tiap interval menjadi titik-titik."
   ]
  },
  {
   "cell_type": "markdown",
   "metadata": {},
   "source": [
    "Untuk PDP dalam variabel $x$ dan $y$, diskretisasi dilakukan sebagai berikut:\n",
    "\n",
    "- interval $a \\le x \\le b$ dipecah menjadi titik-titik $x_i = a + ih$ dengan $i=0,\\dots,m$, yaitu menjadi sebanyak $(m+1)$ titik\n",
    "\n",
    "- interval $c \\le y \\le d$ dipecah menjadi titik-titik $y_j = c + jk$ dengan $j=0,\\dots,N$, yaitu menjadi sebanyak $(N+1)$ titik\n",
    "\n",
    "Kemudian, hasil aproksimasi solusi PDP pada titik $\\left(x_i, y_j\\right)$ ditulis $w_{i,j}$\n",
    "\n",
    "(atau terkadang ditulis $u_i^j$, atau bahkan $u_j^n$ untuk titik $\\left(x_j, y_n\\right)$)"
   ]
  },
  {
   "cell_type": "markdown",
   "metadata": {},
   "source": [
    "Diskretisasi untuk penylesaian PDP secara numerik bisa dipandang sebagai perumuman dari proses diskretisasi untuk penyelesaian PDB secara numerik, yaitu perumuman dari $t_i = a + ih$ atau terkadang ditulis $x_i = a + ih$."
   ]
  },
  {
   "cell_type": "markdown",
   "metadata": {},
   "source": [
    "Untuk persamaan Laplace, hanya ada satu metode *finite difference*, yang diawali dengan permisalan nilai lambda berikut:\n",
    "\n",
    "$$\\lambda = \\left(\\frac{h^2}{k^2}\\right) = \\frac{h^2}{k^2}$$"
   ]
  },
  {
   "cell_type": "markdown",
   "metadata": {},
   "source": [
    "Ide utama dari metode *finite difference* untuk persamaan Laplace adalah menuliskan rumus *finite difference* berikut untuk tiap $i=1,\\dots,(m-1)$ dan juga untuk tiap $j=1,\\dots,(N-1)$:\n",
    "\n",
    "$$2\\left(\\lambda+1\\right) w_{i,j} - \\left(w_{i+1,j} + w_{i-1,j}\\right) - \\lambda\\left(w_{i,j+1} + w_{i,j-1}\\right) = -h^2 f\\left(x_i, y_j\\right)$$\n",
    "\n",
    "Setelah menuliskan rumus tersebut sebanyak $(m-1)\\times(N-1)$ kali, perhatikan bahwa ada beberapa nilai syarat batas yang sudah diketahui dan berupa konstana, misalnya batas bawah $w_{0,0}, w_{1,0}, w_{2,0}, \\dots$ dan batas kiri $w_{0,0}, w_{0,1}, w_{0,2}, \\dots$\n",
    "\n",
    "Nilai-nilai yang sudah diketahui tersebut bisa langsung dimasukkan ke dalam persamaan-persamaannya.\n",
    "\n",
    "Dengan demikian, diperoleh SPL yang terdiri dari $(m-1)\\times(N-1)$ buah variabel, yaitu variabel-variabel $w_{i,j}$ untuk tiap $i=1,\\dots,(m-1)$ dan tiap $j=1,\\dots,(N-1)$.\n",
    "\n",
    "SPL ini dapat diselesaikan untuk memperoleh semua nilai $w_{i,j}$ sekaligus."
   ]
  },
  {
   "cell_type": "markdown",
   "metadata": {},
   "source": [
    "(Dalam penggunaan Octave, indeks $0,\\dots,m$ dan $0,\\dots,N$ digeser menjadi $1,\\dots,(m+1)$ dan $1,\\dots,(N+1)$ karena indeks *array* yang dimulai dari 1.)"
   ]
  },
  {
   "cell_type": "markdown",
   "metadata": {},
   "source": [
    "### Penggunaan metode Gauss-Seidel"
   ]
  },
  {
   "cell_type": "markdown",
   "metadata": {},
   "source": [
    "Sayangnya, tidak ada cara cepat untuk menyusun SPL tersebut. Apabila penyelesaian dilakukan secara manual, tidak masalah; kita tinggal susun SPLnya secara manual, hingga bisa disusun dalam bentuk matriks, baru menyelesaikan SPL dalam bentuk matriks tersebut (yang bisa dilakukan dengan metode langsung seperti OBE, invers, ataupun metode iteratif, atau dengan bantuan komputer).\n",
    "\n",
    "Apabila PDP eliptik ingin diselesaikan secara program, daripada harus menyusun bentuk SPL secara rapi terlebih dahulu, kita bisa menggunakan metode penyelesaian SPL yang iteratif. Contohnya, metode Gauss-Seidel bisa langsung menggunakan bentuk umumnya, yaitu\n",
    "\n",
    "$$2\\left(\\lambda+1\\right) w_{i,j} - \\left(w_{i+1,j} + w_{i-1,j}\\right) - \\lambda\\left(w_{i,j+1} + w_{i,j-1}\\right) = -h^2 f\\left(x_i, y_j\\right)$$\n",
    "\n",
    "yang dipindahruaskan agar diperoleh\n",
    "\n",
    "$$2\\left(\\lambda+1\\right) w_{i,j} = \\left(w_{i+1,j} + w_{i-1,j}\\right) + \\lambda\\left(w_{i,j+1} + w_{i,j-1}\\right) -h^2 f\\left(x_i, y_j\\right)$$\n",
    "\n",
    "$$w_{i,j} = \\frac{1}{2\\left(\\lambda+1\\right)}\\left(w_{i+1,j} + w_{i-1,j} + \\lambda\\left(w_{i,j+1} + w_{i,j-1}\\right) -h^2 f\\left(x_i, y_j\\right)\\right)$$"
   ]
  },
  {
   "cell_type": "markdown",
   "metadata": {},
   "source": [
    "Mengingat dari mata kuliah Metode Numerik, metode Gauss-Seidel memang memanfaatkan bentuk persamaan yang seperti ini."
   ]
  },
  {
   "cell_type": "markdown",
   "metadata": {},
   "source": [
    "Menggunakan metode Gauss-Seidel, kita tinggal memasang tebakan awal untuk tiap variabel $w_{i,j}$ (yang bisa dipasang nol semua menurut buku Burden), kemudian mengulang-ulang perhitungan menggunakan rumus tersebut hingga konvergen."
   ]
  },
  {
   "cell_type": "markdown",
   "metadata": {},
   "source": [
    "### *Function file*"
   ]
  },
  {
   "cell_type": "raw",
   "metadata": {},
   "source": [
    "::: {.panel-tabset}\n",
    "\n",
    "### *Function file* `eliptik_iteratif.m` - nama *file* harus sama dengan nama fungsi"
   ]
  },
  {
   "cell_type": "code",
   "execution_count": 1,
   "metadata": {},
   "outputs": [],
   "source": [
    "function [x, y, w] = eliptik_iteratif(db, ub, lb, rb, f, xb, xu, yb, yu, h, k, tol, M)\n",
    "  x = xb : h : xu;\n",
    "  y = yb : k : yu;\n",
    "  m_plus_1 = length(x);\n",
    "  N_plus_1 = length(y);\n",
    "  \n",
    "  % susun matriks solusi w_{i,j}\n",
    "  % awalnya berisi nol semua agar sekaligus mengisi tebakan awal\n",
    "  w = zeros(m_plus_1, N_plus_1);\n",
    "\n",
    "  % isi syarat batas (saat ini masih nol semua)\n",
    "  for i = 1 : m_plus_1 % digeser dari i=0,...,m jadi i=1,...,(m+1)\n",
    "    w(i, 1)         = db(x(i), yb);\n",
    "    w(i, N_plus_1)  = ub(x(i), yu);\n",
    "  endfor\n",
    "  for j = 2 : (N_plus_1 - 1) % digeser dari j=1,...,(N-1) jadi j=2,...,N\n",
    "    w(1, j)         = lb(xb, y(j));\n",
    "    w(m_plus_1, j)  = rb(xu, y(j));\n",
    "  endfor\n",
    "  \n",
    "  % lakukan iterasi metode Gauss-Seidel untuk semua nilai w_{i,j} lainnya\n",
    "  lambd = (h/k)^2;\n",
    "  err = tol + 1; % errornya sembarang dulu, yang penting masuk loop\n",
    "  k = 1;\n",
    "  while (!(err <= tol) && (k != M+1))\n",
    "    old_values = w(2 : m_plus_1 - 1,  2 : N_plus_1 - 1); % selain syarat batas\n",
    "    for i = 2 : (m_plus_1 - 1) % digeser dari i=1,...,(m-1) jadi i=2,...,m\n",
    "      for j = 2 : (N_plus_1 - 1) % digeser dari j=1,...,(N-1) jadi j=2,...,N\n",
    "        w(i, j) = w(i+1, j) + w(i-1, j) + lambd * (w(i, j+1) + w(i, j-1));\n",
    "        w(i, j) += - h^2 * f(x(i), y(j));\n",
    "        w(i, j) /= 2 * (lambd + 1);\n",
    "      endfor\n",
    "    endfor\n",
    "    new_values = w(2 : m_plus_1 - 1,  2 : N_plus_1 - 1); % selain syarat batas\n",
    "    err = max(max(abs(old_values - new_values))); % norm infinity\n",
    "    k += 1; % lanjut ke iterasi selanjutnya\n",
    "  endwhile\n",
    "endfunction"
   ]
  },
  {
   "cell_type": "raw",
   "metadata": {},
   "source": [
    ":::"
   ]
  },
  {
   "cell_type": "markdown",
   "metadata": {},
   "source": [
    "### Contoh 1"
   ]
  },
  {
   "cell_type": "markdown",
   "metadata": {},
   "source": [
    "Selesaikan PDP eliptik\n",
    "\n",
    "$$\\frac{\\partial^2 u}{\\partial x^2} \\left(x,y\\right) + \\frac{\\partial^2 u}{\\partial y^2} \\left(x,y\\right) = 0, \\quad 0 < x < 0.5, \\quad 0 < y < 0.5$$\n",
    "\n",
    "dengan syarat batas\n",
    "\n",
    "$$u(x,0) = 0, \\quad u(x, 0.5) = 200x, \\quad 0 \\le x \\le 0.5$$\n",
    "\n",
    "$$u(0,y) = 0, \\quad u(0.5, y) = 200y, \\quad 0 \\le y \\le 0.5$$\n",
    "\n",
    "secara numerik dengan *step size* $h = k = 0.125$, toleransi $10^{-8}$, dan maksimum iterasi $M=50$."
   ]
  },
  {
   "cell_type": "raw",
   "metadata": {},
   "source": [
    "::: {.panel-tabset}\n",
    "\n",
    "### *Script file* `coba1_eliptik.m` - nama *file* bebas"
   ]
  },
  {
   "cell_type": "code",
   "execution_count": 10,
   "metadata": {},
   "outputs": [
    {
     "name": "stdout",
     "output_type": "stream",
     "text": [
      "Grid nilai aproksimasi:\n",
      "          0    25.0000    50.0000    75.0000   100.0000\n",
      "          0    18.7500    37.5000    56.2500    75.0000\n",
      "          0    12.5000    25.0000    37.5000    50.0000\n",
      "          0     6.2500    12.5000    18.7500    25.0000\n",
      "          0          0          0          0          0\n"
     ]
    },
    {
     "data": {
      "image/png": "[encoded data removed]",
      "text/plain": [
       "<IPython.core.display.Image object>"
      ]
     },
     "metadata": {},
     "output_type": "display_data"
    }
   ],
   "source": [
    "db = @(x,y) 0;\n",
    "ub = @(x,y) 200*x;\n",
    "lb = @(x,y) 0;\n",
    "rb = @(x,y) 200*y;\n",
    "f = @(x,y) 0;\n",
    "xb = 0;\n",
    "xu = 0.5;\n",
    "yb = 0;\n",
    "yu = 0.5;\n",
    "h = 0.125;\n",
    "k = 0.125;\n",
    "tol = 10^(-8);\n",
    "M = 50;\n",
    "\n",
    "[x_arr, y_arr, w] = eliptik_iteratif(db, ub, lb, rb, f, xb, xu, yb, yu, h, k, tol, M);\n",
    "\n",
    "% menampilkan nilai aproksimasi dalam bentuk seperi grid\n",
    "disp(\"Grid nilai aproksimasi:\");\n",
    "disp(flipud(w'));\n",
    "\n",
    "% gambar mesh hasil aproksimasi\n",
    "figure;\n",
    "mesh(x_arr, y_arr, w');\n",
    "title(\"Hasil aproksimasi\");\n",
    "xlabel(\"x\");\n",
    "ylabel(\"y\");\n",
    "zlabel(\"u\");"
   ]
  },
  {
   "cell_type": "raw",
   "metadata": {},
   "source": [
    ":::"
   ]
  },
  {
   "cell_type": "markdown",
   "metadata": {},
   "source": [
    "### Contoh 2"
   ]
  },
  {
   "cell_type": "markdown",
   "metadata": {},
   "source": [
    "Selesaikan PDP eliptik\n",
    "\n",
    "$$\\frac{\\partial^2 u}{\\partial x^2} \\left(x,y\\right) + \\frac{\\partial^2 u}{\\partial y^2} \\left(x,y\\right) = xe^y, \\quad 0 < x < 2, \\quad 0 < y < 1$$\n",
    "\n",
    "dengan syarat batas\n",
    "\n",
    "$$u(x, 0) = x, \\quad u(x, 1) = ex, \\quad 0 \\le x \\le 2$$\n",
    "\n",
    "$$u(0, y) = 0, \\quad u(2, y) = 2e^y, \\quad 0 \\le y \\le 1$$\n",
    "\n",
    "secara numerik dengan $m = 6$ dan $N = 5$, menggunakan metode Gauss-Seidel dengan toleransi $10^{-10}$ dan maksimum iterasi $M=100$.\n",
    "\n",
    "Lalu, bandingkan hasilnya dengan solusi eksak $u(x,y) = xe^y$"
   ]
  },
  {
   "cell_type": "markdown",
   "metadata": {},
   "source": [
    "Hint: perhatikan bahwa ruas kanan di PDP eliptik yang diberikan adalah $f(x,y) = xe^y$"
   ]
  },
  {
   "cell_type": "raw",
   "metadata": {},
   "source": [
    "::: {.panel-tabset}\n",
    "\n",
    "### *Script file* `coba2_eliptik.m` - nama *file* bebas"
   ]
  },
  {
   "cell_type": "code",
   "execution_count": 7,
   "metadata": {},
   "outputs": [
    {
     "name": "stdout",
     "output_type": "stream",
     "text": [
      "Grid nilai aproksimasi:\n",
      "        0   0.9061   1.8122   2.7183   3.6244   4.5305   5.4366\n",
      "        0   0.7420   1.4840   2.2260   2.9679   3.7097   4.4511\n",
      "        0   0.6076   1.2152   1.8227   2.4302   3.0375   3.6442\n",
      "        0   0.4975   0.9950   1.4924   1.9898   2.4870   2.9836\n",
      "        0   0.4073   0.8145   1.2218   1.6290   2.0360   2.4428\n",
      "        0   0.3333   0.6667   1.0000   1.3333   1.6667   2.0000\n",
      "Grid solusi eksak:\n",
      "        0   0.9061   1.8122   2.7183   3.6244   4.5305   5.4366\n",
      "        0   0.7418   1.4837   2.2255   2.9674   3.7092   4.4511\n",
      "        0   0.6074   1.2147   1.8221   2.4295   3.0369   3.6442\n",
      "        0   0.4973   0.9945   1.4918   1.9891   2.4864   2.9836\n",
      "        0   0.4071   0.8143   1.2214   1.6285   2.0357   2.4428\n",
      "        0   0.3333   0.6667   1.0000   1.3333   1.6667   2.0000\n",
      "Grid nilai error:\n",
      " Columns 1 through 6:\n",
      "\n",
      "            0            0            0            0            0            0\n",
      "            0   1.6009e-04   3.1459e-04   4.5177e-04   5.4035e-04   4.8919e-04\n",
      "            0   2.2315e-04   4.3731e-04   6.2391e-04   7.3483e-04   6.4084e-04\n",
      "            0   2.0835e-04   4.0778e-04   5.8003e-04   6.7871e-04   5.8389e-04\n",
      "            0   1.3036e-04   2.5524e-04   3.6345e-04   4.2668e-04   3.7106e-04\n",
      "            0            0            0            0            0            0\n",
      "\n",
      " Column 7:\n",
      "\n",
      "            0\n",
      "            0\n",
      "            0\n",
      "            0\n",
      "            0\n",
      "            0\n",
      "Error total (norm L1): 0.00862156\n"
     ]
    },
    {
     "data": {
      "image/png": "[encoded data removed]",
      "text/plain": [
       "<IPython.core.display.Image object>"
      ]
     },
     "metadata": {},
     "output_type": "display_data"
    },
    {
     "data": {
      "image/png": "[encoded data removed]",
      "text/plain": [
       "<IPython.core.display.Image object>"
      ]
     },
     "metadata": {},
     "output_type": "display_data"
    }
   ],
   "source": [
    "db = @(x,y) x;\n",
    "ub = @(x,y) e * x;\n",
    "lb = @(x,y) 0;\n",
    "rb = @(x,y) 2 * exp(y);\n",
    "f = @(x,y) x .* exp(y);\n",
    "xb = 0;\n",
    "xu = 2;\n",
    "yb = 0;\n",
    "yu = 1;\n",
    "m = 6;\n",
    "N = 5;\n",
    "h = (xu - xb)/m; % rumus step size: h = (b-a)/m untuk interval a < x < b\n",
    "k = (yu - yb)/N; % rumus step size: k = (d-c)/N untuk interval c < y < d\n",
    "tol = 10^(-10);\n",
    "M = 100;\n",
    "\n",
    "[x_arr, y_arr, w] = eliptik_iteratif(db, ub, lb, rb, f, xb, xu, yb, yu, h, k, tol, M);\n",
    "\n",
    "% solusi eksak\n",
    "sln = @(x, y) x .* exp(y);\n",
    "[x_grid, y_grid] = meshgrid(x_arr, y_arr);\n",
    "u_eksak = sln(x_grid, y_grid);\n",
    "\n",
    "% menampilkan nilai aproksimasi dalam bentuk seperi grid\n",
    "disp(\"Grid nilai aproksimasi:\");\n",
    "disp(flipud(w'));\n",
    "\n",
    "% menampilkan grid solusi eksak\n",
    "disp(\"Grid solusi eksak:\");\n",
    "disp(flipud(u_eksak));\n",
    "\n",
    "% perhitungan error\n",
    "err_grid = abs(w' - u_eksak); % absolute error\n",
    "err_total = sum(sum(err_grid)); % norm L1 (taxicab/Manhattan)\n",
    "disp(\"Grid nilai error:\");\n",
    "disp(flipud(err_grid));\n",
    "printf(\"Error total (norm L1): %d\\n\", err_total);\n",
    "\n",
    "% gambar mesh hasil aproksimasi\n",
    "figure 1;\n",
    "mesh(x_arr, y_arr, w');\n",
    "title(\"Hasil aproksimasi\");\n",
    "xlabel(\"x\");\n",
    "ylabel(\"y\");\n",
    "zlabel(\"u\");\n",
    "\n",
    "% gambar mesh solusi eksak\n",
    "figure 2;\n",
    "mesh(x_arr, y_arr, u_eksak);\n",
    "title(\"Solusi eksak\");\n",
    "xlabel(\"x\");\n",
    "ylabel(\"y\");\n",
    "zlabel(\"u\");"
   ]
  },
  {
   "cell_type": "raw",
   "metadata": {},
   "source": [
    ":::"
   ]
  },
  {
   "cell_type": "markdown",
   "metadata": {},
   "source": [
    "## PDP Hiperbolik / Persamaan Gelombang"
   ]
  },
  {
   "cell_type": "markdown",
   "metadata": {},
   "source": [
    "### Bentuk umum, ide utama, penyederhanaan"
   ]
  },
  {
   "cell_type": "markdown",
   "metadata": {},
   "source": []
  },
  {
   "cell_type": "markdown",
   "metadata": {},
   "source": [
    "### *Function file*"
   ]
  },
  {
   "cell_type": "code",
   "execution_count": null,
   "metadata": {},
   "outputs": [],
   "source": []
  },
  {
   "cell_type": "markdown",
   "metadata": {},
   "source": [
    "### Contoh soal"
   ]
  },
  {
   "cell_type": "markdown",
   "metadata": {},
   "source": []
  }
 ],
 "metadata": {
  "kernelspec": {
   "display_name": "Octave",
   "language": "octave",
   "name": "octave"
  },
  "language_info": {
   "file_extension": ".m",
   "help_links": [
    {
     "text": "GNU Octave",
     "url": "https://www.gnu.org/software/octave/support.html"
    },
    {
     "text": "Octave Kernel",
     "url": "https://github.com/Calysto/octave_kernel"
    },
    {
     "text": "MetaKernel Magics",
     "url": "https://metakernel.readthedocs.io/en/latest/source/README.html"
    }
   ],
   "mimetype": "text/x-octave",
   "name": "octave",
   "version": "6.2.0"
  }
 },
 "nbformat": 4,
 "nbformat_minor": 2
}
