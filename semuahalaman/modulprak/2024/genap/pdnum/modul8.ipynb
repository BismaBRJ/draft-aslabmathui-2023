{
 "cells": [
  {
   "cell_type": "markdown",
   "metadata": {},
   "source": [
    "# Modul 8 Persamaan Diferensial Numerik: PDP Parabolik (persamaan panas/difusi)"
   ]
  },
  {
   "cell_type": "markdown",
   "metadata": {},
   "source": [
    "Kembali ke [Persamaan Diferensial Numerik](./pdnum2024genap.qmd)"
   ]
  },
  {
   "cell_type": "markdown",
   "metadata": {},
   "source": [
    "Bentuk umum PDP parabolik (lebih tepatnya persamaan panas atau persamaan difusi) bisa ditulis sebagai berikut:\n",
    "\n",
    "$$\\frac{\\partial u}{\\partial t} (x,t) = \\alpha^2 \\frac{\\partial^2 u}{\\partial x^2}(x,t), \\quad 0 < x < l, \\quad 0 < t < T,$$\n",
    "\n",
    "dengan syarat batas serta nilai awal\n",
    "\n",
    "$$u(0,t) = u(l,t) = 0, \\quad 0 < t < T, \\quad \\text{dan} \\quad u(x,0) = f(x), \\quad 0 \\le x \\le l$$"
   ]
  },
  {
   "cell_type": "markdown",
   "metadata": {},
   "source": [
    "*Step size* dalam variabel $x$ bisa ditulis $h = \\Delta x = l/m$ untuk suatu bilangan bulat positif $m$.\n",
    "\n",
    "*Step size* dalam variabel $t$ bisa ditulis $k = \\Delta t = T/N$ untuk suatu bilangan bulat positif $N$."
   ]
  },
  {
   "cell_type": "markdown",
   "metadata": {},
   "source": [
    "## Metode *Forward Difference* / Metode Eksplisit untuk PDP Parabolik"
   ]
  },
  {
   "cell_type": "markdown",
   "metadata": {},
   "source": [
    "### Ide utama"
   ]
  },
  {
   "cell_type": "markdown",
   "metadata": {},
   "source": [
    "Langkah-langkah metode *forward difference* bisa ditulis sebagai berikut."
   ]
  },
  {
   "cell_type": "markdown",
   "metadata": {},
   "source": [
    "1. Misalkan\n",
    "\n",
    "$$\\lambda = \\alpha^2 \\left(\\frac{k}{h^2}\\right)$$\n",
    "\n",
    "2. Susun matriks tridiagonal $A$ berukuran $(m-1) \\times (m-1)$ sebagai berikut:\n",
    "\n",
    "$$A = \\begin{bmatrix}\n",
    "    (1-2\\lambda) & \\lambda & 0 & \\cdots & \\cdots & \\cdots & \\cdots & 0 \\\\\n",
    "    \\lambda & (1-2\\lambda) & \\lambda & 0 & \\ddots & \\ddots & \\ddots & \\vdots \\\\\n",
    "    0 & \\lambda & (1-2\\lambda) & \\lambda & 0 & \\ddots & \\ddots & \\vdots \\\\\n",
    "    \\vdots & \\ddots & \\ddots & \\ddots & \\ddots & \\ddots & \\ddots & \\vdots \\\\\n",
    "    \\vdots & \\ddots & \\ddots & \\ddots & \\ddots & \\ddots & \\ddots & \\vdots \\\\\n",
    "    \\vdots & \\ddots & \\ddots & \\ddots & \\ddots & \\ddots & \\ddots & \\vdots \\\\\n",
    "    0 & \\cdots & \\cdots & \\cdots & 0 & \\lambda & (1-2\\lambda) & \\lambda \\\\\n",
    "    0 & \\cdots & \\cdots & \\cdots & \\cdots & 0 & \\lambda & (1-2\\lambda)\n",
    "\\end{bmatrix}$$\n",
    "\n",
    "3. Siapkan matriks grid $w$ berukuran $(m+1) \\times N$ untuk menyimpan $w_{i,j}$.\n",
    "\n",
    "    Isi semua dengan nol terlebih dahulu, atau setidaknya, pastikan baris pertama dan baris terakhir terisi nol semua (sesuai syarat batas).\n",
    "\n",
    "    Misalkan kolom ke-$j$, kecuali baris pertama dan baris terakhir, ditulis $\\textbf{w}^{(j)}$, yaitu\n",
    "\n",
    "    $$\\textbf{w}^{(j)} = (w_{2,j}, w_{3,j}, \\dots, w_{m,j})$$\n",
    "\n",
    "4. Isi kolom pertama $w$ berdasarkan nilai awal, yaitu\n",
    "\n",
    "    $$w_{i,1} = f(x_i)$$\n",
    "\n",
    "    atau bisa ditulis\n",
    "\n",
    "    $$\\textbf{w}^{(0)} = (f(x_2), f(x_3), \\dots, f(x_m))$$\n",
    "\n",
    "5. Untuk $j = 2, \\dots, N$, isi kolom ke-$j$ dengan perkalian matriks\n",
    "\n",
    "    $$\\textbf{w}^{(j)} = A\\textbf{w}^{(j-1)}$$"
   ]
  },
  {
   "cell_type": "markdown",
   "metadata": {},
   "source": [
    "### *Function file*"
   ]
  },
  {
   "cell_type": "code",
   "execution_count": null,
   "metadata": {},
   "outputs": [],
   "source": [
    "function [x, t, u] = explicitheat(d, f, lb, rb, xb, xu, tb, tu, dx, dt)\n",
    "  x = xb:dx:xu;\n",
    "  t = tb:dt:tu;\n",
    "  u = [];\n",
    "  nt = length(t);\n",
    "  nx = length(x);\n",
    "\n",
    "  lambd = (d * dt) / dx^2;\n",
    "\n",
    "  for j = 1:nx\n",
    "    u(j, 1) = f(x(j));\n",
    "  endfor\n",
    "\n",
    "  for n = 2:nt\n",
    "    u(1, n) = lb(t(n));\n",
    "    u(nx, n) = rb(t(n));\n",
    "  endfor\n",
    "\n",
    "  for n = 1:nt-1\n",
    "    for j = 2:nx-1\n",
    "      u(j, n+1) = (1 - 2*lambd) * u(j, n) + lambd * (u(j+1, n) + u(j-1, n));\n",
    "    endfor\n",
    "  endfor\n",
    "endfunction"
   ]
  },
  {
   "cell_type": "markdown",
   "metadata": {},
   "source": [
    "### Contoh soal"
   ]
  },
  {
   "cell_type": "markdown",
   "metadata": {},
   "source": [
    "Akan kita uji menggunakan persamaan panas:"
   ]
  },
  {
   "cell_type": "markdown",
   "metadata": {},
   "source": [
    "\\begin{align*}\n",
    "    u_t - u_{xx} &= 0, \\quad 0 < x < 1, \\quad t > 0 \\\\\n",
    "    u(0,t) &= u(1,t) = 0, \\quad t \\le 0 \\\\\n",
    "    u(x,0) &= 10x^3(1-x), \\quad 0 \\le x \\le 1 \\\\\n",
    "\\end{align*}"
   ]
  },
  {
   "cell_type": "markdown",
   "metadata": {},
   "source": [
    "Solusi eksak dari PDP tersebut adalah:\n",
    "\n",
    "\\begin{align*}\n",
    "    u(x,t) &= \\sum_{n=1}^{\\infty} c_n e^{-n^2 \\pi^2 t} \\sin \\left( n\\pi x\\right) \\\\\n",
    "    c_n &= 20 \\int_0^1 x^3 (1-x) \\sin \\left( n\\pi x \\right) dx, \\quad n = 1, 2, \\dots\n",
    "\\end{align*}\n",
    "\n",
    "Untuk keperluan komputasi, akan kita ambil 10 suku pertama dari ekspansi deret Fourier dari u(x,t)."
   ]
  },
  {
   "cell_type": "code",
   "execution_count": null,
   "metadata": {},
   "outputs": [],
   "source": [
    "d = 1;\n",
    "f = @(x) 10 * x^3 * (1-x);\n",
    "lb = rb = @(t) 0;\n",
    "xb = 0;\n",
    "xu = 1;\n",
    "tb = 0;\n",
    "tu = 1;\n",
    "dx = 0.2;\n",
    "dt = 0.02;\n",
    "\n",
    "[x, t, u] = explicitheat(d, f, lb, rb, xb, xu, tb, tu, dx, dt);\n",
    "\n",
    "for i = 1:length(x)\n",
    "  for j = 1:length(t)\n",
    "    w(i, j) = 0;\n",
    "    for n = 1:10\n",
    "      F = @(x) x.^3 .* (1-x) .* sin(n.*pi.*x);\n",
    "      cn(n) = 20 * integral(F, 0, 1);\n",
    "      w(i, j) += cn(n) * exp(-n^2*pi^2*t(j)) * sin(n*pi*x(i));\n",
    "    endfor\n",
    "  endfor\n",
    "endfor\n",
    "\n",
    "figure(1);\n",
    "mesh(x, t, u');\n",
    "xlabel(\"x\");\n",
    "ylabel(\"t\");\n",
    "zlabel(\"u\");\n",
    "\n",
    "figure(1);\n",
    "mesh(x, t, w');\n",
    "xlabel(\"x\");\n",
    "ylabel(\"t\");\n",
    "zlabel(\"w\");\n",
    "\n",
    "figure(3);\n",
    "for j = 1:length(t)\n",
    "  plot(x, u(:, j), 'k', 'linewidth', 1.5);\n",
    "  ylim([0, 1.5]);\n",
    "  title(\"Animasi solusi aproksimasi u(x, t) seiring berjalannya t\");\n",
    "  drawnow;\n",
    "  pause(0.1);\n",
    "endfor"
   ]
  },
  {
   "cell_type": "markdown",
   "metadata": {},
   "source": [
    "## Metode *Backward Difference* untuk PDP Parabolik"
   ]
  },
  {
   "cell_type": "markdown",
   "metadata": {},
   "source": [
    "### Ide utama"
   ]
  },
  {
   "cell_type": "markdown",
   "metadata": {},
   "source": []
  },
  {
   "cell_type": "markdown",
   "metadata": {},
   "source": [
    "### *Function file*"
   ]
  },
  {
   "cell_type": "code",
   "execution_count": null,
   "metadata": {},
   "outputs": [],
   "source": [
    "function [x, t, w] = ImplicitHeat(d, f, lb, rb, xb, xu, tb, tu, dx, dt)\n",
    "  x = xb:dx:xu;\n",
    "  t = tb:dt:tu;\n",
    "  nx = length(x);\n",
    "  nt = length(t);\n",
    "\n",
    "  % Nilai lambda\n",
    "  lambd = (d * dt) / (dx^2);\n",
    "\n",
    "  % Nilai awal dan syarat batas\n",
    "  for i = 1:nx\n",
    "    w(i, 1) = f(x(i));\n",
    "  endfor\n",
    "\n",
    "  for j = 2:nt\n",
    "    w(1, j) = lb(t(j));\n",
    "    w(nx, j) = rb(t(j));\n",
    "  endfor\n",
    "\n",
    "  % Penyelesaian SPL dengan faktorisasi Crout\n",
    "  l(2) = 1 + 2*lambd;\n",
    "  u(2) = -lambd / l(2);\n",
    "  for i = 3:nx-2\n",
    "    l(i) = 1 + 2*lambd + lambd*u(i-1);\n",
    "    u(i) = -lambd / l(i);\n",
    "  endfor\n",
    "  l(nx-1) = 1 + 2*lambd + lambd*u(nx-2);\n",
    "  for j = 2:nt\n",
    "    z(2) = w(2, j-1) / l(2);\n",
    "    for i = 3:nx-1\n",
    "      z(i) = (w(i, j-1) + lambd*z(i-1)) / l(i);\n",
    "    endfor\n",
    "    w(nx-1, j) = z(nx-1);\n",
    "    for i = nx-2:-1:2\n",
    "      w(i, j) = z(i) - u(i)*w(i+1, j);\n",
    "    endfor\n",
    "  endfor\n",
    "endfunction"
   ]
  },
  {
   "cell_type": "markdown",
   "metadata": {},
   "source": [
    "### Contoh soal"
   ]
  },
  {
   "cell_type": "markdown",
   "metadata": {},
   "source": [
    "Akan kita uji dengan persamaan difusi:\n",
    "\n",
    "\\begin{align*}\n",
    "    u_t - u_{xx} &= 0, \\quad 0 < x < 1, \\quad t > 0, \\\\\n",
    "    u(0,t) &= u(1,t) = 0, \\quad t > 0, \\\\\n",
    "    u(x,0) &= \\sin \\left(\\pi x\\right), \\quad 0 \\le x \\le 1\n",
    "\\end{align*}\n",
    "\n",
    "dengan solusi eksak:\n",
    "\n",
    "$$u(x,t) = e^{-\\pi^2 t} \\sin \\left(\\pi x\\right)$$\n",
    "\n",
    "Kita batasi $t$ menjadi $0 \\le t \\le 1$ dan gunakan $\\Delta x = 0.1$ dan $\\Delta k = 0.01$, di mana kondisinya tidak stabil untuk metode eksplisit."
   ]
  },
  {
   "cell_type": "code",
   "execution_count": null,
   "metadata": {},
   "outputs": [],
   "source": [
    "d = 1;\n",
    "f = @(x) sin(pi*x);\n",
    "lb = rb = @(t) 0;\n",
    "xb = 0;\n",
    "xu = 1;\n",
    "tb = 0;\n",
    "tu = 0.5;\n",
    "dx = 0.1;\n",
    "dt = 0.01;\n",
    "\n",
    "[x, t, w] = ImplicitHeat(d, f, lb, rb, xb, xu, tb, tu, dx, dt);\n",
    "\n",
    "u = @(x, t) exp(-pi^2.*t) * sin(pi.*x);\n",
    "for i = 1:length(x)\n",
    "  for j = 1:length(t)\n",
    "    ufig(i, j) = u(x(i), t(j));\n",
    "  endfor\n",
    "endfor\n",
    "\n",
    "figure(1);\n",
    "mesh(x, t, ufig');\n",
    "xlabel(\"x\");\n",
    "ylabel(\"t\");\n",
    "zlabel(\"u\");\n",
    "\n",
    "figure(2);\n",
    "mesh(x, t, w');\n",
    "xlabel(\"x\");\n",
    "ylabel(\"t\");\n",
    "zlabel(\"u\");"
   ]
  },
  {
   "cell_type": "markdown",
   "metadata": {},
   "source": [
    "## Metode Crack-Nicolson untuk PDP Parabolik"
   ]
  },
  {
   "cell_type": "markdown",
   "metadata": {},
   "source": [
    "### Ide utama"
   ]
  },
  {
   "cell_type": "markdown",
   "metadata": {},
   "source": [
    "### *Function file*"
   ]
  },
  {
   "cell_type": "code",
   "execution_count": null,
   "metadata": {},
   "outputs": [],
   "source": [
    "function [x, t, w] = CrankNicolson(d, f, lb, rb, xb, xu, tb, tu, dx, dt)\n",
    "  x = xb:dx:xu;\n",
    "  t = tb:dt:tu;\n",
    "  nx = length(x);\n",
    "  nt = length(t);\n",
    "\n",
    "  % Nilai lambda\n",
    "  lambd = (d * dt) / (dx^2);\n",
    "\n",
    "  % Nilai awal dan syarat batas\n",
    "  for i = 1:nx\n",
    "    w(i, 1) = f(x(i));\n",
    "  endfor\n",
    "\n",
    "  for j = 2:nt\n",
    "    w(1, j) = lb(t(j));\n",
    "    w(nx, j) = rb(t(j));\n",
    "  endfor\n",
    "\n",
    "  % Penyelesaian SPL menggunakan faktorisasi Crout\n",
    "  l(2) = 1 + lambd;\n",
    "  u(2) = -lambd / (2*l(2));\n",
    "  for i = 3:nx-2\n",
    "    l(i) = 1 + lambd + (lambd*u(i-1))/2;\n",
    "    u(i) = -lambd / (2*l(i));\n",
    "  endfor\n",
    "  l(nx-1) = 1 + lambd + (lambd*u(nx-2))/2;\n",
    "  for j = 2:nt\n",
    "    z(2) = ((1-lambd)*w(2, j-1) + (lambd/2)*w(3, j-1)) / l(2);\n",
    "    for i = 3:nx-1\n",
    "      z(i) = ((1-lambd)*w(i, j-1) + (lambd/2)*(w(i+1, j-1) + w(i-1, j-1) + z(i-\n",
    "      1))) / l(i);\n",
    "    endfor\n",
    "    w(nx-1, j) = z(nx-1);\n",
    "    for i = nx-2:-1:2\n",
    "      w(i, j) = z(i) - u(i)*w(i+1, j);\n",
    "    endfor\n",
    "  endfor\n",
    "endfunction"
   ]
  },
  {
   "cell_type": "markdown",
   "metadata": {},
   "source": [
    "### Contoh soal"
   ]
  },
  {
   "cell_type": "markdown",
   "metadata": {},
   "source": [
    "Sama seperti untuk *backward difference*, akan kita uji dengan persamaan difusi:\n",
    "\n",
    "\\begin{align*}\n",
    "    u_t - u_{xx} &= 0, \\quad 0 < x < 1, \\quad t > 0, \\\\\n",
    "    u(0,t) &= u(1,t) = 0, \\quad t > 0, \\\\\n",
    "    u(x,0) &= \\sin \\left(\\pi x\\right), \\quad 0 \\le x \\le 1\n",
    "\\end{align*}\n",
    "\n",
    "dengan solusi eksak:\n",
    "\n",
    "$$u(x,t) = e^{-\\pi^2 t} \\sin \\left(\\pi x\\right)$$\n",
    "\n",
    "Kita batasi $t$ menjadi $0 \\le t \\le 1$ dan gunakan $\\Delta x = 0.1$ dan $\\Delta k = 0.01$, di mana kondisinya tidak stabil untuk metode eksplisit."
   ]
  },
  {
   "cell_type": "code",
   "execution_count": null,
   "metadata": {},
   "outputs": [],
   "source": [
    "d = 1;\n",
    "f = @(x) sin(pi*x);\n",
    "lb = rb = @(t) 0;\n",
    "xb = 0;\n",
    "xu = 1;\n",
    "tb = 0;\n",
    "tu = 0.5;\n",
    "dx = 0.1;\n",
    "dt = 0.01;\n",
    "\n",
    "[x, t, w] = CrankNicolson(d, f, lb, rb, xb, xu, tb, tu, dx, dt);\n",
    "\n",
    "u = @(x, t) exp(-pi^2.*t) * sin(pi.*x);\n",
    "for i = 1:length(x)\n",
    "  for j = 1:length(t)\n",
    "    ufig(i, j) = u(x(i), t(j));\n",
    "  endfor\n",
    "endfor\n",
    "\n",
    "figure(1);\n",
    "mesh(x, t, ufig');\n",
    "xlabel(\"x\");\n",
    "ylabel(\"t\");\n",
    "zlabel(\"u\");\n",
    "\n",
    "figure(2);\n",
    "mesh(x, t, w');\n",
    "xlabel(\"x\");\n",
    "ylabel(\"t\");\n",
    "zlabel(\"u\");"
   ]
  }
 ],
 "metadata": {
  "kernelspec": {
   "display_name": "Octave",
   "language": "octave",
   "name": "octave"
  },
  "language_info": {
   "name": "octave"
  }
 },
 "nbformat": 4,
 "nbformat_minor": 2
}
