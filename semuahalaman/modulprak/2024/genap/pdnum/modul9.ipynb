{
 "cells": [
  {
   "cell_type": "markdown",
   "metadata": {},
   "source": [
    "# Modul 9 Persamaan Diferensial Numerik: PDP orde 1, persamaan transport/adveksi"
   ]
  },
  {
   "cell_type": "markdown",
   "metadata": {},
   "source": [
    "Kembali ke [Persamaan Diferensial Numerik](./pdnum2024genap.qmd)"
   ]
  },
  {
   "cell_type": "markdown",
   "metadata": {},
   "source": [
    "Ini adalah pertemuan terakhir praktikum Persamaan Diferensial Numerik tahun ini."
   ]
  },
  {
   "cell_type": "markdown",
   "metadata": {},
   "source": [
    "Di pertemuan kali ini, kita akan membahas penyelesaian secara numerik untuk PDP orde 1, lebih tepatnya \"persamaan transport\" atau juga disebut persamaan adveksi. (Selain itu, semua PDP orde 1 tergolong hiperbolik.)"
   ]
  },
  {
   "cell_type": "markdown",
   "metadata": {},
   "source": [
    "Persamaan transport adalah salah satu bentuk PDP paling sederhana. Persamaan transport bisa dituliskan sebagai berikut:"
   ]
  },
  {
   "cell_type": "markdown",
   "metadata": {},
   "source": [
    "$$u_t + du_x = 0, \\quad (x,t) \\in [0, L] \\times [0, T],$$\n",
    "$$u(x,0) = f(x), \\quad 0 \\le x \\le L.$$"
   ]
  },
  {
   "cell_type": "markdown",
   "metadata": {},
   "source": [
    "Solusi eksak dari persamaan transport bisa ditulis $u(x,t) = f(x-dt)$. Interval $x$ dan $t$ dipartisi dengan *step size* $h = \\Delta x$ dan $k = \\Delta t$ berturut-turut sehingga diperoleh \n",
    "$$x_j = (j-1) \\Delta x, \\quad j = 1, 2, \\dots, N_x = m$$\n",
    "$$t_n = (n-1) \\Delta t, \\quad n = 1, 2, \\dots, N_t = N$$\n",
    "Dari sini diperoleh suau *grid* dengan titik-titik $(x_j, t_n)$. Untuk nilai hampiran di titik-titik grid tersebut, bisa digunakan notasi $u_j^n \\equiv u(x_j, t_n)$ ataupun $w_{j,n} \\equiv u(x_j, t_n)$.\n",
    "\n",
    "Berikut beberapa metode untuk mengaproksimasi persamaan transport:\n",
    "\n",
    "* Metode Courant-Isaacson-Rees (FTBS, upwind)\n",
    "\n",
    "* Metode Richardson (FTCS)\n",
    "\n",
    "* Metode Lax"
   ]
  },
  {
   "cell_type": "markdown",
   "metadata": {},
   "source": [
    "## Metode Courant-Isaacson-Rees"
   ]
  },
  {
   "cell_type": "markdown",
   "metadata": {},
   "source": [
    "Metode ini adalah metode FTBS *(Forward Time Backward Space)* yang juga dikenal dengan metode *upwind* dengan akurasi $O(\\Delta t, \\Delta x)$. Metode ini memiliki persamaan beda hingga\n",
    "$$\\frac{u_{j}^{n+1} - u_j^n}{\\Delta t} + d\\frac{u_j^n - u_{j-1}^n}{\\Delta x} = 0$$\n",
    "\n",
    "Jika dituliskan dalam *term* $u_j^{n+1}$, yaitu dalam bentuk $u_j^{n+1} = \\dots$ maka bentuknya menjadi\n",
    "$$u_j^{n+1} = (1-C)u_j^n + Cu_{j-1}^n, \\quad C \\equiv \\frac{d\\Delta t}{\\Delta x}$$\n",
    "Metode ini membutuhkan syarat batas kiri."
   ]
  },
  {
   "cell_type": "markdown",
   "metadata": {},
   "source": [
    "### *Function file*"
   ]
  },
  {
   "cell_type": "markdown",
   "metadata": {},
   "source": [
    "Berikut kode algoritma metode Courant-Isaacson-Rees menggunakan Octave."
   ]
  },
  {
   "cell_type": "code",
   "execution_count": null,
   "metadata": {},
   "outputs": [],
   "source": [
    "function [x, t, u] = courant_i_r(d, f, lb, xb, xu, tb, tu, dx, dt)\n",
    "  t = tb : dt : tu;\n",
    "  x = xb : dx : du;\n",
    "  u = [];\n",
    "  nx = length(x);\n",
    "  nt = length(t);\n",
    "\n",
    "  for j = 1 : nx\n",
    "    u(j, 1) = f(x(j));\n",
    "  endfor\n",
    "\n",
    "  for n = 1 : nt\n",
    "    u(1, n) = lb(t(n));\n",
    "  endfor\n",
    "\n",
    "  C = d * dt / dx;\n",
    "  for n = 1 : (nt - 1)\n",
    "    for j = 2 : nx\n",
    "      u(j, n+1) = (1-C) * u(j, n) + C * u(j-1, n);\n",
    "    endfor\n",
    "  endfor\n",
    "endfunction"
   ]
  },
  {
   "cell_type": "markdown",
   "metadata": {},
   "source": [
    "### Contoh penggunaan"
   ]
  },
  {
   "cell_type": "markdown",
   "metadata": {},
   "source": [
    "Misal diberikan soal berikut:"
   ]
  },
  {
   "cell_type": "markdown",
   "metadata": {},
   "source": [
    "$$u_t + u_x = 0, \\quad 0 \\le x \\le 1, \\quad 0 \\le t \\le 1$$\n",
    "$$u(x,0) = \\sin(8 \\pi x), \\quad 0 \\le x \\le 1$$\n",
    "$$u(0,t) = \\sin(-8 \\pi t), \\quad u(1,t) = \\sin(-8 \\pi (1-t)), \\quad 0 \\le t \\le 1$$\n",
    "$$\\Delta x = 0.025, \\quad \\Delta t = 0.02$$"
   ]
  },
  {
   "cell_type": "markdown",
   "metadata": {},
   "source": [
    "Perhatikan bahwa $d=1$."
   ]
  },
  {
   "cell_type": "markdown",
   "metadata": {},
   "source": [
    "Dalam membandingkan dengan solusi eksak, sulit jika kita menumpuk plot seperti biasa. Kita akan menggunakan *syntax* `figure(n)` pada Octave untuk membuat lebih dari satu jendela plot untuk kebutuhannya masing-masing. Variabel `sol` akan digunakan untuk menyimpan solusi eksak dari persamaan transport."
   ]
  },
  {
   "cell_type": "code",
   "execution_count": null,
   "metadata": {},
   "outputs": [],
   "source": [
    "clc;\n",
    "clear all;\n",
    "close all;\n",
    "format long;\n",
    "\n",
    "d = 1;\n",
    "f = @(x) sin(8*pi*x);\n",
    "lb = @(t) sin(-8*pi*t);\n",
    "xb = 0;\n",
    "xu = 1;\n",
    "tb = 0;\n",
    "tu = 1;\n",
    "dx = 0.025;\n",
    "dt = 0.02;\n",
    "\n",
    "[x, t, u] = courant_i_s(d, f, lb, xb, xu, tb, tu, dx, dt);\n",
    "\n",
    "sol = @(x,t) sin(8*pi*(x-t));\n",
    "\n",
    "for j = 1 : length(x)\n",
    "  for n = 1 : length(t)\n",
    "    y(j, n) = sol(x(j), t(n));\n",
    "  endfor\n",
    "endfor\n",
    "\n",
    "u1 = @(x) = sin(8*pi*(x-1));\n",
    "\n",
    "figure(1);\n",
    "hold on;\n",
    "mesh(x, t, u');\n",
    "xlabel('x');\n",
    "ylabel('t');\n",
    "zlabel('u');\n",
    "title(\"Solusi Metode Courant-Isaacson-Rees\");\n",
    "\n",
    "figure(2);\n",
    "hold on;\n",
    "mesh(x, t, y');\n",
    "xlabel('x');\n",
    "ylabel('t');\n",
    "zlabel('u');\n",
    "title(\"Solusi Eksak\")\n",
    "\n",
    "figure(3);\n",
    "hold on;\n",
    "fplot(u1, [0, 1], 'k');\n",
    "plot(x, u(:, length(t)), 'r');\n",
    "legend(\"Eksak\", \"Metode Courant\");\n",
    "title(\"Penampang pada t=1\");"
   ]
  },
  {
   "cell_type": "markdown",
   "metadata": {},
   "source": [
    "## Metode Richardson (FTCS)"
   ]
  },
  {
   "cell_type": "markdown",
   "metadata": {},
   "source": [
    "Metode ini adalah metode FTCS (Forward Time Center Space) dengan akurasi $O(\\Delta t, \\Delta x^2)$. Metode ini memiliki persamaan beda hingga\n",
    "\n",
    "$$\\frac{u_j^{n+1} - u_j^n}{\\Delta t} + d\\frac{u_{j+1}^n - u_{j-1}^n}{2 \\Delta x} = 0$$\n",
    "\n",
    "Jika dituliskan dalam *term* $u_j^{n+1}$ menjadi\n",
    "\n",
    "$$u_j^{n+1} = u_j^n + C(u_{j+1}^n - u_{j-1}^n), \\quad C \\equiv \\frac{d \\Delta t}{2\\Delta x}$$"
   ]
  },
  {
   "cell_type": "markdown",
   "metadata": {},
   "source": [
    "Metode ini membutuhkan syarat batas kiri dan kanan."
   ]
  },
  {
   "cell_type": "markdown",
   "metadata": {},
   "source": [
    "Perlu dicatat, metode ini tidak stabil; hasilnya kemungkinan akan jelek."
   ]
  },
  {
   "cell_type": "markdown",
   "metadata": {},
   "source": [
    "### *Function file*"
   ]
  },
  {
   "cell_type": "markdown",
   "metadata": {},
   "source": [
    "Berikut kode algoritma metode Richardson menggunakan Octave."
   ]
  },
  {
   "cell_type": "code",
   "execution_count": null,
   "metadata": {},
   "outputs": [],
   "source": [
    "function [x, t, u] = richardson(d, f, lb, rb, xb, xu, tb, tu, dx, dt)\n",
    "  t = tb : dt : tu;\n",
    "  x = xb : dx : xu;\n",
    "  nt = length(t);\n",
    "  nx = length(x);\n",
    "  u = [];\n",
    "\n",
    "  for j = 1 : nx\n",
    "    u(j, 1) = f(x(j));\n",
    "  endfor\n",
    "\n",
    "  for n = 1 : nt\n",
    "    u(1, n) = lb(t(n));\n",
    "    u(nx, n) = rb(t(n));\n",
    "  endfor\n",
    "\n",
    "  C = (d * dt) / (2 * dx);\n",
    "  for n = 1 : (nt - 1)\n",
    "    for j = 2 : (nx - 1)\n",
    "      u(j, n+1) = u(j, n) - C * (u(j+1, n) - u(j-1, n));\n",
    "    endfor\n",
    "  endfor\n",
    "endfunction"
   ]
  },
  {
   "cell_type": "markdown",
   "metadata": {},
   "source": [
    "### Contoh penggunaan"
   ]
  },
  {
   "cell_type": "markdown",
   "metadata": {},
   "source": [
    "Dengan soal yang sama,"
   ]
  },
  {
   "cell_type": "markdown",
   "metadata": {},
   "source": [
    "$$u_t + u_x = 0, \\quad 0 \\le x \\le 1, \\quad 0 \\le t \\le 1$$\n",
    "$$u(x,0) = \\sin(8 \\pi x), \\quad 0 \\le x \\le 1$$\n",
    "$$u(0,t) = \\sin(-8 \\pi t), \\quad u(1,t) = \\sin(-8 \\pi (1-t)), \\quad 0 \\le t \\le 1$$\n",
    "$$\\Delta x = 0.025, \\quad \\Delta t = 0.02$$"
   ]
  },
  {
   "cell_type": "code",
   "execution_count": null,
   "metadata": {},
   "outputs": [],
   "source": [
    "clc;\n",
    "clear all;\n",
    "close all;\n",
    "format long;\n",
    "\n",
    "d = 1;\n",
    "f = @(x) sin(8*pi*x);\n",
    "lb = @(t) sin(-8*pi*t);\n",
    "rb = @(t) sin(-8*pi*(1-t));\n",
    "xb = 0;\n",
    "xu = 1;\n",
    "tb = 0;\n",
    "tu = 1;\n",
    "dx = 0.025;\n",
    "dt = 0.02;\n",
    "\n",
    "[x, t, u] = richardson(d, f, lb, rb, xb, xu, tb, tu, dx, dt);\n",
    "\n",
    "sol = @(x,t) sin(8*pi*(x-t));\n",
    "\n",
    "for j = 1 : length(x)\n",
    "  for n = 1 : length(t)\n",
    "    y(j, n) = sol(x(j), t(n));\n",
    "  endfor\n",
    "endfor\n",
    "\n",
    "u1 = @(x) = sin(8*pi*(x-1));\n",
    "\n",
    "figure(1);\n",
    "hold on;\n",
    "mesh(x, t, u');\n",
    "xlabel('x');\n",
    "ylabel('t');\n",
    "zlabel('u');\n",
    "title(\"Solusi Metode Richardson\");\n",
    "\n",
    "figure(2);\n",
    "hold on;\n",
    "mesh(x, t, y');\n",
    "xlabel('x');\n",
    "ylabel('t');\n",
    "zlabel('u');\n",
    "title(\"Solusi Eksak\")\n",
    "\n",
    "figure(3);\n",
    "hold on;\n",
    "fplot(u1, [0, 1], 'k');\n",
    "plot(x, u(:, length(t)), 'r');\n",
    "legend(\"Eksak\", \"Metode Richardson\");\n",
    "title(\"Penampang pada t=1\");"
   ]
  },
  {
   "cell_type": "markdown",
   "metadata": {},
   "source": [
    "Jika diperhatikan, terlihat bahwa nilai u(x, 0) di figure 1 adalah 0, sehingga kalian mungkin akan mengira bahwa metodenya salah atau typo. Namun perhatikan sumbu u pada figure 1 dan 3. Nilainya mempunyai range yang berkisar [−10000, 10000]. Hal ini menunjukkan bahwa solusi metode Richardson akan tidak stabil. Pada faktanya, untuk persamaan transport, metode ini selalu tidak stabil. Kita dapat membatasi range dengan menambahkan zlim([-1, 1]); dan ylim([-1, 1]); berturut-turut pada figure(1); dan figure(3);."
   ]
  },
  {
   "cell_type": "markdown",
   "metadata": {},
   "source": [
    "## Metode Lax"
   ]
  },
  {
   "cell_type": "markdown",
   "metadata": {},
   "source": [
    "Metode ini adalah perbaikan dari metode Richardson, mengganti $u_j^n$ dengan $\\frac{1}{2} (u_{j+1}^n + u_{j-1}^n)$, sehingga persamaan bedanya menjadi\n",
    "\n",
    "$$u_j^{n+1} = \\frac{1}{2} (u_{j+1}^n + u_{j-1}^n) + C(u_{j+1}^n - u_{j-1}^n), \\quad C \\equiv \\frac{d \\Delta t}{2 \\Delta x}$$\n",
    "\n",
    "Metode ini membutuhkan syarat batas kiri dan kanan."
   ]
  },
  {
   "cell_type": "markdown",
   "metadata": {},
   "source": [
    "### *Function file*"
   ]
  },
  {
   "cell_type": "markdown",
   "metadata": {},
   "source": [
    "Berikut kode algoritma metode Lax menggunakan Octave."
   ]
  },
  {
   "cell_type": "code",
   "execution_count": null,
   "metadata": {},
   "outputs": [],
   "source": [
    "function [x, t, u] = lax(d, f, lb, rb, xb, xu, tb, tu, dx, dt)\n",
    "  t = tb : dt : tu;\n",
    "  x = xb : dx : du;\n",
    "  nt = length(t);\n",
    "  nx = length(x);\n",
    "  u = [];\n",
    "\n",
    "  for j = 1 : nx\n",
    "    u(j, 1) = f(x(j));\n",
    "  endfor\n",
    "\n",
    "  for n = 1 : nt\n",
    "    u(1, n) = lb(t(n));\n",
    "    u(nx, n) = rb(t(n));\n",
    "  endfor\n",
    "  \n",
    "  C = (d * dt) / (2 * dx);\n",
    "  for n = 1 : (nt - 1)\n",
    "    for j = 2 : (nx - 1)\n",
    "      u(j, n+1) = (u(j+1, n) + u(j-1, n)) / 2 - C * (u(j+1, n) - u(j-1, n));\n",
    "    endfor\n",
    "  endfor\n",
    "endfunction"
   ]
  },
  {
   "cell_type": "markdown",
   "metadata": {},
   "source": [
    "### Contoh penggunaan"
   ]
  },
  {
   "cell_type": "markdown",
   "metadata": {},
   "source": [
    "Dengan soal yang sama,"
   ]
  },
  {
   "cell_type": "markdown",
   "metadata": {},
   "source": [
    "$$u_t + u_x = 0, \\quad 0 \\le x \\le 1, \\quad 0 \\le t \\le 1$$\n",
    "$$u(x,0) = \\sin(8 \\pi x), \\quad 0 \\le x \\le 1$$\n",
    "$$u(0,t) = \\sin(-8 \\pi t), \\quad u(1,t) = \\sin(-8 \\pi (1-t)), \\quad 0 \\le t \\le 1$$\n",
    "$$\\Delta x = 0.025, \\quad \\Delta t = 0.02$$"
   ]
  },
  {
   "cell_type": "code",
   "execution_count": null,
   "metadata": {},
   "outputs": [],
   "source": [
    "clc;\n",
    "clear all;\n",
    "close all;\n",
    "format long;\n",
    "\n",
    "d = 1;\n",
    "f = @(x) sin(8*pi*x);\n",
    "lb = @(t) sin(-8*pi*t);\n",
    "rb = @(t) sin(-8*pi*(1-t));\n",
    "xb = 0;\n",
    "xu = 1;\n",
    "tb = 0;\n",
    "tu = 1;\n",
    "dx = 0.025;\n",
    "dt = 0.02;\n",
    "\n",
    "[x, t, u] = lax(d, f, lb, rb, xb, xu, tb, tu, dx, dt);\n",
    "\n",
    "sol = @(x,t) sin(8*pi*(x-t));\n",
    "\n",
    "for j = 1 : length(x)\n",
    "  for n = 1 : length(t)\n",
    "    y(j, n) = sol(x(j), t(n));\n",
    "  endfor\n",
    "endfor\n",
    "\n",
    "u1 = @(x) = sin(8*pi*(x-1));\n",
    "\n",
    "figure(1);\n",
    "hold on;\n",
    "mesh(x, t, u');\n",
    "xlabel('x');\n",
    "ylabel('t');\n",
    "zlabel('u');\n",
    "title(\"Solusi Metode Lax\");\n",
    "\n",
    "figure(2);\n",
    "hold on;\n",
    "mesh(x, t, y');\n",
    "xlabel('x');\n",
    "ylabel('t');\n",
    "zlabel('u');\n",
    "title(\"Solusi Eksak\")\n",
    "\n",
    "figure(3);\n",
    "hold on;\n",
    "fplot(u1, [0, 1], 'k');\n",
    "plot(x, u(:, length(t)), 'r');\n",
    "legend(\"Eksak\", \"Metode Lax\");\n",
    "title(\"Penampang pada t=1\");"
   ]
  },
  {
   "cell_type": "markdown",
   "metadata": {},
   "source": []
  }
 ],
 "metadata": {
  "kernelspec": {
   "display_name": "Octave",
   "language": "octave",
   "name": "octave"
  },
  "language_info": {
   "name": "octave"
  }
 },
 "nbformat": 4,
 "nbformat_minor": 2
}
