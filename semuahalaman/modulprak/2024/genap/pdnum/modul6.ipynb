{
 "cells": [
  {
   "cell_type": "markdown",
   "metadata": {},
   "source": [
    "# Modul 6 Persamaan Diferensial Numerik: Masalah Nilai Batas untuk PDB"
   ]
  },
  {
   "cell_type": "markdown",
   "metadata": {},
   "source": [
    "Kembali ke [Persamaan Diferensial Numerik](./pdnum2024genap.qmd)"
   ]
  },
  {
   "cell_type": "markdown",
   "metadata": {},
   "source": [
    "Di modul ini, kita akan membahas metode-metode untuk masalah nilai batas untuk PDB, yaitu:\n",
    "\n",
    "1. *Linear Shooting*\n",
    "2. *Nonlinear Shotting*\n",
    "3. *Linear Finite Difference*\n",
    "4. *Nonlinear Finite Difference*"
   ]
  },
  {
   "cell_type": "markdown",
   "metadata": {},
   "source": [
    "## Review: Runge-Kutta orde 4 untuk sistem"
   ]
  },
  {
   "cell_type": "markdown",
   "metadata": {},
   "source": [
    "*Shooting method* untuk masalah nilai batas melibatkan sistem persamaan diferensial. Kita akan menggunakan kode metode Runge-Kutta orde 4 untuk sistem dari modul sebelumnya:"
   ]
  },
  {
   "cell_type": "code",
   "execution_count": null,
   "metadata": {},
   "outputs": [],
   "source": [
    "function [t, w] = rko4_sysm(cell_f, a, b, N, alphas)\n",
    "  m = length(cell_f);\n",
    "\n",
    "  h = (b - a) / N;\n",
    "  t = zeros(N + 1, 1);\n",
    "  w = zeros(m, N + 1);\n",
    "  t(1) = a;\n",
    "  w(:, 1) = alphas;\n",
    "\n",
    "  k1 = zeros(m, 1);\n",
    "  k2 = zeros(m, 1);\n",
    "  k3 = zeros(m, 1);\n",
    "  k4 = zeros(m, 1);\n",
    "  for i = 1 : N\n",
    "    t(i + 1) = t(i) + h;\n",
    "\n",
    "    for j = 1 : m\n",
    "      k1(j) = h * cell_f{j}(t(i), w(:, i));\n",
    "    endfor\n",
    "\n",
    "    for j = 1 : m\n",
    "      k2(j) = h * cell_f{j}(t(i) + (h / 2), w(:, i) + (k1 / 2));\n",
    "    endfor\n",
    "\n",
    "    for j = 1 : m\n",
    "      k3(j) = h * cell_f{j}(t(i) + (h / 2), w(:, i) + (k2 / 2));\n",
    "    endfor\n",
    "\n",
    "    for j = 1 : m\n",
    "      k4(j) = h * cell_f{j}(t(i + 1), w(:, i) + k3);\n",
    "    endfor\n",
    "\n",
    "    for j = 1 : m\n",
    "      w(j, i + 1) = w(j, i) + (k1(j) + 2 * k2(j) + 2 * k3(j) + k4(j)) / 6;\n",
    "    endfor\n",
    "  endfor\n",
    "endfunction"
   ]
  },
  {
   "cell_type": "markdown",
   "metadata": {},
   "source": [
    "Sebenarnya tidak harus metode Runge-Kutta orde 4 untuk sistem. Boleh ditukar dengan metode lainnya untuk sistem, misalnya metode Adams predictor-corrector orde 4 untuk sistem."
   ]
  },
  {
   "cell_type": "markdown",
   "metadata": {},
   "source": [
    "## *Linear Shooting*"
   ]
  },
  {
   "cell_type": "markdown",
   "metadata": {},
   "source": [
    "### Bentuk umum, ide utama, penyederhanaan"
   ]
  },
  {
   "cell_type": "markdown",
   "metadata": {},
   "source": [
    "Linear Shooting merupakan metode untuk menyelesaikan sejenis masalah nilai batas untuk PDB, yaitu yang berbentuk:\n",
    "\n",
    "$y'' = f\\left(x,y,y'\\right) = p(x)y' + q(x)y + r(x), \\;a\\leq x\\leq b$\n",
    "\n",
    "$y(a)=\\alpha, \\;y(b)=\\beta$\n",
    "\n",
    "dengan\n",
    "\n",
    "- $p(x), q(x), r(x)$ adalah fungsi kontinu dalam $x$\n",
    "- $q(x) > 0$ pada $[a,b]$ agar dijamin ada solusi unik"
   ]
  },
  {
   "cell_type": "markdown",
   "metadata": {},
   "source": [
    "Cara penyelesaiannya:"
   ]
  },
  {
   "cell_type": "markdown",
   "metadata": {},
   "source": [
    "1. Selesaikan MNA PDB orde 2 berikut, solusinya disebut $y_1 \\left(x\\right)$:\n",
    "\n",
    "$$y'' = p(x)y' + q(x)y + r(x), \\quad a \\le x \\le b, \\quad y\\left(a\\right) = \\alpha, \\quad y'\\left(a\\right) = 0$$\n",
    "\n",
    "2. Selesaikan MNA PDB orde 2 berikut, solusinya disebut $y_2 \\left(x\\right)$\n",
    "\n",
    "$$y'' = p(x)y' + q(x)y, \\quad a \\le x \\le b, \\quad y\\left(a\\right) = 0, \\quad y'\\left(a\\right) = 1$$\n",
    "\n",
    "3. Solusi akhirnya adalah\n",
    "\n",
    "$$y\\left(x\\right) = y_1 \\left(x\\right) + \\frac{\\beta - y_1 \\left(b\\right)}{y_2 \\left(b\\right)} y_2 \\left(x\\right)$$"
   ]
  },
  {
   "cell_type": "markdown",
   "metadata": {},
   "source": [
    "Kita bisa menuliskan kedua MNA PDB orde 2 tersebut masing-masing sebagai sistem PDB orde 1, seperti biasa dengan permisalan $u_1(x) = y(x)$ dan $u_2(x) = y'(x)$.\n",
    "\n",
    "Sehingga, langkahnya menjadi:"
   ]
  },
  {
   "cell_type": "markdown",
   "metadata": {},
   "source": [
    "1. Selesaikan sistem PDB orde 1 berikut. Kemudian solusi $u_1(x)$ disebut $y_1(x)$ dan solusi $u_2(x)$ disebut $y_1'(x)$.\n",
    "\n",
    "\\begin{aligned}\n",
    "u_1'(x) &= u_2(x) \\\\\n",
    "u_2'(x) &= p(x) u_2(x) + q(x) u_1(x) + r(x) \\\\\n",
    "u_1 (a) &= \\alpha, \\quad u_2 (a) = 0\n",
    "\\end{aligned}\n",
    "\n",
    "2. Selesaikan sistem PDB orde 1 berikut. Kemudian solusi $u_1(x)$ disebut $y_2(x)$ dan solusi $u_2(x)$ disebut $y_2'(x)$.\n",
    "\n",
    "\\begin{aligned}\n",
    "u_1'(x) &= u_2(x) \\\\\n",
    "u_2'(x) &= p(x)u_2(x) + q(x)u_1(x) \\\\\n",
    "u_1 (a) &= 0, \\quad u_2(a) = 1\n",
    "\\end{aligned}\n",
    "\n",
    "3. Solusi akhirnya adalah\n",
    "\n",
    "$$y(x) = y_1(x) + \\frac{\\beta - y_1(b)}{y_2(b)} y_2(x)$$\n",
    "\n",
    "Kalau perlu,\n",
    "\n",
    "$$y'(x) = y_1'(x) + \\frac{\\beta - y_1(b)}{y_2(b)} y_2'(x)$$"
   ]
  },
  {
   "cell_type": "markdown",
   "metadata": {},
   "source": [
    "### Function file (dari pseudocode di buku)"
   ]
  },
  {
   "cell_type": "code",
   "execution_count": null,
   "metadata": {},
   "outputs": [],
   "source": [
    "function [x_i, w_1i, w_2i] = linshoot_pseudocode(p, q, r, a, b, n, alpha, beta)\n",
    "  h = (b - a)/n;\n",
    "  u = [alpha ; 0];\n",
    "  v = [0 ; 1];\n",
    "  x_i = w_1i = w_2i = [];\n",
    "  for i = 1:n\n",
    "    x = a + (i-1)*h;\n",
    "\n",
    "    k_11 = h * u(2,i);\n",
    "    k_12 = h * (p(x)*u(2,i) + q(x)*u(1,i) + r(x));\n",
    "\n",
    "    k_21 = h * (u(2,i)+(k_12/2));\n",
    "    k_22 = h * (p(x+(h/2))*(u(2,i)+(k_12/2)) + q(x+(h/2))*(u(1,i)+(k_11/2)) + r(x+(h/2)));\n",
    "\n",
    "    k_31 = h * (u(2,i)+(k_22/2));\n",
    "    k_32 = h * (p(x+(h/2))*(u(2,i)+(k_22/2)) + q(x+(h/2))*(u(1,i)+(k_21/2)) + r(x+(h/2)));\n",
    "\n",
    "    k_41 = h * (u(2,i)+k_32);\n",
    "    k_42 = h * (p(x+h)*(u(2,i)+k_32) + q(x+h)*(u(1,i)+k_31) + r(x+h));\n",
    "\n",
    "    u(1,i+1) = u(1,i) + ((k_11 + 2*k_21 + 2*k_31 + k_41)/6);\n",
    "    u(2,i+1) = u(2,i) + ((k_12 + 2*k_22 + 2*k_32 + k_42)/6);\n",
    "\n",
    "    kp_11 = h * v(2,i);\n",
    "    kp_12 = h * (p(x)*v(2,i) + q(x)*v(1,i));\n",
    "\n",
    "    kp_21 = h * (v(2,i) + (kp_12/2));\n",
    "    kp_22 = h * (p(x+(h/2))*(v(2,i)+(kp_12/2)) + q(x+(h/2))*(v(1,i)+(kp_11/2)));\n",
    "\n",
    "    kp_31 = h * (v(2,i)+(kp_22/2));\n",
    "    kp_32 = h * (p(x+(h/2))*(v(2,i)+(kp_22/2)) + q(x+(h/2))*(v(1,i)+(kp_21/2)));\n",
    "\n",
    "    kp_41 = h * (v(2,i)+kp_32);\n",
    "    kp_42 = h * (p(x+h)*(v(2,i)+kp_32) + q(x+h)*(v(1,i)+kp_31));\n",
    "\n",
    "    v(1,i+1) = v(1,i) + (kp_11 + 2*kp_21 + 2*kp_31 + kp_41)/6;\n",
    "    v(2,i+1) = v(2,i) + (kp_12 + 2*kp_22 + 2*kp_32 + kp_42)/6;\n",
    "  endfor\n",
    "\n",
    "  w = [alpha ; ((beta - u(1,(n+1))) / v(1,(n+1)))];\n",
    "  x_i(1) = a;\n",
    "  w_1i(1) = w(1,1);\n",
    "  w_2i(1) = w(2,1);\n",
    "\n",
    "  for i = 2:(n+1)\n",
    "    W1 = u(1,i) + w(2,1)*v(1,i);\n",
    "    W2 = u(2,i) + w(2,1)*v(2,i);\n",
    "    x = a + (i-1)*h;\n",
    "    x_i(i) = x;\n",
    "    w_1i(i) = W1;\n",
    "    w_2i(i) = W2;\n",
    "  endfor\n",
    "endfunction"
   ]
  },
  {
   "cell_type": "markdown",
   "metadata": {},
   "source": [
    "### Function file (lebih sederhana)"
   ]
  },
  {
   "cell_type": "code",
   "execution_count": null,
   "metadata": {},
   "outputs": [],
   "source": [
    "function [x, w1, w2] = linear_shooting(p, q, r, a, b, N, alph, bet)\n",
    "  % sistem PDB yang pertama\n",
    "  u1_aksen = @(x, u) u(2);\n",
    "  u2_aksen = @(x, u) p(x)*u(2) + q(x)*u(1) + r(x);\n",
    "  [x, w_pers1] = rko4_sysm({u1_aksen, u2_aksen}, a, b, N, [alph, 0]);\n",
    "  y1_b = w_pers1(1, N+1);\n",
    "  \n",
    "  % sistem PDB yang kedua\n",
    "  u1_aksen = @(x, u) u(2);\n",
    "  u2_aksen = @(x, u) p(x)*u(2) + q(x)*u(1);\n",
    "  [x, w_pers2] = rko4_sysm({u1_aksen, u2_aksen}, a, b, N, [0, 1]);\n",
    "  y2_b = w_pers2(1, N+1);\n",
    "  \n",
    "  % solusi akhir (superposisi)\n",
    "  w_akhir = w_pers1 + (bet - y1_b)/(y2_b) * w_pers2;\n",
    "  % dipisah jadi w1i (aproksimasi y(x)) dan w2i (aproksimasi y'(x))\n",
    "  [w1, w2] = w_akhir';\n",
    "endfunction"
   ]
  },
  {
   "cell_type": "markdown",
   "metadata": {},
   "source": [
    "### Contoh Linear Shooting\n",
    "\n",
    "$y'' = -\\frac{2}{x}y' + \\frac{2}{x^2}y + \\frac{\\sin(\\ln(x))}{x^2}, \\; 1\\leq x\\leq 2$\n",
    "\n",
    "$y(1)=1,\\; y(2)=2$\n",
    "\n",
    "dengan $N=10$\n",
    "\n",
    "dan solusi eksak:\n",
    "\n",
    "$y=c_1x+\\frac{c_2}{x^2} - \\frac{3}{10}\\sin(\\ln(x))-\\frac{1}{10}cos(\\ln(x))$\n",
    "\n",
    "$c_2 = \\frac{1}{70}(8-12\\sin(\\ln(2)) - 4\\cos(\\ln(2)))$\n",
    "\n",
    "$c_1 = \\frac{11}{10}-c_2$"
   ]
  },
  {
   "cell_type": "markdown",
   "metadata": {},
   "source": [
    "Berikut code script file untuk permasalahan di atas menggunakan metode linear shooting:"
   ]
  },
  {
   "cell_type": "code",
   "execution_count": null,
   "metadata": {},
   "outputs": [],
   "source": [
    "p = @(x) (-2*(x^(-1)));\n",
    "q = @(x) (2*(x^(-2)));\n",
    "r = @(x) (sin(log(x))*(x^(-2)));\n",
    "a = 1;\n",
    "b = 2;\n",
    "N = 10;\n",
    "alph = 1;\n",
    "bet = 2;\n",
    "\n",
    "[xi, w1i, w2i] = linear_shooting(p, q, r, a, b, N, alph, bet);\n",
    "\n",
    "c2 = (8-12*sin(log(2)) - 4*cos(log(2)))/70;\n",
    "c1 = (11/10) - c2;\n",
    "sln = @(x) (c1*x + (c2*x^(-2)) - (3/10)*sin(log(x)) - (1/10)*cos(log(x)));\n",
    "w = [];\n",
    "for i = 1:length(xi)\n",
    "  w(i) = sln(xi(i));\n",
    "endfor\n",
    "\n",
    "[xi', w1i', w']\n",
    "\n",
    "hold on;\n",
    "fplot(sln, [1,2], 'k');\n",
    "scatter(xi, w1i, '-r');\n",
    "legend('Eksak', 'Aproksimasi');\n",
    "legend('location', 'northwest');"
   ]
  },
  {
   "cell_type": "markdown",
   "metadata": {},
   "source": [
    "Jika kita run script file tersebut, maka program akan mengeluarkan dua macam output, yaitu tabel serta plot perbandingan solusi eksak dan aproksimasi seperti di bawah ini:\n",
    "\n",
    "![image.png](attachment:image.png)\n",
    "\n",
    "![image-2.png](attachment:image-2.png)"
   ]
  },
  {
   "cell_type": "markdown",
   "metadata": {},
   "source": [
    "## *Nonlinear Shooting*"
   ]
  },
  {
   "cell_type": "markdown",
   "metadata": {},
   "source": [
    "### Bentuk umum, ide utama"
   ]
  },
  {
   "cell_type": "markdown",
   "metadata": {},
   "source": [
    "Nonlinear Shooting digunakan untuk menyelesaikan masalah PD berbentuk:\n",
    "\n",
    "$y'' = f(x, y, y'), \\; a\\leq x \\leq b$\n",
    "\n",
    "$y(a)=\\alpha, \\; y(b)=\\beta$\n",
    "\n",
    "dengan $f$ boleh berupa fungsi linier maupun nonlinier"
   ]
  },
  {
   "cell_type": "markdown",
   "metadata": {},
   "source": [
    "Cara penyelesaiannya:\n",
    "\n",
    "1. Tentukan toleransi $\\varepsilon$, dan pilih tebakan awal $t_0$ (yaitu $t_k$ sebelum iterasi pertama, yaitu dengan $k=0$). Kalau bingung, disarankan\n",
    "\n",
    "$$t_0 = \\frac{\\beta - \\alpha}{b-a}$$\n",
    "\n",
    "2. Selesaikan MNA PDB orde 2 berikut, misalkan solusinya disebut $w(x,t_k)$:\n",
    "\n",
    "$$y'' = f(x,y,y'), \\quad a \\le x \\le b, \\quad y(a) = \\alpha, \\quad y'(a) = t_k$$\n",
    "\n",
    "3. Periksa apakah $\\left|w(x,t_k) - \\beta\\right| \\le \\varepsilon$.\n",
    "\n",
    "    - Kalau iya, selesai; solusi akhirnya adalah $y(x) = w(x,t_k)$.\n",
    "    - Kalau tidak, peroleh tebakan baru untuk $t_i$ (misalnya dengan metode secant atau metode Newton), lalu kembali ke langkah 2."
   ]
  },
  {
   "cell_type": "markdown",
   "metadata": {},
   "source": [
    "Seperti biasa, kita bisa misalkan $u_1(x) = y(x)$ dan $u_2(x) = y'(x)$ agar MNA PDB orde 2 menjadi sistem PDB orde 1."
   ]
  },
  {
   "cell_type": "markdown",
   "metadata": {},
   "source": [
    "Cara penyelesaiannya menjadi:\n",
    "\n",
    "1. Tentukan toleransi $\\varepsilon$, dan pilih tebakan awal $t_0$ (yaitu $t_k$ sebelum iterasi pertama, yaitu dengan $k=0$). Kalau bingung, disarankan\n",
    "\n",
    "$$t_0 = \\frac{\\beta - \\alpha}{b-a}$$\n",
    "\n",
    "2. Selesaikan sistem PDB orde 1 berikut. Kemudian $u_1(x)$ disebut $w(x,t_k)$ dan $u_2(x)$ disebut $w'(x,t_k)$.\n",
    "\n",
    "\\begin{aligned}\n",
    "u_1'(x) &= u_2(x) \\\\\n",
    "u_2'(x) &= f(x,u_1,u_2) \\\\\n",
    "y(a) &= \\alpha, \\quad y'(a) = t_k\n",
    "\\end{aligned}\n",
    "\n",
    "3. Periksa apakah $\\left|w(x,t_k) - \\beta\\right| \\le \\varepsilon$.\n",
    "\n",
    "    - Kalau iya, selesai; solusi akhirnya adalah $y(x) = w(x,t_k)$.\n",
    "    - Kalau tidak, peroleh tebakan baru untuk $t_k$ (misalnya dengan metode secant atau metode Newton), lalu kembali ke langkah 2."
   ]
  },
  {
   "cell_type": "markdown",
   "metadata": {},
   "source": [
    "### Function file (metode secant)"
   ]
  },
  {
   "cell_type": "code",
   "execution_count": null,
   "metadata": {},
   "outputs": [],
   "source": [
    "function [x, w1, w2] = nonlinear_shooting_secant(f, a, b, N, alph, bet, tol, t0, t1)\n",
    "  u1_aksen = @(x, u) u(2);\n",
    "  u2_aksen = @(x, u) f(x, u(1), u(2));\n",
    "  \n",
    "  t_k_min_2 = t0;\n",
    "  t_k_min_1 = t1;\n",
    "  [x, w_k_min_2] = rko4_sysm({u1_aksen, u2_aksen}, a, b, N, [alph, t_k_min_2]);\n",
    "  [x, w_k_min_1] = rko4_sysm({u1_aksen, u2_aksen}, a, b, N, [alph, t_k_min_1]);\n",
    "  w_k = w_k_min_1;\n",
    "  err = abs(w_k(1, N+1) - bet);\n",
    "  while !(err <= tol)\n",
    "    pembilang = (w_k_min_1(1,N+1) - bet) * (t_k_min_1 - t_k_min_2);\n",
    "    penyebut = w_k_min_1(1,N+1) - w_k_min_2(1,N+1);\n",
    "    t_k = t_k_min_1 - pembilang/penyebut;\n",
    "\n",
    "    t_k_min_2 = t_k_min_1\n",
    "    t_k_min_1 = t_k\n",
    "\n",
    "    [x, w_k] = rko4_sysm({u1_aksen, u2_aksen}, a, b, N, [alph, t_k]);\n",
    "    err = abs(w_k(1, N+1) - bet);\n",
    "  endwhile\n",
    "  % keluar loop artinya toleransi sudah terpenuhi\n",
    "  \n",
    "  % memisahkan w_k menjadi w1i dan w2i\n",
    "  [w1, w2] = w_k';\n",
    "endfunction"
   ]
  },
  {
   "cell_type": "markdown",
   "metadata": {},
   "source": [
    "### Modifikasi untuk metode Newton"
   ]
  },
  {
   "cell_type": "markdown",
   "metadata": {},
   "source": [
    "Untuk menggunakan metode Newton, diperlukan tidak hanya $y(b,t)$ tetapi juga turunannya $\\frac{\\partial y(b,t)}{\\partial t}$ yang sayangnya tidak dimiliki."
   ]
  },
  {
   "cell_type": "markdown",
   "metadata": {},
   "source": [
    "Setelah penjabaran yang panjang di buku, ternyata bisa dimisalkan\n",
    "\n",
    "$$z(x,t) = \\frac{\\partial y(x,t)}{\\partial t}$$\n",
    "\n",
    "dan nilai fungsi $z$ ini ternyata bisa diperoleh dengan menyelesaikan suatu MNA PDB orde 2 (lagi). Sehingga, di tiap iterasi, ada dua MNA PDB orde 2 yang harus diselesaikan."
   ]
  },
  {
   "cell_type": "markdown",
   "metadata": {},
   "source": [
    "Langkah *nonlinear shooting* dengan metode Newton bisa ditulis:\n",
    "\n",
    "1. Hitung rumus $\\frac{\\partial f}{\\partial y}(x,y,y')$ dan rumus $\\frac{\\partial f}{\\partial y'}(x,y,y')$ secara analitik.\n",
    "\n",
    "2. Tentukan toleransi $\\varepsilon$, dan pilih tebakan awal $t_0$ (yaitu $t_k$ sebelum iterasi pertama, yaitu dengan $k=0$). Kalau bingung, disarankan\n",
    "\n",
    "$$t_0 = \\frac{\\beta - \\alpha}{b-a}$$\n",
    "\n",
    "3. Selesaikan MNA PDB orde 2 berikut, misalkan solusinya disebut $w(x,t_k)$:\n",
    "\n",
    "$$y'' = f(x,y,y'), \\quad a \\le x \\le b, \\quad y(a) = \\alpha, \\quad y'(a) = t_k$$\n",
    "\n",
    "4. Selesaikan MNA PDB orde 2 berikut:\n",
    "\n",
    "$$z'' = \\frac{\\partial f}{\\partial y}(x,y,y')z(x) + \\frac{\\partial f}{\\partial y'}(x,y,y')z'(x), \\quad z(a) = 0, \\quad z'(a) = 1$$\n",
    "\n",
    "5. Periksa apakah $\\left|w(x,t_k) - \\beta\\right| \\le \\varepsilon$.\n",
    "\n",
    "    - Kalau iya, selesai; solusi akhirnya adalah $y(x) = w(x,t_k)$.\n",
    "    - Kalau tidak, kembali ke langkah 3 setelah memperoleh tebakan baru untuk $t_k$:\n",
    "    $$t_k = t_{k-1} - \\frac{w(b, t_{k-1}) - \\beta}{z(b, t_{k-1})}$$"
   ]
  },
  {
   "cell_type": "markdown",
   "metadata": {},
   "source": [
    "Dengan permisalan $u_1$ dan $u_2$ agar PDB orde 2 menjadi sistem PDB orde 1, langkah-langkahnya menjadi:"
   ]
  },
  {
   "cell_type": "markdown",
   "metadata": {},
   "source": [
    "1. Hitung rumus $\\frac{\\partial f}{\\partial y}(x,y,y')$ dan rumus $\\frac{\\partial f}{\\partial y'}(x,y,y')$ secara analitik.\n",
    "\n",
    "2. Tentukan toleransi $\\varepsilon$, dan pilih tebakan awal $t_0$ (yaitu $t_k$ sebelum iterasi pertama, yaitu dengan $k=0$). Kalau bingung, disarankan\n",
    "\n",
    "$$t_0 = \\frac{\\beta - \\alpha}{b-a}$$\n",
    "\n",
    "3. Selesaikan sistem PDB orde 1 berikut. Kemudian $u_1(x)$ disebut $w(x,t_k)$ dan $u_2(x)$ disebut $w'(x,t_k)$.\n",
    "\n",
    "\\begin{aligned}\n",
    "u_1'(x) &= u_2(x) \\\\\n",
    "u_2'(x) &= f(x,u_1,u_2) \\\\\n",
    "y(a) &= \\alpha, \\quad y'(a) = t_k\n",
    "\\end{aligned}\n",
    "\n",
    "4. Selesaikan sistem PDB orde 1 berikut. Kemudian $u_1(x)$ disebut $z(x,t_k)$ dan $u_2(x)$ disebut $z'(x,t_k)$.\n",
    "\n",
    "\\begin{aligned}\n",
    "u_1'(x) &= u_2(x) \\\\\n",
    "u_2'(x) &= \\frac{\\partial f}{\\partial y}(x,u_1,u_2)u_1(x) + \\frac{\\partial f}{\\partial y'}(x,u_1,u_2)u_2(x) \\\\\n",
    "u_1(a) &= 0, \\quad u_2(a) = 1\n",
    "\\end{aligned}\n",
    "\n",
    "5. Periksa apakah $\\left|w(x,t_k) - \\beta\\right| \\le \\varepsilon$.\n",
    "\n",
    "    - Kalau iya, selesai; solusi akhirnya adalah $y(x) = w(x,t_k)$.\n",
    "    - Kalau tidak, kembali ke langkah 3 setelah memperoleh tebakan baru untuk $t_k$:\n",
    "    $$t_k = t_{k-1} - \\frac{w(b, t_{k-1}) - \\beta}{z(b, t_{k-1})}$$"
   ]
  },
  {
   "cell_type": "markdown",
   "metadata": {},
   "source": [
    "### Function file (dari pseudocode)"
   ]
  },
  {
   "cell_type": "code",
   "execution_count": null,
   "metadata": {},
   "outputs": [],
   "source": [
    "function [x_i, w_1i, w_2i] = nonlinshoot_pseudocode(f, fy, fyp, a, b, n, alpha, beta, m, tol)\n",
    "  % m adalah maksimum iterasi\n",
    "\n",
    "  h = (b - a)/n;\n",
    "  k = 1;\n",
    "  tk = (beta - alpha)/(b - a);\n",
    "  x_i = w_1i = w_2i = [];\n",
    "  while k <= m\n",
    "    w = [alpha;tk];\n",
    "    u = [0,1];\n",
    "    for i = 1:n\n",
    "      x = a + (i-1)*h;\n",
    "\n",
    "      k_11 = h*w(2,i);\n",
    "      k_12 = h*f(x, w(1,i), w(2,i));\n",
    "\n",
    "      k_21 = h*(w(2,i)+(k_12/2));\n",
    "      k_22 = h*f((x+(h/2)), (w(1,i)+(k_11/2)), (w(2,i)+(k_12/2)));\n",
    "\n",
    "      k_31 = h*(w(2,i)+(k_22/2));\n",
    "      k_32 = h*f((x+(h/2)), (w(1,i)+(k_21/2)), (w(2,i)+(k_22/2)));\n",
    "\n",
    "      k_41 = h*(w(2,i)+k_32);\n",
    "      k_42 = h*f((x+h), (w(1,i)+k_31), (w(2,i)+k_32));\n",
    "\n",
    "      w(1,i+1) = w(1,i) + ((k_11 + 2*k_21 + 2*k_31 + k_41)/6);\n",
    "      w(2,i+1) = w(2,i) + ((k_12 + 2*k_22 + 2*k_32 + k_42)/6);\n",
    "\n",
    "      kp_11 = h*u(2);\n",
    "      kp_12 = h*(fy(x, w(1,i), w(2,i))*u(1) + fyp(x, w(1,i), w(2,i))*u(2));\n",
    "\n",
    "      kp_21 = h*(u(2) + (kp_12/2));\n",
    "      kp_22 = h*(fy((x+(h/2)), w(1,i), w(2,i))*u(1) + fyp((x+(h/2)), w(1,i), w(2,i))*(u(2) + (kp_12/2)));\n",
    "\n",
    "      kp_31 = h*(u(2)+(kp_22/2));\n",
    "      kp_32 = h*(fy((x+(h/2)), w(1,i), w(2,i))*(u(1) + (kp_21/2)) + fyp((x+(h/2)), w(1,i), w(2,i))*(u(2) + (kp_22/2)));\n",
    "\n",
    "      kp_41 = h*(u(2)+kp_32);\n",
    "      kp_42 = h*(fy((x+h), w(1,i), w(2,i))*(u(1)+kp_31) + fyp((x+h), w(1,i), w(2,i))*(u(2) + kp_32));\n",
    "\n",
    "      u(1) = u(1) + (kp_11 + 2*kp_21 + 2*kp_31 + kp_41)/6;\n",
    "      u(2) = u(2) + (kp_12 + 2*kp_22 + 2*kp_32 + kp_42)/6;\n",
    "    endfor\n",
    "\n",
    "  if abs(w(1,n+1) - beta) <= tol       % jika sudah mencapai batas toleransi maka program berhenti\n",
    "    for i = 1:(n+1)\n",
    "      x = a+(i-1)*h;\n",
    "      x_i(i) = x;\n",
    "      w_1i(i) = w(1,i);\n",
    "      w_2i(i) = w(2,i);\n",
    "    endfor\n",
    "    return\n",
    "  endif\n",
    "  tk = tk-((w(1,n+1) - beta)/u(1));\n",
    "  k = k + 1;\n",
    "  endwhile\n",
    "  disp('max iteration')\n",
    "endfunction"
   ]
  },
  {
   "cell_type": "markdown",
   "metadata": {},
   "source": [
    "### Function file (metode Newton)"
   ]
  },
  {
   "cell_type": "code",
   "execution_count": null,
   "metadata": {},
   "outputs": [],
   "source": [
    "function [x, w1, w2] = nonlinear_shooting_newton(f, fy, fyp, a, b, N, alph, bet, tol, t0)\n",
    "  % kalau input t0 bukan angka, dianggap tidak memilih tebakan awal\n",
    "  if isnumeric(t0)\n",
    "    t_k = t0;\n",
    "  else\n",
    "    t_k = (bet-alph)/(b-a);\n",
    "  endif\n",
    "\n",
    "  err = tol + 1;\n",
    "  while !(err <= tol)\n",
    "    % selesaikan sistem pertama\n",
    "    u1_aksen = @(x, u) u(2);\n",
    "    u2_aksen = @(x, u) f(x, u(1), u(2));\n",
    "    [x, w_sys] = rko4_sysm({u1_aksen, u2_aksen}, a, b, N, [alph, t_k]);\n",
    "\n",
    "    % selesaikan sistem kedua\n",
    "    u1_aksen = @(x, u) u(2);\n",
    "    u2_aksen = @(x, u) fy(x, u(1), u(2))*u(1) + fyp(x, u(1), u(2))*u(2);\n",
    "    [x, z_sys] = rko4_sysm({u1_aksen, u2_aksen}, a, b, N, [0, 1]);\n",
    "\n",
    "    % periksa toleransi, update t_k\n",
    "    err = abs(w_sys(1, N+1) - bet);\n",
    "    if !(err <= tol)\n",
    "      t_k = t_k - (w_sys(1, N+1) - bet)/(z_sys(1, N+1));\n",
    "    endif\n",
    "  endwhile\n",
    "  % keluar loop artinya toleransi sudah terpenuhi\n",
    "\n",
    "  % pisahkan w_sys menjadi w1i dan w2i\n",
    "  [w1, w2] = w_sys';\n",
    "endfunction"
   ]
  },
  {
   "cell_type": "markdown",
   "metadata": {},
   "source": [
    "### Contoh Nonlinear Shooting"
   ]
  },
  {
   "cell_type": "markdown",
   "metadata": {},
   "source": [
    "$y'' = \\frac{1}{8}(32+2x^3-yy'), \\; 1\\leq x \\leq 3$\n",
    "\n",
    "$y(1) = 17, \\; y(3)=43/3$\n",
    "\n",
    "dengan $N=20$, $m=10$, dan toleransi $=10^{-5}$\n",
    "\n",
    "dan solusi eksak:\n",
    "\n",
    "$y(x)=x^2 + \\frac{16}{x}$"
   ]
  },
  {
   "cell_type": "markdown",
   "metadata": {},
   "source": [
    "Hint:\n",
    "\n",
    "\\begin{aligned}\n",
    "f(x,y,y') &= \\frac{1}{8}(32+2x^3-yy') \\\\\n",
    "\\frac{\\partial f}{\\partial y}(x,y,y') &= -\\frac{1}{8}y' \\\\\n",
    "\\frac{\\partial f}{\\partial y'}(x,y,y') &= -\\frac{1}{8}y\n",
    "\\end{aligned}"
   ]
  },
  {
   "cell_type": "markdown",
   "metadata": {},
   "source": [
    "Berikut code script file untuk permasalahan di atas menggunakan metode linear shooting:"
   ]
  },
  {
   "cell_type": "code",
   "execution_count": null,
   "metadata": {},
   "outputs": [],
   "source": [
    "f = @(x, y, yp) ((1/8)*(32 + 2*x^3 - y*yp));\n",
    "fy = @(x, y, yp) (-yp/8);\n",
    "fyp = @(x, y, yp) (-y/8);\n",
    "a = 1;\n",
    "b = 3;\n",
    "N = 20;\n",
    "alph = 17;\n",
    "bet = 43/3;\n",
    "tol = 10^(-5);\n",
    "\n",
    "[xi, w1i, w2i] = nonlinear_shooting_newton(f, fy, fyp, a, b, N, alph, bet, tol, \"\");\n",
    "\n",
    "sln = @(x) ((x^2) + (16/x));\n",
    "w = [];\n",
    "for i = 1:length(xi)\n",
    "  w(i) = sln(xi(i));\n",
    "endfor\n",
    "\n",
    "[xi', w1i', w']\n",
    "\n",
    "hold on;\n",
    "fplot(sln, [1,3], 'k');\n",
    "scatter(xi, w1i, 'r');\n",
    "legend('Eksak', 'Aproksimasi');"
   ]
  },
  {
   "cell_type": "markdown",
   "metadata": {},
   "source": [
    "Jika kita run script file tersebut, maka program akan mengeluarkan dua macam output, yaitu tabel serta plot perbandingan solusi eksak dan aproksimasi seperti di bawah ini:\n",
    "\n",
    "![image.png](attachment:image.png)\n",
    "\n",
    "![image-2.png](attachment:image-2.png)"
   ]
  },
  {
   "cell_type": "markdown",
   "metadata": {},
   "source": [
    "## *Linear Finite Difference*"
   ]
  },
  {
   "cell_type": "markdown",
   "metadata": {},
   "source": [
    "Metode ini digunakan untuk mengaproksimasi masalah linear dalam bentuk:"
   ]
  },
  {
   "cell_type": "markdown",
   "metadata": {},
   "source": [
    "\\begin{gathered}\n",
    "y^{\\prime \\prime}=p(x) y^{\\prime}+q(x) y+r(x), \\quad a \\leq x \\leq b \\\\\n",
    "y(a)=\\alpha, y(b)=\\beta\n",
    "\\end{gathered}"
   ]
  },
  {
   "cell_type": "markdown",
   "metadata": {},
   "source": [
    "Penyelesaiannya adalah dengan persamaan-persamaan berikut:"
   ]
  },
  {
   "cell_type": "markdown",
   "metadata": {},
   "source": [
    "\\begin{gathered}\n",
    "w_{0}=\\alpha, \\quad w_{n+1}=\\beta \\\\\n",
    "-\\left(1+\\frac{h}{2} p\\left(x_{i}\\right)\\right) w_{i-1}+\\left(2+h^{2} q\\left(x_{i}\\right)\\right) w_{i}-\\left(1-\\frac{h}{2} p\\left(x_{i}\\right)\\right) w_{i+1}=-h^{2} r\\left(x_{i}\\right)\n",
    "\\end{gathered}"
   ]
  },
  {
   "cell_type": "markdown",
   "metadata": {},
   "source": [
    "Bentuk tersebut dapat dibuat sebagai suatu SPL:"
   ]
  },
  {
   "cell_type": "markdown",
   "metadata": {},
   "source": [
    "$$\n",
    "A \\mathbf{w}=\\mathbf{b}\n",
    "$$"
   ]
  },
  {
   "cell_type": "markdown",
   "metadata": {},
   "source": [
    "![](./pdnum6_Picture1.png)"
   ]
  },
  {
   "cell_type": "markdown",
   "metadata": {},
   "source": [
    "$\\mathbf{w}=\\left[\\begin{array}{c}w_{1} \\\\ w_{2} \\\\ \\vdots \\\\ w_{N-1} \\\\ w_{N}\\end{array}\\right], \\quad$ and $\\quad \\mathbf{b}=\\left[\\begin{array}{c}-h^{2} r\\left(x_{1}\\right)+\\left(1+\\frac{h}{2} p\\left(x_{1}\\right)\\right) w_{0} \\\\ -h^{2} r\\left(x_{2}\\right) \\\\ \\vdots \\\\ -h^{2} r\\left(x_{N-1}\\right) \\\\ -h^{2} r\\left(x_{N}\\right)+\\left(1-\\frac{h}{2} p\\left(x_{N}\\right)\\right) w_{N+1}\\end{array}\\right]$."
   ]
  },
  {
   "cell_type": "markdown",
   "metadata": {},
   "source": [
    "Menurut buku, SPL tersebut sebaiknya diselesaikan dengan metode faktorisasi Crout (algoritma 6.7). (Intinya, mumpung A adalah matriks tridiagonal, algoritma ini nyari inverse A secara linier, makanya runtime dari algortima ini adalah $O(n)$)"
   ]
  },
  {
   "cell_type": "markdown",
   "metadata": {},
   "source": [
    "Namun, tentunya kita bebas menyelesaikan SPLnya dengan cara apapun, bahkan dengan cara iteratif seperti Gauss-Seidel"
   ]
  },
  {
   "cell_type": "markdown",
   "metadata": {},
   "source": [
    "### Function file (dari pseudocode)"
   ]
  },
  {
   "cell_type": "code",
   "execution_count": 16,
   "metadata": {},
   "outputs": [],
   "source": [
    "function [xt,w]=linfdm_pseudocode(p,q,r,a_boundary,b_boundary,alpha,beta,n)\n",
    "  h=(b_boundary-a_boundary)/(n+1); %stepsize\n",
    "  a=zeros(n,1); %diagonal sistem persamaannya\n",
    "  b=zeros(n,1); % right diagonal sistem persamaannya\n",
    "  c=zeros(n,1); %left diagonal sistem persamaannya\n",
    "  d=zeros(n,1); %vektor b (Ay=b) pada sistem persamaannya\n",
    "  l=zeros(n,1); % main diagonal of lower triangle matrix\n",
    "  u=zeros(n,1); %right diagonal of upper triangle matrix\n",
    "  z= zeros(n,1); %solution of Lz=b\n",
    "  w=zeros(n+1,1); %solusi aproksimasi dengan linear fdm\n",
    "  xt=[a_boundary:h:b_boundary]; %mesh_point\n",
    "  x=a_boundary+h;\n",
    "\n",
    "  %konstruksi matrix tridiagonalnya\n",
    "  a(1)=2+(h^2)*q(x);\n",
    "  b(1)= -1+(h/2)*p(x);\n",
    "  d(1)=-h^2*r(x) +(1+(h/2)*p(x))*alpha;\n",
    "\n",
    "  for i = 2:n-1\n",
    "    x= a_boundary+i*h;\n",
    "    a(i)=2+h^2*q(x); %diagonal\n",
    "    b(i)=-1+(h/2)*p(x);\n",
    "    c(i)=-1-(h/2)*p(x);\n",
    "    d(i)=-h^2*r(x);\n",
    "  endfor\n",
    "\n",
    "  x=b_boundary-h;\n",
    "  a(n)=2+h^2*q(x);\n",
    "  c(n)=-1-(h/2)*p(x);\n",
    "  d(n)=-h^2*r(x)+(1-(h/2)*p(x))*beta;\n",
    "\n",
    "  %matriks tridiagonalnya sudah didapatkan,\n",
    "  %akan diselesaikan dengan LU Decomposition (crout factorization)\n",
    "\n",
    "  l(1)= a(1);\n",
    "  u(1)=b(1)/a(1);\n",
    "  z(1)=d(1)/l(1);\n",
    "\n",
    "  for i= 2:n-1\n",
    "    l(i)=a(i)-c(i)*u(i-1);\n",
    "    u(i)=b(i)/l(i);\n",
    "    z(i)=(d(i)-c(i)*z(i-1))/l(i);\n",
    "\n",
    "  endfor\n",
    "\n",
    "  l(n)=a(n)-c(n)*u(n-1);\n",
    "  z(n)=(d(n)-c(n)*z(n-1))/l(n);\n",
    "\n",
    "  %konstruksi akhir w-nya\n",
    "  w(n+1)=beta;\n",
    "  w(n)=z(n);\n",
    "  for i = n-1:-1:1\n",
    "    w(i)=z(i)-u(i)*w(i+1);\n",
    "  endfor\n",
    "\n",
    "  w=[alpha;w];\n",
    "  xt=transpose(xt);\n",
    "\n",
    "endfunction"
   ]
  },
  {
   "cell_type": "markdown",
   "metadata": {},
   "source": [
    "### Function file (dengan solusi SPL secara eksak/invers)"
   ]
  },
  {
   "cell_type": "code",
   "execution_count": 17,
   "metadata": {},
   "outputs": [],
   "source": [
    "function [x, w_grid] = linear_fd_eksak(p, q, r, a, b, N, alph, bet)\n",
    "  % bikin array x\n",
    "  h = (b - a) / (N+1);\n",
    "  x = a : h : b;\n",
    "\n",
    "  % susun matriks A dan vektor b\n",
    "  A = zeros(N, N);\n",
    "  b = -h^2 * r(x(2:N+1));\n",
    "  % kasus khusus untuk baris pertama\n",
    "  b(1) += (1 + h/2 * p(x(2))) * alph;\n",
    "  A(1, 1) += 2 + h^2 * q(x(2));\n",
    "  A(1, 2) += -1 + h/2 * p(x(2));\n",
    "  % kasus khusus untuk baris terakhir\n",
    "  A(N, N-1) += -1 - h/2 * p(x(N+1));\n",
    "  A(N, N) += 2 + h^2 * q(x(N+1));\n",
    "  b(N) += (1 - h/2 * p(x(N+1))) * bet;\n",
    "  % untuk baris kedua hingga kedua-terakhir\n",
    "  for i = 2 : (N-1)\n",
    "    A(i, i-1) += -1 - h/2 * p(x(i+1));\n",
    "    A(i, i) += 2 + h^2 * q(x(i+1));\n",
    "    A(i, i+1) += -1 + h/2 * p(x(i+1));\n",
    "  endfor\n",
    "\n",
    "  % selesaikan SPL\n",
    "  w = A \\ b';\n",
    "  % w baru mengandung w1, ..., w_N\n",
    "\n",
    "  % gabungkan dengan w0 (alpha) dan w_{N+1} (beta)\n",
    "  w_grid = [alph w' bet];\n",
    "endfunction"
   ]
  },
  {
   "cell_type": "markdown",
   "metadata": {},
   "source": [
    "### Contoh *Linear Finite Difference*"
   ]
  },
  {
   "cell_type": "markdown",
   "metadata": {},
   "source": [
    "Akan kita uji dengan masalah nilai batas:"
   ]
  },
  {
   "cell_type": "markdown",
   "metadata": {},
   "source": [
    "$$\n",
    "\\begin{aligned}\n",
    "y^{\\prime \\prime} & =-\\frac{4}{x} y^{\\prime}-\\frac{2}{x^2} y+\\frac{2 \\ln x}{x^2}, \\quad 1 \\leq x \\leq 2 \\\\\n",
    "y(1) & =\\frac{1}{2}, \\quad y(2)=\\ln 2\n",
    "\\end{aligned}\n",
    "$$\n",
    "Solusi eksak:\n",
    "$$\n",
    "y(x)=\\frac{4}{x}-\\frac{2}{x^2}+\\ln x-\\frac{3}{2}\n",
    "$$"
   ]
  },
  {
   "cell_type": "code",
   "execution_count": 22,
   "metadata": {},
   "outputs": [
    {
     "name": "stdout",
     "output_type": "stream",
     "text": [
      "x_grid =\n",
      "\n",
      "   1.0000\n",
      "   1.0500\n",
      "   1.1000\n",
      "   1.1500\n",
      "   1.2000\n",
      "   1.2500\n",
      "   1.3000\n",
      "   1.3500\n",
      "   1.4000\n",
      "   1.4500\n",
      "   1.5000\n",
      "   1.5500\n",
      "   1.6000\n",
      "   1.6500\n",
      "   1.7000\n",
      "   1.7500\n",
      "   1.8000\n",
      "   1.8500\n",
      "   1.9000\n",
      "   1.9500\n",
      "   2.0000\n",
      "\n",
      "w_grid =\n",
      "\n",
      "   0.5000\n",
      "   0.5443\n",
      "   0.5789\n",
      "   0.6059\n",
      "   0.6269\n",
      "   0.6433\n",
      "   0.6560\n",
      "   0.6658\n",
      "   0.6733\n",
      "   0.6790\n",
      "   0.6833\n",
      "   0.6865\n",
      "   0.6888\n",
      "   0.6905\n",
      "   0.6916\n",
      "   0.6923\n",
      "   0.6928\n",
      "   0.6930\n",
      "   0.6931\n",
      "   0.6931\n",
      "   0.6931\n",
      "\n",
      "sol_eksak =\n",
      "\n",
      "   0.5000\n",
      "   0.5443\n",
      "   0.5788\n",
      "   0.6057\n",
      "   0.6268\n",
      "   0.6431\n",
      "   0.6559\n",
      "   0.6657\n",
      "   0.6732\n",
      "   0.6789\n",
      "   0.6832\n",
      "   0.6864\n",
      "   0.6888\n",
      "   0.6904\n",
      "   0.6915\n",
      "   0.6923\n",
      "   0.6927\n",
      "   0.6930\n",
      "   0.6931\n",
      "   0.6931\n",
      "   0.6931\n",
      "\n",
      "ans =\n",
      "\n",
      "   1.0000   0.5000   0.5000        0\n",
      "   1.0500   0.5443   0.5443   0.0001\n",
      "   1.1000   0.5789   0.5788   0.0001\n",
      "   1.1500   0.6059   0.6057   0.0001\n",
      "   1.2000   0.6269   0.6268   0.0001\n",
      "   1.2500   0.6433   0.6431   0.0001\n",
      "   1.3000   0.6560   0.6559   0.0001\n",
      "   1.3500   0.6658   0.6657   0.0001\n",
      "   1.4000   0.6733   0.6732   0.0001\n",
      "   1.4500   0.6790   0.6789   0.0001\n",
      "   1.5000   0.6833   0.6832   0.0001\n",
      "   1.5500   0.6865   0.6864   0.0001\n",
      "   1.6000   0.6888   0.6888   0.0001\n",
      "   1.6500   0.6905   0.6904   0.0001\n",
      "   1.7000   0.6916   0.6915   0.0000\n",
      "   1.7500   0.6923   0.6923   0.0000\n",
      "   1.8000   0.6928   0.6927   0.0000\n",
      "   1.8500   0.6930   0.6930   0.0000\n",
      "   1.9000   0.6931   0.6931   0.0000\n",
      "   1.9500   0.6931   0.6931   0.0000\n",
      "   2.0000   0.6931   0.6931   0.0000\n",
      "\n"
     ]
    },
    {
     "data": {
      "image/png": "[encoded data removed]",
      "text/plain": [
       "<IPython.core.display.Image object>"
      ]
     },
     "metadata": {},
     "output_type": "display_data"
    }
   ],
   "source": [
    "p= @(x) (-4/x); %function p(x)\n",
    "q= @(x) (-2/x^2);%function q(x)\n",
    "r=@(x) 2*log(x)/(x^2); %function r(x)\n",
    "a_boundary=1; %batas kiri domain\n",
    "b_boundary=2; %batas kanan domain\n",
    "n=19; %banyaknya partisi (agar h=0.05 pilih n=19)\n",
    "alpha=0.5; %y(a)=alpha\n",
    "beta=log(2); %y(b)=beta\n",
    "[x_grid,w_grid]=linfdm_pseudocode(p,q,r,a_boundary,b_boundary,alpha,beta,n) %memangil fungsinya\n",
    "\n",
    "f_eksak=@(x)4./x -2./(x.^2) +log(x)-1.5;\n",
    "sol_eksak=f_eksak(x_grid)\n",
    "error=abs(sol_eksak-w_grid);\n",
    "\n",
    "[x_grid, w_grid, sol_eksak, error]\n",
    "\n",
    "%bikint tabel dan grafiknya :D\n",
    "fplot(f_eksak, [a_boundary,b_boundary],'b')\n",
    "hold on;\n",
    "scatter(x_grid,w_grid,'r')\n",
    "legend('solusi eksak', 'solusi linear FDM');\n",
    "legend(\"location\", \"northwest\");"
   ]
  },
  {
   "cell_type": "code",
   "execution_count": 23,
   "metadata": {},
   "outputs": [
    {
     "name": "stdout",
     "output_type": "stream",
     "text": [
      "ans =\n",
      "\n",
      " Columns 1 through 8:\n",
      "\n",
      "   1.0000   1.0500   1.1000   1.1500   1.2000   1.2500   1.3000   1.3500\n",
      "\n",
      " Columns 9 through 16:\n",
      "\n",
      "   1.4000   1.4500   1.5000   1.5500   1.6000   1.6500   1.7000   1.7500\n",
      "\n",
      " Columns 17 through 24:\n",
      "\n",
      "   1.8000   1.8500   1.9000   1.9500   2.0000   0.5000   0.5443   0.5789\n",
      "\n",
      " Columns 25 through 32:\n",
      "\n",
      "   0.6059   0.6269   0.6433   0.6560   0.6658   0.6733   0.6790   0.6833\n",
      "\n",
      " Columns 33 through 40:\n",
      "\n",
      "   0.6865   0.6888   0.6905   0.6916   0.6923   0.6928   0.6930   0.6931\n",
      "\n",
      " Columns 41 through 48:\n",
      "\n",
      "   0.6931   0.6931   0.5000   0.5443   0.5788   0.6057   0.6268   0.6431\n",
      "\n",
      " Columns 49 through 56:\n",
      "\n",
      "   0.6559   0.6657   0.6732   0.6789   0.6832   0.6864   0.6888   0.6904\n",
      "\n",
      " Columns 57 through 64:\n",
      "\n",
      "   0.6915   0.6923   0.6927   0.6930   0.6931   0.6931   0.6931        0\n",
      "\n",
      " Columns 65 through 72:\n",
      "\n",
      "   0.0001   0.0001   0.0001   0.0001   0.0001   0.0001   0.0001   0.0001\n",
      "\n",
      " Columns 73 through 80:\n",
      "\n",
      "   0.0001   0.0001   0.0001   0.0001   0.0001   0.0000   0.0000   0.0000\n",
      "\n",
      " Columns 81 through 84:\n",
      "\n",
      "   0.0000   0.0000   0.0000   0.0000\n",
      "\n"
     ]
    },
    {
     "data": {
      "image/png": "[encoded data removed]",
      "text/plain": [
       "<IPython.core.display.Image object>"
      ]
     },
     "metadata": {},
     "output_type": "display_data"
    }
   ],
   "source": [
    "p= @(x) (-4./x); %function p(x)\n",
    "q= @(x) (-2./x.^2);%function q(x)\n",
    "r=@(x) 2*log(x)./(x.^2); %function r(x)\n",
    "a_boundary=1; %batas kiri domain\n",
    "b_boundary=2; %batas kanan domain\n",
    "N=19; %banyaknya partisi (agar h=0.05 pilih n=19)\n",
    "alph=0.5; %y(a)=alpha\n",
    "bet=log(2); %y(b)=beta\n",
    "[x_grid,w_grid]=linear_fd_eksak(p,q,r,a_boundary,b_boundary,N,alph,bet); %memangil fungsinya\n",
    "\n",
    "f_eksak=@(x)4./x -2./(x.^2) +log(x)-1.5;\n",
    "sol_eksak=f_eksak(x_grid);\n",
    "err=abs(sol_eksak-w_grid);\n",
    "\n",
    "[x_grid,w_grid,sol_eksak,err]\n",
    "\n",
    "%bikint tabel dan grafiknya :D\n",
    "fplot(f_eksak, [a_boundary,b_boundary],'b')\n",
    "hold on;\n",
    "scatter(x_grid,w_grid,'r')\n",
    "legend('solusi eksak', 'solusi linear FDM');\n",
    "legend(\"location\", \"northwest\");"
   ]
  },
  {
   "cell_type": "markdown",
   "metadata": {},
   "source": [
    "## *Nonlinear Finite Difference*"
   ]
  },
  {
   "cell_type": "markdown",
   "metadata": {},
   "source": [
    "Metode ini digunakan untuk mengaproksimasi masalah nilai batas:"
   ]
  },
  {
   "cell_type": "markdown",
   "metadata": {},
   "source": [
    "$$\n",
    "\\begin{gathered}\n",
    "y^{\\prime \\prime}=f\\left(x, y, y^{\\prime}\\right), \\quad a \\leq x \\leq b \\\\\n",
    "y(a)=\\alpha, y(b)=\\beta\n",
    "\\end{gathered}\n",
    "$$"
   ]
  },
  {
   "cell_type": "markdown",
   "metadata": {},
   "source": [
    "### Function file (dari pseudocode)"
   ]
  },
  {
   "cell_type": "code",
   "execution_count": null,
   "metadata": {},
   "outputs": [],
   "source": [
    "function [t_grid,w]=nonlinear_FDM_naive(f,f_y,f_yprime,a,b,n,alpha,beta,max_iter,TOL)\n",
    "  h=(b-a)/(n+1); %sepsize\n",
    "  w=zeros(n,1); %vektor solusi aproksimasi\n",
    "  t_grid=[a:h:b]; %mesh_poitnya\n",
    "  J=zeros(n,n); %matriks jacobian\n",
    "  F=zeros(n,1); %vektor fungsi  F=(f_1,f_2,...,f_n) yang dievaluasi di x_k\n",
    "\n",
    "  for i=1:n %inisialisasi solusi awal\n",
    "    w(i)=alpha+i*(beta-alpha)/(b-a)*h;\n",
    "  endfor\n",
    "  k=1;\n",
    "  while k<=max_iter %lakukan iterasi jika masih belum didapat kriteria stopnya\n",
    "\n",
    "    %solve nonlinear sistem tersebut dengan metode newton\n",
    "    x=a+h;\n",
    "    %kontruksi matriks Jacobian, dan vektor F-nya\n",
    "    t=(w(2)-alpha)/(2*h);\n",
    "    J(1,1)=2+h^2*f_y(x,w(1),t); %main diagoanal\n",
    "    J(1,2)=-1+(h/2)*f_yprime(x,w(1),t); %right diagonal\n",
    "    F(1)=(2*w(1)-w(2)-alpha+h^2*f(x,w(1),t));\n",
    "    for i =2:n-1\n",
    "      x=a+i*h;\n",
    "      t=(w(i+1)-w(i-1))/(2*h);\n",
    "      J(i,i)=2+h^2*f_y(x,w(i),t); %main diagoanal\n",
    "      J(i,i+1)=-1+(h/2)*f_yprime(x,w(i),t); %main diagoanal\n",
    "      J(i,i-1)=-1-(h/2)*f_yprime(x,w(i),t); %left diagoanal\n",
    "      F(i)=(2*w(i)-w(i+1)-w(i-1)+h^2*f(x,w(i),t));\n",
    "    endfor\n",
    "     x=b-h;\n",
    "     t=(beta-w(n-1))/(2*h);\n",
    "     J(n,n)=2+h^2*f_y(x,w(n),t); %main diagonal\n",
    "     J(n,n-1)=-1-(h/2)*f_yprime(x,w(n),t); %right diagonal\n",
    "     F(n)=(2*w(n)-w(n-1)-beta+h^2*f(x,w(n),t));\n",
    "\n",
    "\n",
    "\n",
    "    v=inverse(J)*F; %vector v adalah product dari J^-1 F\n",
    "    w= w-v; % lakukan update nilai pada w\n",
    "\n",
    "    if norm(v,2)<= TOL %kriteria stop jika norm(v)<=toleransinya\n",
    "      break;\n",
    "     else\n",
    "        k=k+1; %jika belum memenuhi kriteria stop terus lanjut iterasinya (memperbaiki nilai w)\n",
    "    endif\n",
    "  endwhile\n",
    "  w=[alpha ; w ; beta]; %konstruksi akhir w\n",
    "  t_grid=transpose(t_grid); % %transpose meshpoint\n",
    "  % untuk konsistensi dimensi saja\n",
    "\n",
    "endfunction"
   ]
  },
  {
   "cell_type": "markdown",
   "metadata": {},
   "source": [
    "### Contoh *Nonlinear Finite Difference*"
   ]
  },
  {
   "cell_type": "markdown",
   "metadata": {},
   "source": [
    "Gunakan metode beda hingga nonlinear dengan $h=0.1$ dan toleransi $10^{-4}$ untuk mengaproksimasi BVP berikut:\n",
    "$$\n",
    "\\begin{aligned}\n",
    "y^{\\prime \\prime} & =y^{\\prime}+2(y-\\ln x)^3-\\frac{1}{x}, \\quad 2 \\leq x \\leq 3 \\\\\n",
    "y(2) & =\\frac{1}{2}+\\ln 2, \\quad y(3)=\\frac{1}{3}+\\ln 3\n",
    "\\end{aligned}\n",
    "$$\n",
    "Solusi eksak:\n",
    "$$\n",
    "y(x)=\\frac{1}{x}+\\ln x\n",
    "$$"
   ]
  },
  {
   "cell_type": "code",
   "execution_count": null,
   "metadata": {},
   "outputs": [],
   "source": [
    "f=@(x,y,yp) yp+2*(y-log(x))^3-1/x ; %fungsi f pada y=f(x,y,y')\n",
    "f_y=@(x,y,yp) 6*(y-log(x))^2; %turunan fungsi f terhadap y\n",
    "f_yp=@(x,y,yp) 1; %turunan fungsi f terhadap yprime\n",
    "a=2; %left boundary\n",
    "b=3; %right boundary\n",
    "alpha=0.5+log(2); %y(a)\n",
    "beta=1/3+ log(3); %y(b)\n",
    "n=9; %banyaknya partisi (pilih n=9 sehingga h=0.1)\n",
    "maxiter=30; %masksimal iterasi newton methodnya\n",
    "TOL=10^(-4); %toleransi nilai (untuk kriteria stop)\n",
    "\n",
    "%memanggil fungsi nonlinear_FDM_naive\n",
    "[x_grid,w]=nonlinear_FDM_naive(f,f_y,f_yp,a,b,n,alpha,beta,maxiter,TOL)\n",
    "f_anal= @(x) 1./x +log(x); %sol analitik\n",
    "\n",
    "%membuat grafiknya\n",
    "fplot(f_anal, [a,b],'b')\n",
    "hold on;\n",
    "scatter(x_grid,w,'r')\n",
    "legend('solusi analitik', 'solusi linear FDM');\n",
    "legend(\"location\", \"northwest\");\n",
    "\n",
    "%membuat tabel saja.\n",
    "sol_anal=f_anal(x_grid); %sol analitik di meshpoint\n",
    "error=abs(w-sol_anal); %error\n",
    "[x_grid,w,sol_anal,error]"
   ]
  },
  {
   "cell_type": "markdown",
   "metadata": {},
   "source": []
  }
 ],
 "metadata": {
  "kernelspec": {
   "display_name": "Octave",
   "language": "octave",
   "name": "octave"
  },
  "language_info": {
   "file_extension": ".m",
   "help_links": [
    {
     "text": "GNU Octave",
     "url": "https://www.gnu.org/software/octave/support.html"
    },
    {
     "text": "Octave Kernel",
     "url": "https://github.com/Calysto/octave_kernel"
    },
    {
     "text": "MetaKernel Magics",
     "url": "https://metakernel.readthedocs.io/en/latest/source/README.html"
    }
   ],
   "mimetype": "text/x-octave",
   "name": "octave",
   "version": "6.2.0"
  }
 },
 "nbformat": 4,
 "nbformat_minor": 2
}
