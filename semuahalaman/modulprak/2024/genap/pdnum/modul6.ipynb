{
 "cells": [
  {
   "cell_type": "markdown",
   "metadata": {},
   "source": [
    "# Modul 6 Persamaan Diferensial Numerik: Metode *Shooting* dan *Linear Finite Difference* untuk Masalah Nilai Batas PDB"
   ]
  },
  {
   "cell_type": "markdown",
   "metadata": {},
   "source": [
    "Kembali ke [Persamaan Diferensial Numerik](./pdnum2024genap.qmd)"
   ]
  },
  {
   "cell_type": "markdown",
   "metadata": {},
   "source": [
    "Di modul ini, kita akan membahas beberapa metode untuk masalah nilai batas untuk PDB, yaitu:\n",
    "\n",
    "1. *Linear Shooting*\n",
    "2. *Nonlinear Shotting*\n",
    "3. *Linear Finite Difference*"
   ]
  },
  {
   "cell_type": "markdown",
   "metadata": {},
   "source": [
    "## Review: Runge-Kutta orde 4 untuk sistem"
   ]
  },
  {
   "cell_type": "markdown",
   "metadata": {},
   "source": [
    "*Shooting method* untuk masalah nilai batas melibatkan sistem persamaan diferensial. Kita akan menggunakan kode metode Runge-Kutta orde 4 untuk sistem dari modul sebelumnya:"
   ]
  },
  {
   "cell_type": "code",
   "execution_count": 4,
   "metadata": {},
   "outputs": [],
   "source": [
    "function [t, w] = rko4_sysm(cell_f, a, b, N, alphas)\n",
    "  m = length(cell_f);\n",
    "\n",
    "  h = (b - a) / N;\n",
    "  t = zeros(N + 1, 1);\n",
    "  w = zeros(m, N + 1);\n",
    "  t(1) = a;\n",
    "  w(:, 1) = alphas;\n",
    "\n",
    "  k1 = zeros(m, 1);\n",
    "  k2 = zeros(m, 1);\n",
    "  k3 = zeros(m, 1);\n",
    "  k4 = zeros(m, 1);\n",
    "  for i = 1 : N\n",
    "    t(i + 1) = t(i) + h;\n",
    "\n",
    "    for j = 1 : m\n",
    "      k1(j) = h * cell_f{j}(t(i), w(:, i));\n",
    "    endfor\n",
    "\n",
    "    for j = 1 : m\n",
    "      k2(j) = h * cell_f{j}(t(i) + (h / 2), w(:, i) + (k1 / 2));\n",
    "    endfor\n",
    "\n",
    "    for j = 1 : m\n",
    "      k3(j) = h * cell_f{j}(t(i) + (h / 2), w(:, i) + (k2 / 2));\n",
    "    endfor\n",
    "\n",
    "    for j = 1 : m\n",
    "      k4(j) = h * cell_f{j}(t(i + 1), w(:, i) + k3);\n",
    "    endfor\n",
    "\n",
    "    for j = 1 : m\n",
    "      w(j, i + 1) = w(j, i) + (k1(j) + 2 * k2(j) + 2 * k3(j) + k4(j)) / 6;\n",
    "    endfor\n",
    "  endfor\n",
    "endfunction"
   ]
  },
  {
   "cell_type": "markdown",
   "metadata": {},
   "source": [
    "Sebenarnya tidak harus metode Runge-Kutta orde 4 untuk sistem. Boleh ditukar dengan metode lainnya untuk sistem, misalnya metode Adams predictor-corrector orde 4 untuk sistem."
   ]
  },
  {
   "cell_type": "markdown",
   "metadata": {},
   "source": [
    "## *Linear Shooting*"
   ]
  },
  {
   "cell_type": "markdown",
   "metadata": {},
   "source": [
    "### Bentuk umum, ide utama, penyederhanaan"
   ]
  },
  {
   "cell_type": "markdown",
   "metadata": {},
   "source": [
    "Linear Shooting merupakan metode untuk menyelesaikan sejenis masalah nilai batas untuk PDB, yaitu yang berbentuk:\n",
    "\n",
    "$y'' = f\\left(x,y,y'\\right) = p(x)y' + q(x)y + r(x), \\;a\\leq x\\leq b$\n",
    "\n",
    "$y(a)=\\alpha, \\;y(b)=\\beta$\n",
    "\n",
    "dengan\n",
    "\n",
    "- $p(x), q(x), r(x)$ adalah fungsi kontinu dalam $x$\n",
    "- $q(x) > 0$ pada $[a,b]$ agar dijamin ada solusi unik"
   ]
  },
  {
   "cell_type": "markdown",
   "metadata": {},
   "source": [
    "Cara penyelesaiannya:"
   ]
  },
  {
   "cell_type": "markdown",
   "metadata": {},
   "source": [
    "1. Selesaikan MNA PDB orde 2 berikut, solusinya disebut $y_1 \\left(x\\right)$:\n",
    "\n",
    "$$y'' = p(x)y' + q(x)y + r(x), \\quad a \\le x \\le b, \\quad y\\left(a\\right) = \\alpha, \\quad y'\\left(a\\right) = 0$$\n",
    "\n",
    "2. Selesaikan MNA PDB orde 2 berikut, solusinya disebut $y_2 \\left(x\\right)$\n",
    "\n",
    "$$y'' = p(x)y' + q(x)y, \\quad a \\le x \\le b, \\quad y\\left(a\\right) = 0, \\quad y'\\left(a\\right) = 1$$\n",
    "\n",
    "3. Solusi akhirnya adalah\n",
    "\n",
    "$$y\\left(x\\right) = y_1 \\left(x\\right) + \\frac{\\beta - y_1 \\left(b\\right)}{y_2 \\left(b\\right)} y_2 \\left(x\\right)$$"
   ]
  },
  {
   "cell_type": "markdown",
   "metadata": {},
   "source": [
    "Kita bisa menuliskan kedua MNA PDB orde 2 tersebut masing-masing sebagai sistem PDB orde 1, seperti biasa dengan permisalan $u_1(x) = y(x)$ dan $u_2(x) = y'(x)$.\n",
    "\n",
    "Sehingga, langkahnya menjadi:"
   ]
  },
  {
   "cell_type": "markdown",
   "metadata": {},
   "source": [
    "1. Selesaikan sistem PDB orde 1 berikut. Kemudian solusi $u_1(x)$ disebut $y_1(x)$ dan solusi $u_2(x)$ disebut $y_1'(x)$.\n",
    "\n",
    "\\begin{aligned}\n",
    "u_1'(x) &= u_2(x) \\\\\n",
    "u_2'(x) &= p(x) u_2(x) + q(x) u_1(x) + r(x) \\\\\n",
    "u_1 (a) &= \\alpha, \\quad u_2 (a) = 0\n",
    "\\end{aligned}\n",
    "\n",
    "2. Selesaikan sistem PDB orde 1 berikut. Kemudian solusi $u_1(x)$ disebut $y_2(x)$ dan solusi $u_2(x)$ disebut $y_2'(x)$.\n",
    "\n",
    "\\begin{aligned}\n",
    "u_1'(x) &= u_2(x) \\\\\n",
    "u_2'(x) &= p(x)u_2(x) + q(x)u_1(x) \\\\\n",
    "u_1 (a) &= 0, \\quad u_2(a) = 1\n",
    "\\end{aligned}\n",
    "\n",
    "3. Solusi akhirnya adalah\n",
    "\n",
    "$$y(x) = y_1(x) + \\frac{\\beta - y_1(b)}{y_2(b)} y_2(x)$$\n",
    "\n",
    "Kalau perlu,\n",
    "\n",
    "$$y'(x) = y_1'(x) + \\frac{\\beta - y_1(b)}{y_2(b)} y_2'(x)$$"
   ]
  },
  {
   "cell_type": "markdown",
   "metadata": {},
   "source": [
    "### Function file (dari pseudocode di buku)"
   ]
  },
  {
   "cell_type": "code",
   "execution_count": null,
   "metadata": {},
   "outputs": [],
   "source": [
    "function [x_i, w_1i, w_2i] = linshoot_pseudocode(p, q, r, a, b, n, alpha, beta)\n",
    "  h = (b - a)/n;\n",
    "  u = [alpha ; 0];\n",
    "  v = [0 ; 1];\n",
    "  x_i = w_1i = w_2i = [];\n",
    "  for i = 1:n\n",
    "    x = a + (i-1)*h;\n",
    "\n",
    "    k_11 = h * u(2,i);\n",
    "    k_12 = h * (p(x)*u(2,i) + q(x)*u(1,i) + r(x));\n",
    "\n",
    "    k_21 = h * (u(2,i)+(k_12/2));\n",
    "    k_22 = h * (p(x+(h/2))*(u(2,i)+(k_12/2)) + q(x+(h/2))*(u(1,i)+(k_11/2)) + r(x+(h/2)));\n",
    "\n",
    "    k_31 = h * (u(2,i)+(k_22/2));\n",
    "    k_32 = h * (p(x+(h/2))*(u(2,i)+(k_22/2)) + q(x+(h/2))*(u(1,i)+(k_21/2)) + r(x+(h/2)));\n",
    "\n",
    "    k_41 = h * (u(2,i)+k_32);\n",
    "    k_42 = h * (p(x+h)*(u(2,i)+k_32) + q(x+h)*(u(1,i)+k_31) + r(x+h));\n",
    "\n",
    "    u(1,i+1) = u(1,i) + ((k_11 + 2*k_21 + 2*k_31 + k_41)/6);\n",
    "    u(2,i+1) = u(2,i) + ((k_12 + 2*k_22 + 2*k_32 + k_42)/6);\n",
    "\n",
    "    kp_11 = h * v(2,i);\n",
    "    kp_12 = h * (p(x)*v(2,i) + q(x)*v(1,i));\n",
    "\n",
    "    kp_21 = h * (v(2,i) + (kp_12/2));\n",
    "    kp_22 = h * (p(x+(h/2))*(v(2,i)+(kp_12/2)) + q(x+(h/2))*(v(1,i)+(kp_11/2)));\n",
    "\n",
    "    kp_31 = h * (v(2,i)+(kp_22/2));\n",
    "    kp_32 = h * (p(x+(h/2))*(v(2,i)+(kp_22/2)) + q(x+(h/2))*(v(1,i)+(kp_21/2)));\n",
    "\n",
    "    kp_41 = h * (v(2,i)+kp_32);\n",
    "    kp_42 = h * (p(x+h)*(v(2,i)+kp_32) + q(x+h)*(v(1,i)+kp_31));\n",
    "\n",
    "    v(1,i+1) = v(1,i) + (kp_11 + 2*kp_21 + 2*kp_31 + kp_41)/6;\n",
    "    v(2,i+1) = v(2,i) + (kp_12 + 2*kp_22 + 2*kp_32 + kp_42)/6;\n",
    "  endfor\n",
    "\n",
    "  w = [alpha ; ((beta - u(1,(n+1))) / v(1,(n+1)))];\n",
    "  x_i(1) = a;\n",
    "  w_1i(1) = w(1,1);\n",
    "  w_2i(1) = w(2,1);\n",
    "\n",
    "  for i = 2:(n+1)\n",
    "    W1 = u(1,i) + w(2,1)*v(1,i);\n",
    "    W2 = u(2,i) + w(2,1)*v(2,i);\n",
    "    x = a + (i-1)*h;\n",
    "    x_i(i) = x;\n",
    "    w_1i(i) = W1;\n",
    "    w_2i(i) = W2;\n",
    "  endfor\n",
    "endfunction"
   ]
  },
  {
   "cell_type": "markdown",
   "metadata": {},
   "source": [
    "### Function file (lebih sederhana)"
   ]
  },
  {
   "cell_type": "code",
   "execution_count": 16,
   "metadata": {},
   "outputs": [],
   "source": [
    "function [x, w1, w2] = linear_shooting(p, q, r, a, b, N, alph, bet)\n",
    "  % sistem PDB yang pertama\n",
    "  u1_aksen = @(x, u) u(2);\n",
    "  u2_aksen = @(x, u) p(x)*u(2) + q(x)*u(1) + r(x);\n",
    "  [x, w_pers1] = rko4_sysm({u1_aksen, u2_aksen}, a, b, N, [alph, 0]);\n",
    "  y1_b = w_pers1(1, N+1);\n",
    "  \n",
    "  % sistem PDB yang kedua\n",
    "  u1_aksen = @(x, u) u(2);\n",
    "  u2_aksen = @(x, u) p(x)*u(2) + q(x)*u(1);\n",
    "  [x, w_pers2] = rko4_sysm({u1_aksen, u2_aksen}, a, b, N, [0, 1]);\n",
    "  y2_b = w_pers2(1, N+1);\n",
    "  \n",
    "  % solusi akhir (superposisi)\n",
    "  w_akhir = w_pers1 + (bet - y1_b)/(y2_b) * w_pers2;\n",
    "  % dipisah jadi w1i (aproksimasi y(x)) dan w2i (aproksimasi y'(x))\n",
    "  w1 = w_akhir(1, :);\n",
    "  w2 = w_akhir(2, :);\n",
    "endfunction"
   ]
  },
  {
   "cell_type": "markdown",
   "metadata": {},
   "source": [
    "### Contoh Linear Shooting\n",
    "\n",
    "$y'' = -\\frac{2}{x}y' + \\frac{2}{x^2}y + \\frac{\\sin(\\ln(x))}{x^2}, \\; 1\\leq x\\leq 2$\n",
    "\n",
    "$y(1)=1,\\; y(2)=2$\n",
    "\n",
    "dengan $N=10$\n",
    "\n",
    "dan solusi eksak:\n",
    "\n",
    "$y=c_1x+\\frac{c_2}{x^2} - \\frac{3}{10}\\sin(\\ln(x))-\\frac{1}{10}cos(\\ln(x))$\n",
    "\n",
    "$c_2 = \\frac{1}{70}(8-12\\sin(\\ln(2)) - 4\\cos(\\ln(2)))$\n",
    "\n",
    "$c_1 = \\frac{11}{10}-c_2$"
   ]
  },
  {
   "cell_type": "markdown",
   "metadata": {},
   "source": [
    "Berikut code script file untuk permasalahan di atas menggunakan metode linear shooting:"
   ]
  },
  {
   "cell_type": "code",
   "execution_count": 19,
   "metadata": {},
   "outputs": [
    {
     "name": "stdout",
     "output_type": "stream",
     "text": [
      "ans =\n",
      "\n",
      "   1.0000   1.0000   1.0000\n",
      "   1.1000   1.0926   1.0926\n",
      "   1.2000   1.1871   1.1871\n",
      "   1.3000   1.2834   1.2834\n",
      "   1.4000   1.3814   1.3814\n",
      "   1.5000   1.4812   1.4812\n",
      "   1.6000   1.5824   1.5824\n",
      "   1.7000   1.6850   1.6850\n",
      "   1.8000   1.7889   1.7889\n",
      "   1.9000   1.8939   1.8939\n",
      "   2.0000   2.0000   2.0000\n",
      "\n"
     ]
    },
    {
     "data": {
      "image/png": "[encoded data removed]",
      "text/plain": [
       "<IPython.core.display.Image object>"
      ]
     },
     "metadata": {},
     "output_type": "display_data"
    }
   ],
   "source": [
    "p = @(x) (-2 ./ x);\n",
    "q = @(x) (2 ./ (x .^ 2));\n",
    "r = @(x) (sin(log(x))*(x .^ (-2)));\n",
    "a = 1;\n",
    "b = 2;\n",
    "N = 10;\n",
    "alph = 1;\n",
    "bet = 2;\n",
    "\n",
    "[xi, w1i, w2i] = linear_shooting(p, q, r, a, b, N, alph, bet);\n",
    "\n",
    "% solusi eksak\n",
    "c2 = (8-12*sin(log(2)) - 4*cos(log(2)))/70;\n",
    "c1 = (11/10) - c2;\n",
    "sln = @(x) (c1*x + (c2*x.^(-2)) - (3/10)*sin(log(x)) - (1/10)*cos(log(x)));\n",
    "y_eksak = sln(xi);\n",
    "\n",
    "% tampilkan \n",
    "[xi, w1i', y_eksak]\n",
    "\n",
    "hold on;\n",
    "fplot(sln, [a,b], 'k');\n",
    "scatter(xi, w1i, '-r');\n",
    "legend('Eksak', 'Aproksimasi');\n",
    "legend('location', 'northwest');"
   ]
  },
  {
   "cell_type": "markdown",
   "metadata": {},
   "source": [
    "Jika kita run script file tersebut, maka program akan mengeluarkan dua macam output, yaitu tabel serta plot perbandingan solusi eksak dan aproksimasi seperti di bawah ini:\n",
    "\n",
    "![image.png](attachment:image.png)\n",
    "\n",
    "![image-2.png](attachment:image-2.png)"
   ]
  },
  {
   "cell_type": "markdown",
   "metadata": {},
   "source": [
    "## *Nonlinear Shooting*"
   ]
  },
  {
   "cell_type": "markdown",
   "metadata": {},
   "source": [
    "### Bentuk umum, ide utama"
   ]
  },
  {
   "cell_type": "markdown",
   "metadata": {},
   "source": [
    "Nonlinear Shooting digunakan untuk menyelesaikan masalah PD berbentuk:\n",
    "\n",
    "$y'' = f(x, y, y'), \\; a\\leq x \\leq b$\n",
    "\n",
    "$y(a)=\\alpha, \\; y(b)=\\beta$\n",
    "\n",
    "dengan $f$ boleh berupa fungsi linier maupun nonlinier"
   ]
  },
  {
   "cell_type": "markdown",
   "metadata": {},
   "source": [
    "Cara penyelesaiannya:\n",
    "\n",
    "1. Tentukan toleransi $\\varepsilon$, dan pilih tebakan awal $t_0$ (yaitu $t_k$ sebelum iterasi pertama, yaitu dengan $k=0$). Kalau bingung, disarankan\n",
    "\n",
    "$$t_0 = \\frac{\\beta - \\alpha}{b-a}$$\n",
    "\n",
    "2. Selesaikan MNA PDB orde 2 berikut, misalkan solusinya disebut $w(x,t_k)$:\n",
    "\n",
    "$$y'' = f(x,y,y'), \\quad a \\le x \\le b, \\quad y(a) = \\alpha, \\quad y'(a) = t_k$$\n",
    "\n",
    "3. Periksa apakah $\\left|w(x,t_k) - \\beta\\right| \\le \\varepsilon$.\n",
    "\n",
    "    - Kalau iya, selesai; solusi akhirnya adalah $y(x) = w(x,t_k)$.\n",
    "    - Kalau tidak, peroleh tebakan baru untuk $t_i$ (misalnya dengan metode secant atau metode Newton), lalu kembali ke langkah 2."
   ]
  },
  {
   "cell_type": "markdown",
   "metadata": {},
   "source": [
    "Seperti biasa, kita bisa misalkan $u_1(x) = y(x)$ dan $u_2(x) = y'(x)$ agar MNA PDB orde 2 menjadi sistem PDB orde 1."
   ]
  },
  {
   "cell_type": "markdown",
   "metadata": {},
   "source": [
    "Cara penyelesaiannya menjadi:\n",
    "\n",
    "1. Tentukan toleransi $\\varepsilon$, dan pilih tebakan awal $t_0$ (yaitu $t_k$ sebelum iterasi pertama, yaitu dengan $k=0$). Kalau bingung, disarankan\n",
    "\n",
    "$$t_0 = \\frac{\\beta - \\alpha}{b-a}$$\n",
    "\n",
    "2. Selesaikan sistem PDB orde 1 berikut. Kemudian $u_1(x)$ disebut $w(x,t_k)$ dan $u_2(x)$ disebut $w'(x,t_k)$.\n",
    "\n",
    "\\begin{aligned}\n",
    "u_1'(x) &= u_2(x) \\\\\n",
    "u_2'(x) &= f(x,u_1,u_2) \\\\\n",
    "y(a) &= \\alpha, \\quad y'(a) = t_k\n",
    "\\end{aligned}\n",
    "\n",
    "3. Periksa apakah $\\left|w(x,t_k) - \\beta\\right| \\le \\varepsilon$.\n",
    "\n",
    "    - Kalau iya, selesai; solusi akhirnya adalah $y(x) = w(x,t_k)$.\n",
    "    - Kalau tidak, peroleh tebakan baru untuk $t_k$ (misalnya dengan metode secant atau metode Newton), lalu kembali ke langkah 2."
   ]
  },
  {
   "cell_type": "markdown",
   "metadata": {},
   "source": [
    "### Function file (metode secant)"
   ]
  },
  {
   "cell_type": "code",
   "execution_count": null,
   "metadata": {},
   "outputs": [],
   "source": [
    "function [x, w1, w2] = nonlinear_shooting_secant(f, a, b, N, alph, bet, tol, t0, t1)\n",
    "  u1_aksen = @(x, u) u(2);\n",
    "  u2_aksen = @(x, u) f(x, u(1), u(2));\n",
    "  \n",
    "  t_k_min_2 = t0;\n",
    "  t_k_min_1 = t1;\n",
    "  [x, w_k_min_2] = rko4_sysm({u1_aksen, u2_aksen}, a, b, N, [alph, t_k_min_2]);\n",
    "  [x, w_k_min_1] = rko4_sysm({u1_aksen, u2_aksen}, a, b, N, [alph, t_k_min_1]);\n",
    "  w_k = w_k_min_1;\n",
    "  err = abs(w_k(1, N+1) - bet);\n",
    "  while !(err <= tol)\n",
    "    pembilang = (w_k_min_1(1,N+1) - bet) * (t_k_min_1 - t_k_min_2);\n",
    "    penyebut = w_k_min_1(1,N+1) - w_k_min_2(1,N+1);\n",
    "    t_k = t_k_min_1 - pembilang/penyebut;\n",
    "\n",
    "    t_k_min_2 = t_k_min_1\n",
    "    t_k_min_1 = t_k\n",
    "\n",
    "    [x, w_k] = rko4_sysm({u1_aksen, u2_aksen}, a, b, N, [alph, t_k]);\n",
    "    err = abs(w_k(1, N+1) - bet);\n",
    "  endwhile\n",
    "  % keluar loop artinya toleransi sudah terpenuhi\n",
    "  \n",
    "  % memisahkan w_k menjadi w1i dan w2i\n",
    "  w1 = w_k(1, :);\n",
    "  w2 = w_k(2, :);\n",
    "endfunction"
   ]
  },
  {
   "cell_type": "markdown",
   "metadata": {},
   "source": [
    "### Modifikasi untuk metode Newton"
   ]
  },
  {
   "cell_type": "markdown",
   "metadata": {},
   "source": [
    "Untuk menggunakan metode Newton, diperlukan tidak hanya $y(b,t)$ tetapi juga turunannya $\\frac{\\partial y(b,t)}{\\partial t}$ yang sayangnya tidak dimiliki."
   ]
  },
  {
   "cell_type": "markdown",
   "metadata": {},
   "source": [
    "Setelah penjabaran yang panjang di buku, ternyata bisa dimisalkan\n",
    "\n",
    "$$z(x,t) = \\frac{\\partial y(x,t)}{\\partial t}$$\n",
    "\n",
    "dan nilai fungsi $z$ ini ternyata bisa diperoleh dengan menyelesaikan suatu MNA PDB orde 2 (lagi). Sehingga, di tiap iterasi, ada dua MNA PDB orde 2 yang harus diselesaikan."
   ]
  },
  {
   "cell_type": "markdown",
   "metadata": {},
   "source": [
    "Langkah *nonlinear shooting* dengan metode Newton bisa ditulis:\n",
    "\n",
    "1. Hitung rumus $\\frac{\\partial f}{\\partial y}(x,y,y')$ dan rumus $\\frac{\\partial f}{\\partial y'}(x,y,y')$ secara analitik.\n",
    "\n",
    "2. Tentukan toleransi $\\varepsilon$, dan pilih tebakan awal $t_0$ (yaitu $t_k$ sebelum iterasi pertama, yaitu dengan $k=0$). Kalau bingung, disarankan\n",
    "\n",
    "$$t_0 = \\frac{\\beta - \\alpha}{b-a}$$\n",
    "\n",
    "3. Selesaikan MNA PDB orde 2 berikut, misalkan solusinya disebut $w(x,t_k)$:\n",
    "\n",
    "$$y'' = f(x,y,y'), \\quad a \\le x \\le b, \\quad y(a) = \\alpha, \\quad y'(a) = t_k$$\n",
    "\n",
    "4. Selesaikan MNA PDB orde 2 berikut:\n",
    "\n",
    "$$z'' = \\frac{\\partial f}{\\partial y}(x,y,y')z(x) + \\frac{\\partial f}{\\partial y'}(x,y,y')z'(x), \\quad z(a) = 0, \\quad z'(a) = 1$$\n",
    "\n",
    "5. Periksa apakah $\\left|w(x,t_k) - \\beta\\right| \\le \\varepsilon$.\n",
    "\n",
    "    - Kalau iya, selesai; solusi akhirnya adalah $y(x) = w(x,t_k)$.\n",
    "    - Kalau tidak, kembali ke langkah 3 setelah memperoleh tebakan baru untuk $t_k$:\n",
    "    $$t_k = t_{k-1} - \\frac{w(b, t_{k-1}) - \\beta}{z(b, t_{k-1})}$$"
   ]
  },
  {
   "cell_type": "markdown",
   "metadata": {},
   "source": [
    "Dengan permisalan $u_1$ dan $u_2$ agar PDB orde 2 menjadi sistem PDB orde 1, langkah-langkahnya menjadi:"
   ]
  },
  {
   "cell_type": "markdown",
   "metadata": {},
   "source": [
    "1. Hitung rumus $\\frac{\\partial f}{\\partial y}(x,y,y')$ dan rumus $\\frac{\\partial f}{\\partial y'}(x,y,y')$ secara analitik.\n",
    "\n",
    "2. Tentukan toleransi $\\varepsilon$, dan pilih tebakan awal $t_0$ (yaitu $t_k$ sebelum iterasi pertama, yaitu dengan $k=0$). Kalau bingung, disarankan\n",
    "\n",
    "$$t_0 = \\frac{\\beta - \\alpha}{b-a}$$\n",
    "\n",
    "3. Selesaikan sistem PDB orde 1 berikut. Kemudian $u_1(x)$ disebut $w(x,t_k)$ dan $u_2(x)$ disebut $w'(x,t_k)$.\n",
    "\n",
    "\\begin{aligned}\n",
    "u_1'(x) &= u_2(x) \\\\\n",
    "u_2'(x) &= f(x,u_1,u_2) \\\\\n",
    "y(a) &= \\alpha, \\quad y'(a) = t_k\n",
    "\\end{aligned}\n",
    "\n",
    "4. Selesaikan sistem PDB orde 1 berikut. Kemudian $u_1(x)$ disebut $z(x,t_k)$ dan $u_2(x)$ disebut $z'(x,t_k)$.\n",
    "\n",
    "    \\begin{aligned}\n",
    "    u_1'(x) &= u_2(x) \\\\\n",
    "    u_2'(x) &= \\frac{\\partial f}{\\partial y}(x,y,y')u_1(x) + \\frac{\\partial f}{\\partial y'}(x,y,y')u_2(x) \\\\\n",
    "    u_1(a) &= 0, \\quad u_2(a) = 1\n",
    "    \\end{aligned}\n",
    "\n",
    "    Note: nilai $y$ dan $y'$ sebenarnya tergantung $x$, sehingga sebaiknya ditulis $y(x)$ dan $y'(x)$:\n",
    "\n",
    "    \\begin{aligned}\n",
    "    u_1'(x) &= u_2(x) \\\\\n",
    "    u_2'(x) &= \\frac{\\partial f}{\\partial y}(x,y(x),y'(x))u_1(x) + \\frac{\\partial f}{\\partial y'}(x,y(x),y'(x))u_2(x) \\\\\n",
    "    u_1(a) &= 0, \\quad u_2(a) = 1\n",
    "    \\end{aligned}\n",
    "\n",
    "    Dalam perhitungan, nilai $y(x)$ dan $y'(x)$ bisa kita peroleh dari $w(x,t_k)$ dan $w'(x,t_k)$, yaitu nilai $w_{1,i}$ dan $w_{2,i}$ dari sistem yang sebelumnya.\n",
    "\n",
    "5. Periksa apakah $\\left|w(x,t_k) - \\beta\\right| \\le \\varepsilon$.\n",
    "\n",
    "    - Kalau iya, selesai; solusi akhirnya adalah $y(x) = w(x,t_k)$.\n",
    "    - Kalau tidak, kembali ke langkah 3 setelah memperoleh tebakan baru untuk $t_k$:\n",
    "    $$t_k = t_{k-1} - \\frac{w(b, t_{k-1}) - \\beta}{z(b, t_{k-1})}$$"
   ]
  },
  {
   "cell_type": "markdown",
   "metadata": {},
   "source": [
    "### Function file (dari pseudocode)"
   ]
  },
  {
   "cell_type": "code",
   "execution_count": null,
   "metadata": {},
   "outputs": [],
   "source": [
    "function [x_i, w_1i, w_2i] = nonlinshoot_pseudocode(f, fy, fyp, a, b, n, alpha, beta, m, tol)\n",
    "  % m adalah maksimum iterasi\n",
    "\n",
    "  h = (b - a)/n;\n",
    "  k = 1;\n",
    "  tk = (beta - alpha)/(b - a);\n",
    "  x_i = w_1i = w_2i = [];\n",
    "  while k <= m\n",
    "    w = [alpha;tk];\n",
    "    u = [0,1];\n",
    "    for i = 1:n\n",
    "      x = a + (i-1)*h;\n",
    "\n",
    "      k_11 = h*w(2,i);\n",
    "      k_12 = h*f(x, w(1,i), w(2,i));\n",
    "\n",
    "      k_21 = h*(w(2,i)+(k_12/2));\n",
    "      k_22 = h*f((x+(h/2)), (w(1,i)+(k_11/2)), (w(2,i)+(k_12/2)));\n",
    "\n",
    "      k_31 = h*(w(2,i)+(k_22/2));\n",
    "      k_32 = h*f((x+(h/2)), (w(1,i)+(k_21/2)), (w(2,i)+(k_22/2)));\n",
    "\n",
    "      k_41 = h*(w(2,i)+k_32);\n",
    "      k_42 = h*f((x+h), (w(1,i)+k_31), (w(2,i)+k_32));\n",
    "\n",
    "      w(1,i+1) = w(1,i) + ((k_11 + 2*k_21 + 2*k_31 + k_41)/6);\n",
    "      w(2,i+1) = w(2,i) + ((k_12 + 2*k_22 + 2*k_32 + k_42)/6);\n",
    "\n",
    "      kp_11 = h*u(2);\n",
    "      kp_12 = h*(fy(x, w(1,i), w(2,i))*u(1) + fyp(x, w(1,i), w(2,i))*u(2));\n",
    "\n",
    "      kp_21 = h*(u(2) + (kp_12/2));\n",
    "      kp_22 = h*(fy((x+(h/2)), w(1,i), w(2,i))*u(1) + fyp((x+(h/2)), w(1,i), w(2,i))*(u(2) + (kp_12/2)));\n",
    "\n",
    "      kp_31 = h*(u(2)+(kp_22/2));\n",
    "      kp_32 = h*(fy((x+(h/2)), w(1,i), w(2,i))*(u(1) + (kp_21/2)) + fyp((x+(h/2)), w(1,i), w(2,i))*(u(2) + (kp_22/2)));\n",
    "\n",
    "      kp_41 = h*(u(2)+kp_32);\n",
    "      kp_42 = h*(fy((x+h), w(1,i), w(2,i))*(u(1)+kp_31) + fyp((x+h), w(1,i), w(2,i))*(u(2) + kp_32));\n",
    "\n",
    "      u(1) = u(1) + (kp_11 + 2*kp_21 + 2*kp_31 + kp_41)/6;\n",
    "      u(2) = u(2) + (kp_12 + 2*kp_22 + 2*kp_32 + kp_42)/6;\n",
    "    endfor\n",
    "\n",
    "  if abs(w(1,n+1) - beta) <= tol       % jika sudah mencapai batas toleransi maka program berhenti\n",
    "    for i = 1:(n+1)\n",
    "      x = a+(i-1)*h;\n",
    "      x_i(i) = x;\n",
    "      w_1i(i) = w(1,i);\n",
    "      w_2i(i) = w(2,i);\n",
    "    endfor\n",
    "    return\n",
    "  endif\n",
    "  tk = tk-((w(1,n+1) - beta)/u(1));\n",
    "  k = k + 1;\n",
    "  endwhile\n",
    "  disp('max iteration')\n",
    "endfunction"
   ]
  },
  {
   "cell_type": "markdown",
   "metadata": {},
   "source": [
    "### Function file (metode Newton)"
   ]
  },
  {
   "cell_type": "code",
   "execution_count": 17,
   "metadata": {},
   "outputs": [],
   "source": [
    "function [x_arr, w1, w2] = nonlinear_shooting_newton(f, fy, fyp, a, b, N, alph, bet, tol, M, t0)\n",
    "  % kalau input t0 bukan angka, dianggap tidak memilih tebakan awal\n",
    "  if isnumeric(t0)\n",
    "    t_k = t0;\n",
    "  else\n",
    "    t_k = (bet-alph)/(b-a);\n",
    "  endif\n",
    "\n",
    "  % banyaknya iterasi\n",
    "  k = 1;\n",
    "\n",
    "  err = tol + 1;\n",
    "  % selama belum memenuhi toleransi ataupun mencapai batas iterasi\n",
    "  while (!(err <= tol) && k != M+1)\n",
    "    % selesaikan sistem pertama\n",
    "    u1_aksen = @(x, u) u(2);\n",
    "    u2_aksen = @(x, u) f(x, u(1), u(2));\n",
    "    [x_arr, w_sys] = rko4_sysm({u1_aksen, u2_aksen}, a, b, N, [alph, t_k]);\n",
    "\n",
    "    % y(x) adalah w1,i dengan i adalah indeks dari x (perlu dicari)\n",
    "    % pencariannya bisa dengan mengambil nilai pertama yang >= x\n",
    "    % (seandainya ada misalnya t_i + h/2, nilai w yang digunakan tetap di t_i)\n",
    "    y = @(x) w_sys(1, find(x_arr >= x)(1));\n",
    "\n",
    "    % y'(x) adalah w2,i dengan i adalah indeks dari x (perlu dicari)\n",
    "    yp = @(x) w_sys(2, find(x_arr >= x)(1));\n",
    "\n",
    "    % selesaikan sistem kedua\n",
    "    u1_aksen = @(x, u) u(2);\n",
    "    u2_aksen = @(x, u) fy(x, y(x), yp(x))*u(1) + fyp(x, y(x), yp(x))*u(2);\n",
    "    [x_arr, z_sys] = rko4_sysm({u1_aksen, u2_aksen}, a, b, N, [0, 1]);\n",
    "\n",
    "    % periksa toleransi, update t_k\n",
    "    err = abs(w_sys(1, N+1) - bet);\n",
    "    if !(err <= tol)\n",
    "      t_k = t_k - (w_sys(1, N+1) - bet)/(z_sys(1, N+1));\n",
    "    endif\n",
    "\n",
    "    % lanjut iterasi selanjutnya\n",
    "    k += 1;\n",
    "  endwhile\n",
    "  % keluar loop artinya toleransi sudah terpenuhi atau maks iterasi tercapai\n",
    "  if (k == M)\n",
    "    printf(\"Maks iterasi (%d) tercapai\\n\", M);\n",
    "  endif\n",
    "\n",
    "  % pisahkan w_sys menjadi w1i dan w2i\n",
    "  w1 = w_sys(1, :);\n",
    "  w2 = w_sys(2, :);\n",
    "endfunction"
   ]
  },
  {
   "cell_type": "markdown",
   "metadata": {},
   "source": [
    "### Contoh Nonlinear Shooting"
   ]
  },
  {
   "cell_type": "markdown",
   "metadata": {},
   "source": [
    "$y'' = \\frac{1}{8}(32+2x^3-yy'), \\; 1\\leq x \\leq 3$\n",
    "\n",
    "$y(1) = 17, \\; y(3)=43/3$\n",
    "\n",
    "dengan $N=20$ dan toleransi $=10^{-5}$\n",
    "\n",
    "dan solusi eksak:\n",
    "\n",
    "$y(x)=x^2 + \\frac{16}{x}$"
   ]
  },
  {
   "cell_type": "markdown",
   "metadata": {},
   "source": [
    "Hint:\n",
    "\n",
    "\\begin{aligned}\n",
    "f(x,y,y') &= \\frac{1}{8}(32+2x^3-yy') \\\\\n",
    "\\frac{\\partial f}{\\partial y}(x,y,y') &= -\\frac{1}{8}y' \\\\\n",
    "\\frac{\\partial f}{\\partial y'}(x,y,y') &= -\\frac{1}{8}y\n",
    "\\end{aligned}"
   ]
  },
  {
   "cell_type": "markdown",
   "metadata": {},
   "source": [
    "Berikut code script file untuk permasalahan di atas menggunakan metode linear shooting:"
   ]
  },
  {
   "cell_type": "code",
   "execution_count": 19,
   "metadata": {},
   "outputs": [
    {
     "name": "stdout",
     "output_type": "stream",
     "text": [
      "ans =\n",
      "\n",
      "    1.0000   17.0000   17.0000\n",
      "    1.1000   15.7555   15.7555\n",
      "    1.2000   14.7734   14.7733\n",
      "    1.3000   13.9978   13.9977\n",
      "    1.4000   13.3886   13.3886\n",
      "    1.5000   12.9167   12.9167\n",
      "    1.6000   12.5600   12.5600\n",
      "    1.7000   12.3018   12.3018\n",
      "    1.8000   12.1289   12.1289\n",
      "    1.9000   12.0311   12.0311\n",
      "    2.0000   12.0000   12.0000\n",
      "    2.1000   12.0291   12.0290\n",
      "    2.2000   12.1127   12.1127\n",
      "    2.3000   12.2465   12.2465\n",
      "    2.4000   12.4267   12.4267\n",
      "    2.5000   12.6500   12.6500\n",
      "    2.6000   12.9139   12.9138\n",
      "    2.7000   13.2159   13.2159\n",
      "    2.8000   13.5543   13.5543\n",
      "    2.9000   13.9272   13.9272\n",
      "    3.0000   14.3333   14.3333\n",
      "\n"
     ]
    },
    {
     "data": {
      "image/png": "[encoded data removed]",
      "text/plain": [
       "<IPython.core.display.Image object>"
      ]
     },
     "metadata": {},
     "output_type": "display_data"
    }
   ],
   "source": [
    "f = @(x, y, yp) ((1/8)*(32 + 2 * x.^3 - y .* yp));\n",
    "fy = @(x, y, yp) (-yp/8);\n",
    "fyp = @(x, y, yp) (-y/8);\n",
    "a = 1;\n",
    "b = 3;\n",
    "N = 20;\n",
    "alph = 17;\n",
    "bet = 43/3;\n",
    "tol = 10^(-5);\n",
    "M = -1; % maks iterasi. Nilai negatif artinya tidak ada maks\n",
    "\n",
    "[xi, w1i, w2i] = nonlinear_shooting_newton(f, fy, fyp, a, b, N, alph, bet, tol, M, \"\");\n",
    "\n",
    "sln = @(x) ((x .^ 2) + (16 ./ x));\n",
    "y_eksak = sln(xi);\n",
    "\n",
    "[xi, w1i', y_eksak]\n",
    "\n",
    "hold on;\n",
    "fplot(sln, [a,b], 'k');\n",
    "scatter(xi, w1i', 'r');\n",
    "legend('Eksak', 'Aproksimasi');"
   ]
  },
  {
   "cell_type": "markdown",
   "metadata": {},
   "source": [
    "Jika kita run script file tersebut, maka program akan mengeluarkan dua macam output, yaitu tabel serta plot perbandingan solusi eksak dan aproksimasi seperti di bawah ini:\n",
    "\n",
    "![image.png](attachment:image.png)\n",
    "\n",
    "![image-2.png](attachment:image-2.png)"
   ]
  },
  {
   "cell_type": "markdown",
   "metadata": {},
   "source": [
    "## *Linear Finite Difference*"
   ]
  },
  {
   "cell_type": "markdown",
   "metadata": {},
   "source": [
    "Metode ini digunakan untuk mengaproksimasi masalah linear dalam bentuk:"
   ]
  },
  {
   "cell_type": "markdown",
   "metadata": {},
   "source": [
    "\\begin{gathered}\n",
    "y^{\\prime \\prime}=p(x) y^{\\prime}+q(x) y+r(x), \\quad a \\leq x \\leq b \\\\\n",
    "y(a)=\\alpha, y(b)=\\beta\n",
    "\\end{gathered}"
   ]
  },
  {
   "cell_type": "markdown",
   "metadata": {},
   "source": [
    "Penyelesaiannya adalah dengan persamaan-persamaan berikut:"
   ]
  },
  {
   "cell_type": "markdown",
   "metadata": {},
   "source": [
    "\\begin{gathered}\n",
    "w_{0}=\\alpha, \\quad w_{N+1}=\\beta \\\\\n",
    "-\\left(1+\\frac{h}{2} p\\left(x_{i}\\right)\\right) w_{i-1}+\\left(2+h^{2} q\\left(x_{i}\\right)\\right) w_{i}-\\left(1-\\frac{h}{2} p\\left(x_{i}\\right)\\right) w_{i+1}=-h^{2} r\\left(x_{i}\\right)\n",
    "\\end{gathered}"
   ]
  },
  {
   "cell_type": "markdown",
   "metadata": {},
   "source": [
    "Bentuk tersebut dapat dibuat sebagai suatu SPL:"
   ]
  },
  {
   "cell_type": "markdown",
   "metadata": {},
   "source": [
    "$$\n",
    "A \\mathbf{w}=\\mathbf{b}\n",
    "$$"
   ]
  },
  {
   "cell_type": "markdown",
   "metadata": {},
   "source": [
    "![](./pdnum6_Picture1.png)"
   ]
  },
  {
   "cell_type": "markdown",
   "metadata": {},
   "source": [
    "$\\mathbf{w}=\\left[\\begin{array}{c}w_{1} \\\\ w_{2} \\\\ \\vdots \\\\ w_{N-1} \\\\ w_{N}\\end{array}\\right], \\quad$ and $\\quad \\mathbf{b}=\\left[\\begin{array}{c}-h^{2} r\\left(x_{1}\\right)+\\left(1+\\frac{h}{2} p\\left(x_{1}\\right)\\right) w_{0} \\\\ -h^{2} r\\left(x_{2}\\right) \\\\ \\vdots \\\\ -h^{2} r\\left(x_{N-1}\\right) \\\\ -h^{2} r\\left(x_{N}\\right)+\\left(1-\\frac{h}{2} p\\left(x_{N}\\right)\\right) w_{N+1}\\end{array}\\right]$."
   ]
  },
  {
   "cell_type": "markdown",
   "metadata": {},
   "source": [
    "Menurut buku, SPL tersebut sebaiknya diselesaikan dengan metode faktorisasi Crout (algoritma 6.7). (Intinya, mumpung A adalah matriks tridiagonal, algoritma ini nyari inverse A secara linier, makanya runtime dari algortima ini adalah $O(n)$)"
   ]
  },
  {
   "cell_type": "markdown",
   "metadata": {},
   "source": [
    "Namun, tentunya kita bebas menyelesaikan SPLnya dengan cara apapun, bahkan dengan cara iteratif seperti Gauss-Seidel"
   ]
  },
  {
   "cell_type": "markdown",
   "metadata": {},
   "source": [
    "### Function file (dari pseudocode)"
   ]
  },
  {
   "cell_type": "code",
   "execution_count": 5,
   "metadata": {},
   "outputs": [],
   "source": [
    "function [xt,w]=linfdm_pseudocode(p,q,r,a_boundary,b_boundary,alpha,beta,n)\n",
    "  h=(b_boundary-a_boundary)/(n+1); %stepsize\n",
    "  a=zeros(n,1); %diagonal sistem persamaannya\n",
    "  b=zeros(n,1); % right diagonal sistem persamaannya\n",
    "  c=zeros(n,1); %left diagonal sistem persamaannya\n",
    "  d=zeros(n,1); %vektor b (Ay=b) pada sistem persamaannya\n",
    "  l=zeros(n,1); % main diagonal of lower triangle matrix\n",
    "  u=zeros(n,1); %right diagonal of upper triangle matrix\n",
    "  z= zeros(n,1); %solution of Lz=b\n",
    "  w=zeros(n+1,1); %solusi aproksimasi dengan linear fdm\n",
    "  xt=[a_boundary:h:b_boundary]; %mesh_point\n",
    "  x=a_boundary+h;\n",
    "\n",
    "  %konstruksi matrix tridiagonalnya\n",
    "  a(1)=2+(h^2)*q(x);\n",
    "  b(1)= -1+(h/2)*p(x);\n",
    "  d(1)=-h^2*r(x) +(1+(h/2)*p(x))*alpha;\n",
    "\n",
    "  for i = 2:n-1\n",
    "    x= a_boundary+i*h;\n",
    "    a(i)=2+h^2*q(x); %diagonal\n",
    "    b(i)=-1+(h/2)*p(x);\n",
    "    c(i)=-1-(h/2)*p(x);\n",
    "    d(i)=-h^2*r(x);\n",
    "  endfor\n",
    "\n",
    "  x=b_boundary-h;\n",
    "  a(n)=2+h^2*q(x);\n",
    "  c(n)=-1-(h/2)*p(x);\n",
    "  d(n)=-h^2*r(x)+(1-(h/2)*p(x))*beta;\n",
    "\n",
    "  %matriks tridiagonalnya sudah didapatkan,\n",
    "  %akan diselesaikan dengan LU Decomposition (crout factorization)\n",
    "\n",
    "  l(1)= a(1);\n",
    "  u(1)=b(1)/a(1);\n",
    "  z(1)=d(1)/l(1);\n",
    "\n",
    "  for i= 2:n-1\n",
    "    l(i)=a(i)-c(i)*u(i-1);\n",
    "    u(i)=b(i)/l(i);\n",
    "    z(i)=(d(i)-c(i)*z(i-1))/l(i);\n",
    "\n",
    "  endfor\n",
    "\n",
    "  l(n)=a(n)-c(n)*u(n-1);\n",
    "  z(n)=(d(n)-c(n)*z(n-1))/l(n);\n",
    "\n",
    "  %konstruksi akhir w-nya\n",
    "  w(n+1)=beta;\n",
    "  w(n)=z(n);\n",
    "  for i = n-1:-1:1\n",
    "    w(i)=z(i)-u(i)*w(i+1);\n",
    "  endfor\n",
    "\n",
    "  w=[alpha;w];\n",
    "  xt=transpose(xt);\n",
    "\n",
    "endfunction"
   ]
  },
  {
   "cell_type": "markdown",
   "metadata": {},
   "source": [
    "### Function file (dengan solusi SPL secara eksak/invers)"
   ]
  },
  {
   "cell_type": "code",
   "execution_count": 1,
   "metadata": {},
   "outputs": [],
   "source": [
    "function [x, w_grid] = linear_fd_eksak(p, q, r, a, b, N, alph, bet)\n",
    "  % bikin array x\n",
    "  h = (b - a) / (N+1);\n",
    "  x = a : h : b;\n",
    "\n",
    "  % susun matriks A dan vektor b\n",
    "  A = zeros(N, N);\n",
    "  b = -h^2 * r(x(2:N+1));\n",
    "  % kasus khusus untuk baris pertama\n",
    "  b(1) += (1 + h/2 * p(x(2))) * alph;\n",
    "  A(1, 1) += 2 + h^2 * q(x(2));\n",
    "  A(1, 2) += -1 + h/2 * p(x(2));\n",
    "  % kasus khusus untuk baris terakhir\n",
    "  A(N, N-1) += -1 - h/2 * p(x(N+1));\n",
    "  A(N, N) += 2 + h^2 * q(x(N+1));\n",
    "  b(N) += (1 - h/2 * p(x(N+1))) * bet;\n",
    "  % untuk baris kedua hingga kedua-terakhir\n",
    "  for i = 2 : (N-1)\n",
    "    A(i, i-1) += -1 - h/2 * p(x(i+1));\n",
    "    A(i, i) += 2 + h^2 * q(x(i+1));\n",
    "    A(i, i+1) += -1 + h/2 * p(x(i+1));\n",
    "  endfor\n",
    "\n",
    "  % selesaikan SPL\n",
    "  w = A \\ b';\n",
    "  % w baru mengandung w1, ..., w_N\n",
    "\n",
    "  % gabungkan dengan w0 (alpha) dan w_{N+1} (beta)\n",
    "  w_grid = [alph w' bet];\n",
    "endfunction"
   ]
  },
  {
   "cell_type": "markdown",
   "metadata": {},
   "source": [
    "### Contoh *Linear Finite Difference*"
   ]
  },
  {
   "cell_type": "markdown",
   "metadata": {},
   "source": [
    "Akan kita uji dengan masalah nilai batas:"
   ]
  },
  {
   "cell_type": "markdown",
   "metadata": {},
   "source": [
    "$$\n",
    "\\begin{aligned}\n",
    "y^{\\prime \\prime} & =-\\frac{4}{x} y^{\\prime}-\\frac{2}{x^2} y+\\frac{2 \\ln x}{x^2}, \\quad 1 \\leq x \\leq 2 \\\\\n",
    "y(1) & =\\frac{1}{2}, \\quad y(2)=\\ln 2\n",
    "\\end{aligned}\n",
    "$$\n",
    "Solusi eksak:\n",
    "$$\n",
    "y(x)=\\frac{4}{x}-\\frac{2}{x^2}+\\ln x-\\frac{3}{2}\n",
    "$$"
   ]
  },
  {
   "cell_type": "code",
   "execution_count": 3,
   "metadata": {},
   "outputs": [
    {
     "name": "stdout",
     "output_type": "stream",
     "text": [
      "ans =\n",
      "\n",
      "   1.0000   0.5000   0.5000        0\n",
      "   1.0476   0.5425   0.5424   0.0001\n",
      "   1.0952   0.5759   0.5758   0.0001\n",
      "   1.1429   0.6024   0.6023   0.0001\n",
      "   1.1905   0.6233   0.6232   0.0001\n",
      "   1.2381   0.6397   0.6396   0.0001\n",
      "   1.2857   0.6527   0.6525   0.0001\n",
      "   1.3333   0.6628   0.6627   0.0001\n",
      "   1.3810   0.6707   0.6706   0.0001\n",
      "   1.4286   0.6768   0.6767   0.0001\n",
      "   1.4762   0.6814   0.6813   0.0001\n",
      "   1.5238   0.6850   0.6849   0.0001\n",
      "   1.5714   0.6876   0.6875   0.0001\n",
      "   1.6190   0.6895   0.6895   0.0001\n",
      "   1.6667   0.6909   0.6908   0.0000\n",
      "   1.7143   0.6918   0.6918   0.0000\n",
      "   1.7619   0.6924   0.6924   0.0000\n",
      "   1.8095   0.6928   0.6928   0.0000\n",
      "   1.8571   0.6930   0.6930   0.0000\n",
      "   1.9048   0.6931   0.6931   0.0000\n",
      "   1.9524   0.6931   0.6931   0.0000\n",
      "   2.0000   0.6931   0.6931   0.0000\n",
      "\n"
     ]
    },
    {
     "data": {
      "image/png": "[encoded data removed]",
      "text/plain": [
       "<IPython.core.display.Image object>"
      ]
     },
     "metadata": {},
     "output_type": "display_data"
    }
   ],
   "source": [
    "p= @(x) (-4./x); %function p(x)\n",
    "q= @(x) (-2./x.^2);%function q(x)\n",
    "r=@(x) 2*log(x)./(x.^2); %function r(x)\n",
    "a=1; %batas kiri domain\n",
    "b=2; %batas kanan domain\n",
    "N=20; %banyaknya partisi\n",
    "alph=0.5; %y(a)=alpha\n",
    "bet=log(2); %y(b)=beta\n",
    "[x_grid,w_grid] = linear_fd_eksak(p,q,r,a,b,N,alph,bet); %memangil fungsinya\n",
    "\n",
    "sln = @(x) 4./x - 2./(x.^2) + log(x) - 1.5;\n",
    "y_eksak = sln(x_grid);\n",
    "err = abs(y_eksak - w_grid);\n",
    "\n",
    "%bikin tabel dan grafiknya :D\n",
    "\n",
    "[x_grid', w_grid', y_eksak', err']\n",
    "\n",
    "hold on;\n",
    "fplot(sln, [a,b], 'b')\n",
    "scatter(x_grid, w_grid, 'r')\n",
    "legend('Eksak', 'Aproksimasi');"
   ]
  },
  {
   "cell_type": "markdown",
   "metadata": {},
   "source": []
  }
 ],
 "metadata": {
  "kernelspec": {
   "display_name": "Octave",
   "language": "octave",
   "name": "octave"
  },
  "language_info": {
   "file_extension": ".m",
   "help_links": [
    {
     "text": "GNU Octave",
     "url": "https://www.gnu.org/software/octave/support.html"
    },
    {
     "text": "Octave Kernel",
     "url": "https://github.com/Calysto/octave_kernel"
    },
    {
     "text": "MetaKernel Magics",
     "url": "https://metakernel.readthedocs.io/en/latest/source/README.html"
    }
   ],
   "mimetype": "text/x-octave",
   "name": "octave",
   "version": "6.2.0"
  }
 },
 "nbformat": 4,
 "nbformat_minor": 2
}
