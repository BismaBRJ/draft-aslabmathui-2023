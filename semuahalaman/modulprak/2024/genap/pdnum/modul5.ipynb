{
 "cells": [
  {
   "cell_type": "markdown",
   "id": "553187d2",
   "metadata": {},
   "source": [
    "# Modul 5 Persamaan Diferensial Numerik: Sistem PDB orde 1 dan PDB orde tinggi"
   ]
  },
  {
   "cell_type": "markdown",
   "id": "855fb8b8",
   "metadata": {},
   "source": [
    "Kembali ke [Persamaan Diferensial Numerik](./pdnum2024genap.qmd)"
   ]
  },
  {
   "cell_type": "markdown",
   "id": "d749d4be",
   "metadata": {},
   "source": [
    "## Sistem Persamaan Diferensial: *(fourth-order) Runge-Kutta for Systems*"
   ]
  },
  {
   "cell_type": "markdown",
   "id": "e11beea3",
   "metadata": {},
   "source": [
    "### Bentuk umum"
   ]
  },
  {
   "cell_type": "markdown",
   "id": "b991d8aa",
   "metadata": {},
   "source": [
    "Bentuk umum sistem Persamaan Diferensial:\n",
    "\n",
    "$u'_1 = f_1(t,u_1,u_2,...,u_m)$\n",
    "\n",
    "$u'_2 = f_2(t,u_1,u_2,...,u_m)$\n",
    "\n",
    "$...$\n",
    "\n",
    "$u'_m = f_m(t,u_1,u_2,...,u_m)$\n",
    "\n",
    "dengan:\n",
    "\n",
    "$a \\leq t \\leq b$\n",
    "\n",
    "$u_1(a)=a_1, u_2(a)=a_2, ..., u_m(a)=a_m$ (initial value)"
   ]
  },
  {
   "cell_type": "markdown",
   "id": "8e7be02b",
   "metadata": {},
   "source": [
    "Bentuk umum algoritma metode untuk sistem PDB orde 1"
   ]
  },
  {
   "cell_type": "markdown",
   "id": "1810b255",
   "metadata": {},
   "source": [
    "```\n",
    "for i = 1 : N do\n",
    "    for R in (rumus-rumus untuk iterasi ke-i) do\n",
    "        for j = 1 : m do\n",
    "            Hitung R dengan f_j\n",
    "        endfor\n",
    "    endfor\n",
    "endfor\n",
    "```"
   ]
  },
  {
   "cell_type": "markdown",
   "id": "8c5fb9cd",
   "metadata": {},
   "source": [
    "Misalnya, apabila ada lima rumus (seperti dalam metode Runge-Kutta orde 4), algoritma untuk sistem menjadi:"
   ]
  },
  {
   "cell_type": "markdown",
   "id": "4bffa948",
   "metadata": {},
   "source": [
    "```\n",
    "for i = 1 : N do\n",
    "    for j = 1 : m do\n",
    "        Hitung Rumus1 dengan f_j\n",
    "    endfor\n",
    "\n",
    "    for j = 1 : m do\n",
    "        Hitung Rumus2 dengan f_j\n",
    "    endfor\n",
    "\n",
    "    for j = 1 : m do\n",
    "        Hitung Rumus3 dengan f_j\n",
    "    endfor\n",
    "\n",
    "    for j = 1 : m do\n",
    "        Hitung Rumus4 dengan f_j\n",
    "    endfor\n",
    "\n",
    "    for j = 1 : m do\n",
    "        Hitung Rumus5 dengan f_j\n",
    "    endfor\n",
    "endfor\n",
    "```"
   ]
  },
  {
   "cell_type": "markdown",
   "id": "09b0a81c",
   "metadata": {},
   "source": [
    "Apabila misalnya rumus pada iterasi 1, 2, 3 berbeda dengan rumus pada iterasi 4+ (seperti untuk metode Adams predictor-corrector orde 4), algoritma untuk sistem bisa seperti berikut:"
   ]
  },
  {
   "cell_type": "markdown",
   "id": "ce53f09b",
   "metadata": {},
   "source": [
    "```\n",
    "for i = 1 : 3 do\n",
    "    for j = 1 : m do\n",
    "        Hitung Rumus1 dengan f_j\n",
    "    endfor\n",
    "\n",
    "    for j = 1 : m do\n",
    "        Hitung Rumus2 dengan f_j\n",
    "    endfor\n",
    "\n",
    "    for j = 1 : m do\n",
    "        Hitung Rumus3 dengan f_j\n",
    "    endfor\n",
    "\n",
    "    for j = 1 : m do\n",
    "        Hitung Rumus4 dengan f_j\n",
    "    endfor\n",
    "\n",
    "    for j = 1 : m do\n",
    "        Hitung Rumus5 dengan f_j\n",
    "    endfor \n",
    "endfor\n",
    "\n",
    "for i = 4 : N do\n",
    "    for j = 1 : m do\n",
    "        Hitung Rumus1 dengan f_j\n",
    "    endfor\n",
    "\n",
    "    for j = 1 : m do\n",
    "        Hitung Rumus2 dengan f_j\n",
    "    endfor\n",
    "endfor\n",
    "```"
   ]
  },
  {
   "attachments": {},
   "cell_type": "markdown",
   "id": "b7a1e915",
   "metadata": {},
   "source": [
    "### Function file: (fourth-order) Runge-Kutta for systems"
   ]
  },
  {
   "cell_type": "markdown",
   "id": "e70ed32a",
   "metadata": {},
   "source": [
    "Pada modul ini, akan dibahas mengenai metode Runge-Kutta orde 4 untuk menyelesaikan sistem persamaan diferensial. Berikut merupakan code dari metode Runge-Kutta untuk sistem persamaan diferensial pada Octave yang perlu disimpan pada function file."
   ]
  },
  {
   "cell_type": "markdown",
   "id": "ea65837c",
   "metadata": {},
   "source": [
    "Untuk dua PDB:"
   ]
  },
  {
   "cell_type": "raw",
   "id": "262c1a47",
   "metadata": {},
   "source": [
    "::: {.panel-tabset}\n",
    "\n",
    "### *Function file* `rko4_sys2.m` - nama *file* harus sama dengan nama fungsi"
   ]
  },
  {
   "cell_type": "code",
   "execution_count": null,
   "id": "28b472ae",
   "metadata": {},
   "outputs": [],
   "source": [
    "function [t, w1, w2] = rko4_sys2(f1, f2, a, b, N, alph1, alph2)\n",
    "  h = (b - a)/N;\n",
    "  t = w1 = w2 = [];\n",
    "  t(1) = a;\n",
    "  w1(1) = alph1;\n",
    "  w2(1) = alph2;\n",
    "  for i = 1:N\n",
    "    k11 = h * f1(t(i), w1(i), w2(i));\n",
    "    k12 = h * f2(t(i), w1(i), w2(i));\n",
    "\n",
    "    k21 = h * f1((t(i)+(h/2)), (w1(i)+(k11/2)), (w2(i)+(k12/2)));\n",
    "    k22 = h * f2((t(i)+(h/2)), (w1(i)+(k11/2)), (w2(i)+(k12/2)));\n",
    "\n",
    "    k31 = h * f1((t(i)+(h/2)), (w1(i)+(k21/2)), (w2(i)+(k22/2)));\n",
    "    k32 = h * f2((t(i)+(h/2)), (w1(i)+(k21/2)), (w2(i)+(k22/2)));\n",
    "\n",
    "    k41 = h * f1((t(i)+h), (w1(i)+k31), (w2(i)+k32));\n",
    "    k42 = h * f2((t(i)+h), (w1(i)+k31), (w2(i)+k32));\n",
    "\n",
    "    w1(i+1) = w1(i) + (k11 + 2*k21 + 2*k31 + k41)/6;\n",
    "    w2(i+1) = w2(i) + (k12 + 2*k22 + 2*k32 + k42)/6;\n",
    "    t(i+1) = a + i*h;\n",
    "  endfor\n",
    "endfunction"
   ]
  },
  {
   "cell_type": "raw",
   "id": "f8583663",
   "metadata": {},
   "source": [
    ":::"
   ]
  },
  {
   "cell_type": "markdown",
   "id": "2877edf3",
   "metadata": {},
   "source": [
    "Untuk m PDB:"
   ]
  },
  {
   "cell_type": "raw",
   "id": "2c0bd485",
   "metadata": {},
   "source": [
    "::: {.panel-tabset}\n",
    "\n",
    "### *Function file* `rko4_sysm.m` - nama *file* harus sama dengan nama fungsi"
   ]
  },
  {
   "cell_type": "code",
   "execution_count": 2,
   "id": "c7217818",
   "metadata": {},
   "outputs": [],
   "source": [
    "function [t, w] = rko4_sysm(cell_f, a, b, N, alphas)\n",
    "  m = length(cell_f);\n",
    "\n",
    "  h = (b - a) / N;\n",
    "  t = zeros(N + 1, 1);\n",
    "  w = zeros(m, N + 1);\n",
    "  t(1) = a;\n",
    "  w(:, 1) = alphas;\n",
    "\n",
    "  k1 = zeros(m, 1);\n",
    "  k2 = zeros(m, 1);\n",
    "  k3 = zeros(m, 1);\n",
    "  k4 = zeros(m, 1);\n",
    "  for i = 1 : N\n",
    "    t(i + 1) = t(i) + h;\n",
    "\n",
    "    for j = 1 : m\n",
    "      k1(j) = h * cell_f{j}(t(i), w(:, i));\n",
    "    endfor\n",
    "\n",
    "    for j = 1 : m\n",
    "      k2(j) = h * cell_f{j}(t(i) + (h / 2), w(:, i) + (k1 / 2));\n",
    "    endfor\n",
    "\n",
    "    for j = 1 : m\n",
    "      k3(j) = h * cell_f{j}(t(i) + (h / 2), w(:, i) + (k2 / 2));\n",
    "    endfor\n",
    "\n",
    "    for j = 1 : m\n",
    "      k4(j) = h * cell_f{j}(t(i + 1), w(:, i) + k3);\n",
    "    endfor\n",
    "\n",
    "    for j = 1 : m\n",
    "      w(j, i + 1) = w(j, i) + (k1(j) + 2 * k2(j) + 2 * k3(j) + k4(j)) / 6;\n",
    "    endfor\n",
    "  endfor\n",
    "endfunction"
   ]
  },
  {
   "cell_type": "raw",
   "id": "347e578e",
   "metadata": {},
   "source": [
    ":::"
   ]
  },
  {
   "cell_type": "markdown",
   "id": "b9626b74",
   "metadata": {},
   "source": [
    "### Contoh sistem PD\n",
    "\n",
    "$u'_1 = -4u_1+3u_2+6, \\;u_1(0)=0$\n",
    "\n",
    "$u'_2 = -2.4u_1+1.6u_2+3.6, \\;u_2(0)=0$\n",
    "\n",
    "Akan diuji dengan $h=0.1$ dan $0\\leq t \\leq 0.5$\n",
    "\n",
    "Solusi eksak:\n",
    "\n",
    "$u_1(t)=-3.375e^{-2t}+1.875e^{-0.4t}+1.5$\n",
    "\n",
    "$u_2(t) = -2.25e^{-2t}+2.25e^{-0.4t}$"
   ]
  },
  {
   "cell_type": "markdown",
   "id": "f1687c55",
   "metadata": {},
   "source": [
    "Berikut adalah code script file untuk menjalankan function metode Runge-Kutta untuk sistem PD di atas (menggunakan yang khusus dua persamaan):"
   ]
  },
  {
   "cell_type": "raw",
   "id": "bbf9a051",
   "metadata": {},
   "source": [
    "::: {.panel-tabset}\n",
    "\n",
    "### *Script file* `coba_rko4_sys2.m` - nama *file* bebas"
   ]
  },
  {
   "cell_type": "code",
   "execution_count": null,
   "id": "ee5e5b89",
   "metadata": {},
   "outputs": [],
   "source": [
    "f1 = @(t, y1, y2) (-4*y1 + 3*y2 + 6);\n",
    "f2 = @(t, y1, y2) (-2.4*y1 + 1.6*y2 + 3.6);\n",
    "\n",
    "a = 0;\n",
    "b = 0.5;\n",
    "N = 5;\n",
    "alph1 = 0;\n",
    "alph2 = 0;\n",
    "\n",
    "[t, w1, w2] = rko4_sys2(f1, f2, a, b, N, alph1, alph2);\n",
    "\n",
    "sln1 = @(t) (-3.375*exp(-2*t) + 1.875*exp(-0.4*t) + 1.5);\n",
    "sln2 = @(t) (-2.25*exp(-2*t) + 2.25*exp(-0.4*t));\n",
    "\n",
    "w1ex = w2ex = [];\n",
    "for i = 1:length(t)\n",
    "  w1ex(i) = sln1(t(i));\n",
    "  w2ex(i) = sln2(t(i));\n",
    "endfor\n",
    "\n",
    "[t', w1', w2', w1ex', w2ex']\n",
    "\n",
    "hold on;\n",
    "fplot(sln1, [a, b], 'r');\n",
    "fplot(sln2, [a, b], 'b');\n",
    "scatter(t, w1, 'r');\n",
    "scatter(t, w2, 'b');\n",
    "legend('u1', 'u2');\n",
    "legend('location', 'northwest');"
   ]
  },
  {
   "cell_type": "raw",
   "id": "18c99107",
   "metadata": {},
   "source": [
    ":::"
   ]
  },
  {
   "attachments": {
    "image-3.png": {
     "image/png": "[encoded data removed]"
    },
    "image.png": {
     "image/png": "[encoded data removed]"
    }
   },
   "cell_type": "markdown",
   "id": "8a9a91df",
   "metadata": {},
   "source": [
    "Jika kita run script file tersebut, maka program akan mengeluarkan dua macam output, yaitu tabel serta plot perbandingan solusi eksak dan aproksimasi seperti di bawah ini:\n",
    "\n",
    "![image.png](attachment:image.png)\n",
    "\n",
    "![image-3.png](attachment:image-3.png)"
   ]
  },
  {
   "cell_type": "markdown",
   "id": "69b4a65e",
   "metadata": {},
   "source": [
    "Berikut conoth script file menggunakan kode yang untuk m persamaan."
   ]
  },
  {
   "cell_type": "raw",
   "id": "ed6b0531",
   "metadata": {},
   "source": [
    "::: {.panel-tabset}\n",
    "\n",
    "### *Script file* `coba_rko4_sysm.m` - nama *file* bebas"
   ]
  },
  {
   "cell_type": "code",
   "execution_count": 13,
   "id": "cacaa6c1",
   "metadata": {},
   "outputs": [
    {
     "name": "stdout",
     "output_type": "stream",
     "text": [
      "ans =\n",
      "\n",
      "        0        0        0        0        0\n",
      "   0.1000   0.5383   0.3196   0.5383   0.3196\n",
      "   0.2000   0.9685   0.5688   0.9685   0.5688\n",
      "   0.3000   1.3107   0.7607   1.3107   0.7607\n",
      "   0.4000   1.5813   0.9063   1.5813   0.9063\n",
      "   0.5000   1.7935   1.0144   1.7935   1.0144\n",
      "\n"
     ]
    },
    {
     "data": {
      "image/png": "[encoded data removed]",
      "text/plain": [
       "<IPython.core.display.Image object>"
      ]
     },
     "metadata": {},
     "output_type": "display_data"
    }
   ],
   "source": [
    "f1 = @(t, y) (-4*y(1) + 3*y(2) + 6);\n",
    "f2 = @(t, y) (-2.4*y(1) + 1.6*y(2) + 3.6);\n",
    "\n",
    "a = 0;\n",
    "b = 0.5;\n",
    "N = 5;\n",
    "alpha1 = 0;\n",
    "alpha2 = 0;\n",
    "\n",
    "[t, w] = rko4_sysm({f1, f2}, a, b, N, [alpha1, alpha2]);\n",
    "\n",
    "sln1 = @(t) (-3.375*exp(-2*t) + 1.875*exp(-0.4*t) + 1.5);\n",
    "sln2 = @(t) (-2.25*exp(-2*t) + 2.25*exp(-0.4*t));\n",
    "\n",
    "w1ex = zeros(N+1, 1);\n",
    "w2ex = zeros(N+1, 1);\n",
    "for i = 1:length(t)\n",
    "  w1ex(i) = sln1(t(i));\n",
    "  w2ex(i) = sln2(t(i));\n",
    "endfor\n",
    "\n",
    "[t, w', w1ex, w2ex]\n",
    "\n",
    "hold on;\n",
    "fplot(sln1, [a, b], 'r');\n",
    "scatter(t, w(1, :), 'r'); % ambil baris pertama yaitu solusi u1\n",
    "fplot(sln2, [a, b], 'b');\n",
    "scatter(t, w(2, :), 'b'); % ambil baris kedua yaitu solusi u2\n",
    "legend('u1 (eksak)', 'w1,i', 'u2 (eksak)', 'w2,i');\n",
    "legend('location', 'northwest');"
   ]
  },
  {
   "cell_type": "raw",
   "id": "5061854b",
   "metadata": {},
   "source": [
    ":::"
   ]
  },
  {
   "cell_type": "markdown",
   "id": "bbcad4d4",
   "metadata": {},
   "source": [
    "Sebenarnya, kita bisa saja menampilkan dua plot yang terpisah, menggunakan perintah `figure`"
   ]
  },
  {
   "cell_type": "raw",
   "id": "bac3201a",
   "metadata": {},
   "source": [
    "::: {.panel-tabset}\n",
    "\n",
    "### *Script file* `coba2_rko4_sysm.m` - nama *file* bebas"
   ]
  },
  {
   "cell_type": "code",
   "execution_count": 12,
   "id": "f522418f",
   "metadata": {},
   "outputs": [
    {
     "name": "stdout",
     "output_type": "stream",
     "text": [
      "ans =\n",
      "\n",
      "        0        0        0        0        0\n",
      "   0.1000   0.5383   0.3196   0.5383   0.3196\n",
      "   0.2000   0.9685   0.5688   0.9685   0.5688\n",
      "   0.3000   1.3107   0.7607   1.3107   0.7607\n",
      "   0.4000   1.5813   0.9063   1.5813   0.9063\n",
      "   0.5000   1.7935   1.0144   1.7935   1.0144\n",
      "\n"
     ]
    },
    {
     "data": {
      "image/png": "[encoded data removed]",
      "text/plain": [
       "<IPython.core.display.Image object>"
      ]
     },
     "metadata": {},
     "output_type": "display_data"
    },
    {
     "data": {
      "image/png": "[encoded data removed]",
      "text/plain": [
       "<IPython.core.display.Image object>"
      ]
     },
     "metadata": {},
     "output_type": "display_data"
    }
   ],
   "source": [
    "f1 = @(t, y) (-4*y(1) + 3*y(2) + 6);\n",
    "f2 = @(t, y) (-2.4*y(1) + 1.6*y(2) + 3.6);\n",
    "\n",
    "a = 0;\n",
    "b = 0.5;\n",
    "N = 5;\n",
    "alpha1 = 0;\n",
    "alpha2 = 0;\n",
    "\n",
    "[t, w] = rko4_sysm({f1, f2}, a, b, N, [alpha1, alpha2]);\n",
    "\n",
    "sln1 = @(t) (-3.375*exp(-2*t) + 1.875*exp(-0.4*t) + 1.5);\n",
    "sln2 = @(t) (-2.25*exp(-2*t) + 2.25*exp(-0.4*t));\n",
    "\n",
    "w1ex = zeros(N+1, 1);\n",
    "w2ex = zeros(N+1, 1);\n",
    "for i = 1:length(t)\n",
    "  w1ex(i) = sln1(t(i));\n",
    "  w2ex(i) = sln2(t(i));\n",
    "endfor\n",
    "\n",
    "[t, w', w1ex, w2ex]\n",
    "\n",
    "figure;\n",
    "hold on;\n",
    "fplot(sln1, [a, b], 'g');\n",
    "scatter(t, w(1, :), 'r'); % ambil baris pertama yaitu solusi u1\n",
    "title(\"Aproksimasi u1\");\n",
    "legend(\"u1 (eksak)\", \"w1,i (aproksimasi)\")\n",
    "legend('location', 'northwest');\n",
    "\n",
    "figure;\n",
    "hold on;\n",
    "fplot(sln2, [a, b], 'g');\n",
    "scatter(t, w(2, :), 'b'); % ambil baris kedua yaitu solusi u2\n",
    "title(\"Aproksimasi u2\");\n",
    "legend(\"u2 (eksak)\", \"w2,i (aproksimasi)\")\n",
    "legend('location', 'northwest');"
   ]
  },
  {
   "cell_type": "raw",
   "id": "4518921a",
   "metadata": {},
   "source": [
    ":::"
   ]
  },
  {
   "cell_type": "markdown",
   "id": "a4bfc9b4",
   "metadata": {},
   "source": [
    "## Untuk metode Taylor orde $n$"
   ]
  },
  {
   "cell_type": "raw",
   "id": "36e54382",
   "metadata": {},
   "source": [
    "::: {.panel-tabset}\n",
    "\n",
    "### *Function file* `taylor_sysm.m` - nama *file* harus sama dengan nama fungsi"
   ]
  },
  {
   "cell_type": "code",
   "execution_count": 9,
   "id": "1701a12a",
   "metadata": {},
   "outputs": [],
   "source": [
    "function [t, w] = taylor_sysm(cell_f, cell_fp, a, b, N, alphas)\n",
    "  m = length(cell_f);\n",
    "  \n",
    "  h = (b - a) / N;\n",
    "  n = length(cell_fp{1}) + 1;\n",
    "  t = zeros(N + 1, 1);\n",
    "  w = zeros(m, N + 1);\n",
    "  t(1) = a;\n",
    "  w(:, 1) = alphas;\n",
    "  for i = 1 : N\n",
    "    t(i + 1) = t(i) + h;\n",
    "    \n",
    "    for j = 1 : m\n",
    "      T = cell_f{j}(t(i), w(:, i));\n",
    "      for p = 2 : n\n",
    "        T += h^(p-1) * cell_fp{j}{p-1}(t(i), w(:, i)) / factorial(p);\n",
    "      endfor\n",
    "      w(j, i + 1) = w(j, i) + h * T;\n",
    "    endfor\n",
    "  endfor\n",
    "endfunction"
   ]
  },
  {
   "cell_type": "raw",
   "id": "0aa81555",
   "metadata": {},
   "source": [
    ":::"
   ]
  },
  {
   "cell_type": "markdown",
   "id": "c44c7995",
   "metadata": {},
   "source": [
    "### Contoh $n=1$ (metode Euler)"
   ]
  },
  {
   "cell_type": "markdown",
   "id": "4cafa418",
   "metadata": {},
   "source": [
    "Mencoba untuk masalah yang sama, misalnya dengan n=1 (metode Euler):"
   ]
  },
  {
   "cell_type": "raw",
   "id": "4c1ea1a4",
   "metadata": {},
   "source": [
    "::: {.panel-tabset}\n",
    "\n",
    "### *Script file* `coba1_taylor_sysm.m` - nama *file* bebas"
   ]
  },
  {
   "cell_type": "code",
   "execution_count": 11,
   "id": "cb1267ed",
   "metadata": {},
   "outputs": [
    {
     "name": "stdout",
     "output_type": "stream",
     "text": [
      "ans =\n",
      "\n",
      "        0        0        0        0        0\n",
      "   0.1000   0.6000   0.3600   0.5383   0.3196\n",
      "   0.2000   1.0680   0.6336   0.9685   0.5688\n",
      "   0.3000   1.4309   0.8387   1.3107   0.7607\n",
      "   0.4000   1.7101   0.9894   1.5813   0.9063\n",
      "   0.5000   1.9229   1.0973   1.7935   1.0144\n",
      "\n"
     ]
    },
    {
     "data": {
      "image/png": "[encoded data removed]",
      "text/plain": [
       "<IPython.core.display.Image object>"
      ]
     },
     "metadata": {},
     "output_type": "display_data"
    },
    {
     "data": {
      "image/png": "[encoded data removed]",
      "text/plain": [
       "<IPython.core.display.Image object>"
      ]
     },
     "metadata": {},
     "output_type": "display_data"
    }
   ],
   "source": [
    "f1 = @(t, u) (-4*u(1) +3*u(2) + 6);\n",
    "f2 = @(t, u) (-2.4*u(1) + 1.6*u(2) + 3.6);\n",
    "\n",
    "a = 0;\n",
    "b = 0.5;\n",
    "h = 0.1;\n",
    "N = (b - a) / h;\n",
    "alpha1 = 0;\n",
    "alpha2 = 0;\n",
    "\n",
    "[t, w] = taylor_sysm({f1, f2}, {{}, {}}, a, b, N, [alpha1, alpha2]);\n",
    "\n",
    "sln1 = @(t) (-3.375*exp(-2*t) + 1.875*exp(-0.4*t) + 1.5);\n",
    "sln2 = @(t) (-2.25*exp(-2*t) + 2.25*exp(-0.4*t));\n",
    "\n",
    "u1_eksak = sln1(t);\n",
    "u2_eksak = sln2(t);\n",
    "\n",
    "[t, w', u1_eksak, u2_eksak]\n",
    "\n",
    "figure;\n",
    "hold on;\n",
    "fplot(sln1, [a,b], 'r');\n",
    "scatter(t, w(1, :), 'r');\n",
    "title(\"u1\");\n",
    "legend(\"u1 (eksak)\", \"w1,i (aproksimasi)\")\n",
    "legend('location', 'northwest')\n",
    "\n",
    "figure;\n",
    "hold on;\n",
    "fplot(sln2, [a,b], 'b');\n",
    "scatter(t, w(2, :), 'b');\n",
    "title(\"u2\");\n",
    "legend(\"u2 (eksak)\", \"w2,i (aproksimasi)\")\n",
    "legend('location', 'northwest')"
   ]
  },
  {
   "cell_type": "raw",
   "id": "3e4cabf5",
   "metadata": {},
   "source": [
    ":::"
   ]
  },
  {
   "cell_type": "markdown",
   "id": "1bb85653",
   "metadata": {},
   "source": [
    "## Untuk metode Adams *predictor-corrector* orde 4"
   ]
  },
  {
   "cell_type": "raw",
   "id": "1d09cfdd",
   "metadata": {},
   "source": [
    "::: {.panel-tabset}\n",
    "\n",
    "### *Function file* `adams_pc_orde4_sysm.m` - nama *file* harus sama dengan nama fungsi"
   ]
  },
  {
   "cell_type": "code",
   "execution_count": 14,
   "id": "eeac0316",
   "metadata": {},
   "outputs": [],
   "source": [
    "function [t, w] = adams_pc_orde4_sysm(cell_f, a, b, N, alphas)\n",
    "  m = length(cell_f);\n",
    "  \n",
    "  % Inisiasi variabel awal\n",
    "  h = (b - a) / N;\n",
    "  t = zeros(N + 1, 1);\n",
    "  w = zeros(m, N + 1);\n",
    "  t(1) = a;\n",
    "  w(:, 1) = alphas;\n",
    "  \n",
    "  % Hitung w(2), w(3), w(4) menggunakan metode Runge-Kutta orde 4\n",
    "  k1 = zeros(m, 1);\n",
    "  k2 = zeros(m, 1);\n",
    "  k3 = zeros(m, 1);\n",
    "  k4 = zeros(m, 1);\n",
    "  for i = 1 : 3\n",
    "      t(i + 1) = t(i) + h;\n",
    "      \n",
    "      for j = 1 : m\n",
    "        k1(j) = h * cell_f{j}(t(i), w(:,i));\n",
    "      endfor\n",
    "      \n",
    "      for j = 1 : m\n",
    "        k2(j) = h * cell_f{j}(t(i) + (h/2), w(:,i) + (k1/2));\n",
    "      endfor\n",
    "      \n",
    "      for j = 1 : m\n",
    "        k3(j) = h * cell_f{j}(t(i) + (h/2), w(:,i) + (k2/2));\n",
    "      endfor\n",
    "      \n",
    "      for j = 1 : m\n",
    "        k4(j) = h * cell_f{j}(t(i + 1), w(:,i) + k3);\n",
    "      endfor\n",
    "      \n",
    "      for j = 1 : m\n",
    "        w(j,i+1) = w(j,i) + (k1(j) + 2*k2(j) + 2*k3(j) + k4(j)) / 6;\n",
    "      endfor\n",
    "  endfor\n",
    "  \n",
    "  % Algoritma utama Adams Predictor-Corrector orde 4\n",
    "  m0 = zeros(m, 1);\n",
    "  m1 = zeros(m, 1);\n",
    "  m2 = zeros(m, 1);\n",
    "  m3 = zeros(m, 1);\n",
    "  m4 = zeros(m, 1);\n",
    "  for i = 4 : N\n",
    "    t(i + 1) = t(i) + h;\n",
    "    \n",
    "    for j = 1 : m\n",
    "      m1(j) = cell_f{j}(t(i), w(:,i));\n",
    "    endfor\n",
    "    \n",
    "    for j = 1 : m\n",
    "      m2(j) = cell_f{j}(t(i-1), w(:,i-1));\n",
    "    endfor \n",
    "    \n",
    "    for j = 1 : m\n",
    "      m3(j) = cell_f{j}(t(i-2), w(:,i-2));\n",
    "    endfor\n",
    "    \n",
    "    for j = 1 : m\n",
    "      m4(j) = cell_f{j}(t(i-3), w(:,i-3));\n",
    "    endfor\n",
    "    \n",
    "    % Adams-Bashforth orde 4 (four-step)\n",
    "    for j = 1 : m\n",
    "      w(j,i+1) = w(j,i) + (h/24) * (55*m1(j) - 59*m2(j) + 37*m3(j) - 9*m4(j));\n",
    "    endfor\n",
    "    % Adams-Moulton orde 4 (three-step)\n",
    "    for j = 1 : m\n",
    "      m0(j) = cell_f{j}(t(i+1), w(:,i+1));\n",
    "    endfor\n",
    "    for j = 1 : m\n",
    "      w(j,i+1) = w(j,i) + (h/24) * (9*m0(j) + 19*m1(j) - 5*m2(j) + m3(j));\n",
    "    endfor\n",
    "  endfor\n",
    "endfunction"
   ]
  },
  {
   "cell_type": "raw",
   "id": "060f1029",
   "metadata": {},
   "source": [
    ":::"
   ]
  },
  {
   "cell_type": "markdown",
   "id": "2f24266b",
   "metadata": {},
   "source": [
    "Mencoba untuk masalah yang sama:"
   ]
  },
  {
   "cell_type": "raw",
   "id": "fe963c85",
   "metadata": {},
   "source": [
    "::: {.panel-tabset}\n",
    "\n",
    "### *Script file* `coba_adams_pc_orde4_sysm.m` - nama *file* bebas"
   ]
  },
  {
   "cell_type": "code",
   "execution_count": 15,
   "id": "13d7b648",
   "metadata": {},
   "outputs": [
    {
     "name": "stdout",
     "output_type": "stream",
     "text": [
      "ans =\n",
      "\n",
      "        0        0        0        0        0\n",
      "   0.1000   0.5383   0.3196   0.5383   0.3196\n",
      "   0.2000   0.9685   0.5688   0.9685   0.5688\n",
      "   0.3000   1.3107   0.7607   1.3107   0.7607\n",
      "   0.4000   1.5813   0.9063   1.5813   0.9063\n",
      "   0.5000   1.7936   1.0144   1.7935   1.0144\n",
      "\n"
     ]
    },
    {
     "data": {
      "image/png": "[encoded data removed]",
      "text/plain": [
       "<IPython.core.display.Image object>"
      ]
     },
     "metadata": {},
     "output_type": "display_data"
    },
    {
     "data": {
      "image/png": "[encoded data removed]",
      "text/plain": [
       "<IPython.core.display.Image object>"
      ]
     },
     "metadata": {},
     "output_type": "display_data"
    }
   ],
   "source": [
    "f1 = @(t, u) (-4*u(1) +3*u(2) + 6);\n",
    "f2 = @(t, u) (-2.4*u(1) + 1.6*u(2) + 3.6);\n",
    "\n",
    "a = 0;\n",
    "b = 0.5;\n",
    "h = 0.1;\n",
    "N = (b - a) / h;\n",
    "alpha1 = 0;\n",
    "alpha2 = 0;\n",
    "\n",
    "[t, w] = adams_pc_orde4_sysm({f1, f2}, a, b, N, [alpha1, alpha2]);\n",
    "\n",
    "sln1 = @(t) (-3.375*exp(-2*t) + 1.875*exp(-0.4*t) + 1.5);\n",
    "sln2 = @(t) (-2.25*exp(-2*t) + 2.25*exp(-0.4*t));\n",
    "\n",
    "u1_eksak = sln1(t);\n",
    "u2_eksak = sln2(t);\n",
    "\n",
    "[t, w', u1_eksak, u2_eksak]\n",
    "\n",
    "figure;\n",
    "hold on;\n",
    "fplot(sln1, [a,b], 'r');\n",
    "scatter(t, w(1, :), 'r');\n",
    "title(\"u1\");\n",
    "legend(\"u1 (eksak)\", \"w1,i (aproksimasi)\")\n",
    "legend('location', 'northwest')\n",
    "\n",
    "figure;\n",
    "hold on;\n",
    "fplot(sln2, [a,b], 'b');\n",
    "scatter(t, w(2, :), 'b');\n",
    "title(\"u2\");\n",
    "legend(\"u2 (eksak)\", \"w2,i (aproksimasi)\")\n",
    "legend('location', 'northwest')"
   ]
  },
  {
   "cell_type": "code",
   "execution_count": null,
   "id": "27433d27",
   "metadata": {},
   "outputs": [],
   "source": []
  }
 ],
 "metadata": {
  "kernelspec": {
   "display_name": "Octave",
   "language": "octave",
   "name": "octave"
  },
  "language_info": {
   "file_extension": ".m",
   "help_links": [
    {
     "text": "GNU Octave",
     "url": "https://www.gnu.org/software/octave/support.html"
    },
    {
     "text": "Octave Kernel",
     "url": "https://github.com/Calysto/octave_kernel"
    },
    {
     "text": "MetaKernel Magics",
     "url": "https://metakernel.readthedocs.io/en/latest/source/README.html"
    }
   ],
   "mimetype": "text/x-octave",
   "name": "octave",
   "version": "6.2.0"
  }
 },
 "nbformat": 4,
 "nbformat_minor": 5
}
