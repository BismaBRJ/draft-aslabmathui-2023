{
 "cells": [
  {
   "cell_type": "markdown",
   "metadata": {},
   "source": [
    "# Modul 8 Praktikum Sains Data: Keras untuk Regresi dan Klasifikasi Gambar"
   ]
  },
  {
   "cell_type": "markdown",
   "metadata": {},
   "source": [
    "Kembali ke [Sains Data](./saindat2024genap.qmd)"
   ]
  },
  {
   "cell_type": "markdown",
   "metadata": {},
   "source": [
    "(work in progress!)"
   ]
  },
  {
   "cell_type": "markdown",
   "metadata": {},
   "source": [
    "## *Functional API*"
   ]
  },
  {
   "cell_type": "code",
   "execution_count": null,
   "metadata": {},
   "outputs": [],
   "source": [
    "x_sym = keras.Input(shape = (2,))"
   ]
  },
  {
   "cell_type": "code",
   "execution_count": null,
   "metadata": {},
   "outputs": [],
   "source": [
    "dense_func = keras.layers.Dense(1, activation = 'sigmoid')\n",
    "y_sym = dense_func(x_sym)"
   ]
  },
  {
   "cell_type": "code",
   "execution_count": null,
   "metadata": {},
   "outputs": [],
   "source": [
    "model5 = keras.Model(inputs=x_sym, outputs=y_sym)"
   ]
  },
  {
   "cell_type": "code",
   "execution_count": null,
   "metadata": {},
   "outputs": [
    {
     "name": "stdout",
     "output_type": "stream",
     "text": [
      "Model: \"model\"\n",
      "_________________________________________________________________\n",
      " Layer (type)                Output Shape              Param #   \n",
      "=================================================================\n",
      " input_3 (InputLayer)        [(None, 2)]               0         \n",
      "                                                                 \n",
      " dense_1 (Dense)             (None, 1)                 3         \n",
      "                                                                 \n",
      "=================================================================\n",
      "Total params: 3\n",
      "Trainable params: 3\n",
      "Non-trainable params: 0\n",
      "_________________________________________________________________\n"
     ]
    }
   ],
   "source": [
    "model5.summary()"
   ]
  },
  {
   "cell_type": "code",
   "execution_count": null,
   "metadata": {},
   "outputs": [],
   "source": [
    "keras.utils.plot_model(\n",
    "    model5,\n",
    "    show_shapes = True,\n",
    "    show_layer_activations = True,\n",
    "    to_file = \"keras_functional_model5.png\"\n",
    ")"
   ]
  },
  {
   "cell_type": "markdown",
   "metadata": {},
   "source": [
    "![](./keras_functional_model5.png)"
   ]
  },
  {
   "cell_type": "markdown",
   "metadata": {},
   "source": [
    "Sisanya (*compile* lalu *fit*) sama dengan Sequential API"
   ]
  },
  {
   "cell_type": "markdown",
   "metadata": {},
   "source": [
    "## *Subclassing API* (yaitu dengan OOP)"
   ]
  },
  {
   "cell_type": "code",
   "execution_count": null,
   "metadata": {},
   "outputs": [],
   "source": [
    "class MyPerceptron(keras.layers.Layer):\n",
    "    def __init__(self, units=1):\n",
    "        super().__init__()\n",
    "\n",
    "        # banyaknya neuron di output layer\n",
    "        self.units = units\n",
    "\n",
    "    # menyiapkan parameter (weights and biases) tergantung ukuran input\n",
    "    def build(self, input_shape):\n",
    "        input_dim = input_shape[-1]\n",
    "\n",
    "        # matriks W terkadang disebut kernel\n",
    "        self.kernel = self.add_weight(\n",
    "            shape = (input_dim, self.units),\n",
    "            initializer = keras.initializers.RandomNormal(mean=0, stddev=0.05),\n",
    "            trainable = True,\n",
    "        )\n",
    "        self.bias = self.add_weight(\n",
    "            shape = (self.units,),\n",
    "            initializer = keras.initializers.Zeros(),\n",
    "            trainable = True\n",
    "        )\n",
    "\n",
    "    # forward pass\n",
    "    def call(self, inputs):\n",
    "        return keras.ops.sigmoid(\n",
    "            keras.ops.matmul(inputs, self.kernel) + self.bias\n",
    "        )"
   ]
  }
 ],
 "metadata": {
  "language_info": {
   "name": "python"
  }
 },
 "nbformat": 4,
 "nbformat_minor": 2
}
