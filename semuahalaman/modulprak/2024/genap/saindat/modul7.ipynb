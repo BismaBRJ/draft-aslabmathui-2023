{
 "cells": [
  {
   "cell_type": "markdown",
   "metadata": {},
   "source": [
    "# Modul 7 Praktikum Sains Data: Pengantar TensorFlow & Keras"
   ]
  },
  {
   "cell_type": "markdown",
   "metadata": {},
   "source": [
    "Kembali ke [Sains Data](./saindat2024genap.qmd)"
   ]
  },
  {
   "cell_type": "markdown",
   "metadata": {},
   "source": [
    "Sekarang kita sudah masuk ke materi *artificial neural network* (ANN) atau biasa disebut *neural network* (NN), yang mendasari dunia *deep learning*."
   ]
  },
  {
   "cell_type": "markdown",
   "metadata": {},
   "source": [
    "Saat modul praktikum ini disusun (April 2024), ada dua *framework* utama untuk *deep learning* di Python, yaitu:\n",
    "\n",
    "1. TensorFlow: <https://www.tensorflow.org/>\n",
    "\n",
    "    (dan Keras di dalamnya: <https://keras.io/>)\n",
    "\n",
    "2. PyTorch: <https://pytorch.org/>\n",
    "\n",
    "Kedua *framework* ini bersaing. Umumnya, TensorFlow lebih sering digunakan di industri, sedangkan PyTorch lebih sering digunakan dalam riset/penelitian."
   ]
  },
  {
   "cell_type": "markdown",
   "metadata": {},
   "source": [
    "Di pertemuan kali ini, kita akan membahas TensorFlow, baik penggunaannya secara sendiri (*pure TensorFlow*, yaitu tanpa Keras) maupun dengan bantuan Keras. Kalau belum punya, instal terlebih dahulu:"
   ]
  },
  {
   "cell_type": "code",
   "execution_count": null,
   "metadata": {},
   "outputs": [],
   "source": [
    "pip install tensorflow"
   ]
  },
  {
   "cell_type": "markdown",
   "metadata": {},
   "source": [
    "Keras terinstal bersama TensorFlow (karena Keras ada di dalamnya)."
   ]
  },
  {
   "cell_type": "markdown",
   "metadata": {},
   "source": [
    "Lalu import:"
   ]
  },
  {
   "cell_type": "code",
   "execution_count": 6,
   "metadata": {},
   "outputs": [],
   "source": [
    "import tensorflow as tf\n",
    "from tensorflow import keras\n",
    "import numpy as np\n",
    "import matplotlib.pyplot as plt"
   ]
  },
  {
   "cell_type": "markdown",
   "metadata": {},
   "source": [
    "## Pengantar *Neural Network*"
   ]
  },
  {
   "cell_type": "markdown",
   "metadata": {},
   "source": [
    "*Overview:*\n",
    "\n",
    "- Secara umum, suatu *neural network* terdiri dari sejumlah *layer* atau lapisan (minimal dua).\n",
    "\n",
    "- *Layer* pertama disebut *input layer*, dan *layer* terakhir disebut *output layer*.\n",
    "\n",
    "- Tiap *layer* terdiri dari sejumlah *neuron*, yang masing-masing bisa menyimpan suatu nilai.\n",
    "\n",
    "- Kecuali *input layer*, tiap *neuron* terhubung dengan sejumlah *neuron* di *layer* sebelumnya.\n",
    "\n",
    "- Tiap sambungan terdiri dari nilai *weight* (sebagai pengali), nilai *bias* (sebagai pergeseran), dan suatu \"fungsi aktivasi\" yang menghasilkan nilai untuk *neuron* tujuan.\n",
    "\n",
    "- *Weight* maupun *bias* disebut **parameter** dari *neural network*.\n",
    "\n",
    "- Proses *training* adalah terus-menerus memperbarui parameter hingga hasil prediksi *neural network* sudah cukup baik, dengan meminimumkan suatu ***loss function*** atau fungsi objektif (yang intinya menghitung *error*).\n",
    "\n",
    "- Suatu *neural network* bisa memiliki sejumlah *layer*, masing-masing dengan banyaknya *neuron* tertentu dan fungsi-fungsi aktivasi tertentu. Hal-hal itu disebut \n",
    "***hyperparameter*** dari *neural network*. Suatu **arsitektur** adalah suatu pilihan/konfigurasi *hyperparameter*."
   ]
  },
  {
   "cell_type": "markdown",
   "metadata": {},
   "source": [
    "### SLP: *(Single-Layer) Perceptron*"
   ]
  },
  {
   "cell_type": "markdown",
   "metadata": {},
   "source": [
    "ANN paling pertama adalah *perceptron* (juga disebut SLP atau *single-layer perceptron*) yang dirancang oleh Frank Rosenblatt pada tahun 1957 (Géron, 2019). Ini adalah *neural network* yang paling sederhana, bahkan ini bisa disebut *building block* dari semua ANN (apabila diberi kebebasan untuk modifikasi). Konsep dasar *neural network* bisa kita pelajari di sini."
   ]
  },
  {
   "cell_type": "markdown",
   "metadata": {},
   "source": [
    "![](./gambar/aggarwal_nndl_hal5.png)\n",
    "\n",
    "Sumber gambar: Aggarwal (2018) hal. 5"
   ]
  },
  {
   "cell_type": "markdown",
   "metadata": {},
   "source": [
    "*Perceptron* hanya terdiri dari satu *input layer* dan satu *output layer*. Bahkan, aslinya hanya ada satu *neuron* di *output layer*."
   ]
  },
  {
   "cell_type": "markdown",
   "metadata": {},
   "source": [
    "Apabila dibutuhkan lebih dari satu *neuron* di *output layer*, itu bisa dianggap menggunakan lebih dari satu *perceptron* (yaitu menggunakan banyaknya *perceptron* sesuai banyaknya *neuron* di *output layer*), yang saling \"ditumpuk\":"
   ]
  },
  {
   "cell_type": "markdown",
   "metadata": {},
   "source": [
    "![](./gambar/goodfellow_dl_hal337_crop.png)\n",
    "\n",
    "Sumber gambar: Goodfellow, et. al. (2016) hal. 337"
   ]
  },
  {
   "cell_type": "markdown",
   "metadata": {},
   "source": [
    "Aslinya, fungsi aktivasi yang digunakan oleh *perceptron* adalah *Heaviside step function* $H(v)$ yang mungkin kalian kenal dari mata kuliah PDB, atau juga disebut *threshold activation function*:\n",
    "\n",
    "$$H(v) = \\begin{cases}\n",
    "    1, & v \\ge 0 \\\\\n",
    "    0, & v < 0\n",
    "\\end{cases}$$"
   ]
  },
  {
   "cell_type": "markdown",
   "metadata": {},
   "source": [
    "Sehingga, untuk *output neuron* ke-$j$ yang disambung dari $n$ *input neuron*, model *perceptron* bisa dirumuskan sebagai berikut:\n",
    "\n",
    "$$y_j = H\\left(\\left(\\sum_{i=1}^{n} w_{ij} x_i \\right) + b_j\\right)$$\n",
    "\n",
    "dengan\n",
    "\n",
    "- $x_i$ adalah nilai pada *input neuron* ke-$i$\n",
    "\n",
    "- $y_j$ adalah nilai pada *output neuron* ke-$j$\n",
    "\n",
    "- $w_{ij}$ adalah parameter *weight* untuk sambungan *input neuron* ke-$i$ menuju *output neuron* ke-$j$\n",
    "\n",
    "- $b_j$ adalah parameter *bias* untuk *output neuron* ke-$j$"
   ]
  },
  {
   "cell_type": "markdown",
   "metadata": {},
   "source": [
    "Lebih umumnya,\n",
    "\n",
    "$$y_j = \\Phi\\left(\\left(\\sum_{i=1}^{n} w_{ij} x_i \\right) + b_j\\right)$$\n",
    "\n",
    "dengan $\\Phi(v)$ adalah sembarang fungsi aktivasi."
   ]
  },
  {
   "cell_type": "markdown",
   "metadata": {},
   "source": [
    "*Note:* seperti di gambar, sebenarnya *bias* juga bisa dianggap *neuron* istimewa yang nilai $x_i$ nya selalu satu."
   ]
  },
  {
   "cell_type": "markdown",
   "metadata": {},
   "source": [
    "Biasanya, semua nilai di *layer* selanjutnya dihitung secara sekaligus menggunakan perkalian matriks, dengan perumusan:\n",
    "\n",
    "$$\\textbf{y} = \\Phi\\left(\\textbf{w}^T \\textbf{x} + \\textbf{b}\\right)$$\n",
    "\n",
    "dengan $\\textbf{x} = [x_i]$, $\\textbf{y} = [y_j]$, dan $\\textbf{b} = [b_j]$ adalah vektor kolom, serta $\\textbf{w} = \\left[w_{ij}\\right]$ adalah matriks."
   ]
  },
  {
   "cell_type": "markdown",
   "metadata": {},
   "source": [
    "### MLP: *Multilayer Perceptron*"
   ]
  },
  {
   "cell_type": "markdown",
   "metadata": {},
   "source": [
    "Konsep *single-layer perceptron* bisa diperumum menjadi *multilayer perceptron* atau *neural network* yang biasa kita kenal, dengan menambahkan beberapa *layer* di antara *input layer* dan *output layer*. Semua *layer* selain *input layer* dan *output layer* disebut *hidden layer*."
   ]
  },
  {
   "cell_type": "markdown",
   "metadata": {},
   "source": [
    "![](./gambar/aggarwal_nndl_hal18.png)\n",
    "\n",
    "Sumber gambar: Aggarwal (2018) hal. 18"
   ]
  },
  {
   "cell_type": "markdown",
   "metadata": {},
   "source": [
    "Konsep perhitungan antara tiap *layer* tetap sama, yaitu\n",
    "\n",
    "$$\\textbf{y} = \\Phi\\left(\\textbf{w}^T \\textbf{x} + \\textbf{b}\\right)$$"
   ]
  },
  {
   "cell_type": "markdown",
   "metadata": {},
   "source": [
    "### Fungsi Aktivasi"
   ]
  },
  {
   "cell_type": "markdown",
   "metadata": {},
   "source": [
    "![](./gambar/aggarwal_nndl_hal13.png)\n",
    "\n",
    "Sumber gambar: Aggarwal (2018) hal. 13"
   ]
  },
  {
   "cell_type": "markdown",
   "metadata": {},
   "source": [
    "Beberapa fungsi aktivasi adalah (Aggarwal, 2018, hal. 12-13):\n",
    "\n",
    "a. \"Linier\" atau identitas\n",
    "\n",
    "$$\\Phi(v) = v$$\n",
    "\n",
    "b. *Sign* (fungsi tanda): $\\text{sign}(v)$ atau $\\text{sgn}(v)$\n",
    "\n",
    "$$\n",
    "\\Phi(v) = \\text{sign}(v) = \\begin{cases}\n",
    "    1, & v > 0 \\\\\n",
    "    0, & v = 0 \\\\\n",
    "    -1, & v < 0\n",
    "\\end{cases}\n",
    "$$\n",
    "\n",
    "c. Sigmoid, terkadang dilambangkan $\\sigma(v)$ dan terkadang disebut fungsi aktivasi logistik\n",
    "\n",
    "$$\\Phi(v) = \\frac{1}{1 + e^{-v}}$$\n",
    "\n",
    "d. *(Soft)* tanh: $\\tanh(v)$\n",
    "\n",
    "$$\\Phi(v) = \\frac{e^{2v} - 1}{e^{2v} + 1} = 2 * \\text{sigmoid}(2v) - 1$$\n",
    "\n",
    "e. *Rectified Linear Unit* (ReLU)\n",
    "\n",
    "$$\\Phi(v) = \\max\\{v, 0\\}$$\n",
    "\n",
    "f. *Hard tanh*\n",
    "\n",
    "$$\\Phi(v) = \\max\\{\\min\\{v, 1\\}, -1\\}$$"
   ]
  },
  {
   "cell_type": "markdown",
   "metadata": {},
   "source": [
    "Fungsi aktivasi yang paling sering digunakan adalah ReLU, kecuali untuk *output layer*."
   ]
  },
  {
   "cell_type": "markdown",
   "metadata": {},
   "source": [
    "Untuk *output layer*, biasanya,\n",
    "\n",
    "- untuk regresi, banyaknya *neuron* sesuai banyaknya nilai prediksi (umumnya hanya satu), dan digunakan fungsi aktivasi linier\n",
    "\n",
    "- untuk klasifikasi *multiclass* (lebih dari dua kelas), biasanya banyaknya *output neuron* sesuai banyaknya kelas, dan digunakan fungsi aktivasi ***softmax*** sebagai berikut, agar *output* berupa peluang tiap kelas:\n",
    "\n",
    "$$\\Phi(\\overline{v})_i = \\frac{\\exp(v_i)}{\\sum_{j=1}^k \\exp(v_j)}$$\n",
    "\n",
    "- untuk klasifikasi biner, hanya ada satu *neuron* di *output layer*, dan digunakan fungsi aktivasi *sigmoid*. (Keberadaan hanya satu *output neuron* lebih hemat daripada menggunakan dua *output neuron*)"
   ]
  },
  {
   "cell_type": "markdown",
   "metadata": {},
   "source": [
    "### *Loss function*"
   ]
  },
  {
   "cell_type": "markdown",
   "metadata": {},
   "source": [
    "Misalkan $y_i$ adalah nilai sebenarnya dan $\\hat{y}_i$ adalah hasil prediksi."
   ]
  },
  {
   "cell_type": "markdown",
   "metadata": {},
   "source": [
    "Untuk regresi, biasa digunakan MSE *(mean squared error)*, juga disebut *L2 loss*:\n",
    "\n",
    "$$\\text{MSE}(y, \\hat{y}) = \\frac{1}{n} \\sum_{i=1}^{n} \\left( y_i - \\hat{y}_i \\right)^2$$"
   ]
  },
  {
   "cell_type": "markdown",
   "metadata": {},
   "source": [
    "Untuk klasifikasi, biasa digunakan yang namanya *cross-entropy loss*, juga disebut *logistic loss* atau *log loss*:\n",
    "\n",
    "$$L_{\\text{log}}(y,\\hat{y}) = -(y \\ln (\\hat{y}) + (1 - y) \\ln (1 - \\hat{y}))$$"
   ]
  },
  {
   "cell_type": "markdown",
   "metadata": {},
   "source": [
    "### Proses *training*"
   ]
  },
  {
   "cell_type": "markdown",
   "metadata": {},
   "source": [
    "Proses *training* untuk *neural network* dilakukan secara iteratif, yaitu tiap iterasi akan memperbarui parameter sehingga nilai *loss function* menjadi lebih kecil."
   ]
  },
  {
   "cell_type": "markdown",
   "metadata": {},
   "source": [
    "Tiap iterasi melakukan langkah-langkah berikut untuk tiap data *training*:\n",
    "\n",
    "1. *Forward pass*: menghitung nilai *output* akhir, yaitu $\\hat{y}$ (hasil prediksi), berdasarkan *input* data *training*.\n",
    "\n",
    "2. Menghitung *loss* antara $y$ (nilai asli) dan $\\hat{y}$\n",
    "\n",
    "3. *Backpropagation*: menghitung gradien dari *loss* terhadap tiap parameter, secara \"mundur\"\n",
    "\n",
    "4. *Update optimizer*: menggunakan algoritma *optimizer* seperti *gradient descent* untuk memperbarui parameter-parameter (*weights and biases*) berdasarkan gradien dari *loss*\n",
    "\n",
    "    Note: ada banyak *optimizer*, seperti *gradient descent*, SGD (*stochastic gradient descent*), dan *Adam* (*adaptive moment estimation*). Pilihan *optimizer* (serta parameter-parameter yang bisa diatur untuk *optimizer*, seperti *learning rate*) juga menjadi *hyperparameter* untuk *neural network*.\n",
    "\n",
    "Note: istilah *backward pass* meliputi langkah *backpropagation* dan *update optimizer*."
   ]
  },
  {
   "cell_type": "markdown",
   "metadata": {},
   "source": [
    "Apabila data *training* sangat banyak, terkadang data *training* tersebut dibagi menjadi beberapa *batch*, dan tiap iterasi menggunakan *batch* yang berbeda. Apabila semua *batch* sudah diproses, sebutannya adalah satu ***epoch***. Sehingga, satu *epoch* terdiri dari sejumlah iterasi sesuai banyaknya *batch*.\n",
    "\n",
    "(Apabila data *training* tidak dibagi menjadi *batch*, maka satu *epoch* sama dengan satu iterasi.)"
   ]
  },
  {
   "cell_type": "markdown",
   "metadata": {},
   "source": [
    "### *Train-Validation-Test Split*"
   ]
  },
  {
   "cell_type": "markdown",
   "metadata": {},
   "source": [
    "Ketika menggunakan metode *machine learning* yang di-*training* secara iteratif, seperti *neural network*, biasanya ada juga yang namanya *validation data*. Sehingga, di awal, *dataset* dipisah menjadi data *train*, data *validation*, dan data *test*.\n",
    "\n",
    "Gunanya, kita bisa menguji akurasi model di akhir tiap *epoch*, menggunakan data *validation* daripada data *test*."
   ]
  },
  {
   "cell_type": "markdown",
   "metadata": {},
   "source": [
    "Rasio yang paling sering digunakan adalah 80-10-10, yaitu 80% data *train*, 10% data *validation*, dan 10% data *test*."
   ]
  },
  {
   "cell_type": "markdown",
   "metadata": {},
   "source": [
    "Apabila menggunakan scikit-learn, untuk melakukan *train-validation-test split*, caranya adalah dengan *split* dua kali, yaitu\n",
    "\n",
    "1. *Split* menjadi data \"train\" dan data *test*\n",
    "\n",
    "2. Data \"train\" itu di-*split* lagi menjadi data *train* sesungguhnya dan data *validation*\n",
    "\n",
    "atau bisa juga\n",
    "\n",
    "1. *Split* menjadi data *train* dan data \"test\"\n",
    "\n",
    "2. Data \"test\" itu di-*split* lagi menjadi data *validation* dan data *test* sesungguhnya"
   ]
  },
  {
   "cell_type": "markdown",
   "metadata": {},
   "source": [
    "## *(Pure)* TensorFlow"
   ]
  },
  {
   "cell_type": "code",
   "execution_count": null,
   "metadata": {},
   "outputs": [],
   "source": [
    "import tensorflow as tf"
   ]
  },
  {
   "cell_type": "markdown",
   "metadata": {},
   "source": [
    "### *Tensor*, Konstanta, Variabel"
   ]
  },
  {
   "cell_type": "markdown",
   "metadata": {},
   "source": [
    "*Tensor* adalah semacam perumuman dari *array*/vektor ataupun *matriks*.\n",
    "\n",
    "- Skalar (bilangan) adalah *tensor* berdimensi nol (atau *rank* nol).\n",
    "\n",
    "- *Array* atau vektor adalah *tensor* berdimensi satu (atau *rank* satu).\n",
    "\n",
    "- Matriks adalah *tensor* berdimensi dua (atau *rank* dua).\n",
    "\n",
    "- Istilah *\"tensor\"* biasanya merujuk pada *tensor* berdimensi tiga (atau *rank* tiga), yaitu semacam matriks tapi tiga dimensi, sehingga ada baris, kolom, dan satu dimensi lagi."
   ]
  },
  {
   "cell_type": "markdown",
   "metadata": {},
   "source": [
    "Fitur *tensor* di TensorFlow mirip dengan fitur *array* di numpy, yang memang juga bisa multidimensi."
   ]
  },
  {
   "cell_type": "code",
   "execution_count": 10,
   "metadata": {},
   "outputs": [
    {
     "name": "stdout",
     "output_type": "stream",
     "text": [
      "tf.Tensor(\n",
      "[[0. 0. 0. 0.]\n",
      " [0. 0. 0. 0.]\n",
      " [0. 0. 0. 0.]], shape=(3, 4), dtype=float32)\n"
     ]
    }
   ],
   "source": [
    "x = tf.zeros(shape = (3,4))\n",
    "print(x)"
   ]
  },
  {
   "cell_type": "code",
   "execution_count": 9,
   "metadata": {},
   "outputs": [
    {
     "name": "stdout",
     "output_type": "stream",
     "text": [
      "tf.Tensor(\n",
      "[[1. 1. 1. 1.]\n",
      " [1. 1. 1. 1.]\n",
      " [1. 1. 1. 1.]], shape=(3, 4), dtype=float32)\n"
     ]
    }
   ],
   "source": [
    "x = tf.ones(shape = (3,4))\n",
    "print(x)"
   ]
  },
  {
   "cell_type": "markdown",
   "metadata": {},
   "source": [
    "Untuk menentukan *array* kita sendiri, di numpy digunakan `numpy.array`.\n",
    "\n",
    "Untuk menentukan *tensor* kita sendiri, di TensorFlow digunakan `tensorflow.constant` (agar nilainya tidak bisa diubah) atau `tensorflow.Variable` (nilainya bisa diubah).\n",
    "\n",
    "Pada umumnya (apabila tidak ada keterangan), *tensor* di TensorFlow berupa `tensorflow.constant`"
   ]
  },
  {
   "cell_type": "code",
   "execution_count": 25,
   "metadata": {},
   "outputs": [
    {
     "name": "stdout",
     "output_type": "stream",
     "text": [
      "tf.Tensor(1.5, shape=(), dtype=float32)\n"
     ]
    }
   ],
   "source": [
    "const0 = tf.constant(1.5)\n",
    "print(const0)"
   ]
  },
  {
   "cell_type": "code",
   "execution_count": 26,
   "metadata": {},
   "outputs": [
    {
     "name": "stdout",
     "output_type": "stream",
     "text": [
      "tf.Tensor(0, shape=(), dtype=int32)\n"
     ]
    }
   ],
   "source": [
    "print(tf.rank(const0))"
   ]
  },
  {
   "cell_type": "code",
   "execution_count": 27,
   "metadata": {},
   "outputs": [
    {
     "name": "stdout",
     "output_type": "stream",
     "text": [
      "tf.Tensor([2.31  4.567 8.9  ], shape=(3,), dtype=float32)\n"
     ]
    }
   ],
   "source": [
    "const1 = tf.constant([2.31, 4.567, 8.9])\n",
    "print(const1)"
   ]
  },
  {
   "cell_type": "code",
   "execution_count": 28,
   "metadata": {},
   "outputs": [
    {
     "name": "stdout",
     "output_type": "stream",
     "text": [
      "tf.Tensor(1, shape=(), dtype=int32)\n"
     ]
    }
   ],
   "source": [
    "print(tf.rank(const1))"
   ]
  },
  {
   "cell_type": "code",
   "execution_count": 31,
   "metadata": {},
   "outputs": [
    {
     "ename": "TypeError",
     "evalue": "'tensorflow.python.framework.ops.EagerTensor' object does not support item assignment",
     "output_type": "error",
     "traceback": [
      "\u001b[0;31m---------------------------------------------------------------------------\u001b[0m",
      "\u001b[0;31mTypeError\u001b[0m                                 Traceback (most recent call last)",
      "Cell \u001b[0;32mIn[31], line 1\u001b[0m\n\u001b[0;32m----> 1\u001b[0m \u001b[43mconst1\u001b[49m\u001b[43m[\u001b[49m\u001b[38;5;241;43m0\u001b[39;49m\u001b[43m]\u001b[49m \u001b[38;5;241m=\u001b[39m \u001b[38;5;241m52.5\u001b[39m\n",
      "\u001b[0;31mTypeError\u001b[0m: 'tensorflow.python.framework.ops.EagerTensor' object does not support item assignment"
     ]
    }
   ],
   "source": [
    "const1[0] = 52.5"
   ]
  },
  {
   "cell_type": "code",
   "execution_count": 29,
   "metadata": {},
   "outputs": [
    {
     "name": "stdout",
     "output_type": "stream",
     "text": [
      "tf.Tensor(\n",
      "[[1.    2.718 3.14 ]\n",
      " [4.    5.    6.28 ]], shape=(2, 3), dtype=float32)\n"
     ]
    }
   ],
   "source": [
    "const2 = tf.constant([\n",
    "    [1, 2.718, 3.14],\n",
    "    [4, 5, 6.28]\n",
    "])\n",
    "print(const2)"
   ]
  },
  {
   "cell_type": "code",
   "execution_count": 30,
   "metadata": {},
   "outputs": [
    {
     "name": "stdout",
     "output_type": "stream",
     "text": [
      "tf.Tensor(2, shape=(), dtype=int32)\n"
     ]
    }
   ],
   "source": [
    "print(tf.rank(const2))"
   ]
  },
  {
   "cell_type": "code",
   "execution_count": 37,
   "metadata": {},
   "outputs": [
    {
     "name": "stdout",
     "output_type": "stream",
     "text": [
      "<tf.Variable 'Variable:0' shape=(2, 3) dtype=float32, numpy=\n",
      "array([[0., 0., 0.],\n",
      "       [0., 0., 0.]], dtype=float32)>\n"
     ]
    }
   ],
   "source": [
    "v = tf.Variable(initial_value = tf.zeros(shape = (2,3)))\n",
    "print(v)"
   ]
  },
  {
   "cell_type": "markdown",
   "metadata": {},
   "source": [
    "*Assignment* untuk variabel di TensorFlow dilakukan dengan `.assign`"
   ]
  },
  {
   "cell_type": "code",
   "execution_count": 49,
   "metadata": {},
   "outputs": [
    {
     "name": "stdout",
     "output_type": "stream",
     "text": [
      "<tf.Variable 'Variable:0' shape=(2, 3) dtype=float32, numpy=\n",
      "array([[1., 1., 1.],\n",
      "       [1., 1., 1.]], dtype=float32)>\n"
     ]
    }
   ],
   "source": [
    "v.assign(tf.ones(shape = (2,3)))\n",
    "print(v)"
   ]
  },
  {
   "cell_type": "code",
   "execution_count": 50,
   "metadata": {},
   "outputs": [
    {
     "name": "stdout",
     "output_type": "stream",
     "text": [
      "<tf.Variable 'Variable:0' shape=(2, 3) dtype=float32, numpy=\n",
      "array([[9., 1., 1.],\n",
      "       [1., 1., 1.]], dtype=float32)>\n"
     ]
    }
   ],
   "source": [
    "v[0, 0].assign(9)\n",
    "print(v)"
   ]
  },
  {
   "cell_type": "markdown",
   "metadata": {},
   "source": [
    "Ada juga `.assign_add`, sama saja dengan `+=`"
   ]
  },
  {
   "cell_type": "code",
   "execution_count": 51,
   "metadata": {},
   "outputs": [
    {
     "name": "stdout",
     "output_type": "stream",
     "text": [
      "<tf.Variable 'Variable:0' shape=(2, 3) dtype=float32, numpy=\n",
      "array([[10.,  2.,  2.],\n",
      "       [ 2.,  2.,  2.]], dtype=float32)>\n"
     ]
    }
   ],
   "source": [
    "v.assign_add(tf.ones(shape = (2,3)))\n",
    "print(v)"
   ]
  },
  {
   "cell_type": "markdown",
   "metadata": {},
   "source": [
    "Kita bisa membuat *tensor* dengan nilai yang *random*, misalnya dari distribusi normal atau dari distribusi uniform"
   ]
  },
  {
   "cell_type": "code",
   "execution_count": 76,
   "metadata": {},
   "outputs": [
    {
     "name": "stdout",
     "output_type": "stream",
     "text": [
      "tf.Tensor(\n",
      "[[ 1.2542483  -0.41693744  1.0116149 ]\n",
      " [-1.4155766   0.17204648 -0.6892854 ]], shape=(2, 3), dtype=float32)\n"
     ]
    }
   ],
   "source": [
    "# dari distribusi normal\n",
    "x = tf.random.normal(shape = (2,3), mean = 0, stddev = 1)\n",
    "print(x)"
   ]
  },
  {
   "cell_type": "code",
   "execution_count": 77,
   "metadata": {},
   "outputs": [
    {
     "name": "stdout",
     "output_type": "stream",
     "text": [
      "tf.Tensor(\n",
      "[[0.51321495 0.26164746 0.09113109]\n",
      " [0.81229377 0.67134035 0.36057925]], shape=(2, 3), dtype=float32)\n"
     ]
    }
   ],
   "source": [
    "# dari distribusi uniform\n",
    "x = tf.random.uniform(shape = (2,3), minval = 0, maxval = 1)\n",
    "print(x)"
   ]
  },
  {
   "cell_type": "markdown",
   "metadata": {},
   "source": [
    "Operasi di TensorFlow mirip dengan numpy"
   ]
  },
  {
   "cell_type": "code",
   "execution_count": 56,
   "metadata": {},
   "outputs": [
    {
     "name": "stdout",
     "output_type": "stream",
     "text": [
      "tf.Tensor(\n",
      "[[4. 4.]\n",
      " [4. 4.]], shape=(2, 2), dtype=float32)\n"
     ]
    }
   ],
   "source": [
    "a = 4 * tf.ones((2, 2))\n",
    "print(a)"
   ]
  },
  {
   "cell_type": "code",
   "execution_count": 57,
   "metadata": {},
   "outputs": [
    {
     "name": "stdout",
     "output_type": "stream",
     "text": [
      "tf.Tensor(\n",
      "[[16. 16.]\n",
      " [16. 16.]], shape=(2, 2), dtype=float32)\n"
     ]
    }
   ],
   "source": [
    "b = tf.square(a)\n",
    "print(b)"
   ]
  },
  {
   "cell_type": "code",
   "execution_count": 58,
   "metadata": {},
   "outputs": [
    {
     "name": "stdout",
     "output_type": "stream",
     "text": [
      "tf.Tensor(\n",
      "[[2. 2.]\n",
      " [2. 2.]], shape=(2, 2), dtype=float32)\n"
     ]
    }
   ],
   "source": [
    "c = tf.sqrt(a)\n",
    "print(c)"
   ]
  },
  {
   "cell_type": "code",
   "execution_count": 59,
   "metadata": {},
   "outputs": [
    {
     "name": "stdout",
     "output_type": "stream",
     "text": [
      "tf.Tensor(\n",
      "[[18. 18.]\n",
      " [18. 18.]], shape=(2, 2), dtype=float32)\n"
     ]
    }
   ],
   "source": [
    "d = b + c\n",
    "print(d)"
   ]
  },
  {
   "cell_type": "code",
   "execution_count": 60,
   "metadata": {},
   "outputs": [
    {
     "name": "stdout",
     "output_type": "stream",
     "text": [
      "tf.Tensor(\n",
      "[[16. 16.]\n",
      " [16. 16.]], shape=(2, 2), dtype=float32)\n"
     ]
    }
   ],
   "source": [
    "# perkalian matriks\n",
    "e = tf.matmul(a, c)\n",
    "print(e)"
   ]
  },
  {
   "cell_type": "code",
   "execution_count": 61,
   "metadata": {},
   "outputs": [
    {
     "name": "stdout",
     "output_type": "stream",
     "text": [
      "tf.Tensor(\n",
      "[[288. 288.]\n",
      " [288. 288.]], shape=(2, 2), dtype=float32)\n"
     ]
    }
   ],
   "source": [
    "# perkalian per elemen\n",
    "e *= d\n",
    "print(e)"
   ]
  },
  {
   "cell_type": "markdown",
   "metadata": {},
   "source": [
    "### *Automatic differentiation* dengan `GradientTape`"
   ]
  },
  {
   "cell_type": "markdown",
   "metadata": {},
   "source": [
    "TensorFlow memiliki fitur yang bernama *automatic differentiation*, juga disebut *autodiff* atau *autograd*. Dengan fitur ini, TensorFlow bisa menghitung turunan/gradien secara otomatis. Fitur ini membedakan antara TensorFlow dengan numpy."
   ]
  },
  {
   "cell_type": "markdown",
   "metadata": {},
   "source": [
    "Caranya adalah menggunakan `GradientTape` seperti berikut. Semua operasi di dalam *with statement* dicatat oleh `GradientTape`, yang kemudian bisa menghitung gradiennya."
   ]
  },
  {
   "cell_type": "markdown",
   "metadata": {},
   "source": [
    "Contohnya, turunan $x^3$ terhadap $x$ di $x=4$ adalah $3(4)^2 = 48$."
   ]
  },
  {
   "cell_type": "code",
   "execution_count": 72,
   "metadata": {},
   "outputs": [
    {
     "name": "stdout",
     "output_type": "stream",
     "text": [
      "tf.Tensor(48.0, shape=(), dtype=float32)\n"
     ]
    }
   ],
   "source": [
    "x = tf.Variable(4.0)\n",
    "with tf.GradientTape() as tape:\n",
    "    y = x ** 3\n",
    "dy_dx = tape.gradient(y, x)\n",
    "print(dy_dx)"
   ]
  },
  {
   "cell_type": "markdown",
   "metadata": {},
   "source": [
    "Tidak harus dengan `tensorflow.Variable`, bahkan dengan `tensorflow.constant` juga bisa. Namun, kita harus secara eksplisit meminta TensorFlow untuk memperhatikan nilai `x`, yaitu dengan `.watch`"
   ]
  },
  {
   "cell_type": "code",
   "execution_count": 73,
   "metadata": {},
   "outputs": [
    {
     "name": "stdout",
     "output_type": "stream",
     "text": [
      "tf.Tensor(48.0, shape=(), dtype=float32)\n"
     ]
    }
   ],
   "source": [
    "x = tf.constant(4.0)\n",
    "with tf.GradientTape() as tape:\n",
    "    tape.watch(x)\n",
    "    y = x ** 3\n",
    "dy_dx = tape.gradient(y, x)\n",
    "print(dy_dx)"
   ]
  },
  {
   "cell_type": "markdown",
   "metadata": {},
   "source": [
    "Kita bisa menghitung turunan kedua dengan *nested with statement* seperti berikut, contohnya turunan kedua dari $x^3$ terhadap $x$ di $x=4$ adalah $6(4) = 24$"
   ]
  },
  {
   "cell_type": "code",
   "execution_count": 74,
   "metadata": {},
   "outputs": [
    {
     "name": "stdout",
     "output_type": "stream",
     "text": [
      "tf.Tensor(24.0, shape=(), dtype=float32)\n"
     ]
    }
   ],
   "source": [
    "x = tf.Variable(4.0)\n",
    "with tf.GradientTape() as tape2:\n",
    "    with tf.GradientTape() as tape1:\n",
    "        y = x ** 3\n",
    "    dy_dx = tape1.gradient(y, x)\n",
    "dy2_dx2 = tape2.gradient(dy_dx, x)\n",
    "print(dy2_dx2)"
   ]
  },
  {
   "cell_type": "markdown",
   "metadata": {},
   "source": [
    "### Klasifikasi biner dengan *perceptron*"
   ]
  },
  {
   "cell_type": "markdown",
   "metadata": {},
   "source": [
    "Men-*generate* dataset titik-titik dua dimensi dengan dua kelas"
   ]
  },
  {
   "cell_type": "code",
   "execution_count": 112,
   "metadata": {},
   "outputs": [],
   "source": [
    "num_samples_per_class, num_classes = 1000, 2\n",
    "negative_samples = np.random.multivariate_normal(mean = [0,3], cov = [[1,0.5],[0.5,1]], size = num_samples_per_class)\n",
    "positive_samples = np.random.multivariate_normal(mean = [3,0], cov = [[1,0.5],[0.5,1]], size = num_samples_per_class)\n",
    "\n",
    "inputs = np.vstack((negative_samples, positive_samples)).astype(np.float32)\n",
    "targets = np.vstack((\n",
    "    np.zeros((num_samples_per_class, 1), dtype = 'float32'),\n",
    "    np.ones((num_samples_per_class, 1), dtype = 'float32')\n",
    "))"
   ]
  },
  {
   "cell_type": "code",
   "execution_count": 113,
   "metadata": {},
   "outputs": [
    {
     "name": "stdout",
     "output_type": "stream",
     "text": [
      "(2000, 2)\n",
      "(2000, 1)\n"
     ]
    }
   ],
   "source": [
    "print(inputs.shape)\n",
    "print(targets.shape)"
   ]
  },
  {
   "cell_type": "code",
   "execution_count": 114,
   "metadata": {},
   "outputs": [
    {
     "data": {
      "image/png": "[encoded data removed]",
      "text/plain": [
       "<Figure size 640x480 with 1 Axes>"
      ]
     },
     "metadata": {},
     "output_type": "display_data"
    }
   ],
   "source": [
    "plt.scatter(inputs[:, 0], inputs[:, 1], c=targets[:, 0])\n",
    "plt.show()"
   ]
  },
  {
   "cell_type": "markdown",
   "metadata": {},
   "source": [
    "Untuk *input* dua dimensi dan klasifikasi biner, kita perlu *perceptron* dengan dua *neuron* di *input layer* dan satu *neuron* di *output layer*. Sebelum proses *training* dimulai, nilai matriks $W$ dan vektor kolom $b$ diisi secara *random* terlebih dahulu."
   ]
  },
  {
   "cell_type": "code",
   "execution_count": 115,
   "metadata": {},
   "outputs": [],
   "source": [
    "input_dim = 2\n",
    "output_dim = 1\n",
    "W = tf.Variable(tf.random.normal(shape = (input_dim, output_dim)))\n",
    "b = tf.Variable(tf.random.normal(shape = (output_dim,)))"
   ]
  },
  {
   "cell_type": "code",
   "execution_count": 116,
   "metadata": {},
   "outputs": [],
   "source": [
    "# forward pass\n",
    "def model(inputs):\n",
    "    return tf.sigmoid(\n",
    "        tf.matmul(inputs, W) + b\n",
    "    )"
   ]
  },
  {
   "cell_type": "code",
   "execution_count": 117,
   "metadata": {},
   "outputs": [],
   "source": [
    "# cross entropy loss\n",
    "def entropy_loss(y, yhat):\n",
    "    per_sample_losses = - y * tf.math.log(yhat) - (1-y) * tf.math.log(1-yhat)\n",
    "    return tf.reduce_mean(per_sample_losses)"
   ]
  },
  {
   "cell_type": "code",
   "execution_count": 118,
   "metadata": {},
   "outputs": [],
   "source": [
    "# training loop\n",
    "learning_rate = 0.1\n",
    "def training_step(inputs, targets):\n",
    "    with tf.GradientTape() as tape:\n",
    "        predictions = model(inputs)\n",
    "        loss = entropy_loss(targets, predictions)\n",
    "        grad_loss_wrt_W, grad_loss_wrt_b = tape.gradient(loss, [W, b])\n",
    "        W.assign_sub(learning_rate * grad_loss_wrt_W)\n",
    "        b.assign_sub(learning_rate * grad_loss_wrt_b)\n",
    "        return loss"
   ]
  },
  {
   "cell_type": "code",
   "execution_count": 119,
   "metadata": {},
   "outputs": [
    {
     "name": "stdout",
     "output_type": "stream",
     "text": [
      "Loss at epoch 0: 0.6356502771377563\n",
      "Loss at epoch 1: 0.5394761562347412\n",
      "Loss at epoch 2: 0.4659949839115143\n",
      "Loss at epoch 3: 0.4092557430267334\n",
      "Loss at epoch 4: 0.3647000789642334\n",
      "Loss at epoch 5: 0.32904741168022156\n",
      "Loss at epoch 6: 0.29999035596847534\n",
      "Loss at epoch 7: 0.2759065628051758\n",
      "Loss at epoch 8: 0.25564298033714294\n",
      "Loss at epoch 9: 0.23836685717105865\n",
      "Loss at epoch 10: 0.22346581518650055\n",
      "Loss at epoch 11: 0.21048182249069214\n",
      "Loss at epoch 12: 0.19906604290008545\n",
      "Loss at epoch 13: 0.18894900381565094\n",
      "Loss at epoch 14: 0.17991921305656433\n",
      "Loss at epoch 15: 0.171808660030365\n",
      "Loss at epoch 16: 0.16448216140270233\n",
      "Loss at epoch 17: 0.1578298956155777\n",
      "Loss at epoch 18: 0.15176154673099518\n",
      "Loss at epoch 19: 0.14620234072208405\n",
      "Loss at epoch 20: 0.1410897672176361\n",
      "Loss at epoch 21: 0.1363711655139923\n"
     ]
    },
    {
     "name": "stdout",
     "output_type": "stream",
     "text": [
      "Loss at epoch 22: 0.13200189173221588\n",
      "Loss at epoch 23: 0.12794384360313416\n",
      "Loss at epoch 24: 0.12416423857212067\n",
      "Loss at epoch 25: 0.12063482403755188\n",
      "Loss at epoch 26: 0.11733102053403854\n",
      "Loss at epoch 27: 0.11423142999410629\n",
      "Loss at epoch 28: 0.11131726205348969\n",
      "Loss at epoch 29: 0.10857197642326355\n",
      "Loss at epoch 30: 0.10598097741603851\n",
      "Loss at epoch 31: 0.10353130847215652\n",
      "Loss at epoch 32: 0.10121144354343414\n",
      "Loss at epoch 33: 0.09901105612516403\n",
      "Loss at epoch 34: 0.09692094475030899\n",
      "Loss at epoch 35: 0.09493280202150345\n",
      "Loss at epoch 36: 0.0930391252040863\n",
      "Loss at epoch 37: 0.09123318642377853\n",
      "Loss at epoch 38: 0.08950886130332947\n",
      "Loss at epoch 39: 0.08786056190729141\n",
      "Loss at epoch 40: 0.08628326654434204\n",
      "Loss at epoch 41: 0.08477234095335007\n",
      "Loss at epoch 42: 0.08332355320453644\n",
      "Loss at epoch 43: 0.08193304389715195\n",
      "Loss at epoch 44: 0.08059726655483246\n",
      "Loss at epoch 45: 0.07931295037269592\n",
      "Loss at epoch 46: 0.07807708531618118\n",
      "Loss at epoch 47: 0.07688692212104797\n",
      "Loss at epoch 48: 0.07573988288640976\n",
      "Loss at epoch 49: 0.07463356107473373\n",
      "Loss at epoch 50: 0.07356579601764679\n",
      "Loss at epoch 51: 0.07253453135490417\n",
      "Loss at epoch 52: 0.07153788208961487\n",
      "Loss at epoch 53: 0.07057405263185501\n",
      "Loss at epoch 54: 0.06964139640331268\n",
      "Loss at epoch 55: 0.06873839348554611\n",
      "Loss at epoch 56: 0.06786361336708069\n",
      "Loss at epoch 57: 0.06701568514108658\n",
      "Loss at epoch 58: 0.0661933571100235\n",
      "Loss at epoch 59: 0.06539544463157654\n",
      "Loss at epoch 60: 0.06462085992097855\n",
      "Loss at epoch 61: 0.06386853754520416\n",
      "Loss at epoch 62: 0.06313750147819519\n",
      "Loss at epoch 63: 0.0624268501996994\n",
      "Loss at epoch 64: 0.061735689640045166\n",
      "Loss at epoch 65: 0.06106320023536682\n",
      "Loss at epoch 66: 0.06040862947702408\n",
      "Loss at epoch 67: 0.05977122485637665\n",
      "Loss at epoch 68: 0.05915031582117081\n",
      "Loss at epoch 69: 0.058545228093862534\n",
      "Loss at epoch 70: 0.05795534700155258\n",
      "Loss at epoch 71: 0.057380083948373795\n",
      "Loss at epoch 72: 0.05681890249252319\n",
      "Loss at epoch 73: 0.05627123638987541\n",
      "Loss at epoch 74: 0.055736616253852844\n",
      "Loss at epoch 75: 0.05521455407142639\n",
      "Loss at epoch 76: 0.05470460280776024\n",
      "Loss at epoch 77: 0.05420632287859917\n",
      "Loss at epoch 78: 0.05371929705142975\n",
      "Loss at epoch 79: 0.053243134170770645\n",
      "Loss at epoch 80: 0.05277746543288231\n",
      "Loss at epoch 81: 0.052321940660476685\n",
      "Loss at epoch 82: 0.051876217126846313\n",
      "Loss at epoch 83: 0.05143996328115463\n",
      "Loss at epoch 84: 0.051012881100177765\n",
      "Loss at epoch 85: 0.05059466511011124\n",
      "Loss at epoch 86: 0.050185028463602066\n",
      "Loss at epoch 87: 0.049783699214458466\n",
      "Loss at epoch 88: 0.04939041659235954\n",
      "Loss at epoch 89: 0.0490049310028553\n",
      "Loss at epoch 90: 0.04862702637910843\n",
      "Loss at epoch 91: 0.04825644567608833\n",
      "Loss at epoch 92: 0.0478929802775383\n",
      "Loss at epoch 93: 0.04753640666604042\n",
      "Loss at epoch 94: 0.04718654602766037\n",
      "Loss at epoch 95: 0.04684317857027054\n",
      "Loss at epoch 96: 0.0465061329305172\n",
      "Loss at epoch 97: 0.04617522284388542\n",
      "Loss at epoch 98: 0.045850273221731186\n",
      "Loss at epoch 99: 0.04553113132715225\n"
     ]
    }
   ],
   "source": [
    "# training loop/process/epoch\n",
    "for epoch in range(100):\n",
    "    loss = training_step(inputs, targets)\n",
    "    print(f\"Loss at epoch {epoch}: {loss}\")"
   ]
  },
  {
   "cell_type": "code",
   "execution_count": 123,
   "metadata": {},
   "outputs": [
    {
     "name": "stdout",
     "output_type": "stream",
     "text": [
      "tf.Tensor(\n",
      "[[0.0227507 ]\n",
      " [0.00890069]\n",
      " [0.01428704]\n",
      " ...\n",
      " [0.87311286]\n",
      " [0.97183764]\n",
      " [0.98756224]], shape=(2000, 1), dtype=float32)\n"
     ]
    },
    {
     "data": {
      "image/png": "[encoded data removed]",
      "text/plain": [
       "<Figure size 640x480 with 1 Axes>"
      ]
     },
     "metadata": {},
     "output_type": "display_data"
    }
   ],
   "source": [
    "predictions = model(inputs)\n",
    "print(predictions)\n",
    "plt.scatter(inputs[:, 0], inputs[:, 1], c=predictions[:, 0] > 0.5)\n",
    "plt.show()"
   ]
  },
  {
   "cell_type": "markdown",
   "metadata": {},
   "source": [
    "## Keras"
   ]
  },
  {
   "cell_type": "code",
   "execution_count": null,
   "metadata": {},
   "outputs": [],
   "source": [
    "from tensorflow import keras"
   ]
  },
  {
   "cell_type": "code",
   "execution_count": 122,
   "metadata": {},
   "outputs": [
    {
     "name": "stdout",
     "output_type": "stream",
     "text": [
      "(2000, 2)\n",
      "(2000, 1)\n"
     ]
    }
   ],
   "source": [
    "print(inputs.shape)\n",
    "print(targets.shape)"
   ]
  },
  {
   "cell_type": "markdown",
   "metadata": {},
   "source": [
    "### *Sequential API*"
   ]
  },
  {
   "cell_type": "code",
   "execution_count": 124,
   "metadata": {},
   "outputs": [],
   "source": [
    "model2 = keras.Sequential([\n",
    "    keras.layers.InputLayer(input_shape = (2,)),\n",
    "    keras.layers.Dense(units = 1, activation = 'sigmoid')\n",
    "])"
   ]
  },
  {
   "cell_type": "code",
   "execution_count": 143,
   "metadata": {},
   "outputs": [
    {
     "name": "stdout",
     "output_type": "stream",
     "text": [
      "Model: \"sequential\"\n",
      "_________________________________________________________________\n",
      " Layer (type)                Output Shape              Param #   \n",
      "=================================================================\n",
      " dense (Dense)               (None, 1)                 3         \n",
      "                                                                 \n",
      "=================================================================\n",
      "Total params: 3\n",
      "Trainable params: 3\n",
      "Non-trainable params: 0\n",
      "_________________________________________________________________\n"
     ]
    }
   ],
   "source": [
    "model2.summary()"
   ]
  },
  {
   "cell_type": "code",
   "execution_count": null,
   "metadata": {},
   "outputs": [],
   "source": [
    "keras.utils.plot_model(\n",
    "    model2,\n",
    "    show_shapes = True,\n",
    "    to_file = \"model2.png\"\n",
    ")"
   ]
  },
  {
   "cell_type": "markdown",
   "metadata": {},
   "source": [
    "![](./modul7_model2.png)"
   ]
  },
  {
   "cell_type": "markdown",
   "metadata": {},
   "source": [
    "Untuk memilih *hyperparameter* yaitu *optimizer* dan *loss function*, kedua kode berikut ini ekuivalen:"
   ]
  },
  {
   "cell_type": "code",
   "execution_count": 129,
   "metadata": {},
   "outputs": [],
   "source": [
    "model2.compile(optimizer=\"sgd\",\n",
    "              loss=\"sparse_binary_crossentropy\",\n",
    "              metrics=[\"accuracy\"])"
   ]
  },
  {
   "cell_type": "code",
   "execution_count": 130,
   "metadata": {},
   "outputs": [],
   "source": [
    "model2.compile(optimizer=keras.optimizers.SGD(),\n",
    "               loss=keras.losses.BinaryCrossentropy(),\n",
    "               metrics=[keras.metrics.BinaryAccuracy()])"
   ]
  },
  {
   "cell_type": "markdown",
   "metadata": {},
   "source": [
    "Selanjutnya, tinggal *training*"
   ]
  },
  {
   "cell_type": "code",
   "execution_count": 132,
   "metadata": {},
   "outputs": [
    {
     "name": "stdout",
     "output_type": "stream",
     "text": [
      "Epoch 1/100\n",
      "50/50 [==============================] - 2s 10ms/step - loss: 0.2617 - binary_accuracy: 0.9994 - val_loss: 0.2296 - val_binary_accuracy: 0.9950\n",
      "Epoch 2/100\n",
      "50/50 [==============================] - 0s 6ms/step - loss: 0.1873 - binary_accuracy: 1.0000 - val_loss: 0.1960 - val_binary_accuracy: 0.9925\n",
      "Epoch 3/100\n",
      "50/50 [==============================] - 0s 4ms/step - loss: 0.1493 - binary_accuracy: 0.9994 - val_loss: 0.1707 - val_binary_accuracy: 0.9925\n",
      "Epoch 4/100\n",
      "50/50 [==============================] - 0s 6ms/step - loss: 0.1256 - binary_accuracy: 0.9994 - val_loss: 0.1515 - val_binary_accuracy: 0.9925\n",
      "Epoch 5/100\n",
      "50/50 [==============================] - 0s 5ms/step - loss: 0.1092 - binary_accuracy: 0.9994 - val_loss: 0.1365 - val_binary_accuracy: 0.9925\n",
      "Epoch 6/100\n",
      "50/50 [==============================] - 0s 10ms/step - loss: 0.0971 - binary_accuracy: 0.9994 - val_loss: 0.1246 - val_binary_accuracy: 0.9925\n",
      "Epoch 7/100\n",
      "50/50 [==============================] - 0s 5ms/step - loss: 0.0878 - binary_accuracy: 0.9994 - val_loss: 0.1149 - val_binary_accuracy: 0.9925\n",
      "Epoch 8/100\n",
      "50/50 [==============================] - 0s 4ms/step - loss: 0.0803 - binary_accuracy: 0.9994 - val_loss: 0.1067 - val_binary_accuracy: 0.9925\n",
      "Epoch 9/100\n",
      "50/50 [==============================] - 0s 4ms/step - loss: 0.0742 - binary_accuracy: 0.9994 - val_loss: 0.0998 - val_binary_accuracy: 0.9925\n",
      "Epoch 10/100\n",
      "50/50 [==============================] - 0s 4ms/step - loss: 0.0691 - binary_accuracy: 0.9994 - val_loss: 0.0939 - val_binary_accuracy: 0.9925\n",
      "Epoch 11/100\n",
      "50/50 [==============================] - 1s 10ms/step - loss: 0.0648 - binary_accuracy: 0.9994 - val_loss: 0.0888 - val_binary_accuracy: 0.9925\n",
      "Epoch 12/100\n",
      "50/50 [==============================] - 0s 6ms/step - loss: 0.0610 - binary_accuracy: 0.9994 - val_loss: 0.0843 - val_binary_accuracy: 0.9925\n",
      "Epoch 13/100\n",
      "50/50 [==============================] - 0s 5ms/step - loss: 0.0578 - binary_accuracy: 0.9994 - val_loss: 0.0803 - val_binary_accuracy: 0.9925\n",
      "Epoch 14/100\n",
      "50/50 [==============================] - 0s 5ms/step - loss: 0.0549 - binary_accuracy: 0.9994 - val_loss: 0.0769 - val_binary_accuracy: 0.9925\n",
      "Epoch 15/100\n",
      "50/50 [==============================] - 0s 7ms/step - loss: 0.0524 - binary_accuracy: 0.9994 - val_loss: 0.0738 - val_binary_accuracy: 0.9925\n",
      "Epoch 16/100\n",
      "50/50 [==============================] - 1s 13ms/step - loss: 0.0501 - binary_accuracy: 0.9994 - val_loss: 0.0709 - val_binary_accuracy: 0.9925\n",
      "Epoch 17/100\n",
      "50/50 [==============================] - 0s 6ms/step - loss: 0.0481 - binary_accuracy: 0.9994 - val_loss: 0.0684 - val_binary_accuracy: 0.9925\n",
      "Epoch 18/100\n",
      "50/50 [==============================] - 0s 8ms/step - loss: 0.0463 - binary_accuracy: 0.9994 - val_loss: 0.0661 - val_binary_accuracy: 0.9925\n",
      "Epoch 19/100\n",
      "50/50 [==============================] - 0s 6ms/step - loss: 0.0446 - binary_accuracy: 0.9994 - val_loss: 0.0640 - val_binary_accuracy: 0.9925\n",
      "Epoch 20/100\n",
      "50/50 [==============================] - 0s 4ms/step - loss: 0.0430 - binary_accuracy: 0.9994 - val_loss: 0.0620 - val_binary_accuracy: 0.9925\n",
      "Epoch 21/100\n",
      "50/50 [==============================] - 0s 4ms/step - loss: 0.0416 - binary_accuracy: 0.9994 - val_loss: 0.0602 - val_binary_accuracy: 0.9925\n",
      "Epoch 22/100\n",
      "50/50 [==============================] - 0s 4ms/step - loss: 0.0403 - binary_accuracy: 1.0000 - val_loss: 0.0586 - val_binary_accuracy: 0.9925\n",
      "Epoch 23/100\n",
      "50/50 [==============================] - 0s 3ms/step - loss: 0.0391 - binary_accuracy: 0.9994 - val_loss: 0.0570 - val_binary_accuracy: 0.9925\n",
      "Epoch 24/100\n",
      "50/50 [==============================] - 0s 5ms/step - loss: 0.0380 - binary_accuracy: 1.0000 - val_loss: 0.0556 - val_binary_accuracy: 0.9925\n",
      "Epoch 25/100\n",
      "50/50 [==============================] - 1s 12ms/step - loss: 0.0370 - binary_accuracy: 1.0000 - val_loss: 0.0543 - val_binary_accuracy: 0.9925\n",
      "Epoch 26/100\n",
      "50/50 [==============================] - 0s 9ms/step - loss: 0.0360 - binary_accuracy: 1.0000 - val_loss: 0.0531 - val_binary_accuracy: 0.9925\n",
      "Epoch 27/100\n",
      "50/50 [==============================] - 0s 5ms/step - loss: 0.0351 - binary_accuracy: 1.0000 - val_loss: 0.0519 - val_binary_accuracy: 0.9925\n",
      "Epoch 28/100\n",
      "50/50 [==============================] - 1s 10ms/step - loss: 0.0343 - binary_accuracy: 1.0000 - val_loss: 0.0508 - val_binary_accuracy: 0.9925\n",
      "Epoch 29/100\n",
      "50/50 [==============================] - 1s 13ms/step - loss: 0.0335 - binary_accuracy: 1.0000 - val_loss: 0.0498 - val_binary_accuracy: 0.9925\n",
      "Epoch 30/100\n",
      "50/50 [==============================] - 1s 10ms/step - loss: 0.0327 - binary_accuracy: 1.0000 - val_loss: 0.0488 - val_binary_accuracy: 0.9925\n",
      "Epoch 31/100\n",
      "50/50 [==============================] - 0s 9ms/step - loss: 0.0320 - binary_accuracy: 1.0000 - val_loss: 0.0479 - val_binary_accuracy: 0.9925\n",
      "Epoch 32/100\n",
      "50/50 [==============================] - 0s 9ms/step - loss: 0.0313 - binary_accuracy: 1.0000 - val_loss: 0.0470 - val_binary_accuracy: 0.9925\n",
      "Epoch 33/100\n",
      "50/50 [==============================] - 0s 6ms/step - loss: 0.0307 - binary_accuracy: 1.0000 - val_loss: 0.0462 - val_binary_accuracy: 0.9925\n",
      "Epoch 34/100\n",
      "50/50 [==============================] - 0s 7ms/step - loss: 0.0301 - binary_accuracy: 1.0000 - val_loss: 0.0454 - val_binary_accuracy: 0.9925\n",
      "Epoch 35/100\n",
      "50/50 [==============================] - 0s 8ms/step - loss: 0.0295 - binary_accuracy: 1.0000 - val_loss: 0.0447 - val_binary_accuracy: 0.9925\n",
      "Epoch 36/100\n",
      "50/50 [==============================] - 1s 11ms/step - loss: 0.0290 - binary_accuracy: 1.0000 - val_loss: 0.0440 - val_binary_accuracy: 0.9925\n",
      "Epoch 37/100\n",
      "50/50 [==============================] - 0s 8ms/step - loss: 0.0284 - binary_accuracy: 1.0000 - val_loss: 0.0433 - val_binary_accuracy: 0.9925\n",
      "Epoch 38/100\n",
      "50/50 [==============================] - 0s 6ms/step - loss: 0.0279 - binary_accuracy: 1.0000 - val_loss: 0.0426 - val_binary_accuracy: 0.9925\n",
      "Epoch 39/100\n",
      "50/50 [==============================] - 0s 6ms/step - loss: 0.0275 - binary_accuracy: 1.0000 - val_loss: 0.0420 - val_binary_accuracy: 0.9925\n",
      "Epoch 40/100\n",
      "50/50 [==============================] - 0s 9ms/step - loss: 0.0270 - binary_accuracy: 1.0000 - val_loss: 0.0414 - val_binary_accuracy: 0.9925\n",
      "Epoch 41/100\n",
      "50/50 [==============================] - 0s 9ms/step - loss: 0.0266 - binary_accuracy: 1.0000 - val_loss: 0.0409 - val_binary_accuracy: 0.9925\n",
      "Epoch 42/100\n",
      "50/50 [==============================] - 1s 10ms/step - loss: 0.0261 - binary_accuracy: 1.0000 - val_loss: 0.0403 - val_binary_accuracy: 0.9925\n",
      "Epoch 43/100\n",
      "50/50 [==============================] - 0s 9ms/step - loss: 0.0257 - binary_accuracy: 1.0000 - val_loss: 0.0398 - val_binary_accuracy: 0.9925\n",
      "Epoch 44/100\n",
      "50/50 [==============================] - 0s 6ms/step - loss: 0.0254 - binary_accuracy: 1.0000 - val_loss: 0.0393 - val_binary_accuracy: 0.9925\n",
      "Epoch 45/100\n",
      "50/50 [==============================] - 0s 7ms/step - loss: 0.0250 - binary_accuracy: 1.0000 - val_loss: 0.0388 - val_binary_accuracy: 0.9925\n",
      "Epoch 46/100\n",
      "50/50 [==============================] - 0s 7ms/step - loss: 0.0246 - binary_accuracy: 1.0000 - val_loss: 0.0384 - val_binary_accuracy: 0.9925\n",
      "Epoch 47/100\n",
      "50/50 [==============================] - 0s 6ms/step - loss: 0.0243 - binary_accuracy: 1.0000 - val_loss: 0.0379 - val_binary_accuracy: 0.9925\n",
      "Epoch 48/100\n",
      "50/50 [==============================] - 0s 6ms/step - loss: 0.0239 - binary_accuracy: 1.0000 - val_loss: 0.0375 - val_binary_accuracy: 0.9925\n",
      "Epoch 49/100\n",
      "50/50 [==============================] - 0s 5ms/step - loss: 0.0236 - binary_accuracy: 1.0000 - val_loss: 0.0371 - val_binary_accuracy: 0.9925\n",
      "Epoch 50/100\n",
      "50/50 [==============================] - 0s 5ms/step - loss: 0.0233 - binary_accuracy: 1.0000 - val_loss: 0.0367 - val_binary_accuracy: 0.9925\n",
      "Epoch 51/100\n",
      "50/50 [==============================] - 0s 5ms/step - loss: 0.0230 - binary_accuracy: 1.0000 - val_loss: 0.0363 - val_binary_accuracy: 0.9925\n",
      "Epoch 52/100\n",
      "50/50 [==============================] - 0s 5ms/step - loss: 0.0227 - binary_accuracy: 1.0000 - val_loss: 0.0360 - val_binary_accuracy: 0.9925\n",
      "Epoch 53/100\n",
      "50/50 [==============================] - 0s 10ms/step - loss: 0.0225 - binary_accuracy: 1.0000 - val_loss: 0.0356 - val_binary_accuracy: 0.9925\n",
      "Epoch 54/100\n",
      "50/50 [==============================] - 0s 6ms/step - loss: 0.0222 - binary_accuracy: 1.0000 - val_loss: 0.0353 - val_binary_accuracy: 0.9925\n",
      "Epoch 55/100\n",
      "50/50 [==============================] - 0s 5ms/step - loss: 0.0219 - binary_accuracy: 1.0000 - val_loss: 0.0349 - val_binary_accuracy: 0.9925\n",
      "Epoch 56/100\n",
      "50/50 [==============================] - 0s 5ms/step - loss: 0.0217 - binary_accuracy: 1.0000 - val_loss: 0.0346 - val_binary_accuracy: 0.9925\n",
      "Epoch 57/100\n",
      "50/50 [==============================] - 0s 5ms/step - loss: 0.0214 - binary_accuracy: 1.0000 - val_loss: 0.0343 - val_binary_accuracy: 0.9925\n",
      "Epoch 58/100\n",
      "50/50 [==============================] - 0s 4ms/step - loss: 0.0212 - binary_accuracy: 1.0000 - val_loss: 0.0340 - val_binary_accuracy: 0.9925\n",
      "Epoch 59/100\n",
      "50/50 [==============================] - 0s 5ms/step - loss: 0.0209 - binary_accuracy: 1.0000 - val_loss: 0.0337 - val_binary_accuracy: 0.9925\n",
      "Epoch 60/100\n",
      "50/50 [==============================] - 0s 8ms/step - loss: 0.0207 - binary_accuracy: 1.0000 - val_loss: 0.0334 - val_binary_accuracy: 0.9925\n",
      "Epoch 61/100\n",
      "50/50 [==============================] - 0s 5ms/step - loss: 0.0205 - binary_accuracy: 1.0000 - val_loss: 0.0331 - val_binary_accuracy: 0.9925\n",
      "Epoch 62/100\n",
      "50/50 [==============================] - 0s 4ms/step - loss: 0.0203 - binary_accuracy: 1.0000 - val_loss: 0.0329 - val_binary_accuracy: 0.9925\n",
      "Epoch 63/100\n",
      "50/50 [==============================] - 0s 8ms/step - loss: 0.0201 - binary_accuracy: 1.0000 - val_loss: 0.0326 - val_binary_accuracy: 0.9925\n",
      "Epoch 64/100\n",
      "50/50 [==============================] - 0s 7ms/step - loss: 0.0199 - binary_accuracy: 1.0000 - val_loss: 0.0323 - val_binary_accuracy: 0.9925\n",
      "Epoch 65/100\n",
      "50/50 [==============================] - 0s 6ms/step - loss: 0.0197 - binary_accuracy: 1.0000 - val_loss: 0.0321 - val_binary_accuracy: 0.9925\n",
      "Epoch 66/100\n",
      "50/50 [==============================] - 0s 7ms/step - loss: 0.0195 - binary_accuracy: 1.0000 - val_loss: 0.0318 - val_binary_accuracy: 0.9925\n",
      "Epoch 67/100\n",
      "50/50 [==============================] - 0s 10ms/step - loss: 0.0193 - binary_accuracy: 1.0000 - val_loss: 0.0316 - val_binary_accuracy: 0.9925\n",
      "Epoch 68/100\n",
      "50/50 [==============================] - 0s 4ms/step - loss: 0.0191 - binary_accuracy: 1.0000 - val_loss: 0.0314 - val_binary_accuracy: 0.9925\n",
      "Epoch 69/100\n",
      "50/50 [==============================] - 0s 4ms/step - loss: 0.0189 - binary_accuracy: 1.0000 - val_loss: 0.0312 - val_binary_accuracy: 0.9925\n",
      "Epoch 70/100\n",
      "50/50 [==============================] - 0s 5ms/step - loss: 0.0188 - binary_accuracy: 1.0000 - val_loss: 0.0309 - val_binary_accuracy: 0.9925\n",
      "Epoch 71/100\n",
      "50/50 [==============================] - 0s 3ms/step - loss: 0.0186 - binary_accuracy: 1.0000 - val_loss: 0.0307 - val_binary_accuracy: 0.9925\n",
      "Epoch 72/100\n",
      "50/50 [==============================] - 0s 4ms/step - loss: 0.0184 - binary_accuracy: 1.0000 - val_loss: 0.0305 - val_binary_accuracy: 0.9925\n",
      "Epoch 73/100\n",
      "50/50 [==============================] - 0s 4ms/step - loss: 0.0183 - binary_accuracy: 1.0000 - val_loss: 0.0303 - val_binary_accuracy: 0.9925\n",
      "Epoch 74/100\n",
      "50/50 [==============================] - 0s 4ms/step - loss: 0.0181 - binary_accuracy: 1.0000 - val_loss: 0.0301 - val_binary_accuracy: 0.9925\n",
      "Epoch 75/100\n",
      "50/50 [==============================] - 0s 4ms/step - loss: 0.0180 - binary_accuracy: 1.0000 - val_loss: 0.0299 - val_binary_accuracy: 0.9925\n",
      "Epoch 76/100\n",
      "50/50 [==============================] - 0s 4ms/step - loss: 0.0178 - binary_accuracy: 1.0000 - val_loss: 0.0297 - val_binary_accuracy: 0.9925\n",
      "Epoch 77/100\n",
      "50/50 [==============================] - 0s 5ms/step - loss: 0.0177 - binary_accuracy: 1.0000 - val_loss: 0.0296 - val_binary_accuracy: 0.9925\n",
      "Epoch 78/100\n",
      "50/50 [==============================] - 0s 4ms/step - loss: 0.0175 - binary_accuracy: 1.0000 - val_loss: 0.0294 - val_binary_accuracy: 0.9925\n",
      "Epoch 79/100\n",
      "50/50 [==============================] - 0s 4ms/step - loss: 0.0174 - binary_accuracy: 1.0000 - val_loss: 0.0292 - val_binary_accuracy: 0.9925\n",
      "Epoch 80/100\n",
      "50/50 [==============================] - 0s 5ms/step - loss: 0.0173 - binary_accuracy: 1.0000 - val_loss: 0.0290 - val_binary_accuracy: 0.9925\n",
      "Epoch 81/100\n",
      "50/50 [==============================] - 0s 5ms/step - loss: 0.0171 - binary_accuracy: 1.0000 - val_loss: 0.0289 - val_binary_accuracy: 0.9925\n",
      "Epoch 82/100\n",
      "50/50 [==============================] - 0s 5ms/step - loss: 0.0170 - binary_accuracy: 1.0000 - val_loss: 0.0287 - val_binary_accuracy: 0.9925\n",
      "Epoch 83/100\n",
      "50/50 [==============================] - 0s 4ms/step - loss: 0.0169 - binary_accuracy: 1.0000 - val_loss: 0.0285 - val_binary_accuracy: 0.9925\n",
      "Epoch 84/100\n",
      "50/50 [==============================] - 0s 4ms/step - loss: 0.0167 - binary_accuracy: 1.0000 - val_loss: 0.0284 - val_binary_accuracy: 0.9925\n",
      "Epoch 85/100\n",
      "50/50 [==============================] - 0s 9ms/step - loss: 0.0166 - binary_accuracy: 1.0000 - val_loss: 0.0282 - val_binary_accuracy: 0.9925\n",
      "Epoch 86/100\n",
      "50/50 [==============================] - 0s 5ms/step - loss: 0.0165 - binary_accuracy: 1.0000 - val_loss: 0.0281 - val_binary_accuracy: 0.9925\n",
      "Epoch 87/100\n",
      "50/50 [==============================] - 0s 5ms/step - loss: 0.0164 - binary_accuracy: 1.0000 - val_loss: 0.0279 - val_binary_accuracy: 0.9925\n",
      "Epoch 88/100\n",
      "50/50 [==============================] - 0s 5ms/step - loss: 0.0163 - binary_accuracy: 1.0000 - val_loss: 0.0278 - val_binary_accuracy: 0.9925\n",
      "Epoch 89/100\n",
      "50/50 [==============================] - 0s 4ms/step - loss: 0.0161 - binary_accuracy: 1.0000 - val_loss: 0.0276 - val_binary_accuracy: 0.9925\n",
      "Epoch 90/100\n",
      "50/50 [==============================] - 0s 4ms/step - loss: 0.0160 - binary_accuracy: 1.0000 - val_loss: 0.0275 - val_binary_accuracy: 0.9925\n",
      "Epoch 91/100\n",
      "50/50 [==============================] - 0s 4ms/step - loss: 0.0159 - binary_accuracy: 1.0000 - val_loss: 0.0274 - val_binary_accuracy: 0.9925\n",
      "Epoch 92/100\n",
      "50/50 [==============================] - 0s 4ms/step - loss: 0.0158 - binary_accuracy: 1.0000 - val_loss: 0.0272 - val_binary_accuracy: 0.9925\n",
      "Epoch 93/100\n",
      "50/50 [==============================] - 0s 4ms/step - loss: 0.0157 - binary_accuracy: 1.0000 - val_loss: 0.0271 - val_binary_accuracy: 0.9925\n",
      "Epoch 94/100\n",
      "50/50 [==============================] - 0s 4ms/step - loss: 0.0156 - binary_accuracy: 1.0000 - val_loss: 0.0270 - val_binary_accuracy: 0.9925\n",
      "Epoch 95/100\n",
      "50/50 [==============================] - 0s 4ms/step - loss: 0.0155 - binary_accuracy: 1.0000 - val_loss: 0.0268 - val_binary_accuracy: 0.9925\n",
      "Epoch 96/100\n",
      "50/50 [==============================] - 0s 4ms/step - loss: 0.0154 - binary_accuracy: 1.0000 - val_loss: 0.0267 - val_binary_accuracy: 0.9925\n",
      "Epoch 97/100\n",
      "50/50 [==============================] - 0s 6ms/step - loss: 0.0153 - binary_accuracy: 1.0000 - val_loss: 0.0266 - val_binary_accuracy: 0.9925\n",
      "Epoch 98/100\n",
      "50/50 [==============================] - 0s 6ms/step - loss: 0.0152 - binary_accuracy: 1.0000 - val_loss: 0.0265 - val_binary_accuracy: 0.9925\n",
      "Epoch 99/100\n",
      "50/50 [==============================] - 0s 4ms/step - loss: 0.0151 - binary_accuracy: 1.0000 - val_loss: 0.0264 - val_binary_accuracy: 0.9925\n",
      "Epoch 100/100\n",
      "50/50 [==============================] - 0s 4ms/step - loss: 0.0150 - binary_accuracy: 1.0000 - val_loss: 0.0262 - val_binary_accuracy: 0.9925\n"
     ]
    }
   ],
   "source": [
    "x_train = inputs\n",
    "y_train = targets\n",
    "history2 = model2.fit(x_train, y_train, epochs=100, validation_split=0.2)"
   ]
  },
  {
   "cell_type": "code",
   "execution_count": 135,
   "metadata": {},
   "outputs": [
    {
     "name": "stdout",
     "output_type": "stream",
     "text": [
      "dict_keys(['loss', 'binary_accuracy', 'val_loss', 'val_binary_accuracy'])\n"
     ]
    }
   ],
   "source": [
    "print(history2.history.keys())"
   ]
  },
  {
   "cell_type": "code",
   "execution_count": 136,
   "metadata": {},
   "outputs": [
    {
     "data": {
      "text/plain": [
       "<matplotlib.legend.Legend at 0x15eb877c0>"
      ]
     },
     "execution_count": 136,
     "metadata": {},
     "output_type": "execute_result"
    },
    {
     "data": {
      "image/png": "[encoded data removed]",
      "text/plain": [
       "<Figure size 640x480 with 1 Axes>"
      ]
     },
     "metadata": {},
     "output_type": "display_data"
    }
   ],
   "source": [
    "plt.plot(history2.history['loss'], label = 'training loss')\n",
    "plt.plot(history2.history['val_loss'], label = 'validation loss')\n",
    "plt.legend()"
   ]
  },
  {
   "cell_type": "markdown",
   "metadata": {},
   "source": [
    "### *Functional API*"
   ]
  },
  {
   "cell_type": "code",
   "execution_count": 138,
   "metadata": {},
   "outputs": [],
   "source": [
    "x_sym = keras.Input(shape = (2,))"
   ]
  },
  {
   "cell_type": "code",
   "execution_count": 140,
   "metadata": {},
   "outputs": [],
   "source": [
    "dense_func = keras.layers.Dense(1, activation = 'sigmoid')\n",
    "y_sym = dense_func(x_sym)"
   ]
  },
  {
   "cell_type": "code",
   "execution_count": 141,
   "metadata": {},
   "outputs": [],
   "source": [
    "model3 = keras.Model(inputs=x_sym, outputs=y_sym)"
   ]
  },
  {
   "cell_type": "code",
   "execution_count": 142,
   "metadata": {},
   "outputs": [
    {
     "name": "stdout",
     "output_type": "stream",
     "text": [
      "Model: \"model\"\n",
      "_________________________________________________________________\n",
      " Layer (type)                Output Shape              Param #   \n",
      "=================================================================\n",
      " input_3 (InputLayer)        [(None, 2)]               0         \n",
      "                                                                 \n",
      " dense_1 (Dense)             (None, 1)                 3         \n",
      "                                                                 \n",
      "=================================================================\n",
      "Total params: 3\n",
      "Trainable params: 3\n",
      "Non-trainable params: 0\n",
      "_________________________________________________________________\n"
     ]
    }
   ],
   "source": [
    "model3.summary()"
   ]
  },
  {
   "cell_type": "code",
   "execution_count": null,
   "metadata": {},
   "outputs": [],
   "source": [
    "keras.utils.plot_model(\n",
    "    model3,\n",
    "    show_shapes = True,\n",
    "    to_file = \"model3.png\"\n",
    ")"
   ]
  },
  {
   "cell_type": "markdown",
   "metadata": {},
   "source": [
    "![](./modul7_model3.png)"
   ]
  },
  {
   "cell_type": "markdown",
   "metadata": {},
   "source": [
    "Sisanya (*compile* lalu *fit*) sama dengan Sequential API"
   ]
  },
  {
   "cell_type": "markdown",
   "metadata": {},
   "source": [
    "### *Subclassing API* (yaitu dengan OOP)"
   ]
  },
  {
   "cell_type": "code",
   "execution_count": null,
   "metadata": {},
   "outputs": [],
   "source": [
    "class Linear(keras.layers.Layer):\n",
    "    def __init__(self, units=1, input_dim=2):\n",
    "        super().__init__()\n",
    "        self.W = self.add_weight(\n",
    "            shape=(input_dim, units),\n",
    "            initializer=\"random_normal\",\n",
    "            trainable=True,\n",
    "        )\n",
    "        self.b = self.add_weight(\n",
    "            shape=(units,),\n",
    "            initializer=\"random_normal\",\n",
    "            trainable=True\n",
    "        )\n",
    "\n",
    "    def call(self, inputs):\n",
    "        return tf.matmul(inputs, self.W) + self.b"
   ]
  },
  {
   "cell_type": "markdown",
   "metadata": {},
   "source": [
    "## Referensi\n",
    "\n",
    "Sumber gambar\n",
    "\n",
    "- Aggarwal, C. Charu. 2018. *Neural Networks and Deep Learning: A Textbook.* Edisi Pertama. Springer.\n",
    "\n",
    "- Goodfellow, Ian; Bengio, Yoshua; & Courville, Aaron. 2016. *Deep Learning*. MIT Press.\n",
    "\n",
    "Buku lainnya\n",
    "\n",
    "- Géron, Aurélien. 2019. *Hands-On Machine Learning with Scikit-Learn, Keras, and TensorFlow: Concepts, Tools, and Techniques to Build Intelligent Systems.* Edisi Kedua. O'Reilly Media.\n",
    "\n",
    "Internet\n",
    "\n",
    "- <https://www.tensorflow.org/api_docs/python/tf>\n",
    "\n",
    "- <https://keras.io/api/models/>"
   ]
  },
  {
   "cell_type": "markdown",
   "metadata": {},
   "source": []
  }
 ],
 "metadata": {
  "kernelspec": {
   "display_name": "Python 3",
   "language": "python",
   "name": "python3"
  },
  "language_info": {
   "codemirror_mode": {
    "name": "ipython",
    "version": 3
   },
   "file_extension": ".py",
   "mimetype": "text/x-python",
   "name": "python",
   "nbconvert_exporter": "python",
   "pygments_lexer": "ipython3",
   "version": "3.10.11"
  }
 },
 "nbformat": 4,
 "nbformat_minor": 2
}
