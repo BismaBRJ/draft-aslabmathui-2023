{
 "cells": [
  {
   "cell_type": "markdown",
   "metadata": {},
   "source": [
    "# Modul 7 Praktikum Sains Data: Pengantar TensorFlow & Keras"
   ]
  },
  {
   "cell_type": "markdown",
   "metadata": {},
   "source": [
    "Kembali ke [Sains Data](./saindat2024genap.qmd)"
   ]
  },
  {
   "cell_type": "markdown",
   "metadata": {},
   "source": [
    "Sekarang kita sudah masuk ke materi *artificial neural network* (ANN) atau biasa disebut *neural network* (NN), yang mendasari dunia *deep learning*."
   ]
  },
  {
   "cell_type": "markdown",
   "metadata": {},
   "source": [
    "Saat modul praktikum ini disusun (April 2024), ada dua *framework* utama untuk *deep learning* di Python, yaitu:\n",
    "\n",
    "1. TensorFlow: <https://www.tensorflow.org/>\n",
    "\n",
    "    (dan Keras di dalamnya: <https://keras.io/>)\n",
    "\n",
    "2. PyTorch: <https://pytorch.org/>\n",
    "\n",
    "Kedua *framework* ini bersaing. Umumnya, TensorFlow lebih sering digunakan di industri, sedangkan PyTorch lebih sering digunakan dalam riset/penelitian."
   ]
  },
  {
   "cell_type": "markdown",
   "metadata": {},
   "source": [
    "Di pertemuan kali ini, kita akan membahas TensorFlow, baik penggunaannya secara sendiri (*pure TensorFlow*, yaitu tanpa Keras) maupun dengan bantuan Keras. Kalau belum punya, instal terlebih dahulu:"
   ]
  },
  {
   "cell_type": "code",
   "execution_count": null,
   "metadata": {},
   "outputs": [],
   "source": [
    "pip install tensorflow"
   ]
  },
  {
   "cell_type": "markdown",
   "metadata": {},
   "source": [
    "Keras terinstal bersama TensorFlow (karena Keras ada di dalamnya)."
   ]
  },
  {
   "cell_type": "markdown",
   "metadata": {},
   "source": [
    "Lalu import:"
   ]
  },
  {
   "cell_type": "code",
   "execution_count": 3,
   "metadata": {},
   "outputs": [],
   "source": [
    "import tensorflow as tf\n",
    "from tensorflow import keras\n",
    "import numpy as np\n",
    "import pandas as pd\n",
    "import matplotlib.pyplot as plt"
   ]
  },
  {
   "cell_type": "markdown",
   "metadata": {},
   "source": [
    "## Teori *Neural Network*"
   ]
  },
  {
   "cell_type": "markdown",
   "metadata": {},
   "source": [
    "*Overview:*\n",
    "\n",
    "- Secara umum, suatu *neural network* terdiri dari sejumlah *layer* atau lapisan (minimal dua).\n",
    "\n",
    "- *Layer* pertama disebut *input layer*, dan *layer* terakhir disebut *output layer*.\n",
    "\n",
    "- Tiap *layer* terdiri dari sejumlah *neuron*, yang masing-masing bisa menyimpan suatu nilai.\n",
    "\n",
    "- Kecuali *input layer*, tiap *neuron* terhubung dengan sejumlah *neuron* di *layer* sebelumnya.\n",
    "\n",
    "- Tiap sambungan terdiri dari nilai *weight* (sebagai pengali), nilai *bias* (sebagai pergeseran), dan suatu \"fungsi aktivasi\" yang menghasilkan nilai untuk *neuron* tujuan.\n",
    "\n",
    "- *Weight* maupun *bias* disebut **parameter** dari *neural network*.\n",
    "\n",
    "- Proses *training* adalah terus-menerus memperbarui parameter hingga hasil prediksi *neural network* sudah cukup baik, dengan meminimumkan suatu ***loss function*** atau fungsi objektif (yang intinya menghitung *error*).\n",
    "\n",
    "- Suatu *neural network* bisa memiliki sejumlah *layer*, masing-masing dengan banyaknya *neuron* tertentu dan fungsi-fungsi aktivasi tertentu. Hal-hal itu disebut \n",
    "***hyperparameter*** dari *neural network*. Suatu **arsitektur** adalah suatu pilihan/konfigurasi *hyperparameter*."
   ]
  },
  {
   "cell_type": "markdown",
   "metadata": {},
   "source": [
    "### SLP: *(Single-Layer) Perceptron*"
   ]
  },
  {
   "cell_type": "markdown",
   "metadata": {},
   "source": [
    "ANN paling pertama adalah *perceptron* (juga disebut SLP atau *single-layer perceptron*) yang dirancang oleh Frank Rosenblatt pada tahun 1957 (Géron, 2019). Ini adalah *neural network* yang paling sederhana, bahkan ini bisa disebut *building block* dari semua ANN (apabila diberi kebebasan untuk modifikasi). Konsep dasar *neural network* bisa kita pelajari di sini."
   ]
  },
  {
   "cell_type": "markdown",
   "metadata": {},
   "source": [
    "![](./gambar/aggarwal_nndl_hal5.png)\n",
    "\n",
    "Sumber gambar: Aggarwal (2018) hal. 5"
   ]
  },
  {
   "cell_type": "markdown",
   "metadata": {},
   "source": [
    "*Perceptron* hanya terdiri dari satu *input layer* dan satu *output layer*. Bahkan, aslinya hanya ada satu *neuron* di *output layer*."
   ]
  },
  {
   "cell_type": "markdown",
   "metadata": {},
   "source": [
    "Apabila dibutuhkan lebih dari satu *neuron* di *output layer*, itu bisa dianggap menggunakan lebih dari satu *perceptron* (yaitu menggunakan banyaknya *perceptron* sesuai banyaknya *neuron* di *output layer*), yang saling \"ditumpuk\":"
   ]
  },
  {
   "cell_type": "markdown",
   "metadata": {},
   "source": [
    "![](./gambar/goodfellow_dl_hal337_crop.png)\n",
    "\n",
    "Sumber gambar: Goodfellow, et. al. (2016) hal. 337"
   ]
  },
  {
   "cell_type": "markdown",
   "metadata": {},
   "source": [
    "Perhatikan bahwa, tiap *neuron* di *layer* asal terhubung dengan tiap *neuron* di *layer* tujuan. *Layer* tujuan seperti ini disebut ***dense*** (padat). Kebalikan dari *dense* adalah *sparse*."
   ]
  },
  {
   "cell_type": "markdown",
   "metadata": {},
   "source": [
    "Aslinya, fungsi aktivasi yang digunakan oleh *perceptron* adalah *Heaviside step function* $H(v)$ yang mungkin kalian kenal dari mata kuliah PDB, atau juga disebut *threshold activation function*:\n",
    "\n",
    "$$H(v) = \\begin{cases}\n",
    "    1, & v \\ge 0 \\\\\n",
    "    0, & v < 0\n",
    "\\end{cases}$$"
   ]
  },
  {
   "cell_type": "markdown",
   "metadata": {},
   "source": [
    "Sehingga, untuk *output neuron* ke-$j$ yang disambung dari $n$ *input neuron*, model *perceptron* bisa dirumuskan sebagai berikut:\n",
    "\n",
    "$$y_j = H\\left(\\left(\\sum_{i=1}^{n} w_{ij} x_i \\right) + b_j\\right)$$\n",
    "\n",
    "dengan\n",
    "\n",
    "- $x_i$ adalah nilai pada *input neuron* ke-$i$\n",
    "\n",
    "- $y_j$ adalah nilai pada *output neuron* ke-$j$\n",
    "\n",
    "- $w_{ij}$ adalah parameter *weight* untuk sambungan *input neuron* ke-$i$ menuju *output neuron* ke-$j$\n",
    "\n",
    "- $b_j$ adalah parameter *bias* untuk *output neuron* ke-$j$"
   ]
  },
  {
   "cell_type": "markdown",
   "metadata": {},
   "source": [
    "Lebih umumnya,\n",
    "\n",
    "$$y_j = \\Phi\\left(\\left(\\sum_{i=1}^{n} w_{ij} x_i \\right) + b_j\\right)$$\n",
    "\n",
    "dengan $\\Phi(v)$ adalah sembarang fungsi aktivasi."
   ]
  },
  {
   "cell_type": "markdown",
   "metadata": {},
   "source": [
    "*Note:* seperti di gambar, sebenarnya *bias* juga bisa dianggap *neuron* istimewa yang nilai $x_i$ nya selalu satu."
   ]
  },
  {
   "cell_type": "markdown",
   "metadata": {},
   "source": [
    "Biasanya, semua nilai di *layer* selanjutnya dihitung secara sekaligus menggunakan perkalian matriks, dengan perumusan:\n",
    "\n",
    "$$\\textbf{y} = \\Phi\\left(W^T \\textbf{x} + \\textbf{b}\\right)$$\n",
    "\n",
    "dengan $\\textbf{x} = [x_i]$, $\\textbf{y} = [y_j]$, dan $\\textbf{b} = [b_j]$ adalah vektor **kolom**, serta $W = \\left[w_{ij}\\right]$ adalah matriks."
   ]
  },
  {
   "cell_type": "markdown",
   "metadata": {},
   "source": [
    "Itu untuk satu buah data *training*."
   ]
  },
  {
   "cell_type": "markdown",
   "metadata": {},
   "source": [
    "Bisa saja, beberapa data *training* diperhitungkan sekaligus. Caranya, vektor kolom $\\textbf{x}$ itu kita \"lebarkan\" ke samping sehingga menjadi matriks $X = [x_{it}]$, sehingga data *training* ke-$t$ ada di kolom ke-$t$. Dengan demikian, *output* nya akan berupa matriks $Y = [y_{jt}]$ dengan hasil untuk data *training* ke-$t$ ada di kolom ke-$t$. Selain itu, vektor $\\textbf{b}$ perlu diperluas menjadi matriks $B$ dengan tiap kolom identik, dan fungsi aktivasi $\\Phi$ dihitung per kolom.\n",
    "\n",
    "$$Y = \\Phi\\left(W^T X + B\\right)$$"
   ]
  },
  {
   "cell_type": "markdown",
   "metadata": {},
   "source": [
    "Kembali ke kasus satu buah data *training*. Biasanya, dataset disajikan dengan tiap fitur di kolom sendiri, tidak seperti perumusan kita sejauh ini dengan tiap fitur di baris tersendiri. Untuk menyesuaikan, kita bisa men-*transpose* semuanya:\n",
    "\n",
    "$$\\textbf{y} = \\Phi\\left(\\textbf{x} W + \\textbf{b}\\right)$$\n",
    "\n",
    "dengan $\\textbf{x} = [x_i]$, $\\textbf{y} = [y_j]$, dan $\\textbf{b} = [b_j]$ adalah vektor **baris**, serta $W = \\left[w_{ji}\\right]$ adalah matriks berisi bobot untuk menyambung ke *output neuron* ke-$j$ dari *input neuron* ke-$i$."
   ]
  },
  {
   "cell_type": "markdown",
   "metadata": {},
   "source": [
    "### MLP: *Multilayer Perceptron*"
   ]
  },
  {
   "cell_type": "markdown",
   "metadata": {},
   "source": [
    "Konsep *single-layer perceptron* bisa diperumum menjadi *multilayer perceptron* atau *neural network* yang biasa kita kenal, dengan menambahkan beberapa *layer* di antara *input layer* dan *output layer*. Semua *layer* selain *input layer* dan *output layer* disebut *hidden layer*."
   ]
  },
  {
   "cell_type": "markdown",
   "metadata": {},
   "source": [
    "![](./gambar/aggarwal_nndl_hal18.png)\n",
    "\n",
    "Sumber gambar: Aggarwal (2018) hal. 18"
   ]
  },
  {
   "cell_type": "markdown",
   "metadata": {},
   "source": [
    "Konsep perhitungan antara tiap *layer* tetap sama, yaitu\n",
    "\n",
    "$$\\textbf{y} = \\Phi\\left(\\textbf{w}^T \\textbf{x} + \\textbf{b}\\right)$$\n",
    "\n",
    "(versi vektor kolom), atau\n",
    "\n",
    "$$\\textbf{y} = \\Phi\\left(\\textbf{x} W + \\textbf{b}\\right)$$\n",
    "\n",
    "(versi vektor baris)"
   ]
  },
  {
   "cell_type": "markdown",
   "metadata": {},
   "source": [
    "### Fungsi Aktivasi"
   ]
  },
  {
   "cell_type": "markdown",
   "metadata": {},
   "source": [
    "![](./gambar/aggarwal_nndl_hal13.png)\n",
    "\n",
    "Sumber gambar: Aggarwal (2018) hal. 13"
   ]
  },
  {
   "cell_type": "markdown",
   "metadata": {},
   "source": [
    "Beberapa fungsi aktivasi adalah (Aggarwal, 2018, hal. 12-13):\n",
    "\n",
    "a. \"Linier\" atau identitas\n",
    "\n",
    "$$\\Phi(v) = v$$\n",
    "\n",
    "b. *Sign* (fungsi tanda): $\\text{sign}(v)$ atau $\\text{sgn}(v)$\n",
    "\n",
    "$$\n",
    "\\Phi(v) = \\text{sign}(v) = \\begin{cases}\n",
    "    1, & v > 0 \\\\\n",
    "    0, & v = 0 \\\\\n",
    "    -1, & v < 0\n",
    "\\end{cases}\n",
    "$$\n",
    "\n",
    "c. Sigmoid, terkadang dilambangkan $\\sigma(v)$ dan terkadang disebut fungsi aktivasi logistik\n",
    "\n",
    "$$\\Phi(v) = \\frac{1}{1 + e^{-v}}$$\n",
    "\n",
    "d. *(Soft)* tanh: $\\tanh(v)$\n",
    "\n",
    "$$\\Phi(v) = \\frac{e^{2v} - 1}{e^{2v} + 1} = 2 * \\text{sigmoid}(2v) - 1$$\n",
    "\n",
    "e. *Rectified Linear Unit* (ReLU)\n",
    "\n",
    "$$\\Phi(v) = \\max\\{v, 0\\}$$\n",
    "\n",
    "f. *Hard tanh*\n",
    "\n",
    "$$\\Phi(v) = \\max\\{\\min\\{v, 1\\}, -1\\}$$"
   ]
  },
  {
   "cell_type": "markdown",
   "metadata": {},
   "source": [
    "Fungsi aktivasi yang paling sering digunakan adalah ReLU, kecuali untuk *output layer*."
   ]
  },
  {
   "cell_type": "markdown",
   "metadata": {},
   "source": [
    "Untuk *output layer*, biasanya,\n",
    "\n",
    "- untuk regresi, banyaknya *neuron* sesuai banyaknya nilai prediksi (umumnya hanya satu), dan digunakan fungsi aktivasi linier\n",
    "\n",
    "- untuk klasifikasi *multiclass* (lebih dari dua kelas), biasanya banyaknya *output neuron* sesuai banyaknya kelas, dan digunakan fungsi aktivasi ***softmax*** sebagai berikut, agar *output* berupa peluang tiap kelas:\n",
    "\n",
    "$$\\Phi(\\overline{v})_i = \\frac{\\exp(v_i)}{\\sum_{j=1}^k \\exp(v_j)}$$\n",
    "\n",
    "- untuk klasifikasi biner, hanya ada satu *neuron* di *output layer*, dan digunakan fungsi aktivasi *sigmoid*. (Keberadaan hanya satu *output neuron* lebih hemat daripada menggunakan dua *output neuron*)"
   ]
  },
  {
   "cell_type": "markdown",
   "metadata": {},
   "source": [
    "### *Loss function*"
   ]
  },
  {
   "cell_type": "markdown",
   "metadata": {},
   "source": [
    "Misalkan $y_i$ adalah nilai sebenarnya dan $\\hat{y}_i$ adalah hasil prediksi."
   ]
  },
  {
   "cell_type": "markdown",
   "metadata": {},
   "source": [
    "Untuk regresi, biasa digunakan MSE *(mean squared error)*, juga disebut *L2 loss*:\n",
    "\n",
    "$$\\text{MSE}(y, \\hat{y}) = \\frac{1}{n} \\sum_{i=1}^{n} \\left( y_i - \\hat{y}_i \\right)^2$$"
   ]
  },
  {
   "cell_type": "markdown",
   "metadata": {},
   "source": [
    "Untuk klasifikasi, biasa digunakan yang namanya *cross-entropy loss*, juga disebut *logistic loss* atau *log loss*:\n",
    "\n",
    "$$L_{\\text{log}}(y,\\hat{y}) = -(y \\ln (\\hat{y}) + (1 - y) \\ln (1 - \\hat{y}))$$"
   ]
  },
  {
   "cell_type": "markdown",
   "metadata": {},
   "source": [
    "### Proses *training*"
   ]
  },
  {
   "cell_type": "markdown",
   "metadata": {},
   "source": [
    "Proses *training* untuk *neural network* dilakukan secara iteratif, yaitu tiap iterasi akan memperbarui parameter sehingga nilai *loss function* menjadi lebih kecil."
   ]
  },
  {
   "cell_type": "markdown",
   "metadata": {},
   "source": [
    "Tiap iterasi melakukan langkah-langkah berikut untuk tiap data *training*:\n",
    "\n",
    "1. *Forward pass*: menghitung nilai *output* akhir, yaitu $\\hat{y}$ (hasil prediksi), berdasarkan *input* data *training*.\n",
    "\n",
    "2. Menghitung *loss* antara $y$ (nilai asli) dan $\\hat{y}$\n",
    "\n",
    "3. *Backpropagation*: menghitung gradien dari *loss* terhadap tiap parameter, secara \"mundur\"\n",
    "\n",
    "4. *Update optimizer*: menggunakan algoritma *optimizer* seperti *gradient descent* untuk memperbarui parameter-parameter (*weights and biases*) berdasarkan gradien dari *loss*\n",
    "\n",
    "    Note: ada banyak *optimizer*, seperti *gradient descent*, SGD (*stochastic gradient descent*), dan *Adam* (*adaptive moment estimation*). Pilihan *optimizer* (serta parameter-parameter yang bisa diatur untuk *optimizer*, seperti *learning rate*) juga menjadi *hyperparameter* untuk *neural network*.\n",
    "\n",
    "Note: istilah *backward pass* meliputi langkah *backpropagation* dan *update optimizer*."
   ]
  },
  {
   "cell_type": "markdown",
   "metadata": {},
   "source": [
    "Apabila data *training* sangat banyak, terkadang data *training* tersebut dibagi menjadi beberapa *batch*, dan tiap iterasi menggunakan *batch* yang berbeda. Apabila semua *batch* sudah diproses, sebutannya adalah satu ***epoch***. Sehingga, satu *epoch* terdiri dari sejumlah iterasi sesuai banyaknya *batch*.\n",
    "\n",
    "(Apabila data *training* tidak dibagi menjadi *batch*, maka satu *epoch* sama dengan satu iterasi.)"
   ]
  },
  {
   "cell_type": "markdown",
   "metadata": {},
   "source": [
    "### Contoh *optimizer*: metode *gradient descent*"
   ]
  },
  {
   "cell_type": "markdown",
   "metadata": {},
   "source": [
    "Metode *gradient descent* mencari minimum lokal dari suatu fungsi $g$ (dalam hal ini, *loss function*) dengan rumus iterasi seperti berikut:\n",
    "\n",
    "$$\\textbf{x}_{i+1} = \\textbf{x}_i - \\eta \\nabla g\\left(\\textbf{x}_i\\right)$$\n",
    "\n",
    "dengan $\\eta$ adalah *learning rate*. Simbol nabla ($\\nabla$) menandakan perhitungan gradien."
   ]
  },
  {
   "cell_type": "markdown",
   "metadata": {},
   "source": [
    "Perhatikan bahwa gradien menandakan arah tercepat untuk kenaikan fungsi, seringkali disebut *direction of steepest ascent*. Di sini, justru kita mengurangi; atau sama saja, menambah dengan kebalikannya, yaitu arah tercepat untuk penurunan fungsi. Sedangkan, *learning rate* melambangkan seberapa jauh kita melangkah ke arah penurunan tersebut. Harapannya, kita akan cepat konvergen menuju minimum fungsi, karena kita terus melangkah ke arah penurunan tercepat."
   ]
  },
  {
   "cell_type": "markdown",
   "metadata": {},
   "source": [
    "Variasi *gradient descent* adalah SGD *(stochastic gradient descent)*. Bedanya sederhana saja:\n",
    "\n",
    "- *Gradient descent* selalu memanfaatkan keseluruhan data *training* yang diberikan (lebih tepatnya, keseluruhan *batch*) di tiap iterasi.\n",
    "\n",
    "- Sedangkan, SGD selalu memilih sebagian data *training* saja (lebih tepatnya, sebagian dari *batch*), dan cara memilihnya bersifat *random* atau disebut stokastik.\n",
    "\n",
    "Keuntungan SGD dibandingkan *gradient descent* biasa:\n",
    "\n",
    "- Waktu *training* menjadi lebih cepat\n",
    "\n",
    "- Tidak rawan terjebak di minimum lokal: <https://www.youtube.com/watch?v=UmathvAKj80&t=102>"
   ]
  },
  {
   "cell_type": "markdown",
   "metadata": {},
   "source": [
    "### *Train-Validation-Test Split*"
   ]
  },
  {
   "cell_type": "markdown",
   "metadata": {},
   "source": [
    "Ketika menggunakan metode *machine learning* yang di-*training* secara iteratif, seperti *neural network*, biasanya ada juga yang namanya *validation data*. Sehingga, di awal, *dataset* dipisah menjadi data *train*, data *validation*, dan data *test*.\n",
    "\n",
    "Gunanya, kita bisa menguji akurasi model di akhir tiap *epoch*, menggunakan data *validation* daripada data *test*."
   ]
  },
  {
   "cell_type": "markdown",
   "metadata": {},
   "source": [
    "Rasio yang paling sering digunakan adalah 80-10-10, yaitu 80% data *train*, 10% data *validation*, dan 10% data *test*."
   ]
  },
  {
   "cell_type": "markdown",
   "metadata": {},
   "source": [
    "Apabila menggunakan scikit-learn, untuk melakukan *train-validation-test split*, caranya adalah dengan *split* dua kali, yaitu\n",
    "\n",
    "1. *Split* menjadi data \"train\" dan data *test*\n",
    "\n",
    "2. Data \"train\" itu di-*split* lagi menjadi data *train* sesungguhnya dan data *validation*\n",
    "\n",
    "atau bisa juga\n",
    "\n",
    "1. *Split* menjadi data *train* dan data \"test\"\n",
    "\n",
    "2. Data \"test\" itu di-*split* lagi menjadi data *validation* dan data *test* sesungguhnya"
   ]
  },
  {
   "cell_type": "markdown",
   "metadata": {},
   "source": [
    "## Mengenal TensorFlow"
   ]
  },
  {
   "cell_type": "code",
   "execution_count": null,
   "metadata": {},
   "outputs": [],
   "source": [
    "import tensorflow as tf"
   ]
  },
  {
   "cell_type": "markdown",
   "metadata": {},
   "source": [
    "### *Tensor*, Konstanta, Variabel"
   ]
  },
  {
   "cell_type": "markdown",
   "metadata": {},
   "source": [
    "*Tensor* adalah semacam perumuman dari *array*/vektor ataupun *matriks*.\n",
    "\n",
    "- Skalar (bilangan) adalah *tensor* berdimensi nol (atau *rank* nol).\n",
    "\n",
    "- *Array* atau vektor adalah *tensor* berdimensi satu (atau *rank* satu).\n",
    "\n",
    "- Matriks adalah *tensor* berdimensi dua (atau *rank* dua).\n",
    "\n",
    "- Istilah *\"tensor\"* biasanya merujuk pada *tensor* berdimensi tiga (atau *rank* tiga), yaitu semacam matriks tapi tiga dimensi, sehingga ada baris, kolom, dan satu dimensi lagi."
   ]
  },
  {
   "cell_type": "markdown",
   "metadata": {},
   "source": [
    "Fitur *tensor* di TensorFlow mirip dengan fitur *array* di numpy, yang memang juga bisa multidimensi."
   ]
  },
  {
   "cell_type": "code",
   "execution_count": 10,
   "metadata": {},
   "outputs": [
    {
     "name": "stdout",
     "output_type": "stream",
     "text": [
      "tf.Tensor(\n",
      "[[0. 0. 0. 0.]\n",
      " [0. 0. 0. 0.]\n",
      " [0. 0. 0. 0.]], shape=(3, 4), dtype=float32)\n"
     ]
    }
   ],
   "source": [
    "x = tf.zeros(shape = (3,4))\n",
    "print(x)"
   ]
  },
  {
   "cell_type": "code",
   "execution_count": 9,
   "metadata": {},
   "outputs": [
    {
     "name": "stdout",
     "output_type": "stream",
     "text": [
      "tf.Tensor(\n",
      "[[1. 1. 1. 1.]\n",
      " [1. 1. 1. 1.]\n",
      " [1. 1. 1. 1.]], shape=(3, 4), dtype=float32)\n"
     ]
    }
   ],
   "source": [
    "x = tf.ones(shape = (3,4))\n",
    "print(x)"
   ]
  },
  {
   "cell_type": "markdown",
   "metadata": {},
   "source": [
    "Untuk menentukan *array* kita sendiri, di numpy digunakan `numpy.array`.\n",
    "\n",
    "Untuk menentukan *tensor* kita sendiri, di TensorFlow digunakan `tensorflow.constant` (agar nilainya tidak bisa diubah) atau `tensorflow.Variable` (nilainya bisa diubah).\n",
    "\n",
    "Pada umumnya (apabila tidak ada keterangan), *tensor* di TensorFlow berupa `tensorflow.constant`"
   ]
  },
  {
   "cell_type": "code",
   "execution_count": 25,
   "metadata": {},
   "outputs": [
    {
     "name": "stdout",
     "output_type": "stream",
     "text": [
      "tf.Tensor(1.5, shape=(), dtype=float32)\n"
     ]
    }
   ],
   "source": [
    "const0 = tf.constant(1.5)\n",
    "print(const0)"
   ]
  },
  {
   "cell_type": "code",
   "execution_count": 26,
   "metadata": {},
   "outputs": [
    {
     "name": "stdout",
     "output_type": "stream",
     "text": [
      "tf.Tensor(0, shape=(), dtype=int32)\n"
     ]
    }
   ],
   "source": [
    "print(tf.rank(const0))"
   ]
  },
  {
   "cell_type": "code",
   "execution_count": 27,
   "metadata": {},
   "outputs": [
    {
     "name": "stdout",
     "output_type": "stream",
     "text": [
      "tf.Tensor([2.31  4.567 8.9  ], shape=(3,), dtype=float32)\n"
     ]
    }
   ],
   "source": [
    "const1 = tf.constant([2.31, 4.567, 8.9])\n",
    "print(const1)"
   ]
  },
  {
   "cell_type": "code",
   "execution_count": 28,
   "metadata": {},
   "outputs": [
    {
     "name": "stdout",
     "output_type": "stream",
     "text": [
      "tf.Tensor(1, shape=(), dtype=int32)\n"
     ]
    }
   ],
   "source": [
    "print(tf.rank(const1))"
   ]
  },
  {
   "cell_type": "code",
   "execution_count": 31,
   "metadata": {},
   "outputs": [
    {
     "ename": "TypeError",
     "evalue": "'tensorflow.python.framework.ops.EagerTensor' object does not support item assignment",
     "output_type": "error",
     "traceback": [
      "\u001b[0;31m---------------------------------------------------------------------------\u001b[0m",
      "\u001b[0;31mTypeError\u001b[0m                                 Traceback (most recent call last)",
      "Cell \u001b[0;32mIn[31], line 1\u001b[0m\n\u001b[0;32m----> 1\u001b[0m \u001b[43mconst1\u001b[49m\u001b[43m[\u001b[49m\u001b[38;5;241;43m0\u001b[39;49m\u001b[43m]\u001b[49m \u001b[38;5;241m=\u001b[39m \u001b[38;5;241m52.5\u001b[39m\n",
      "\u001b[0;31mTypeError\u001b[0m: 'tensorflow.python.framework.ops.EagerTensor' object does not support item assignment"
     ]
    }
   ],
   "source": [
    "const1[0] = 52.5"
   ]
  },
  {
   "cell_type": "code",
   "execution_count": 29,
   "metadata": {},
   "outputs": [
    {
     "name": "stdout",
     "output_type": "stream",
     "text": [
      "tf.Tensor(\n",
      "[[1.    2.718 3.14 ]\n",
      " [4.    5.    6.28 ]], shape=(2, 3), dtype=float32)\n"
     ]
    }
   ],
   "source": [
    "const2 = tf.constant([\n",
    "    [1, 2.718, 3.14],\n",
    "    [4, 5, 6.28]\n",
    "])\n",
    "print(const2)"
   ]
  },
  {
   "cell_type": "code",
   "execution_count": 30,
   "metadata": {},
   "outputs": [
    {
     "name": "stdout",
     "output_type": "stream",
     "text": [
      "tf.Tensor(2, shape=(), dtype=int32)\n"
     ]
    }
   ],
   "source": [
    "print(tf.rank(const2))"
   ]
  },
  {
   "cell_type": "code",
   "execution_count": 3,
   "metadata": {},
   "outputs": [
    {
     "name": "stdout",
     "output_type": "stream",
     "text": [
      "<tf.Variable 'Variable:0' shape=(2, 3) dtype=float32, numpy=\n",
      "array([[0., 0., 0.],\n",
      "       [0., 0., 0.]], dtype=float32)>\n"
     ]
    }
   ],
   "source": [
    "v = tf.Variable(initial_value = tf.zeros(shape = (2,3)))\n",
    "print(v)"
   ]
  },
  {
   "cell_type": "markdown",
   "metadata": {},
   "source": [
    "*Assignment* untuk variabel di TensorFlow dilakukan dengan `.assign`"
   ]
  },
  {
   "cell_type": "code",
   "execution_count": 4,
   "metadata": {},
   "outputs": [
    {
     "name": "stdout",
     "output_type": "stream",
     "text": [
      "<tf.Variable 'Variable:0' shape=(2, 3) dtype=float32, numpy=\n",
      "array([[1., 1., 1.],\n",
      "       [1., 1., 1.]], dtype=float32)>\n"
     ]
    }
   ],
   "source": [
    "v.assign(tf.ones(shape = (2,3)))\n",
    "print(v)"
   ]
  },
  {
   "cell_type": "code",
   "execution_count": 5,
   "metadata": {},
   "outputs": [
    {
     "name": "stdout",
     "output_type": "stream",
     "text": [
      "<tf.Variable 'Variable:0' shape=(2, 3) dtype=float32, numpy=\n",
      "array([[9., 1., 1.],\n",
      "       [1., 1., 1.]], dtype=float32)>\n"
     ]
    }
   ],
   "source": [
    "v[0, 0].assign(9)\n",
    "print(v)"
   ]
  },
  {
   "cell_type": "markdown",
   "metadata": {},
   "source": [
    "Ada juga `.assign_add`, sama saja dengan `+=`"
   ]
  },
  {
   "cell_type": "code",
   "execution_count": 6,
   "metadata": {},
   "outputs": [
    {
     "name": "stdout",
     "output_type": "stream",
     "text": [
      "<tf.Variable 'Variable:0' shape=(2, 3) dtype=float32, numpy=\n",
      "array([[10.,  2.,  2.],\n",
      "       [ 2.,  2.,  2.]], dtype=float32)>\n"
     ]
    }
   ],
   "source": [
    "v.assign_add(tf.ones(shape = (2,3)))\n",
    "print(v)"
   ]
  },
  {
   "cell_type": "markdown",
   "metadata": {},
   "source": [
    "Serupa, ada `.assign_sub` yaitu `-=`"
   ]
  },
  {
   "cell_type": "code",
   "execution_count": 7,
   "metadata": {},
   "outputs": [
    {
     "name": "stdout",
     "output_type": "stream",
     "text": [
      "<tf.Variable 'Variable:0' shape=(2, 3) dtype=float32, numpy=\n",
      "array([[9., 1., 1.],\n",
      "       [1., 1., 1.]], dtype=float32)>\n"
     ]
    }
   ],
   "source": [
    "v.assign_sub(tf.ones(shape = (2,3)))\n",
    "print(v)"
   ]
  },
  {
   "cell_type": "markdown",
   "metadata": {},
   "source": [
    "Kita bisa membuat *tensor* dengan nilai yang *random*, misalnya dari distribusi normal atau dari distribusi uniform"
   ]
  },
  {
   "cell_type": "code",
   "execution_count": 76,
   "metadata": {},
   "outputs": [
    {
     "name": "stdout",
     "output_type": "stream",
     "text": [
      "tf.Tensor(\n",
      "[[ 1.2542483  -0.41693744  1.0116149 ]\n",
      " [-1.4155766   0.17204648 -0.6892854 ]], shape=(2, 3), dtype=float32)\n"
     ]
    }
   ],
   "source": [
    "# dari distribusi normal\n",
    "x = tf.random.normal(shape = (2,3), mean = 0, stddev = 1)\n",
    "print(x)"
   ]
  },
  {
   "cell_type": "code",
   "execution_count": 77,
   "metadata": {},
   "outputs": [
    {
     "name": "stdout",
     "output_type": "stream",
     "text": [
      "tf.Tensor(\n",
      "[[0.51321495 0.26164746 0.09113109]\n",
      " [0.81229377 0.67134035 0.36057925]], shape=(2, 3), dtype=float32)\n"
     ]
    }
   ],
   "source": [
    "# dari distribusi uniform\n",
    "x = tf.random.uniform(shape = (2,3), minval = 0, maxval = 1)\n",
    "print(x)"
   ]
  },
  {
   "cell_type": "markdown",
   "metadata": {},
   "source": [
    "Operasi di TensorFlow mirip dengan numpy"
   ]
  },
  {
   "cell_type": "code",
   "execution_count": 56,
   "metadata": {},
   "outputs": [
    {
     "name": "stdout",
     "output_type": "stream",
     "text": [
      "tf.Tensor(\n",
      "[[4. 4.]\n",
      " [4. 4.]], shape=(2, 2), dtype=float32)\n"
     ]
    }
   ],
   "source": [
    "a = 4 * tf.ones((2, 2))\n",
    "print(a)"
   ]
  },
  {
   "cell_type": "code",
   "execution_count": 57,
   "metadata": {},
   "outputs": [
    {
     "name": "stdout",
     "output_type": "stream",
     "text": [
      "tf.Tensor(\n",
      "[[16. 16.]\n",
      " [16. 16.]], shape=(2, 2), dtype=float32)\n"
     ]
    }
   ],
   "source": [
    "b = tf.square(a)\n",
    "print(b)"
   ]
  },
  {
   "cell_type": "code",
   "execution_count": 58,
   "metadata": {},
   "outputs": [
    {
     "name": "stdout",
     "output_type": "stream",
     "text": [
      "tf.Tensor(\n",
      "[[2. 2.]\n",
      " [2. 2.]], shape=(2, 2), dtype=float32)\n"
     ]
    }
   ],
   "source": [
    "c = tf.sqrt(a)\n",
    "print(c)"
   ]
  },
  {
   "cell_type": "code",
   "execution_count": 59,
   "metadata": {},
   "outputs": [
    {
     "name": "stdout",
     "output_type": "stream",
     "text": [
      "tf.Tensor(\n",
      "[[18. 18.]\n",
      " [18. 18.]], shape=(2, 2), dtype=float32)\n"
     ]
    }
   ],
   "source": [
    "d = b + c\n",
    "print(d)"
   ]
  },
  {
   "cell_type": "code",
   "execution_count": 60,
   "metadata": {},
   "outputs": [
    {
     "name": "stdout",
     "output_type": "stream",
     "text": [
      "tf.Tensor(\n",
      "[[16. 16.]\n",
      " [16. 16.]], shape=(2, 2), dtype=float32)\n"
     ]
    }
   ],
   "source": [
    "# perkalian matriks\n",
    "e = tf.matmul(a, c)\n",
    "print(e)"
   ]
  },
  {
   "cell_type": "code",
   "execution_count": 61,
   "metadata": {},
   "outputs": [
    {
     "name": "stdout",
     "output_type": "stream",
     "text": [
      "tf.Tensor(\n",
      "[[288. 288.]\n",
      " [288. 288.]], shape=(2, 2), dtype=float32)\n"
     ]
    }
   ],
   "source": [
    "# perkalian per elemen\n",
    "e *= d\n",
    "print(e)"
   ]
  },
  {
   "cell_type": "markdown",
   "metadata": {},
   "source": [
    "### *Automatic differentiation* dengan `GradientTape`"
   ]
  },
  {
   "cell_type": "markdown",
   "metadata": {},
   "source": [
    "TensorFlow memiliki fitur yang bernama *automatic differentiation*, juga disebut *autodiff* atau *autograd*. Dengan fitur ini, TensorFlow bisa menghitung turunan/gradien secara otomatis. Fitur ini membedakan antara TensorFlow dengan numpy."
   ]
  },
  {
   "cell_type": "markdown",
   "metadata": {},
   "source": [
    "Caranya adalah menggunakan `GradientTape` seperti berikut. Semua operasi di dalam *with statement* dicatat oleh `GradientTape`, yang kemudian bisa menghitung gradiennya."
   ]
  },
  {
   "cell_type": "markdown",
   "metadata": {},
   "source": [
    "Contohnya, turunan $x^3$ terhadap $x$ di $x=4$ adalah $3(4)^2 = 48$."
   ]
  },
  {
   "cell_type": "code",
   "execution_count": 72,
   "metadata": {},
   "outputs": [
    {
     "name": "stdout",
     "output_type": "stream",
     "text": [
      "tf.Tensor(48.0, shape=(), dtype=float32)\n"
     ]
    }
   ],
   "source": [
    "x = tf.Variable(4.0)\n",
    "with tf.GradientTape() as tape:\n",
    "    y = x ** 3\n",
    "dy_dx = tape.gradient(y, x)\n",
    "print(dy_dx)"
   ]
  },
  {
   "cell_type": "markdown",
   "metadata": {},
   "source": [
    "Tidak harus dengan `tensorflow.Variable`, bahkan dengan `tensorflow.constant` juga bisa. Namun, kita harus secara eksplisit meminta TensorFlow untuk memperhatikan nilai `x`, yaitu dengan `.watch`"
   ]
  },
  {
   "cell_type": "code",
   "execution_count": 73,
   "metadata": {},
   "outputs": [
    {
     "name": "stdout",
     "output_type": "stream",
     "text": [
      "tf.Tensor(48.0, shape=(), dtype=float32)\n"
     ]
    }
   ],
   "source": [
    "x = tf.constant(4.0)\n",
    "with tf.GradientTape() as tape:\n",
    "    tape.watch(x)\n",
    "    y = x ** 3\n",
    "dy_dx = tape.gradient(y, x)\n",
    "print(dy_dx)"
   ]
  },
  {
   "cell_type": "markdown",
   "metadata": {},
   "source": [
    "Kita bisa menghitung turunan kedua dengan *nested with statement* seperti berikut, contohnya turunan kedua dari $x^3$ terhadap $x$ di $x=4$ adalah $6(4) = 24$"
   ]
  },
  {
   "cell_type": "code",
   "execution_count": 74,
   "metadata": {},
   "outputs": [
    {
     "name": "stdout",
     "output_type": "stream",
     "text": [
      "tf.Tensor(24.0, shape=(), dtype=float32)\n"
     ]
    }
   ],
   "source": [
    "x = tf.Variable(4.0)\n",
    "with tf.GradientTape() as tape2:\n",
    "    with tf.GradientTape() as tape1:\n",
    "        y = x ** 3\n",
    "    dy_dx = tape1.gradient(y, x)\n",
    "dy2_dx2 = tape2.gradient(dy_dx, x)\n",
    "print(dy2_dx2)"
   ]
  },
  {
   "cell_type": "markdown",
   "metadata": {},
   "source": [
    "## *(Pure)* TensorFlow: klasifikasi biner dengan *perceptron*"
   ]
  },
  {
   "cell_type": "markdown",
   "metadata": {},
   "source": [
    "*Perceptron* digunakan untuk klasifikasi biner. Mari kita coba buat model *perceptron* dengan *pure* TensorFlow, menggunakannya untuk memprediksi kelas dari titik-titik dua dimensi."
   ]
  },
  {
   "cell_type": "markdown",
   "metadata": {},
   "source": [
    "### *Generate* dataset"
   ]
  },
  {
   "cell_type": "markdown",
   "metadata": {},
   "source": [
    "Dataset titik-titik dua dimensi, dengan dua kelas (misalnya \"negatif\" dan \"positif\"), bisa kita *generate*:"
   ]
  },
  {
   "cell_type": "code",
   "execution_count": 27,
   "metadata": {},
   "outputs": [],
   "source": [
    "num_samples_per_class, num_classes = 1000, 2\n",
    "negative_samples = np.random.multivariate_normal(mean = [0,3], cov = [[1,0.5],[0.5,1]], size = num_samples_per_class)\n",
    "positive_samples = np.random.multivariate_normal(mean = [3,0], cov = [[1,0.5],[0.5,1]], size = num_samples_per_class)\n",
    "\n",
    "inputs = np.vstack((negative_samples, positive_samples)).astype(np.float32)\n",
    "targets = np.vstack((\n",
    "    np.zeros((num_samples_per_class, 1), dtype = 'float32'),\n",
    "    np.ones((num_samples_per_class, 1), dtype = 'float32')\n",
    "))"
   ]
  },
  {
   "cell_type": "code",
   "execution_count": 35,
   "metadata": {},
   "outputs": [
    {
     "name": "stdout",
     "output_type": "stream",
     "text": [
      "(2000, 2)\n",
      "(2000, 1)\n"
     ]
    }
   ],
   "source": [
    "print(inputs.shape)\n",
    "print(targets.shape)"
   ]
  },
  {
   "cell_type": "code",
   "execution_count": 28,
   "metadata": {},
   "outputs": [
    {
     "data": {
      "image/png": "[encoded data removed]",
      "text/plain": [
       "<Figure size 640x480 with 1 Axes>"
      ]
     },
     "metadata": {},
     "output_type": "display_data"
    }
   ],
   "source": [
    "plt.scatter(inputs[:, 0], inputs[:, 1], c=targets[:, 0])\n",
    "plt.show()"
   ]
  },
  {
   "cell_type": "markdown",
   "metadata": {},
   "source": [
    "Kalau mau, kita bisa susun data ini ke dalam bentuk pandas DataFrame, lalu export ke CSV:"
   ]
  },
  {
   "cell_type": "code",
   "execution_count": 29,
   "metadata": {},
   "outputs": [],
   "source": [
    "titik_negatif_positif_df = pd.DataFrame(\n",
    "    np.hstack([inputs, targets]),\n",
    "    columns = [\"x\", \"y\", \"kelas\"]\n",
    ")"
   ]
  },
  {
   "cell_type": "code",
   "execution_count": 30,
   "metadata": {},
   "outputs": [
    {
     "data": {
      "text/html": [
       "<div>\n",
       "<style scoped>\n",
       "    .dataframe tbody tr th:only-of-type {\n",
       "        vertical-align: middle;\n",
       "    }\n",
       "\n",
       "    .dataframe tbody tr th {\n",
       "        vertical-align: top;\n",
       "    }\n",
       "\n",
       "    .dataframe thead th {\n",
       "        text-align: right;\n",
       "    }\n",
       "</style>\n",
       "<table border=\"1\" class=\"dataframe\">\n",
       "  <thead>\n",
       "    <tr style=\"text-align: right;\">\n",
       "      <th></th>\n",
       "      <th>x</th>\n",
       "      <th>y</th>\n",
       "      <th>kelas</th>\n",
       "    </tr>\n",
       "  </thead>\n",
       "  <tbody>\n",
       "    <tr>\n",
       "      <th>0</th>\n",
       "      <td>1.173375</td>\n",
       "      <td>4.570637</td>\n",
       "      <td>0.0</td>\n",
       "    </tr>\n",
       "    <tr>\n",
       "      <th>1</th>\n",
       "      <td>0.195961</td>\n",
       "      <td>3.504604</td>\n",
       "      <td>0.0</td>\n",
       "    </tr>\n",
       "    <tr>\n",
       "      <th>2</th>\n",
       "      <td>0.121400</td>\n",
       "      <td>2.163783</td>\n",
       "      <td>0.0</td>\n",
       "    </tr>\n",
       "    <tr>\n",
       "      <th>3</th>\n",
       "      <td>-1.170182</td>\n",
       "      <td>3.882771</td>\n",
       "      <td>0.0</td>\n",
       "    </tr>\n",
       "    <tr>\n",
       "      <th>4</th>\n",
       "      <td>-0.424403</td>\n",
       "      <td>0.534641</td>\n",
       "      <td>0.0</td>\n",
       "    </tr>\n",
       "    <tr>\n",
       "      <th>...</th>\n",
       "      <td>...</td>\n",
       "      <td>...</td>\n",
       "      <td>...</td>\n",
       "    </tr>\n",
       "    <tr>\n",
       "      <th>1995</th>\n",
       "      <td>2.423160</td>\n",
       "      <td>-0.337196</td>\n",
       "      <td>1.0</td>\n",
       "    </tr>\n",
       "    <tr>\n",
       "      <th>1996</th>\n",
       "      <td>1.949836</td>\n",
       "      <td>-0.627813</td>\n",
       "      <td>1.0</td>\n",
       "    </tr>\n",
       "    <tr>\n",
       "      <th>1997</th>\n",
       "      <td>2.109928</td>\n",
       "      <td>-0.382492</td>\n",
       "      <td>1.0</td>\n",
       "    </tr>\n",
       "    <tr>\n",
       "      <th>1998</th>\n",
       "      <td>4.178664</td>\n",
       "      <td>0.486168</td>\n",
       "      <td>1.0</td>\n",
       "    </tr>\n",
       "    <tr>\n",
       "      <th>1999</th>\n",
       "      <td>2.326363</td>\n",
       "      <td>1.228249</td>\n",
       "      <td>1.0</td>\n",
       "    </tr>\n",
       "  </tbody>\n",
       "</table>\n",
       "<p>2000 rows × 3 columns</p>\n",
       "</div>"
      ],
      "text/plain": [
       "             x         y  kelas\n",
       "0     1.173375  4.570637    0.0\n",
       "1     0.195961  3.504604    0.0\n",
       "2     0.121400  2.163783    0.0\n",
       "3    -1.170182  3.882771    0.0\n",
       "4    -0.424403  0.534641    0.0\n",
       "...        ...       ...    ...\n",
       "1995  2.423160 -0.337196    1.0\n",
       "1996  1.949836 -0.627813    1.0\n",
       "1997  2.109928 -0.382492    1.0\n",
       "1998  4.178664  0.486168    1.0\n",
       "1999  2.326363  1.228249    1.0\n",
       "\n",
       "[2000 rows x 3 columns]"
      ]
     },
     "execution_count": 30,
     "metadata": {},
     "output_type": "execute_result"
    }
   ],
   "source": [
    "titik_negatif_positif_df"
   ]
  },
  {
   "cell_type": "code",
   "execution_count": 31,
   "metadata": {},
   "outputs": [],
   "source": [
    "titik_negatif_positif_df.to_csv(\"./titik_negatif_positif.csv\", index=False)"
   ]
  },
  {
   "cell_type": "markdown",
   "metadata": {},
   "source": [
    "### *Import* kembali dataset"
   ]
  },
  {
   "cell_type": "markdown",
   "metadata": {},
   "source": [
    "Tentunya, karena titik-titiknya di-*generate* secara *random*, mungkin saja titik-titik yang kalian peroleh akan sedikit berbeda, bahkan tiap kali di-*run* ulang akan berbeda.\n",
    "\n",
    "Kalau kalian mau menyamakan dengan modul ini, CSV nya bisa di-*download* dari GitHub Pages ini: [titik_negatif_positif.csv](./titik_negatif_positif.csv)"
   ]
  },
  {
   "cell_type": "markdown",
   "metadata": {},
   "source": [
    "Kita bisa import kembali:"
   ]
  },
  {
   "cell_type": "code",
   "execution_count": 52,
   "metadata": {},
   "outputs": [],
   "source": [
    "df = pd.read_csv(\"./titik_negatif_positif.csv\", dtype=\"float32\")"
   ]
  },
  {
   "cell_type": "markdown",
   "metadata": {},
   "source": [
    "Kali ini, kita tambahkan keterangan `dtype=\"float32\"`. Ini penting, karena TensorFlow biasanya menangani `float32` (yaitu tipe data `float` dengan penyimpanan 32-bit), bukan `float64` yang biasa digunakan oleh pandas."
   ]
  },
  {
   "cell_type": "code",
   "execution_count": 53,
   "metadata": {},
   "outputs": [
    {
     "data": {
      "text/html": [
       "<div>\n",
       "<style scoped>\n",
       "    .dataframe tbody tr th:only-of-type {\n",
       "        vertical-align: middle;\n",
       "    }\n",
       "\n",
       "    .dataframe tbody tr th {\n",
       "        vertical-align: top;\n",
       "    }\n",
       "\n",
       "    .dataframe thead th {\n",
       "        text-align: right;\n",
       "    }\n",
       "</style>\n",
       "<table border=\"1\" class=\"dataframe\">\n",
       "  <thead>\n",
       "    <tr style=\"text-align: right;\">\n",
       "      <th></th>\n",
       "      <th>x</th>\n",
       "      <th>y</th>\n",
       "      <th>kelas</th>\n",
       "    </tr>\n",
       "  </thead>\n",
       "  <tbody>\n",
       "    <tr>\n",
       "      <th>0</th>\n",
       "      <td>1.173375</td>\n",
       "      <td>4.570637</td>\n",
       "      <td>0.0</td>\n",
       "    </tr>\n",
       "    <tr>\n",
       "      <th>1</th>\n",
       "      <td>0.195961</td>\n",
       "      <td>3.504604</td>\n",
       "      <td>0.0</td>\n",
       "    </tr>\n",
       "    <tr>\n",
       "      <th>2</th>\n",
       "      <td>0.121400</td>\n",
       "      <td>2.163783</td>\n",
       "      <td>0.0</td>\n",
       "    </tr>\n",
       "    <tr>\n",
       "      <th>3</th>\n",
       "      <td>-1.170182</td>\n",
       "      <td>3.882771</td>\n",
       "      <td>0.0</td>\n",
       "    </tr>\n",
       "    <tr>\n",
       "      <th>4</th>\n",
       "      <td>-0.424403</td>\n",
       "      <td>0.534641</td>\n",
       "      <td>0.0</td>\n",
       "    </tr>\n",
       "    <tr>\n",
       "      <th>...</th>\n",
       "      <td>...</td>\n",
       "      <td>...</td>\n",
       "      <td>...</td>\n",
       "    </tr>\n",
       "    <tr>\n",
       "      <th>1995</th>\n",
       "      <td>2.423160</td>\n",
       "      <td>-0.337196</td>\n",
       "      <td>1.0</td>\n",
       "    </tr>\n",
       "    <tr>\n",
       "      <th>1996</th>\n",
       "      <td>1.949836</td>\n",
       "      <td>-0.627813</td>\n",
       "      <td>1.0</td>\n",
       "    </tr>\n",
       "    <tr>\n",
       "      <th>1997</th>\n",
       "      <td>2.109928</td>\n",
       "      <td>-0.382492</td>\n",
       "      <td>1.0</td>\n",
       "    </tr>\n",
       "    <tr>\n",
       "      <th>1998</th>\n",
       "      <td>4.178664</td>\n",
       "      <td>0.486168</td>\n",
       "      <td>1.0</td>\n",
       "    </tr>\n",
       "    <tr>\n",
       "      <th>1999</th>\n",
       "      <td>2.326363</td>\n",
       "      <td>1.228249</td>\n",
       "      <td>1.0</td>\n",
       "    </tr>\n",
       "  </tbody>\n",
       "</table>\n",
       "<p>2000 rows × 3 columns</p>\n",
       "</div>"
      ],
      "text/plain": [
       "             x         y  kelas\n",
       "0     1.173375  4.570637    0.0\n",
       "1     0.195961  3.504604    0.0\n",
       "2     0.121400  2.163783    0.0\n",
       "3    -1.170182  3.882771    0.0\n",
       "4    -0.424403  0.534641    0.0\n",
       "...        ...       ...    ...\n",
       "1995  2.423160 -0.337196    1.0\n",
       "1996  1.949836 -0.627813    1.0\n",
       "1997  2.109928 -0.382492    1.0\n",
       "1998  4.178664  0.486168    1.0\n",
       "1999  2.326363  1.228249    1.0\n",
       "\n",
       "[2000 rows x 3 columns]"
      ]
     },
     "execution_count": 53,
     "metadata": {},
     "output_type": "execute_result"
    }
   ],
   "source": [
    "df"
   ]
  },
  {
   "cell_type": "code",
   "execution_count": 54,
   "metadata": {},
   "outputs": [
    {
     "name": "stdout",
     "output_type": "stream",
     "text": [
      "<class 'pandas.core.frame.DataFrame'>\n",
      "RangeIndex: 2000 entries, 0 to 1999\n",
      "Data columns (total 3 columns):\n",
      " #   Column  Non-Null Count  Dtype  \n",
      "---  ------  --------------  -----  \n",
      " 0   x       2000 non-null   float32\n",
      " 1   y       2000 non-null   float32\n",
      " 2   kelas   2000 non-null   float32\n",
      "dtypes: float32(3)\n",
      "memory usage: 23.6 KB\n"
     ]
    }
   ],
   "source": [
    "df.info()"
   ]
  },
  {
   "cell_type": "code",
   "execution_count": 70,
   "metadata": {},
   "outputs": [],
   "source": [
    "inputs_df = df.drop(columns=[\"kelas\"])\n",
    "targets_df = df[[\"kelas\"]]"
   ]
  },
  {
   "cell_type": "code",
   "execution_count": 72,
   "metadata": {},
   "outputs": [
    {
     "data": {
      "text/html": [
       "<div>\n",
       "<style scoped>\n",
       "    .dataframe tbody tr th:only-of-type {\n",
       "        vertical-align: middle;\n",
       "    }\n",
       "\n",
       "    .dataframe tbody tr th {\n",
       "        vertical-align: top;\n",
       "    }\n",
       "\n",
       "    .dataframe thead th {\n",
       "        text-align: right;\n",
       "    }\n",
       "</style>\n",
       "<table border=\"1\" class=\"dataframe\">\n",
       "  <thead>\n",
       "    <tr style=\"text-align: right;\">\n",
       "      <th></th>\n",
       "      <th>x</th>\n",
       "      <th>y</th>\n",
       "    </tr>\n",
       "  </thead>\n",
       "  <tbody>\n",
       "    <tr>\n",
       "      <th>0</th>\n",
       "      <td>1.173375</td>\n",
       "      <td>4.570637</td>\n",
       "    </tr>\n",
       "    <tr>\n",
       "      <th>1</th>\n",
       "      <td>0.195961</td>\n",
       "      <td>3.504604</td>\n",
       "    </tr>\n",
       "    <tr>\n",
       "      <th>2</th>\n",
       "      <td>0.121400</td>\n",
       "      <td>2.163783</td>\n",
       "    </tr>\n",
       "    <tr>\n",
       "      <th>3</th>\n",
       "      <td>-1.170182</td>\n",
       "      <td>3.882771</td>\n",
       "    </tr>\n",
       "    <tr>\n",
       "      <th>4</th>\n",
       "      <td>-0.424403</td>\n",
       "      <td>0.534641</td>\n",
       "    </tr>\n",
       "    <tr>\n",
       "      <th>...</th>\n",
       "      <td>...</td>\n",
       "      <td>...</td>\n",
       "    </tr>\n",
       "    <tr>\n",
       "      <th>1995</th>\n",
       "      <td>2.423160</td>\n",
       "      <td>-0.337196</td>\n",
       "    </tr>\n",
       "    <tr>\n",
       "      <th>1996</th>\n",
       "      <td>1.949836</td>\n",
       "      <td>-0.627813</td>\n",
       "    </tr>\n",
       "    <tr>\n",
       "      <th>1997</th>\n",
       "      <td>2.109928</td>\n",
       "      <td>-0.382492</td>\n",
       "    </tr>\n",
       "    <tr>\n",
       "      <th>1998</th>\n",
       "      <td>4.178664</td>\n",
       "      <td>0.486168</td>\n",
       "    </tr>\n",
       "    <tr>\n",
       "      <th>1999</th>\n",
       "      <td>2.326363</td>\n",
       "      <td>1.228249</td>\n",
       "    </tr>\n",
       "  </tbody>\n",
       "</table>\n",
       "<p>2000 rows × 2 columns</p>\n",
       "</div>"
      ],
      "text/plain": [
       "             x         y\n",
       "0     1.173375  4.570637\n",
       "1     0.195961  3.504604\n",
       "2     0.121400  2.163783\n",
       "3    -1.170182  3.882771\n",
       "4    -0.424403  0.534641\n",
       "...        ...       ...\n",
       "1995  2.423160 -0.337196\n",
       "1996  1.949836 -0.627813\n",
       "1997  2.109928 -0.382492\n",
       "1998  4.178664  0.486168\n",
       "1999  2.326363  1.228249\n",
       "\n",
       "[2000 rows x 2 columns]"
      ]
     },
     "execution_count": 72,
     "metadata": {},
     "output_type": "execute_result"
    }
   ],
   "source": [
    "inputs_df"
   ]
  },
  {
   "cell_type": "code",
   "execution_count": 73,
   "metadata": {},
   "outputs": [
    {
     "data": {
      "text/html": [
       "<div>\n",
       "<style scoped>\n",
       "    .dataframe tbody tr th:only-of-type {\n",
       "        vertical-align: middle;\n",
       "    }\n",
       "\n",
       "    .dataframe tbody tr th {\n",
       "        vertical-align: top;\n",
       "    }\n",
       "\n",
       "    .dataframe thead th {\n",
       "        text-align: right;\n",
       "    }\n",
       "</style>\n",
       "<table border=\"1\" class=\"dataframe\">\n",
       "  <thead>\n",
       "    <tr style=\"text-align: right;\">\n",
       "      <th></th>\n",
       "      <th>kelas</th>\n",
       "    </tr>\n",
       "  </thead>\n",
       "  <tbody>\n",
       "    <tr>\n",
       "      <th>0</th>\n",
       "      <td>0.0</td>\n",
       "    </tr>\n",
       "    <tr>\n",
       "      <th>1</th>\n",
       "      <td>0.0</td>\n",
       "    </tr>\n",
       "    <tr>\n",
       "      <th>2</th>\n",
       "      <td>0.0</td>\n",
       "    </tr>\n",
       "    <tr>\n",
       "      <th>3</th>\n",
       "      <td>0.0</td>\n",
       "    </tr>\n",
       "    <tr>\n",
       "      <th>4</th>\n",
       "      <td>0.0</td>\n",
       "    </tr>\n",
       "    <tr>\n",
       "      <th>...</th>\n",
       "      <td>...</td>\n",
       "    </tr>\n",
       "    <tr>\n",
       "      <th>1995</th>\n",
       "      <td>1.0</td>\n",
       "    </tr>\n",
       "    <tr>\n",
       "      <th>1996</th>\n",
       "      <td>1.0</td>\n",
       "    </tr>\n",
       "    <tr>\n",
       "      <th>1997</th>\n",
       "      <td>1.0</td>\n",
       "    </tr>\n",
       "    <tr>\n",
       "      <th>1998</th>\n",
       "      <td>1.0</td>\n",
       "    </tr>\n",
       "    <tr>\n",
       "      <th>1999</th>\n",
       "      <td>1.0</td>\n",
       "    </tr>\n",
       "  </tbody>\n",
       "</table>\n",
       "<p>2000 rows × 1 columns</p>\n",
       "</div>"
      ],
      "text/plain": [
       "      kelas\n",
       "0       0.0\n",
       "1       0.0\n",
       "2       0.0\n",
       "3       0.0\n",
       "4       0.0\n",
       "...     ...\n",
       "1995    1.0\n",
       "1996    1.0\n",
       "1997    1.0\n",
       "1998    1.0\n",
       "1999    1.0\n",
       "\n",
       "[2000 rows x 1 columns]"
      ]
     },
     "execution_count": 73,
     "metadata": {},
     "output_type": "execute_result"
    }
   ],
   "source": [
    "targets_df"
   ]
  },
  {
   "cell_type": "code",
   "execution_count": 57,
   "metadata": {},
   "outputs": [
    {
     "data": {
      "image/png": "[encoded data removed]",
      "text/plain": [
       "<Figure size 640x480 with 1 Axes>"
      ]
     },
     "metadata": {},
     "output_type": "display_data"
    }
   ],
   "source": [
    "plt.scatter(inputs_df[\"x\"], inputs_df[\"y\"], c=targets[\"kelas\"])\n",
    "plt.show()"
   ]
  },
  {
   "cell_type": "markdown",
   "metadata": {},
   "source": [
    "TensorFlow kurang bisa menangani pandas DataFrame, sehingga harus kita ubah jadi array numpy:"
   ]
  },
  {
   "cell_type": "code",
   "execution_count": 74,
   "metadata": {},
   "outputs": [],
   "source": [
    "inputs = inputs_df.to_numpy()\n",
    "targes = targets_df.to_numpy()"
   ]
  },
  {
   "cell_type": "code",
   "execution_count": 84,
   "metadata": {},
   "outputs": [
    {
     "name": "stdout",
     "output_type": "stream",
     "text": [
      "(2000, 2)\n",
      "(2000, 1)\n"
     ]
    }
   ],
   "source": [
    "print(inputs.shape)\n",
    "print(targets.shape)"
   ]
  },
  {
   "cell_type": "markdown",
   "metadata": {},
   "source": [
    "### Menyusun model dan *training*"
   ]
  },
  {
   "cell_type": "markdown",
   "metadata": {},
   "source": [
    "Untuk *input* dua dimensi dan klasifikasi biner, kita perlu *perceptron* dengan dua *neuron* di *input layer* dan satu *neuron* di *output layer*. Sebelum proses *training* dimulai, nilai matriks $W$ dan vektor kolom $b$ diisi secara *random* terlebih dahulu."
   ]
  },
  {
   "cell_type": "code",
   "execution_count": 58,
   "metadata": {},
   "outputs": [],
   "source": [
    "input_dim = 2\n",
    "output_dim = 1\n",
    "W = tf.Variable(tf.random.normal(shape = (input_dim, output_dim)))\n",
    "b = tf.Variable(tf.random.normal(shape = (output_dim,)))"
   ]
  },
  {
   "cell_type": "code",
   "execution_count": 78,
   "metadata": {},
   "outputs": [],
   "source": [
    "# forward pass\n",
    "def model(inputs):\n",
    "    return tf.sigmoid(\n",
    "        tf.matmul(inputs, W) + b\n",
    "    )"
   ]
  },
  {
   "cell_type": "code",
   "execution_count": 77,
   "metadata": {},
   "outputs": [],
   "source": [
    "# cross entropy loss\n",
    "def entropy_loss(y, yhat):\n",
    "    per_sample_losses = - y * tf.math.log(yhat) - (1-y) * tf.math.log(1-yhat)\n",
    "    return tf.reduce_mean(per_sample_losses)"
   ]
  },
  {
   "cell_type": "code",
   "execution_count": 61,
   "metadata": {},
   "outputs": [],
   "source": [
    "# satu epoch di training loop\n",
    "learning_rate = 0.1\n",
    "def training_step(inputs, targets):\n",
    "    with tf.GradientTape() as tape:\n",
    "        predictions = model(inputs)\n",
    "        loss = entropy_loss(targets, predictions)\n",
    "\n",
    "        grad_loss_wrt_W, grad_loss_wrt_b = tape.gradient(loss, [W, b])\n",
    "\n",
    "        # update menggunakan gradient descent\n",
    "        W.assign_sub(learning_rate * grad_loss_wrt_W)\n",
    "        b.assign_sub(learning_rate * grad_loss_wrt_b)\n",
    "        \n",
    "        return loss"
   ]
  },
  {
   "cell_type": "code",
   "execution_count": 79,
   "metadata": {},
   "outputs": [
    {
     "name": "stdout",
     "output_type": "stream",
     "text": [
      "Loss at epoch 0: 3.0200421810150146\n",
      "Loss at epoch 1: 2.7635860443115234\n",
      "Loss at epoch 2: 2.509720802307129\n",
      "Loss at epoch 3: 2.258918523788452\n",
      "Loss at epoch 4: 2.01196551322937\n",
      "Loss at epoch 5: 1.7701630592346191\n",
      "Loss at epoch 6: 1.5355981588363647\n",
      "Loss at epoch 7: 1.3114641904830933\n",
      "Loss at epoch 8: 1.1022865772247314\n",
      "Loss at epoch 9: 0.9136847257614136\n",
      "Loss at epoch 10: 0.7511776089668274\n",
      "Loss at epoch 11: 0.6180678606033325\n",
      "Loss at epoch 12: 0.5137915015220642\n",
      "Loss at epoch 13: 0.43433916568756104\n",
      "Loss at epoch 14: 0.3742816746234894\n",
      "Loss at epoch 15: 0.3285544514656067\n",
      "Loss at epoch 16: 0.29318517446517944\n",
      "Loss at epoch 17: 0.2652996778488159\n",
      "Loss at epoch 18: 0.2428814172744751\n",
      "Loss at epoch 19: 0.22452279925346375\n",
      "Loss at epoch 20: 0.20923323929309845\n",
      "Loss at epoch 21: 0.19630587100982666\n",
      "Loss at epoch 22: 0.18522794544696808\n",
      "Loss at epoch 23: 0.17562125623226166\n",
      "Loss at epoch 24: 0.16720221936702728\n",
      "Loss at epoch 25: 0.15975472331047058\n",
      "Loss at epoch 26: 0.15311187505722046\n",
      "Loss at epoch 27: 0.14714278280735016\n",
      "Loss at epoch 28: 0.1417437195777893\n",
      "Loss at epoch 29: 0.1368313431739807\n",
      "Loss at epoch 30: 0.13233806192874908\n",
      "Loss at epoch 31: 0.1282084882259369\n",
      "Loss at epoch 32: 0.12439676374197006\n",
      "Loss at epoch 33: 0.12086473405361176\n",
      "Loss at epoch 34: 0.11758015304803848\n",
      "Loss at epoch 35: 0.11451584100723267\n",
      "Loss at epoch 36: 0.11164852976799011\n",
      "Loss at epoch 37: 0.10895827412605286\n",
      "Loss at epoch 38: 0.10642783343791962\n",
      "Loss at epoch 39: 0.10404223948717117\n",
      "Loss at epoch 40: 0.10178838670253754\n",
      "Loss at epoch 41: 0.09965483844280243\n",
      "Loss at epoch 42: 0.09763143956661224\n",
      "Loss at epoch 43: 0.09570922702550888\n",
      "Loss at epoch 44: 0.09388026595115662\n",
      "Loss at epoch 45: 0.0921373963356018\n",
      "Loss at epoch 46: 0.09047427028417587\n",
      "Loss at epoch 47: 0.08888512849807739\n",
      "Loss at epoch 48: 0.08736483752727509\n",
      "Loss at epoch 49: 0.08590869605541229\n",
      "Loss at epoch 50: 0.08451250940561295\n",
      "Loss at epoch 51: 0.08317235112190247\n",
      "Loss at epoch 52: 0.08188473433256149\n",
      "Loss at epoch 53: 0.08064644783735275\n",
      "Loss at epoch 54: 0.07945454120635986\n",
      "Loss at epoch 55: 0.07830630987882614\n",
      "Loss at epoch 56: 0.07719925045967102\n",
      "Loss at epoch 57: 0.07613107562065125\n",
      "Loss at epoch 58: 0.0750996395945549\n",
      "Loss at epoch 59: 0.07410301268100739\n",
      "Loss at epoch 60: 0.07313936203718185\n",
      "Loss at epoch 61: 0.07220695912837982\n",
      "Loss at epoch 62: 0.07130427658557892\n",
      "Loss at epoch 63: 0.07042983174324036\n",
      "Loss at epoch 64: 0.0695822611451149\n",
      "Loss at epoch 65: 0.06876026839017868\n",
      "Loss at epoch 66: 0.06796267628669739\n",
      "Loss at epoch 67: 0.06718836724758148\n",
      "Loss at epoch 68: 0.0664362758398056\n",
      "Loss at epoch 69: 0.06570544093847275\n",
      "Loss at epoch 70: 0.0649949163198471\n",
      "Loss at epoch 71: 0.06430384516716003\n",
      "Loss at epoch 72: 0.06363138556480408\n",
      "Loss at epoch 73: 0.06297677010297775\n",
      "Loss at epoch 74: 0.062339283525943756\n",
      "Loss at epoch 75: 0.06171821430325508\n",
      "Loss at epoch 76: 0.06111292541027069\n",
      "Loss at epoch 77: 0.06052280217409134\n",
      "Loss at epoch 78: 0.05994724482297897\n",
      "Loss at epoch 79: 0.059385716915130615\n",
      "Loss at epoch 80: 0.05883767083287239\n",
      "Loss at epoch 81: 0.0583026185631752\n",
      "Loss at epoch 82: 0.05778009817004204\n",
      "Loss at epoch 83: 0.057269636541604996\n",
      "Loss at epoch 84: 0.05677081272006035\n",
      "Loss at epoch 85: 0.05628322809934616\n",
      "Loss at epoch 86: 0.055806491523981094\n",
      "Loss at epoch 87: 0.05534021928906441\n",
      "Loss at epoch 88: 0.05488406494259834\n",
      "Loss at epoch 89: 0.05443768948316574\n",
      "Loss at epoch 90: 0.05400077998638153\n",
      "Loss at epoch 91: 0.053573012351989746\n",
      "Loss at epoch 92: 0.053154099732637405\n",
      "Loss at epoch 93: 0.052743762731552124\n",
      "Loss at epoch 94: 0.052341729402542114\n",
      "Loss at epoch 95: 0.051947738975286484\n",
      "Loss at epoch 96: 0.05156153813004494\n",
      "Loss at epoch 97: 0.051182907074689865\n",
      "Loss at epoch 98: 0.050811607390642166\n",
      "Loss at epoch 99: 0.050447411835193634\n"
     ]
    }
   ],
   "source": [
    "# training loop\n",
    "for epoch in range(100):\n",
    "    loss = training_step(inputs, targets)\n",
    "    print(f\"Loss at epoch {epoch}: {loss}\")"
   ]
  },
  {
   "cell_type": "markdown",
   "metadata": {},
   "source": [
    "### Prediksi"
   ]
  },
  {
   "cell_type": "markdown",
   "metadata": {},
   "source": [
    "Sekarang *training* sudah selesai, kita bisa gunakan model kita untuk memprediksi kelas berdasarkan `inputs` (koordinat titik-titik)"
   ]
  },
  {
   "cell_type": "code",
   "execution_count": 81,
   "metadata": {},
   "outputs": [],
   "source": [
    "predictions = model(inputs)"
   ]
  },
  {
   "cell_type": "markdown",
   "metadata": {},
   "source": [
    "Akibat penggunaan fungsi aktivasi sigmoid, hasil prediksi cukup jelas, apakah kelas pertama (kelas 0) atau kelas kedua (kelas 1):"
   ]
  },
  {
   "cell_type": "code",
   "execution_count": 82,
   "metadata": {},
   "outputs": [
    {
     "name": "stdout",
     "output_type": "stream",
     "text": [
      "tf.Tensor(\n",
      "[[0.00595744]\n",
      " [0.01345181]\n",
      " [0.10626755]\n",
      " ...\n",
      " [0.9832219 ]\n",
      " [0.9905081 ]\n",
      " [0.831104  ]], shape=(2000, 1), dtype=float32)\n"
     ]
    }
   ],
   "source": [
    "print(predictions)"
   ]
  },
  {
   "cell_type": "markdown",
   "metadata": {},
   "source": [
    "Kita bisa menampilkan hasil prediksi ini dengan aturan pemilihan warna (`c`) seperti berikut:\n",
    "\n",
    "- apabila nilai prediksinya lebih dari 0.5 (pernyataan \"lebih besar dari 0.5\" bernilai benar), ia tergolong kelas 1 (atau sama saja nilai True);\n",
    "\n",
    "- selain itu (pernyataan \"lebih besar dari 0.5\" bernilai salah), ia tergolong kelas 0 (atau sama saja nilai False)."
   ]
  },
  {
   "cell_type": "code",
   "execution_count": 83,
   "metadata": {},
   "outputs": [
    {
     "data": {
      "image/png": "[encoded data removed]",
      "text/plain": [
       "<Figure size 640x480 with 1 Axes>"
      ]
     },
     "metadata": {},
     "output_type": "display_data"
    }
   ],
   "source": [
    "plt.scatter(inputs[:, 0], inputs[:, 1], c=predictions[:, 0] > 0.5)\n",
    "plt.show()"
   ]
  },
  {
   "cell_type": "markdown",
   "metadata": {},
   "source": [
    "Kinerja *perceptron* cukup mirip regresi logistik, ataupun SVM dengan kernel linier. Perhatikan bahwa, di hasil prediksi ini, seolah-olah ada perbatasan atau garis pemisah antara kedua kelas. Kalau kita bandingkan dengan data aslinya, sebenarnya ada beberapa titik yang melewati perbatasan tersebut, dan akhirnya terjadi misklasifikasi."
   ]
  },
  {
   "cell_type": "markdown",
   "metadata": {},
   "source": [
    "## Mengenal Keras dengan Sequential API"
   ]
  },
  {
   "cell_type": "markdown",
   "metadata": {},
   "source": [
    "Dengan *pure* TensorFlow, banyak hal yang harus kita susun secara manual. Untuk *neural network* kecil seperti *perceptron*, mungkin tidak masalah. Namun, *neural network* pada umumnya sangat \"dalam\" atau *deep*, dengan puluhan *hidden layer* yang bervariasi."
   ]
  },
  {
   "cell_type": "markdown",
   "metadata": {},
   "source": [
    "Daripada benar-benar membuatnya semua secara manual, ada yang namanya Keras yang sangat menyederhanakan proses penyusunan *neural network*. Biasanya, daripada benar-benar membuat *neural network* secara manual dalam *pure* TensorFlow seperti tadi, pengguna TensorFlow memanfaatkan Keras."
   ]
  },
  {
   "cell_type": "markdown",
   "metadata": {},
   "source": [
    "Keras tersedia di dalam TensorFlow:"
   ]
  },
  {
   "cell_type": "code",
   "execution_count": null,
   "metadata": {},
   "outputs": [],
   "source": [
    "from tensorflow import keras"
   ]
  },
  {
   "cell_type": "markdown",
   "metadata": {},
   "source": [
    "Perlu dicatat, ketika menggunakan Keras, sebaiknya semua fungsi/operasi yang kita gunakan juga dari dalam Keras daripada langsung dari TensorFlow. Misalnya, daripada `tf.matmul`, gunakan `keras.ops.matmul`\n",
    "\n",
    "Tapi kalau *error*, tidak masalah masih menggunakan `tf` karena Keras masih dalam pengembangan (menuju Keras versi 3, bisa dibaca di sini: <https://keras.io/guides/migrating_to_keras_3/>). Mungkin, di versi yang akan datang, sudah tidak *error* lagi."
   ]
  },
  {
   "cell_type": "markdown",
   "metadata": {},
   "source": [
    "Dalam Keras, ada tiga \"cara\" atau API *(application programming interface)* yang bisa kita gunakan untuk menyusun *neural network*, yaitu\n",
    "\n",
    "1. Sequential API\n",
    "\n",
    "2. Functional API\n",
    "\n",
    "3. Subclassing API (yaitu dengan OOP)"
   ]
  },
  {
   "cell_type": "markdown",
   "metadata": {},
   "source": [
    "Di pertemuan kali ini, kita akan mencoba cara yang paling sederhana, yaitu dengan Sequential API."
   ]
  },
  {
   "cell_type": "markdown",
   "metadata": {},
   "source": [
    "Datanya sudah siap dari yang tadi:"
   ]
  },
  {
   "cell_type": "code",
   "execution_count": 85,
   "metadata": {},
   "outputs": [
    {
     "name": "stdout",
     "output_type": "stream",
     "text": [
      "(2000, 2)\n",
      "(2000, 1)\n"
     ]
    }
   ],
   "source": [
    "print(inputs.shape)\n",
    "print(targets.shape)"
   ]
  },
  {
   "cell_type": "markdown",
   "metadata": {},
   "source": [
    "### Menyusun *layer*"
   ]
  },
  {
   "cell_type": "markdown",
   "metadata": {},
   "source": [
    "Kita susun *layer* nya terlebih dahulu. Kali ini, kita akan membuat *perceptron* seperti yang cara manual / *pure* TensorFlow tadi. Untuk itu, kedua kode ini ekuivalen:"
   ]
  },
  {
   "cell_type": "code",
   "execution_count": 86,
   "metadata": {},
   "outputs": [],
   "source": [
    "# langsung menentukan semua layer di awal, dengan memasukkan list\n",
    "model2 = keras.Sequential(\n",
    "    [\n",
    "        keras.layers.InputLayer(input_shape = (2,)),\n",
    "        keras.layers.Dense(units = 1, activation = 'sigmoid')\n",
    "    ]\n",
    ")"
   ]
  },
  {
   "cell_type": "code",
   "execution_count": null,
   "metadata": {},
   "outputs": [],
   "source": [
    "# menambahkan layer secara berangsur-angsur\n",
    "model2 = keras.Sequential()\n",
    "model2.add(keras.layers.InputLayer(input_shape = (2,)))\n",
    "model2.add(keras.layers.Dense(units = 1, activation = 'sigmoid'))"
   ]
  },
  {
   "cell_type": "markdown",
   "metadata": {},
   "source": [
    "Daripada menggunakan *string*, untuk menentukan fungsi aktivasi di kedua cara di atas, kita juga bisa mengetik `keras.activations.sigmoid` seperti berikut:"
   ]
  },
  {
   "cell_type": "code",
   "execution_count": null,
   "metadata": {},
   "outputs": [],
   "source": [
    "# langsung menentukan semua layer di awal, dengan memasukkan list\n",
    "model2 = keras.Sequential(\n",
    "    [\n",
    "        keras.layers.InputLayer(input_shape = (2,)),\n",
    "        keras.layers.Dense(units = 1, activation = keras.activations.sigmoid)\n",
    "    ]\n",
    ")"
   ]
  },
  {
   "cell_type": "code",
   "execution_count": null,
   "metadata": {},
   "outputs": [],
   "source": [
    "# menambahkan layer secara berangsur-angsur\n",
    "model2 = keras.Sequential()\n",
    "model2.add(keras.layers.InputLayer(input_shape = (2,)))\n",
    "model2.add(keras.layers.Dense(units = 1, activation = keras.activations.sigmoid))"
   ]
  },
  {
   "cell_type": "markdown",
   "metadata": {},
   "source": [
    "### Ringkasan dan diagram model"
   ]
  },
  {
   "cell_type": "markdown",
   "metadata": {},
   "source": [
    "Kemudian, kita bisa melihat ringkasan bentuk model yang dihasilkan:"
   ]
  },
  {
   "cell_type": "code",
   "execution_count": 87,
   "metadata": {},
   "outputs": [
    {
     "name": "stdout",
     "output_type": "stream",
     "text": [
      "Model: \"sequential\"\n",
      "_________________________________________________________________\n",
      " Layer (type)                Output Shape              Param #   \n",
      "=================================================================\n",
      " dense (Dense)               (None, 1)                 3         \n",
      "                                                                 \n",
      "=================================================================\n",
      "Total params: 3\n",
      "Trainable params: 3\n",
      "Non-trainable params: 0\n",
      "_________________________________________________________________\n"
     ]
    }
   ],
   "source": [
    "model2.summary()"
   ]
  },
  {
   "cell_type": "markdown",
   "metadata": {},
   "source": [
    "Kita juga bisa menampilkan semacam diagram, bahkan menyimpannya ke dalam *file*:"
   ]
  },
  {
   "cell_type": "code",
   "execution_count": null,
   "metadata": {},
   "outputs": [],
   "source": [
    "keras.utils.plot_model(\n",
    "    model2,\n",
    "    show_shapes = True,\n",
    "    show_layer_activations = True,\n",
    "    to_file = \"keras_sequential_model2.png\"\n",
    ")"
   ]
  },
  {
   "cell_type": "markdown",
   "metadata": {},
   "source": [
    "![](./keras_sequential_model2.png)"
   ]
  },
  {
   "cell_type": "markdown",
   "metadata": {},
   "source": [
    "*Fun fact*: Keras menggunakan Graphviz untuk membuat diagramnya :)"
   ]
  },
  {
   "cell_type": "markdown",
   "metadata": {},
   "source": [
    "### Memilih *hyperparameter*"
   ]
  },
  {
   "cell_type": "markdown",
   "metadata": {},
   "source": [
    "Untuk memilih *hyperparameter* yaitu *optimizer* dan *loss function* (dan metrik evaluasi), kedua kode berikut ini ekuivalen:"
   ]
  },
  {
   "cell_type": "code",
   "execution_count": 88,
   "metadata": {},
   "outputs": [],
   "source": [
    "# dengan string\n",
    "model2.compile(\n",
    "    optimizer = \"sgd\",\n",
    "    loss = \"binary_crossentropy\",\n",
    "    metrics = [\"accuracy\"]\n",
    ")"
   ]
  },
  {
   "cell_type": "code",
   "execution_count": 130,
   "metadata": {},
   "outputs": [],
   "source": [
    "# dengan objek dari class\n",
    "model2.compile(\n",
    "    optimizer = keras.optimizers.SGD(),\n",
    "    loss = keras.losses.BinaryCrossentropy(),\n",
    "    metrics = [keras.metrics.BinaryAccuracy()]\n",
    ")"
   ]
  },
  {
   "cell_type": "markdown",
   "metadata": {},
   "source": [
    "Dengan cara yang kedua, kita juga bisa menentukan *hyperparameter* seperti *learning rate*:"
   ]
  },
  {
   "cell_type": "code",
   "execution_count": null,
   "metadata": {},
   "outputs": [],
   "source": [
    "# dengan objek dari class\n",
    "model2.compile(\n",
    "    optimizer = keras.optimizers.SGD(learning_rate = 0.01),\n",
    "    loss = keras.losses.BinaryCrossentropy(),\n",
    "    metrics = [keras.metrics.BinaryAccuracy()]\n",
    ")"
   ]
  },
  {
   "cell_type": "markdown",
   "metadata": {},
   "source": [
    "### *Training*"
   ]
  },
  {
   "cell_type": "markdown",
   "metadata": {},
   "source": [
    "Selanjutnya, tinggal *training*"
   ]
  },
  {
   "cell_type": "code",
   "execution_count": 89,
   "metadata": {},
   "outputs": [
    {
     "name": "stdout",
     "output_type": "stream",
     "text": [
      "Epoch 1/100\n",
      "50/50 [==============================] - 2s 11ms/step - loss: 1.0461 - accuracy: 0.5956 - val_loss: 1.6406 - val_accuracy: 0.0750\n",
      "Epoch 2/100\n",
      "50/50 [==============================] - 0s 9ms/step - loss: 0.5378 - accuracy: 0.7150 - val_loss: 0.7830 - val_accuracy: 0.4800\n",
      "Epoch 3/100\n",
      "50/50 [==============================] - 0s 10ms/step - loss: 0.3026 - accuracy: 0.8869 - val_loss: 0.4390 - val_accuracy: 0.8550\n",
      "Epoch 4/100\n",
      "50/50 [==============================] - 0s 5ms/step - loss: 0.2059 - accuracy: 0.9719 - val_loss: 0.2951 - val_accuracy: 0.9550\n",
      "Epoch 5/100\n",
      "50/50 [==============================] - 0s 4ms/step - loss: 0.1589 - accuracy: 0.9894 - val_loss: 0.2231 - val_accuracy: 0.9675\n",
      "Epoch 6/100\n",
      "50/50 [==============================] - 1s 12ms/step - loss: 0.1315 - accuracy: 0.9931 - val_loss: 0.1811 - val_accuracy: 0.9800\n",
      "Epoch 7/100\n",
      "50/50 [==============================] - 0s 6ms/step - loss: 0.1133 - accuracy: 0.9937 - val_loss: 0.1539 - val_accuracy: 0.9825\n",
      "Epoch 8/100\n",
      "50/50 [==============================] - 0s 4ms/step - loss: 0.1003 - accuracy: 0.9950 - val_loss: 0.1348 - val_accuracy: 0.9900\n",
      "Epoch 9/100\n",
      "50/50 [==============================] - 0s 6ms/step - loss: 0.0904 - accuracy: 0.9956 - val_loss: 0.1208 - val_accuracy: 0.9900\n",
      "Epoch 10/100\n",
      "50/50 [==============================] - 0s 4ms/step - loss: 0.0826 - accuracy: 0.9962 - val_loss: 0.1098 - val_accuracy: 0.9900\n",
      "Epoch 11/100\n",
      "50/50 [==============================] - 0s 8ms/step - loss: 0.0763 - accuracy: 0.9975 - val_loss: 0.1011 - val_accuracy: 0.9900\n",
      "Epoch 12/100\n",
      "50/50 [==============================] - 0s 8ms/step - loss: 0.0710 - accuracy: 0.9975 - val_loss: 0.0940 - val_accuracy: 0.9900\n",
      "Epoch 13/100\n",
      "50/50 [==============================] - 0s 7ms/step - loss: 0.0666 - accuracy: 0.9981 - val_loss: 0.0881 - val_accuracy: 0.9925\n",
      "Epoch 14/100\n",
      "50/50 [==============================] - 0s 10ms/step - loss: 0.0628 - accuracy: 0.9981 - val_loss: 0.0832 - val_accuracy: 0.9925\n",
      "Epoch 15/100\n",
      "50/50 [==============================] - 0s 10ms/step - loss: 0.0596 - accuracy: 0.9981 - val_loss: 0.0789 - val_accuracy: 0.9925\n",
      "Epoch 16/100\n",
      "50/50 [==============================] - 0s 8ms/step - loss: 0.0567 - accuracy: 0.9975 - val_loss: 0.0752 - val_accuracy: 0.9925\n",
      "Epoch 17/100\n",
      "50/50 [==============================] - 0s 4ms/step - loss: 0.0541 - accuracy: 0.9975 - val_loss: 0.0719 - val_accuracy: 0.9925\n",
      "Epoch 18/100\n",
      "50/50 [==============================] - 0s 6ms/step - loss: 0.0519 - accuracy: 0.9975 - val_loss: 0.0690 - val_accuracy: 0.9925\n",
      "Epoch 19/100\n",
      "50/50 [==============================] - 0s 4ms/step - loss: 0.0498 - accuracy: 0.9975 - val_loss: 0.0664 - val_accuracy: 0.9925\n",
      "Epoch 20/100\n",
      "50/50 [==============================] - 0s 5ms/step - loss: 0.0480 - accuracy: 0.9975 - val_loss: 0.0641 - val_accuracy: 0.9925\n",
      "Epoch 21/100\n",
      "50/50 [==============================] - 0s 7ms/step - loss: 0.0463 - accuracy: 0.9975 - val_loss: 0.0620 - val_accuracy: 0.9925\n",
      "Epoch 22/100\n",
      "50/50 [==============================] - 0s 9ms/step - loss: 0.0448 - accuracy: 0.9975 - val_loss: 0.0601 - val_accuracy: 0.9925\n",
      "Epoch 23/100\n",
      "50/50 [==============================] - 0s 4ms/step - loss: 0.0434 - accuracy: 0.9975 - val_loss: 0.0583 - val_accuracy: 0.9925\n",
      "Epoch 24/100\n",
      "50/50 [==============================] - 0s 4ms/step - loss: 0.0422 - accuracy: 0.9975 - val_loss: 0.0567 - val_accuracy: 0.9925\n",
      "Epoch 25/100\n",
      "50/50 [==============================] - 0s 3ms/step - loss: 0.0410 - accuracy: 0.9975 - val_loss: 0.0552 - val_accuracy: 0.9925\n",
      "Epoch 26/100\n",
      "50/50 [==============================] - 0s 4ms/step - loss: 0.0399 - accuracy: 0.9975 - val_loss: 0.0538 - val_accuracy: 0.9925\n",
      "Epoch 27/100\n",
      "50/50 [==============================] - 0s 5ms/step - loss: 0.0389 - accuracy: 0.9975 - val_loss: 0.0526 - val_accuracy: 0.9925\n",
      "Epoch 28/100\n",
      "50/50 [==============================] - 0s 7ms/step - loss: 0.0379 - accuracy: 0.9975 - val_loss: 0.0514 - val_accuracy: 0.9950\n",
      "Epoch 29/100\n",
      "50/50 [==============================] - 0s 4ms/step - loss: 0.0370 - accuracy: 0.9975 - val_loss: 0.0503 - val_accuracy: 0.9950\n",
      "Epoch 30/100\n",
      "50/50 [==============================] - 0s 4ms/step - loss: 0.0362 - accuracy: 0.9975 - val_loss: 0.0492 - val_accuracy: 0.9950\n",
      "Epoch 31/100\n",
      "50/50 [==============================] - 0s 6ms/step - loss: 0.0354 - accuracy: 0.9975 - val_loss: 0.0482 - val_accuracy: 0.9975\n",
      "Epoch 32/100\n",
      "50/50 [==============================] - 0s 4ms/step - loss: 0.0347 - accuracy: 0.9975 - val_loss: 0.0473 - val_accuracy: 0.9975\n",
      "Epoch 33/100\n",
      "50/50 [==============================] - 0s 3ms/step - loss: 0.0340 - accuracy: 0.9975 - val_loss: 0.0464 - val_accuracy: 0.9975\n",
      "Epoch 34/100\n",
      "50/50 [==============================] - 0s 4ms/step - loss: 0.0333 - accuracy: 0.9975 - val_loss: 0.0456 - val_accuracy: 0.9975\n",
      "Epoch 35/100\n",
      "50/50 [==============================] - 0s 6ms/step - loss: 0.0327 - accuracy: 0.9975 - val_loss: 0.0448 - val_accuracy: 0.9975\n",
      "Epoch 36/100\n",
      "50/50 [==============================] - 0s 4ms/step - loss: 0.0321 - accuracy: 0.9975 - val_loss: 0.0441 - val_accuracy: 0.9975\n",
      "Epoch 37/100\n",
      "50/50 [==============================] - 0s 5ms/step - loss: 0.0316 - accuracy: 0.9975 - val_loss: 0.0434 - val_accuracy: 0.9975\n",
      "Epoch 38/100\n",
      "50/50 [==============================] - 0s 4ms/step - loss: 0.0311 - accuracy: 0.9975 - val_loss: 0.0428 - val_accuracy: 0.9975\n",
      "Epoch 39/100\n",
      "50/50 [==============================] - 0s 6ms/step - loss: 0.0305 - accuracy: 0.9975 - val_loss: 0.0421 - val_accuracy: 0.9975\n",
      "Epoch 40/100\n",
      "50/50 [==============================] - 0s 8ms/step - loss: 0.0301 - accuracy: 0.9975 - val_loss: 0.0415 - val_accuracy: 0.9975\n",
      "Epoch 41/100\n",
      "50/50 [==============================] - 0s 4ms/step - loss: 0.0296 - accuracy: 0.9975 - val_loss: 0.0409 - val_accuracy: 0.9975\n",
      "Epoch 42/100\n",
      "50/50 [==============================] - 0s 7ms/step - loss: 0.0292 - accuracy: 0.9975 - val_loss: 0.0404 - val_accuracy: 0.9975\n",
      "Epoch 43/100\n",
      "50/50 [==============================] - 0s 8ms/step - loss: 0.0288 - accuracy: 0.9975 - val_loss: 0.0399 - val_accuracy: 0.9975\n",
      "Epoch 44/100\n",
      "50/50 [==============================] - 0s 4ms/step - loss: 0.0284 - accuracy: 0.9975 - val_loss: 0.0393 - val_accuracy: 0.9975\n",
      "Epoch 45/100\n",
      "50/50 [==============================] - 0s 4ms/step - loss: 0.0280 - accuracy: 0.9975 - val_loss: 0.0389 - val_accuracy: 0.9975\n",
      "Epoch 46/100\n",
      "50/50 [==============================] - 0s 4ms/step - loss: 0.0276 - accuracy: 0.9975 - val_loss: 0.0384 - val_accuracy: 0.9975\n",
      "Epoch 47/100\n",
      "50/50 [==============================] - 0s 5ms/step - loss: 0.0272 - accuracy: 0.9975 - val_loss: 0.0379 - val_accuracy: 0.9975\n",
      "Epoch 48/100\n",
      "50/50 [==============================] - 0s 4ms/step - loss: 0.0269 - accuracy: 0.9975 - val_loss: 0.0375 - val_accuracy: 0.9975\n",
      "Epoch 49/100\n",
      "50/50 [==============================] - 0s 4ms/step - loss: 0.0266 - accuracy: 0.9975 - val_loss: 0.0371 - val_accuracy: 0.9975\n",
      "Epoch 50/100\n",
      "50/50 [==============================] - 0s 4ms/step - loss: 0.0263 - accuracy: 0.9975 - val_loss: 0.0367 - val_accuracy: 0.9975\n",
      "Epoch 51/100\n",
      "50/50 [==============================] - 0s 3ms/step - loss: 0.0260 - accuracy: 0.9975 - val_loss: 0.0363 - val_accuracy: 0.9975\n",
      "Epoch 52/100\n",
      "50/50 [==============================] - 0s 4ms/step - loss: 0.0257 - accuracy: 0.9975 - val_loss: 0.0359 - val_accuracy: 0.9975\n",
      "Epoch 53/100\n",
      "50/50 [==============================] - 0s 9ms/step - loss: 0.0254 - accuracy: 0.9975 - val_loss: 0.0356 - val_accuracy: 0.9975\n",
      "Epoch 54/100\n",
      "50/50 [==============================] - 0s 4ms/step - loss: 0.0251 - accuracy: 0.9975 - val_loss: 0.0352 - val_accuracy: 0.9975\n",
      "Epoch 55/100\n",
      "50/50 [==============================] - 0s 4ms/step - loss: 0.0248 - accuracy: 0.9975 - val_loss: 0.0349 - val_accuracy: 0.9975\n",
      "Epoch 56/100\n",
      "50/50 [==============================] - 0s 4ms/step - loss: 0.0246 - accuracy: 0.9975 - val_loss: 0.0346 - val_accuracy: 0.9975\n",
      "Epoch 57/100\n",
      "50/50 [==============================] - 1s 15ms/step - loss: 0.0243 - accuracy: 0.9975 - val_loss: 0.0342 - val_accuracy: 0.9975\n",
      "Epoch 58/100\n",
      "50/50 [==============================] - 1s 11ms/step - loss: 0.0241 - accuracy: 0.9975 - val_loss: 0.0339 - val_accuracy: 0.9975\n",
      "Epoch 59/100\n",
      "50/50 [==============================] - 1s 13ms/step - loss: 0.0239 - accuracy: 0.9975 - val_loss: 0.0336 - val_accuracy: 0.9975\n",
      "Epoch 60/100\n",
      "50/50 [==============================] - 0s 9ms/step - loss: 0.0236 - accuracy: 0.9975 - val_loss: 0.0333 - val_accuracy: 0.9975\n",
      "Epoch 61/100\n",
      "50/50 [==============================] - 0s 8ms/step - loss: 0.0234 - accuracy: 0.9975 - val_loss: 0.0331 - val_accuracy: 0.9975\n",
      "Epoch 62/100\n",
      "50/50 [==============================] - 0s 4ms/step - loss: 0.0232 - accuracy: 0.9975 - val_loss: 0.0328 - val_accuracy: 0.9975\n",
      "Epoch 63/100\n",
      "50/50 [==============================] - 0s 5ms/step - loss: 0.0230 - accuracy: 0.9975 - val_loss: 0.0325 - val_accuracy: 0.9975\n",
      "Epoch 64/100\n",
      "50/50 [==============================] - 0s 4ms/step - loss: 0.0228 - accuracy: 0.9975 - val_loss: 0.0323 - val_accuracy: 0.9975\n",
      "Epoch 65/100\n",
      "50/50 [==============================] - 0s 4ms/step - loss: 0.0226 - accuracy: 0.9975 - val_loss: 0.0320 - val_accuracy: 0.9975\n",
      "Epoch 66/100\n",
      "50/50 [==============================] - 0s 5ms/step - loss: 0.0224 - accuracy: 0.9975 - val_loss: 0.0318 - val_accuracy: 0.9975\n",
      "Epoch 67/100\n",
      "50/50 [==============================] - 0s 6ms/step - loss: 0.0222 - accuracy: 0.9975 - val_loss: 0.0315 - val_accuracy: 0.9975\n",
      "Epoch 68/100\n",
      "50/50 [==============================] - 0s 4ms/step - loss: 0.0221 - accuracy: 0.9975 - val_loss: 0.0313 - val_accuracy: 0.9975\n",
      "Epoch 69/100\n",
      "50/50 [==============================] - 0s 4ms/step - loss: 0.0219 - accuracy: 0.9975 - val_loss: 0.0311 - val_accuracy: 0.9975\n",
      "Epoch 70/100\n",
      "50/50 [==============================] - 0s 4ms/step - loss: 0.0217 - accuracy: 0.9975 - val_loss: 0.0309 - val_accuracy: 0.9975\n",
      "Epoch 71/100\n",
      "50/50 [==============================] - 0s 5ms/step - loss: 0.0216 - accuracy: 0.9975 - val_loss: 0.0306 - val_accuracy: 0.9975\n",
      "Epoch 72/100\n",
      "50/50 [==============================] - 0s 4ms/step - loss: 0.0214 - accuracy: 0.9975 - val_loss: 0.0304 - val_accuracy: 0.9975\n",
      "Epoch 73/100\n",
      "50/50 [==============================] - 0s 6ms/step - loss: 0.0212 - accuracy: 0.9975 - val_loss: 0.0302 - val_accuracy: 0.9975\n",
      "Epoch 74/100\n",
      "50/50 [==============================] - 0s 8ms/step - loss: 0.0211 - accuracy: 0.9975 - val_loss: 0.0300 - val_accuracy: 0.9975\n",
      "Epoch 75/100\n",
      "50/50 [==============================] - 0s 4ms/step - loss: 0.0209 - accuracy: 0.9975 - val_loss: 0.0298 - val_accuracy: 0.9975\n",
      "Epoch 76/100\n",
      "50/50 [==============================] - 0s 4ms/step - loss: 0.0208 - accuracy: 0.9975 - val_loss: 0.0297 - val_accuracy: 0.9975\n",
      "Epoch 77/100\n",
      "50/50 [==============================] - 0s 5ms/step - loss: 0.0207 - accuracy: 0.9975 - val_loss: 0.0295 - val_accuracy: 0.9975\n",
      "Epoch 78/100\n",
      "50/50 [==============================] - 0s 5ms/step - loss: 0.0205 - accuracy: 0.9975 - val_loss: 0.0293 - val_accuracy: 0.9975\n",
      "Epoch 79/100\n",
      "50/50 [==============================] - 0s 4ms/step - loss: 0.0204 - accuracy: 0.9975 - val_loss: 0.0291 - val_accuracy: 0.9975\n",
      "Epoch 80/100\n",
      "50/50 [==============================] - 0s 8ms/step - loss: 0.0202 - accuracy: 0.9975 - val_loss: 0.0289 - val_accuracy: 0.9975\n",
      "Epoch 81/100\n",
      "50/50 [==============================] - 0s 8ms/step - loss: 0.0201 - accuracy: 0.9975 - val_loss: 0.0288 - val_accuracy: 0.9975\n",
      "Epoch 82/100\n",
      "50/50 [==============================] - 0s 5ms/step - loss: 0.0200 - accuracy: 0.9975 - val_loss: 0.0286 - val_accuracy: 0.9975\n",
      "Epoch 83/100\n",
      "50/50 [==============================] - 0s 8ms/step - loss: 0.0199 - accuracy: 0.9975 - val_loss: 0.0284 - val_accuracy: 0.9975\n",
      "Epoch 84/100\n",
      "50/50 [==============================] - 0s 8ms/step - loss: 0.0197 - accuracy: 0.9975 - val_loss: 0.0283 - val_accuracy: 0.9975\n",
      "Epoch 85/100\n",
      "50/50 [==============================] - 0s 4ms/step - loss: 0.0196 - accuracy: 0.9975 - val_loss: 0.0281 - val_accuracy: 0.9975\n",
      "Epoch 86/100\n",
      "50/50 [==============================] - 0s 4ms/step - loss: 0.0195 - accuracy: 0.9975 - val_loss: 0.0280 - val_accuracy: 0.9975\n",
      "Epoch 87/100\n",
      "50/50 [==============================] - 0s 6ms/step - loss: 0.0194 - accuracy: 0.9975 - val_loss: 0.0278 - val_accuracy: 0.9975\n",
      "Epoch 88/100\n",
      "50/50 [==============================] - 0s 4ms/step - loss: 0.0193 - accuracy: 0.9975 - val_loss: 0.0277 - val_accuracy: 0.9975\n",
      "Epoch 89/100\n",
      "50/50 [==============================] - 0s 4ms/step - loss: 0.0192 - accuracy: 0.9975 - val_loss: 0.0275 - val_accuracy: 0.9975\n",
      "Epoch 90/100\n",
      "50/50 [==============================] - 0s 6ms/step - loss: 0.0191 - accuracy: 0.9975 - val_loss: 0.0274 - val_accuracy: 0.9975\n",
      "Epoch 91/100\n",
      "50/50 [==============================] - 0s 5ms/step - loss: 0.0190 - accuracy: 0.9975 - val_loss: 0.0273 - val_accuracy: 0.9975\n",
      "Epoch 92/100\n",
      "50/50 [==============================] - 0s 4ms/step - loss: 0.0189 - accuracy: 0.9975 - val_loss: 0.0271 - val_accuracy: 0.9975\n",
      "Epoch 93/100\n",
      "50/50 [==============================] - 0s 6ms/step - loss: 0.0188 - accuracy: 0.9975 - val_loss: 0.0270 - val_accuracy: 0.9975\n",
      "Epoch 94/100\n",
      "50/50 [==============================] - 0s 8ms/step - loss: 0.0187 - accuracy: 0.9975 - val_loss: 0.0269 - val_accuracy: 0.9975\n",
      "Epoch 95/100\n",
      "50/50 [==============================] - 0s 4ms/step - loss: 0.0186 - accuracy: 0.9975 - val_loss: 0.0267 - val_accuracy: 0.9975\n",
      "Epoch 96/100\n",
      "50/50 [==============================] - 0s 6ms/step - loss: 0.0185 - accuracy: 0.9975 - val_loss: 0.0266 - val_accuracy: 0.9975\n",
      "Epoch 97/100\n",
      "50/50 [==============================] - 0s 5ms/step - loss: 0.0184 - accuracy: 0.9975 - val_loss: 0.0265 - val_accuracy: 0.9975\n",
      "Epoch 98/100\n",
      "50/50 [==============================] - 0s 5ms/step - loss: 0.0183 - accuracy: 0.9975 - val_loss: 0.0264 - val_accuracy: 0.9975\n",
      "Epoch 99/100\n",
      "50/50 [==============================] - 0s 4ms/step - loss: 0.0182 - accuracy: 0.9975 - val_loss: 0.0262 - val_accuracy: 0.9975\n",
      "Epoch 100/100\n",
      "50/50 [==============================] - 0s 4ms/step - loss: 0.0181 - accuracy: 0.9975 - val_loss: 0.0261 - val_accuracy: 0.9975\n"
     ]
    }
   ],
   "source": [
    "x_train = inputs\n",
    "y_train = targets\n",
    "history2 = model2.fit(x_train, y_train, epochs=100, validation_split=0.2)"
   ]
  },
  {
   "cell_type": "code",
   "execution_count": 90,
   "metadata": {},
   "outputs": [
    {
     "name": "stdout",
     "output_type": "stream",
     "text": [
      "dict_keys(['loss', 'accuracy', 'val_loss', 'val_accuracy'])\n"
     ]
    }
   ],
   "source": [
    "print(history2.history.keys())"
   ]
  },
  {
   "cell_type": "code",
   "execution_count": 91,
   "metadata": {},
   "outputs": [
    {
     "data": {
      "image/png": "[encoded data removed]",
      "text/plain": [
       "<Figure size 640x480 with 1 Axes>"
      ]
     },
     "metadata": {},
     "output_type": "display_data"
    }
   ],
   "source": [
    "plt.plot(history2.history['loss'], label = 'training loss')\n",
    "plt.plot(history2.history['val_loss'], label = 'validation loss')\n",
    "plt.legend()\n",
    "plt.show()"
   ]
  },
  {
   "cell_type": "markdown",
   "metadata": {},
   "source": [
    "Proses *training* tenryata berjalan dengan sangat baik! Umumnya, walaupun *training loss* tidak mungkin naik, terkadang *validation loss* naik turun, yang bisa jadi pertanda *overfitting*."
   ]
  },
  {
   "cell_type": "markdown",
   "metadata": {},
   "source": [
    "### Menggunakan model"
   ]
  },
  {
   "cell_type": "markdown",
   "metadata": {},
   "source": [
    "Seperti di scikit-learn, panggil `.predict()` untuk melakukan prediksi"
   ]
  },
  {
   "cell_type": "code",
   "execution_count": 92,
   "metadata": {},
   "outputs": [
    {
     "name": "stdout",
     "output_type": "stream",
     "text": [
      "63/63 [==============================] - 1s 6ms/step\n"
     ]
    }
   ],
   "source": [
    "predictions2 = model2.predict(inputs)"
   ]
  },
  {
   "cell_type": "markdown",
   "metadata": {},
   "source": [
    "Ada sedikit *progress bar*, karena proses prediksi sebenarnya adalah *forward pass*. Kita bisa matikan *progress bar* dengan `verbose=False`"
   ]
  },
  {
   "cell_type": "code",
   "execution_count": 111,
   "metadata": {},
   "outputs": [],
   "source": [
    "predictions2 = model2.predict(inputs, verbose=False)"
   ]
  },
  {
   "cell_type": "code",
   "execution_count": 112,
   "metadata": {},
   "outputs": [
    {
     "name": "stdout",
     "output_type": "stream",
     "text": [
      "[[7.8384799e-04]\n",
      " [1.1909062e-03]\n",
      " [1.6190419e-02]\n",
      " ...\n",
      " [9.9140608e-01]\n",
      " [9.9879330e-01]\n",
      " [8.6120576e-01]]\n"
     ]
    }
   ],
   "source": [
    "print(predictions2)"
   ]
  },
  {
   "cell_type": "code",
   "execution_count": 113,
   "metadata": {},
   "outputs": [
    {
     "data": {
      "image/png": "[encoded data removed]",
      "text/plain": [
       "<Figure size 640x480 with 1 Axes>"
      ]
     },
     "metadata": {},
     "output_type": "display_data"
    }
   ],
   "source": [
    "plt.scatter(inputs[:, 0], inputs[:, 1], c=predictions2[:, 0] > 0.5)\n",
    "plt.show()"
   ]
  },
  {
   "cell_type": "markdown",
   "metadata": {},
   "source": [
    "### Menyimpan keseluruhan model"
   ]
  },
  {
   "cell_type": "markdown",
   "metadata": {},
   "source": [
    "Perintahnya adalah `.save(path_tempat_penyimpanan)` dengan *file format* `.keras`"
   ]
  },
  {
   "cell_type": "code",
   "execution_count": 114,
   "metadata": {},
   "outputs": [],
   "source": [
    "model2.save(\"./keras_sequential_model2.keras\")"
   ]
  },
  {
   "cell_type": "markdown",
   "metadata": {},
   "source": [
    "Kita bisa *load* kembali model tersebut:"
   ]
  },
  {
   "cell_type": "code",
   "execution_count": 115,
   "metadata": {},
   "outputs": [],
   "source": [
    "model3 = keras.models.load_model(\"keras_sequential_model2.keras\")"
   ]
  },
  {
   "cell_type": "markdown",
   "metadata": {},
   "source": [
    "Hasil prediksinya akan sama (karena modelnya memang sama):"
   ]
  },
  {
   "cell_type": "code",
   "execution_count": 116,
   "metadata": {},
   "outputs": [
    {
     "name": "stdout",
     "output_type": "stream",
     "text": [
      "63/63 [==============================] - 1s 4ms/step\n"
     ]
    }
   ],
   "source": [
    "predictions3 = model3.predict(inputs)"
   ]
  },
  {
   "cell_type": "code",
   "execution_count": 121,
   "metadata": {},
   "outputs": [
    {
     "data": {
      "text/plain": [
       "True"
      ]
     },
     "execution_count": 121,
     "metadata": {},
     "output_type": "execute_result"
    }
   ],
   "source": [
    "np.array_equal(predictions2, predictions3)"
   ]
  },
  {
   "cell_type": "markdown",
   "metadata": {},
   "source": [
    "### Menyimpan parameter model (saja)"
   ]
  },
  {
   "cell_type": "markdown",
   "metadata": {},
   "source": [
    "Daripada menyimpan keseluruhan model, kita bisa menyimpan *weights* atau parameternya saja, dengan perintah `.save_weights(path_tempat_penyimpanan)` dan *file format* `.weights.h5`"
   ]
  },
  {
   "cell_type": "code",
   "execution_count": 122,
   "metadata": {},
   "outputs": [],
   "source": [
    "model2.save_weights(\"keras_sequential_model2.weights.h5\")"
   ]
  },
  {
   "cell_type": "markdown",
   "metadata": {},
   "source": [
    "Untuk *load* kembali, kita perlu menyusun *layer* model terlebih dahulu, sama persis dengan susunan yang aslinya:"
   ]
  },
  {
   "cell_type": "code",
   "execution_count": 123,
   "metadata": {},
   "outputs": [],
   "source": [
    "model4 = keras.Sequential(\n",
    "    [\n",
    "        keras.layers.InputLayer(input_shape = (2,)),\n",
    "        keras.layers.Dense(units = 1, activation = keras.activations.sigmoid)\n",
    "    ]\n",
    ")"
   ]
  },
  {
   "cell_type": "markdown",
   "metadata": {},
   "source": [
    "Barulah kita gunakan perintah `.load_weights(path_tempat_penyimpanan)`"
   ]
  },
  {
   "cell_type": "code",
   "execution_count": 124,
   "metadata": {},
   "outputs": [],
   "source": [
    "model4.load_weights(\"./keras_sequential_model2.weights.h5\")"
   ]
  },
  {
   "cell_type": "markdown",
   "metadata": {},
   "source": [
    "Lagi-lagi, hasil prediksinya akan sama:"
   ]
  },
  {
   "cell_type": "code",
   "execution_count": 125,
   "metadata": {},
   "outputs": [
    {
     "name": "stdout",
     "output_type": "stream",
     "text": [
      "63/63 [==============================] - 1s 5ms/step\n"
     ]
    }
   ],
   "source": [
    "predictions4 = model4.predict(inputs)"
   ]
  },
  {
   "cell_type": "code",
   "execution_count": 126,
   "metadata": {},
   "outputs": [
    {
     "data": {
      "text/plain": [
       "True"
      ]
     },
     "execution_count": 126,
     "metadata": {},
     "output_type": "execute_result"
    }
   ],
   "source": [
    "np.array_equal(predictions2, predictions4)"
   ]
  },
  {
   "cell_type": "markdown",
   "metadata": {},
   "source": [
    "Perhatikan bahwa kita belum memanggil `model4.compile`, artinya kita belum memasang *hyperparameter*. Meskipun demikian, kita masih bisa melakukan prediksi, karena proses prediksi hanyalah *forward pass*, yang hanya membutuhkan parameter *(weights and biases)*, yang memang sudah di-*load*."
   ]
  },
  {
   "cell_type": "markdown",
   "metadata": {},
   "source": [
    "Setelah melakukan `model4.compile`, dengan *hyperparameter* yang bahkan tidak harus sama dengan yang aslinya, kita bisa melanjutkan proses *training* kalau mau."
   ]
  },
  {
   "cell_type": "markdown",
   "metadata": {},
   "source": [
    "Mengapa tidak *save* keseluruhan model saja? Selain lebih hemat memori, contoh kasusnya, kita ingin menyimpan *progress* dari *training* model, yang sebenarnya susunan *layer* nya kita ketahui dengan pasti, seperti contoh `model4` di atas."
   ]
  },
  {
   "cell_type": "markdown",
   "metadata": {},
   "source": [
    "## *(Pengayaan)* Daftar pilihan *hyperparameter* di Keras"
   ]
  },
  {
   "cell_type": "markdown",
   "metadata": {},
   "source": [
    "### Pilihan fungsi aktivasi"
   ]
  },
  {
   "cell_type": "markdown",
   "metadata": {},
   "source": [
    "Umum digunakan\n",
    "\n",
    "- Linier (ideentitas): `keras.activations.linear`\n",
    "\n",
    "- Sigmoid: `keras.activations.sigmoid`\n",
    "\n",
    "- ReLU: `keras.activations.relu`\n",
    "\n",
    "- *(Soft)* tanh: `keras.activations.tanh`\n",
    "\n",
    "- Softmax: `keras.activations.softmax`"
   ]
  },
  {
   "cell_type": "markdown",
   "metadata": {},
   "source": [
    "Lainnya\n",
    "\n",
    "- Relu6: `keras.activations.relu6`\n",
    "\n",
    "    $$\\Phi(x) = \\min \\{ \\text{ReLU}(x), 6 \\}$$\n",
    "\n",
    "- Leaky ReLU: `keras.activations.leaky_relu`\n",
    "\n",
    "    bisa dipasang *hyperparameter* $\\alpha \\ge 0$: `negative_slope`\n",
    "\n",
    "    $$\\Phi(x) = \\max \\{x, \\alpha x\\}$$\n",
    "\n",
    "- ELU *(Exponential Linear Unit):* `keras.activations.elu`\n",
    "\n",
    "    bisa dipasang *hyperparameter* $\\alpha \\ge 0$: `alpha`\n",
    "\n",
    "    $$\n",
    "    \\Phi(x) = \\begin{cases}\n",
    "        x & x > 0 \\\\\n",
    "        \\alpha (e^x - 1) & \\text{otherwise}\n",
    "    \\end{cases}\n",
    "    $$\n",
    "\n",
    "- Softplus: `keras.activations.softplus`\n",
    "\n",
    "    $$\\Phi(x) = \\ln (e^x + 1)$$\n",
    "\n",
    "- Softsign: `keras.activations.softsign`\n",
    "\n",
    "    $$\\Phi(x) = \\frac{x}{|x| + 1}$$\n",
    "\n",
    "- Mish: `keras.activations.mish`\n",
    "\n",
    "    $$\\Phi(x) = x \\tanh (\\text{softplus} (x))$$\n",
    "\n",
    "- Exponential: `keras.activations.exponential`\n",
    "\n",
    "- SELU *(Scaled Exponential Linear Unit):* `keras.activations.selu`\n",
    "\n",
    "- GELU *(Gaussian error linear unit):* `keras.activations.gelu`\n",
    "\n",
    "- Swish / Silu: `keras.activatins.silu`\n",
    "\n",
    "- Hard Silu: `keras.activations.hard_silu`\n",
    "\n",
    "- Hard sigmoid: `keras.activations.hard_sigmoid`\n",
    "\n",
    "- Log softmax: `keras.activations.log_softmax`"
   ]
  },
  {
   "cell_type": "markdown",
   "metadata": {},
   "source": [
    "Sumber: <https://keras.io/api/layers/activations/>"
   ]
  },
  {
   "cell_type": "markdown",
   "metadata": {},
   "source": [
    "### Pilihan *optimizer*"
   ]
  },
  {
   "cell_type": "markdown",
   "metadata": {},
   "source": [
    "Umum digunakan\n",
    "\n",
    "- SGD: `keras.optimizers.SGD`\n",
    "\n",
    "- Adam: `keras.optimizers.Adam` (saat ini dianggap *optimizer* terbaik)\n",
    "\n",
    "- RMSprop: `keras.optimizers.RMSprop`\n",
    "\n",
    "- Adagrad: `keras.optimizers.Adagrad`"
   ]
  },
  {
   "cell_type": "markdown",
   "metadata": {},
   "source": [
    "Lainnya\n",
    "\n",
    "- AdamW: `keras.optimizers.AdamW`\n",
    "\n",
    "- Adadelta: `keras.optimizers.Adadelta`\n",
    "\n",
    "- Adamax: `keras.optimizers.Adamax`\n",
    "\n",
    "- Adafactor: `keras.optimizers.Adafactor`\n",
    "\n",
    "- Nadam: `keras.optimizers.Nadam`\n",
    "\n",
    "- Ftrl: `keras.optimizers.Ftrl`\n",
    "\n",
    "- Lion: `keras.optimizers.Lion`\n",
    "\n",
    "- Loss Scale Optimizer: `keras.optimizers.LossScaleOptimizer`"
   ]
  },
  {
   "cell_type": "markdown",
   "metadata": {},
   "source": [
    "Kecuali *Loss Scale Optimizer*, semua *optimizer* bisa dipasang *learning rate*. Contohnya seperti berikut:\n",
    "```python\n",
    "keras.optimizers.SGD(learning_rate=0.01)\n",
    "```"
   ]
  },
  {
   "cell_type": "markdown",
   "metadata": {},
   "source": [
    "Sumber: <https://keras.io/api/optimizers/>"
   ]
  },
  {
   "cell_type": "markdown",
   "metadata": {},
   "source": [
    "### Pilihan *loss function*"
   ]
  },
  {
   "cell_type": "markdown",
   "metadata": {},
   "source": [
    "Umum digunakan\n",
    "\n",
    "- Binary cross-entropy (untuk klasifikasi biner)\n",
    "\n",
    "    *class*: `keras.losses.BinaryCrossentropy`\n",
    "\n",
    "    fungsi: `keras.losses.binary_crossentropy`\n",
    "\n",
    "- Categorial cross-entropy (untuk klasifikasi *multiclass*)\n",
    "\n",
    "    *class*: `keras.losses.CategoricalCrossentropy`\n",
    "\n",
    "    fungsi: `keras.losses.categorical_crossentropy`\n",
    "\n",
    "- MSE / mean squared error (untuk regresi)\n",
    "\n",
    "    *class*: `keras.losses.MeanSquaredError`\n",
    "\n",
    "    fungsi: `keras.losses.mean_squared_error`"
   ]
  },
  {
   "cell_type": "markdown",
   "metadata": {},
   "source": [
    "Lainnya, untuk klasifikasi\n",
    "\n",
    "- Sparse categorical cross-entropy\n",
    "\n",
    "    *class*: `keras.losses.SparseCategoricalCrossentropy`\n",
    "\n",
    "    fungsi: `keras.losses.spare_categorical_crossentropy`\n",
    "\n",
    "- Poisson loss\n",
    "\n",
    "    *class*: `keras.losses.Poisson`\n",
    "\n",
    "    fungsi: `keras.losses.poisson`\n",
    "\n",
    "- Kullback-Leibler divergence loss\n",
    "\n",
    "    *class*: `keras.losses.KLDivergence`\n",
    "\n",
    "    fungsi: `keras.losses.kl_divergence`"
   ]
  },
  {
   "cell_type": "markdown",
   "metadata": {},
   "source": [
    "Lainnya, untuk regresi\n",
    "\n",
    "- MAE / mean absolute error\n",
    "\n",
    "    *class*: `keras.losses.MeanAbsoluteError`\n",
    "\n",
    "    fungsi: `keras.losses.mean_absolute_error`\n",
    "\n",
    "- Mean absolute percentage error\n",
    "\n",
    "    *class*: `keras.losses.MeanAbsolutePercentageError`\n",
    "\n",
    "    fungsi: `keras.losses.mean_absolute_percentage_error`\n",
    "\n",
    "- Mean squared logarithmic error\n",
    "\n",
    "    *class*: `keras.losses.MeanSquaredLogarithmicError`\n",
    "\n",
    "    fungsi: `keras.losses.mean_squared_logarithmic_error`\n",
    "\n",
    "- Cosine similarity\n",
    "\n",
    "    *class*: `keras.losses.CosineSimilarity`\n",
    "\n",
    "    fungsi: `keras.losses.cosine_similarity`\n",
    "\n",
    "- Huber loss\n",
    "\n",
    "    *class*: `keras.losses.Huber`\n",
    "\n",
    "    fungsi: `keras.losses.huber`\n",
    "\n",
    "- Log Cosh loss\n",
    "\n",
    "    *class*: `keras.losses.LogCosh`\n",
    "\n",
    "    fungsi: `keras.losses.log_cosh`"
   ]
  },
  {
   "cell_type": "markdown",
   "metadata": {},
   "source": [
    "Sumber: <https://keras.io/api/losses/>"
   ]
  },
  {
   "cell_type": "markdown",
   "metadata": {},
   "source": [
    "### Beberapa pilihan metrik evaluasi"
   ]
  },
  {
   "cell_type": "markdown",
   "metadata": {},
   "source": [
    "Umum digunakan\n",
    "\n",
    "- Accuracy: `keras.metrics.Accuracy`\n",
    "\n",
    "- $R^2$: `keras.metrics.R2Score`\n",
    "\n",
    "- Binary accuracy: `keras.metrics.BinaryAccuracy`\n",
    "\n",
    "- Categorical accuracy: `keras.metrics.CategoricalAccuracy`"
   ]
  },
  {
   "cell_type": "markdown",
   "metadata": {},
   "source": [
    "Lainnya, untuk klasifikasi *multiclass*\n",
    "\n",
    "- Sparse categorical accuracy: `keras.metrics.SpareCategoricalAccuracy`\n",
    "\n",
    "- Top K categorical accuracy: `keras.metrics.TopKCategoricalAccuracy`\n",
    "\n",
    "- Spare top K categorical accuracy: `keras.metrics.SpareTopKCategoricalAccuracy`"
   ]
  },
  {
   "cell_type": "markdown",
   "metadata": {},
   "source": [
    "Lainnya, untuk klasifikasi biner atau True/False\n",
    "\n",
    "- AUC: `keras.metrics.AUC`\n",
    "\n",
    "- Precision: `keras.metrics.Precision`\n",
    "\n",
    "- Recall: `keras.metrics.Recall`\n",
    "\n",
    "- True Positives: `keras.metrics.TruePositives`\n",
    "\n",
    "- True Negatives: `keras.metrics.TrueNegatives`\n",
    "\n",
    "- False Positives: `keras.metrics.FalsePositives`\n",
    "\n",
    "- False Negatives: `keras.metrics.FalseNegatives`\n",
    "\n",
    "- Precision at recall: `keras.metrics.PrecisionAtRecall`\n",
    "\n",
    "- Recall at precision: `keras.metrics.RecallAtPrecision`\n",
    "\n",
    "- Sensitivity at specificity: `keras.metrics.SensitivityAtSpecificity`\n",
    "\n",
    "- Specificity at sensitivity: `keras.metrics.SpecificityAtSensitivity`\n",
    "\n",
    "- F-1 score: `keras.metrics.F1Score`\n",
    "\n",
    "- F-Beta score: `keras.metrics.FBetaScore`"
   ]
  },
  {
   "cell_type": "markdown",
   "metadata": {},
   "source": [
    "Semua pilihan *loss function* juga bisa digunakan sebagai metrik evaluasi."
   ]
  },
  {
   "cell_type": "markdown",
   "metadata": {},
   "source": [
    "Sumber: <https://keras.io/api/metrics/>"
   ]
  },
  {
   "cell_type": "markdown",
   "metadata": {},
   "source": [
    "## Referensi"
   ]
  },
  {
   "cell_type": "markdown",
   "metadata": {},
   "source": [
    "Sumber gambar\n",
    "\n",
    "- Aggarwal, C. Charu. 2018. *Neural Networks and Deep Learning: A Textbook.* Edisi Pertama. Springer.\n",
    "\n",
    "- Goodfellow, Ian; Bengio, Yoshua; & Courville, Aaron. 2016. *Deep Learning*. MIT Press.\n",
    "\n",
    "Buku lainnya\n",
    "\n",
    "- Géron, Aurélien. 2019. *Hands-On Machine Learning with Scikit-Learn, Keras, and TensorFlow: Concepts, Tools, and Techniques to Build Intelligent Systems.* Edisi Kedua. O'Reilly Media.\n",
    "\n",
    "Internet\n",
    "\n",
    "- <https://www.tensorflow.org/api_docs/python/tf>\n",
    "\n",
    "- <https://keras.io/api/>"
   ]
  },
  {
   "cell_type": "markdown",
   "metadata": {},
   "source": []
  }
 ],
 "metadata": {
  "kernelspec": {
   "display_name": "Python 3",
   "language": "python",
   "name": "python3"
  },
  "language_info": {
   "codemirror_mode": {
    "name": "ipython",
    "version": 3
   },
   "file_extension": ".py",
   "mimetype": "text/x-python",
   "name": "python",
   "nbconvert_exporter": "python",
   "pygments_lexer": "ipython3",
   "version": "3.10.11"
  }
 },
 "nbformat": 4,
 "nbformat_minor": 2
}
