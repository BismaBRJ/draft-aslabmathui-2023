{
 "cells": [
  {
   "cell_type": "markdown",
   "metadata": {},
   "source": [
    "# Modul 9 Praktikum Sains Data: Pengantar PyTorch"
   ]
  },
  {
   "cell_type": "markdown",
   "metadata": {},
   "source": [
    "Kembali ke [Sains Data](./saindat2024genap.qmd)"
   ]
  },
  {
   "cell_type": "markdown",
   "metadata": {},
   "source": [
    "Ini adalah pertemuan terakhir praktikum Sains Data tahun ini."
   ]
  },
  {
   "cell_type": "markdown",
   "metadata": {},
   "source": [
    "Di dua pertemuan sebelumnya, kita sudah membahas tentang *neural network* dan *deep learning* dengan TensorFlow dan Keras. Dari segi materi mata kuliah Sains Data, sebenarnya kita sudah selesai.\n",
    "\n",
    "Namun, di awal [Modul 7](./modul7.ipynb), telah disebutkan bahwa ada dua *framework* utama yang umum digunakan untuk *deep learning* di Python, yaitu TensorFlow (dengan Keras) dan PyTorch.\n",
    "\n",
    "Agar wawasan kita lebih luas dan tidak terbatas satu *framework* saja, tidak ada salahnya kita coba mempelajari PyTorch juga :)"
   ]
  },
  {
   "cell_type": "markdown",
   "metadata": {},
   "source": [
    "Lagipula, untuk riset/penelitian di dunia *deep learning*, saat ini PyTorch jauh lebih sering digunakan dibandingkan TensorFlow:"
   ]
  },
  {
   "cell_type": "markdown",
   "metadata": {},
   "source": [
    "![(Gambar tren November 2014 hingga April 2024: dari semua implementasi atau kode yang telah dibuat untuk paper *deep learning*, berapa persen menggunakan *framework* tertentu. Pada April 2024, persentase PyTorch lebih dari 50%, sedangkan persentase TensorFlow kurang dari 10%.)](./gambar/paperswithcode_nov14_apr24.png)\n",
    "\n",
    "Gambar tren November 2014 hingga April 2024: dari semua implementasi atau kode yang telah dibuat untuk paper *deep learning*, berapa persen menggunakan *framework* tertentu. Pada April 2024, persentase PyTorch lebih dari 50%, sedangkan persentase TensorFlow kurang dari 10%."
   ]
  },
  {
   "cell_type": "markdown",
   "metadata": {},
   "source": [
    "Kalian bisa *explore* di *link* berikut: <https://paperswithcode.com/trends>"
   ]
  },
  {
   "cell_type": "markdown",
   "metadata": {},
   "source": [
    "Apabila sewaktu-waktu kalian ingin menjalani skripsi atau semacamnya di dunia *deep learning*, atau setidaknya ingin membaca riset terbaru, kami harap wawasan tentang PyTorch ini bermanfaat."
   ]
  },
  {
   "cell_type": "markdown",
   "metadata": {},
   "source": [
    "::: {.callout-note}\n",
    "## Tentang urutan materi\n",
    "\n",
    "Kami sengaja mengajarkan TensorFlow dan Keras terlebih dahulu, baru mengajarkan PyTorch, karena penulisan kode di PyTorch mirip dengan penggunaan *subclassing API* di Keras.\n",
    "\n",
    ":::"
   ]
  },
  {
   "cell_type": "markdown",
   "metadata": {},
   "source": [
    "Sebelum kita mulai, instal terlebih dahulu PyTorch, dengan menginstal `torch` dan `torchvision`"
   ]
  },
  {
   "cell_type": "code",
   "execution_count": null,
   "metadata": {},
   "outputs": [],
   "source": [
    "pip install torch torchvision"
   ]
  },
  {
   "cell_type": "markdown",
   "metadata": {},
   "source": [
    "- `torch` adalah PyTorch.\n",
    "- `torchvision` menyediakan fitur-fitur yang membantu ketika berurusan dengan gambar, bahkan seperti sudah menjadi bagian yang tidak terpisahkan dari `torch`.\n",
    "- Sebenarnya ada juga `torchaudio` yang membantu ketika berurusan dengan data suara. Boleh saja kalian instal juga:\n",
    "\n",
    "    `pip install torch torchvision torchaudio`\n",
    "\n",
    "Terkait penginstalan PyTorch, kalian bisa membaca lebih lanjut di sini: <https://pytorch.org/get-started/locally/>"
   ]
  },
  {
   "cell_type": "markdown",
   "metadata": {},
   "source": [
    "Kalau sudah instal, jangan lupa *import*:"
   ]
  },
  {
   "cell_type": "code",
   "execution_count": 1,
   "metadata": {},
   "outputs": [],
   "source": [
    "import torch, torchvision"
   ]
  },
  {
   "cell_type": "markdown",
   "metadata": {},
   "source": [
    "Kita bisa lihat versinya (mungkin di kalian akan lebih baru):"
   ]
  },
  {
   "cell_type": "code",
   "execution_count": 77,
   "metadata": {},
   "outputs": [
    {
     "name": "stdout",
     "output_type": "stream",
     "text": [
      "2.1.0\n"
     ]
    }
   ],
   "source": [
    "print(torch.__version__)"
   ]
  },
  {
   "cell_type": "code",
   "execution_count": 78,
   "metadata": {},
   "outputs": [
    {
     "name": "stdout",
     "output_type": "stream",
     "text": [
      "0.16.0\n"
     ]
    }
   ],
   "source": [
    "print(torchvision.__version__)"
   ]
  },
  {
   "cell_type": "markdown",
   "metadata": {},
   "source": [
    "Jangan lupa *import* juga *library* yang biasa kita gunakan:"
   ]
  },
  {
   "cell_type": "code",
   "execution_count": 2,
   "metadata": {},
   "outputs": [],
   "source": [
    "import numpy as np\n",
    "import pandas as pd\n",
    "import matplotlib.pyplot as plt"
   ]
  },
  {
   "cell_type": "markdown",
   "metadata": {},
   "source": [
    "## Mengenal PyTorch"
   ]
  },
  {
   "cell_type": "markdown",
   "metadata": {},
   "source": [
    "### CPU, GPU, dan *device-agnostic code*"
   ]
  },
  {
   "cell_type": "markdown",
   "metadata": {},
   "source": [
    "Tiap komputer bisa memiliki kekuatan yang berbeda, termasuk ada/tiadanya komponen yang bernama GPU.\n",
    "\n",
    "Tiap komputer pasti punya yang namanya CPU atau *Central Processing Unit*, yang biasanya menjadi pusat segala komputasi di komputer itu, sesuai namanya.\n",
    "\n",
    "Namun, untuk perhitungan dengan matriks, tensor atau semacamnya, GPU atau *Graphics Processing Unit* lebih cepat. Perhitungan seperti itu biasa dilakukan untuk tampilan atau *graphics* ketika sedang bermain *game*, dan juga biasa dilakukan ketika berurusan dengan *neural network*."
   ]
  },
  {
   "cell_type": "markdown",
   "metadata": {},
   "source": [
    "Sehingga, daripada menggunakan CPU, ada baiknya menggunakan GPU, **kalau ada**."
   ]
  },
  {
   "cell_type": "markdown",
   "metadata": {},
   "source": [
    "Di Google Colaboratory, di menu `Runtime > Change runtime type`, di bagian *hardware accelerator*, kalian bisa mengubah *setting*, apakah ingin menggunakan CPU atau GPU. (Bahkan, ada juga TPU atau *tensor processing unit* yang sepertinya lebih dikhususkan lagi untuk komputasi dengan tensor.)"
   ]
  },
  {
   "cell_type": "markdown",
   "metadata": {},
   "source": [
    "![](./gambar/colabgpu_runtime.png)"
   ]
  },
  {
   "cell_type": "markdown",
   "metadata": {},
   "source": [
    "![](./gambar/colabgpu_hardware_accelerator.png)"
   ]
  },
  {
   "cell_type": "markdown",
   "metadata": {},
   "source": [
    "Apapun yang tersedia, **tiap kali kita ingin menggunakan PyTorch,** sebaiknya kita beritahu, mana yang ingin kita gunakan. Agar tidak berantakan, caranya bisa dengan kode berikut:"
   ]
  },
  {
   "cell_type": "code",
   "execution_count": 3,
   "metadata": {},
   "outputs": [
    {
     "name": "stdout",
     "output_type": "stream",
     "text": [
      "Using device: cpu\n"
     ]
    }
   ],
   "source": [
    "# Setup device-agnostic code \n",
    "if torch.cuda.is_available():\n",
    "    device = \"cuda\" # NVIDIA GPU\n",
    "elif torch.backends.mps.is_available():\n",
    "    device = \"mps\" # Apple GPU\n",
    "else:\n",
    "    device = \"cpu\" # Defaults to CPU if NVIDIA GPU/Apple GPU aren't available\n",
    "\n",
    "print(f\"Using device: {device}\")"
   ]
  },
  {
   "cell_type": "markdown",
   "metadata": {},
   "source": [
    "Sumber kode: <https://www.learnpytorch.io/pytorch_cheatsheet/#device-agnostic-code-using-pytorch-on-cpu-gpu-or-mps>"
   ]
  },
  {
   "cell_type": "markdown",
   "metadata": {},
   "source": [
    "*Output* nya akan sesuai dengan pilihan terbaik yang ada, antara CPU atau GPU. Kebetulan, modul ini di-*render* di laptop yang hanya memiliki CPU."
   ]
  },
  {
   "cell_type": "markdown",
   "metadata": {},
   "source": [
    "Kode di atas sebenarnya hanya menyimpan pilihan tersebut sebagai *string* ke dalam variabel `device`. Namun, variabel ini nantinya akan digunakan selama berurusan dengan PyTorch.\n",
    "\n",
    "Sehingga, apabila kita ingin ganti dari CPU ke GPU atau sebaliknya, kita tinggal mengubah isi variabel `device` ini (misalnya menggunakan kode di atas), tidak perlu mengubah kode PyTorch yang sudah kita buat.\n",
    "\n",
    "Dengan demikian, kode PyTorch yang sudah kita buat menjadi tidak tergantung *device* yang digunakan (apakah CPU atau GPU), atau disebut *device-agnostic*."
   ]
  },
  {
   "cell_type": "markdown",
   "metadata": {},
   "source": [
    "### Tensor"
   ]
  },
  {
   "cell_type": "markdown",
   "metadata": {},
   "source": [
    "Seperti di TensorFlow, di PyTorch juga ada tensor. Cara membuatnya adalah dengan `torch.tensor`"
   ]
  },
  {
   "cell_type": "markdown",
   "metadata": {},
   "source": [
    "Contohnya, skalar:"
   ]
  },
  {
   "cell_type": "code",
   "execution_count": 10,
   "metadata": {},
   "outputs": [],
   "source": [
    "tensor0 = torch.tensor(1.5)"
   ]
  },
  {
   "cell_type": "code",
   "execution_count": 11,
   "metadata": {},
   "outputs": [
    {
     "name": "stdout",
     "output_type": "stream",
     "text": [
      "tensor(1.5000)\n"
     ]
    }
   ],
   "source": [
    "print(tensor0)"
   ]
  },
  {
   "cell_type": "code",
   "execution_count": 12,
   "metadata": {},
   "outputs": [
    {
     "name": "stdout",
     "output_type": "stream",
     "text": [
      "<class 'torch.Tensor'>\n"
     ]
    }
   ],
   "source": [
    "print(type(tensor0))"
   ]
  },
  {
   "cell_type": "markdown",
   "metadata": {},
   "source": [
    "Kita bisa melihat dimensinya (rank/dimensi tensor) melalui `.ndim`"
   ]
  },
  {
   "cell_type": "code",
   "execution_count": 13,
   "metadata": {},
   "outputs": [
    {
     "name": "stdout",
     "output_type": "stream",
     "text": [
      "0\n"
     ]
    }
   ],
   "source": [
    "print(tensor0.ndim)"
   ]
  },
  {
   "cell_type": "markdown",
   "metadata": {},
   "source": [
    "Tipe datanya berupa `torch.tensor` tapi kita bisa memperoleh nilai skalarnya dengan `.item()`"
   ]
  },
  {
   "cell_type": "code",
   "execution_count": 15,
   "metadata": {},
   "outputs": [
    {
     "data": {
      "text/plain": [
       "1.5"
      ]
     },
     "execution_count": 15,
     "metadata": {},
     "output_type": "execute_result"
    }
   ],
   "source": [
    "tensor0.item()"
   ]
  },
  {
   "cell_type": "code",
   "execution_count": 16,
   "metadata": {},
   "outputs": [
    {
     "data": {
      "text/plain": [
       "float"
      ]
     },
     "execution_count": 16,
     "metadata": {},
     "output_type": "execute_result"
    }
   ],
   "source": [
    "type(tensor0.item())"
   ]
  },
  {
   "cell_type": "markdown",
   "metadata": {},
   "source": [
    "Contoh lain, array/vektor:"
   ]
  },
  {
   "cell_type": "code",
   "execution_count": 8,
   "metadata": {},
   "outputs": [],
   "source": [
    "tensor1 = torch.tensor([2.31, 4.567, 8.9])"
   ]
  },
  {
   "cell_type": "code",
   "execution_count": 9,
   "metadata": {},
   "outputs": [
    {
     "name": "stdout",
     "output_type": "stream",
     "text": [
      "tensor([2.3100, 4.5670, 8.9000])\n"
     ]
    }
   ],
   "source": [
    "print(tensor1)"
   ]
  },
  {
   "cell_type": "code",
   "execution_count": 10,
   "metadata": {},
   "outputs": [
    {
     "name": "stdout",
     "output_type": "stream",
     "text": [
      "1\n"
     ]
    }
   ],
   "source": [
    "print(tensor1.ndim)"
   ]
  },
  {
   "cell_type": "markdown",
   "metadata": {},
   "source": [
    "Selain dimensi tensor, ada juga `.shape` yang di sini melambangkan ukuran array/vektor, seperti `.shape` di numpy"
   ]
  },
  {
   "cell_type": "code",
   "execution_count": 11,
   "metadata": {},
   "outputs": [
    {
     "name": "stdout",
     "output_type": "stream",
     "text": [
      "torch.Size([3])\n"
     ]
    }
   ],
   "source": [
    "print(tensor1.shape)"
   ]
  },
  {
   "cell_type": "markdown",
   "metadata": {},
   "source": [
    "Nilai suatu elemen di tensor juga bisa diubah:"
   ]
  },
  {
   "cell_type": "code",
   "execution_count": null,
   "metadata": {},
   "outputs": [],
   "source": [
    "tensor1[0] = 52.5"
   ]
  },
  {
   "cell_type": "code",
   "execution_count": null,
   "metadata": {},
   "outputs": [
    {
     "name": "stdout",
     "output_type": "stream",
     "text": [
      "tensor([52.5000,  4.5670,  8.9000])\n"
     ]
    }
   ],
   "source": [
    "print(tensor1)"
   ]
  },
  {
   "cell_type": "markdown",
   "metadata": {},
   "source": [
    "Ada juga tipe data:"
   ]
  },
  {
   "cell_type": "code",
   "execution_count": 16,
   "metadata": {},
   "outputs": [
    {
     "name": "stdout",
     "output_type": "stream",
     "text": [
      "torch.float32\n"
     ]
    }
   ],
   "source": [
    "print(tensor1.dtype)"
   ]
  },
  {
   "cell_type": "markdown",
   "metadata": {},
   "source": [
    "Seperti tensor di TensorFlow, tensor di PyTorch juga biasanya menggunakan bilangan *float* yang 32-bit daripada 64-bit."
   ]
  },
  {
   "cell_type": "markdown",
   "metadata": {},
   "source": [
    "Contoh lagi, matriks:"
   ]
  },
  {
   "cell_type": "code",
   "execution_count": 3,
   "metadata": {},
   "outputs": [],
   "source": [
    "mat1 = torch.tensor([\n",
    "    [1, 2.718, 3.14],\n",
    "    [4, 5, 6.28]\n",
    "])"
   ]
  },
  {
   "cell_type": "code",
   "execution_count": 4,
   "metadata": {},
   "outputs": [
    {
     "name": "stdout",
     "output_type": "stream",
     "text": [
      "tensor([[1.0000, 2.7180, 3.1400],\n",
      "        [4.0000, 5.0000, 6.2800]])\n"
     ]
    }
   ],
   "source": [
    "print(mat1)"
   ]
  },
  {
   "cell_type": "code",
   "execution_count": 5,
   "metadata": {},
   "outputs": [
    {
     "name": "stdout",
     "output_type": "stream",
     "text": [
      "2\n"
     ]
    }
   ],
   "source": [
    "print(mat1.ndim)"
   ]
  },
  {
   "cell_type": "code",
   "execution_count": 6,
   "metadata": {},
   "outputs": [
    {
     "name": "stdout",
     "output_type": "stream",
     "text": [
      "torch.Size([2, 3])\n"
     ]
    }
   ],
   "source": [
    "print(mat1.shape)"
   ]
  },
  {
   "cell_type": "markdown",
   "metadata": {},
   "source": [
    "Kita bisa buat matriks kedua, lalu mengalikannya dengan perkalian matriks menggunakan `torch.matmul`"
   ]
  },
  {
   "cell_type": "code",
   "execution_count": 19,
   "metadata": {},
   "outputs": [],
   "source": [
    "mat2 = torch.tensor([\n",
    "    [9, 8],\n",
    "    [7, 6],\n",
    "    [5, 4.3]\n",
    "])"
   ]
  },
  {
   "cell_type": "code",
   "execution_count": 23,
   "metadata": {},
   "outputs": [
    {
     "name": "stdout",
     "output_type": "stream",
     "text": [
      "2\n",
      "torch.Size([3, 2])\n",
      "torch.float32\n"
     ]
    }
   ],
   "source": [
    "print(mat2.ndim)\n",
    "print(mat2.shape)\n",
    "print(mat2.dtype)"
   ]
  },
  {
   "cell_type": "code",
   "execution_count": 21,
   "metadata": {},
   "outputs": [],
   "source": [
    "mat3 = torch.matmul(mat1, mat2)"
   ]
  },
  {
   "cell_type": "code",
   "execution_count": 22,
   "metadata": {},
   "outputs": [
    {
     "name": "stdout",
     "output_type": "stream",
     "text": [
      "tensor([[ 43.7260,  37.8100],\n",
      "        [102.4000,  89.0040]])\n"
     ]
    }
   ],
   "source": [
    "print(mat3)"
   ]
  },
  {
   "cell_type": "markdown",
   "metadata": {},
   "source": [
    "Matriks juga bisa ditranspos dengan `.T`"
   ]
  },
  {
   "cell_type": "code",
   "execution_count": 38,
   "metadata": {},
   "outputs": [
    {
     "name": "stdout",
     "output_type": "stream",
     "text": [
      "tensor([[ 43.7260, 102.4000],\n",
      "        [ 37.8100,  89.0040]])\n"
     ]
    }
   ],
   "source": [
    "mat4 = mat3.T\n",
    "print(mat4)"
   ]
  },
  {
   "cell_type": "markdown",
   "metadata": {},
   "source": [
    "### Konversi dari/ke numpy"
   ]
  },
  {
   "cell_type": "markdown",
   "metadata": {},
   "source": [
    "Kita bisa mengonversi tensor PyTorch menjadi array numpy dan sebaliknya:\n",
    "\n",
    "- `.numpy()` untuk mengubah suatu tensor PyTorch menjadi array numpy\n",
    "\n",
    "- `torch.from_numpy(...)` untuk mengubah suatu array numpy menjadi tensor PyTorch"
   ]
  },
  {
   "cell_type": "code",
   "execution_count": 43,
   "metadata": {},
   "outputs": [
    {
     "name": "stdout",
     "output_type": "stream",
     "text": [
      "[[ 43.725998 102.4     ]\n",
      " [ 37.809998  89.004   ]]\n",
      "<class 'numpy.ndarray'>\n",
      "float32\n"
     ]
    }
   ],
   "source": [
    "arr5 = mat4.numpy()\n",
    "print(arr5)\n",
    "print(type(arr5))\n",
    "print(arr5.dtype)"
   ]
  },
  {
   "cell_type": "code",
   "execution_count": 42,
   "metadata": {},
   "outputs": [
    {
     "name": "stdout",
     "output_type": "stream",
     "text": [
      "tensor([[ 43.7260, 102.4000],\n",
      "        [ 37.8100,  89.0040]])\n",
      "<class 'torch.Tensor'>\n",
      "torch.float32\n"
     ]
    }
   ],
   "source": [
    "mat6 = torch.from_numpy(arr5)\n",
    "print(mat6)\n",
    "print(type(mat6))\n",
    "print(mat6.dtype)"
   ]
  },
  {
   "cell_type": "markdown",
   "metadata": {},
   "source": [
    "### ones, zeros, rand, randn"
   ]
  },
  {
   "cell_type": "markdown",
   "metadata": {},
   "source": [
    "Kita bisa membuat tensor berisi satu semua, atau nol semua, atau nilai random, dengan ukuran `size` yang bisa kita tentukan"
   ]
  },
  {
   "cell_type": "code",
   "execution_count": 26,
   "metadata": {},
   "outputs": [
    {
     "name": "stdout",
     "output_type": "stream",
     "text": [
      "tensor([[1., 1., 1., 1.],\n",
      "        [1., 1., 1., 1.],\n",
      "        [1., 1., 1., 1.]])\n"
     ]
    }
   ],
   "source": [
    "x = torch.ones(size = (3,4))\n",
    "print(x)"
   ]
  },
  {
   "cell_type": "code",
   "execution_count": 25,
   "metadata": {},
   "outputs": [
    {
     "name": "stdout",
     "output_type": "stream",
     "text": [
      "tensor([[0., 0., 0., 0.],\n",
      "        [0., 0., 0., 0.],\n",
      "        [0., 0., 0., 0.]])\n"
     ]
    }
   ],
   "source": [
    "x = torch.zeros(size = (3,4))\n",
    "print(x)"
   ]
  },
  {
   "cell_type": "code",
   "execution_count": 28,
   "metadata": {},
   "outputs": [
    {
     "name": "stdout",
     "output_type": "stream",
     "text": [
      "tensor([[0.0698, 0.2004, 0.3279, 0.2525],\n",
      "        [0.2461, 0.4263, 0.4870, 0.4371],\n",
      "        [0.9545, 0.7487, 0.3990, 0.0412]])\n"
     ]
    }
   ],
   "source": [
    "x = torch.rand(size = (3,4))\n",
    "print(x)"
   ]
  },
  {
   "cell_type": "markdown",
   "metadata": {},
   "source": [
    "`torch.rand` memilih nilai secara random dari distribusi uniform pada interval $[0,1)$"
   ]
  },
  {
   "cell_type": "markdown",
   "metadata": {},
   "source": [
    "Untuk memilih nilai secara random dari distribusi normal (dengan $\\mu = 0$ dan $\\sigma = 1$), gunakan `torch.randn`"
   ]
  },
  {
   "cell_type": "code",
   "execution_count": 68,
   "metadata": {},
   "outputs": [
    {
     "name": "stdout",
     "output_type": "stream",
     "text": [
      "tensor([[ 1.5820, -0.1806,  0.1820, -0.6891],\n",
      "        [ 1.2161, -0.5755, -0.5172, -0.7454],\n",
      "        [ 0.3047, -0.5932, -0.3343, -1.1461]])\n"
     ]
    }
   ],
   "source": [
    "x = torch.randn(size = (3,4))\n",
    "print(x)"
   ]
  },
  {
   "cell_type": "markdown",
   "metadata": {},
   "source": [
    "### Operasi tensor seperti numpy"
   ]
  },
  {
   "cell_type": "markdown",
   "metadata": {},
   "source": [
    "Secara umum, operasi tensor di PyTorch memang mirip dengan array di numpy, sebagaimana operasi tensor di TensorFlow juga mirip dengan array di numpy."
   ]
  },
  {
   "cell_type": "code",
   "execution_count": 29,
   "metadata": {},
   "outputs": [
    {
     "name": "stdout",
     "output_type": "stream",
     "text": [
      "tensor([[4., 4.],\n",
      "        [4., 4.]])\n"
     ]
    }
   ],
   "source": [
    "a = 4 * torch.ones((2, 2))\n",
    "print(a)"
   ]
  },
  {
   "cell_type": "code",
   "execution_count": 30,
   "metadata": {},
   "outputs": [
    {
     "name": "stdout",
     "output_type": "stream",
     "text": [
      "tensor([[16., 16.],\n",
      "        [16., 16.]])\n"
     ]
    }
   ],
   "source": [
    "b = torch.square(a)\n",
    "print(b)"
   ]
  },
  {
   "cell_type": "code",
   "execution_count": 31,
   "metadata": {},
   "outputs": [
    {
     "name": "stdout",
     "output_type": "stream",
     "text": [
      "tensor([[2., 2.],\n",
      "        [2., 2.]])\n"
     ]
    }
   ],
   "source": [
    "c = torch.sqrt(a)\n",
    "print(c)"
   ]
  },
  {
   "cell_type": "code",
   "execution_count": 32,
   "metadata": {},
   "outputs": [
    {
     "name": "stdout",
     "output_type": "stream",
     "text": [
      "tensor([[18., 18.],\n",
      "        [18., 18.]])\n"
     ]
    }
   ],
   "source": [
    "d = b + c\n",
    "print(d)"
   ]
  },
  {
   "cell_type": "code",
   "execution_count": 34,
   "metadata": {},
   "outputs": [
    {
     "name": "stdout",
     "output_type": "stream",
     "text": [
      "tensor([[16., 16.],\n",
      "        [16., 16.]])\n"
     ]
    }
   ],
   "source": [
    "# perkalian matriks\n",
    "e = torch.matmul(a, c)\n",
    "print(e)"
   ]
  },
  {
   "cell_type": "code",
   "execution_count": 35,
   "metadata": {},
   "outputs": [
    {
     "name": "stdout",
     "output_type": "stream",
     "text": [
      "tensor([[288., 288.],\n",
      "        [288., 288.]])\n"
     ]
    }
   ],
   "source": [
    "# perkalian per elemen\n",
    "e *= d\n",
    "print(e)"
   ]
  },
  {
   "cell_type": "code",
   "execution_count": 36,
   "metadata": {},
   "outputs": [
    {
     "name": "stdout",
     "output_type": "stream",
     "text": [
      "tensor([[290., 290.],\n",
      "        [290., 290.]])\n"
     ]
    }
   ],
   "source": [
    "# penjumlahan per elemen\n",
    "f = e + 2\n",
    "print(f)"
   ]
  },
  {
   "cell_type": "markdown",
   "metadata": {},
   "source": [
    "### *Autograd* dengan `.backward()`"
   ]
  },
  {
   "cell_type": "markdown",
   "metadata": {},
   "source": [
    "Sebagaimana ada *automatic differentiation* atau *autodiff* di TensorFlow, ada juga autograd di PyTorch. Namun, *syntax* nya cukup berbeda."
   ]
  },
  {
   "cell_type": "markdown",
   "metadata": {},
   "source": [
    "Caranya, inputnya kita jadikan tensor dengan parameter `requires_grad=True`, lalu kita operasikan (misal dengan fungsi f) dan menghasilkan tensor baru, lalu di tensor baru ini kita panggil `.backward()` agar turunan f dihitung dan disimpan di variabel input `.grad`"
   ]
  },
  {
   "cell_type": "markdown",
   "metadata": {},
   "source": [
    "Contohnya, turunan $x^3$ terhadap $x$ di $x=4$ adalah $3(4)^2 = 48$."
   ]
  },
  {
   "cell_type": "code",
   "execution_count": 46,
   "metadata": {},
   "outputs": [
    {
     "name": "stdout",
     "output_type": "stream",
     "text": [
      "tensor(48.)\n"
     ]
    }
   ],
   "source": [
    "# siapkan input, dengan requires_grad=True\n",
    "x = torch.tensor(4.0, requires_grad=True)\n",
    "\n",
    "# hitung fungsi F\n",
    "F = x**3\n",
    "\n",
    "# jalankan perhitungan turunan F (terhadap input)\n",
    "F.backward()\n",
    "\n",
    "# tampilkan turunan yang tersimpan di input .grad\n",
    "print(x.grad)"
   ]
  },
  {
   "cell_type": "markdown",
   "metadata": {},
   "source": [
    "Nama *method* nya adalah `.backward()` dan memang digunakan di *backward pass* (akan kita lihat nanti)."
   ]
  },
  {
   "cell_type": "markdown",
   "metadata": {},
   "source": [
    "Contoh lain, turunan $3x^3 - y^2$ terhadap $x$ dengan $x=2$ adalah $9(2)^2 = 36$, dan turunannya terhadap $y$ dengan $y=6$ adalah $-2(6) = -12$"
   ]
  },
  {
   "cell_type": "code",
   "execution_count": 49,
   "metadata": {},
   "outputs": [
    {
     "name": "stdout",
     "output_type": "stream",
     "text": [
      "tensor(36.)\n",
      "tensor(-12.)\n"
     ]
    }
   ],
   "source": [
    "x = torch.tensor(2.0, requires_grad=True)\n",
    "y = torch.tensor(6.0, requires_grad=True)\n",
    "\n",
    "F = 3 * x**3 - y**2\n",
    "\n",
    "F.backward()\n",
    "\n",
    "print(x.grad)\n",
    "print(y.grad)"
   ]
  },
  {
   "cell_type": "markdown",
   "metadata": {},
   "source": [
    "## Klasifikasi biner dengan *perceptron*"
   ]
  },
  {
   "cell_type": "markdown",
   "metadata": {},
   "source": [
    "### Persiapan data, `TensorData`, `DataLoader`"
   ]
  },
  {
   "cell_type": "markdown",
   "metadata": {},
   "source": [
    "Untuk model pertama kita, mari kita coba buat kembali model *perceptron* untuk klasifikasi biner yang pernah kita buat di [Modul 7](./modul7.ipynb), dengan dataset `titik_negatif_positif.csv` yang sama, bisa kalian *download* dari GitHub Pages ini: [titik_negatif_positif.csv](./titik_negatif_positif.csv)"
   ]
  },
  {
   "cell_type": "markdown",
   "metadata": {},
   "source": [
    "Kita buka datasetnya, jangan lupa dengan `dtype=\"float32\"` karena itulah tipe data yang biasa digunakan oleh PyTorch, seperti TensorFlow:"
   ]
  },
  {
   "cell_type": "code",
   "execution_count": 81,
   "metadata": {},
   "outputs": [],
   "source": [
    "titik_df = pd.read_csv(\"./titik_negatif_positif.csv\", dtype=\"float32\")"
   ]
  },
  {
   "cell_type": "code",
   "execution_count": 82,
   "metadata": {},
   "outputs": [
    {
     "data": {
      "text/html": [
       "<div>\n",
       "<style scoped>\n",
       "    .dataframe tbody tr th:only-of-type {\n",
       "        vertical-align: middle;\n",
       "    }\n",
       "\n",
       "    .dataframe tbody tr th {\n",
       "        vertical-align: top;\n",
       "    }\n",
       "\n",
       "    .dataframe thead th {\n",
       "        text-align: right;\n",
       "    }\n",
       "</style>\n",
       "<table border=\"1\" class=\"dataframe\">\n",
       "  <thead>\n",
       "    <tr style=\"text-align: right;\">\n",
       "      <th></th>\n",
       "      <th>x</th>\n",
       "      <th>y</th>\n",
       "      <th>kelas</th>\n",
       "    </tr>\n",
       "  </thead>\n",
       "  <tbody>\n",
       "    <tr>\n",
       "      <th>0</th>\n",
       "      <td>1.173375</td>\n",
       "      <td>4.570637</td>\n",
       "      <td>0.0</td>\n",
       "    </tr>\n",
       "    <tr>\n",
       "      <th>1</th>\n",
       "      <td>0.195961</td>\n",
       "      <td>3.504604</td>\n",
       "      <td>0.0</td>\n",
       "    </tr>\n",
       "    <tr>\n",
       "      <th>2</th>\n",
       "      <td>0.121400</td>\n",
       "      <td>2.163783</td>\n",
       "      <td>0.0</td>\n",
       "    </tr>\n",
       "    <tr>\n",
       "      <th>3</th>\n",
       "      <td>-1.170182</td>\n",
       "      <td>3.882771</td>\n",
       "      <td>0.0</td>\n",
       "    </tr>\n",
       "    <tr>\n",
       "      <th>4</th>\n",
       "      <td>-0.424403</td>\n",
       "      <td>0.534641</td>\n",
       "      <td>0.0</td>\n",
       "    </tr>\n",
       "    <tr>\n",
       "      <th>...</th>\n",
       "      <td>...</td>\n",
       "      <td>...</td>\n",
       "      <td>...</td>\n",
       "    </tr>\n",
       "    <tr>\n",
       "      <th>1995</th>\n",
       "      <td>2.423160</td>\n",
       "      <td>-0.337196</td>\n",
       "      <td>1.0</td>\n",
       "    </tr>\n",
       "    <tr>\n",
       "      <th>1996</th>\n",
       "      <td>1.949836</td>\n",
       "      <td>-0.627813</td>\n",
       "      <td>1.0</td>\n",
       "    </tr>\n",
       "    <tr>\n",
       "      <th>1997</th>\n",
       "      <td>2.109928</td>\n",
       "      <td>-0.382492</td>\n",
       "      <td>1.0</td>\n",
       "    </tr>\n",
       "    <tr>\n",
       "      <th>1998</th>\n",
       "      <td>4.178664</td>\n",
       "      <td>0.486168</td>\n",
       "      <td>1.0</td>\n",
       "    </tr>\n",
       "    <tr>\n",
       "      <th>1999</th>\n",
       "      <td>2.326363</td>\n",
       "      <td>1.228249</td>\n",
       "      <td>1.0</td>\n",
       "    </tr>\n",
       "  </tbody>\n",
       "</table>\n",
       "<p>2000 rows × 3 columns</p>\n",
       "</div>"
      ],
      "text/plain": [
       "             x         y  kelas\n",
       "0     1.173375  4.570637    0.0\n",
       "1     0.195961  3.504604    0.0\n",
       "2     0.121400  2.163783    0.0\n",
       "3    -1.170182  3.882771    0.0\n",
       "4    -0.424403  0.534641    0.0\n",
       "...        ...       ...    ...\n",
       "1995  2.423160 -0.337196    1.0\n",
       "1996  1.949836 -0.627813    1.0\n",
       "1997  2.109928 -0.382492    1.0\n",
       "1998  4.178664  0.486168    1.0\n",
       "1999  2.326363  1.228249    1.0\n",
       "\n",
       "[2000 rows x 3 columns]"
      ]
     },
     "execution_count": 82,
     "metadata": {},
     "output_type": "execute_result"
    }
   ],
   "source": [
    "titik_df"
   ]
  },
  {
   "cell_type": "markdown",
   "metadata": {},
   "source": [
    "Memisahkan antara inputs (prediktor) dan targets (variabel target):"
   ]
  },
  {
   "cell_type": "code",
   "execution_count": 83,
   "metadata": {},
   "outputs": [],
   "source": [
    "titik_inputs_df = titik_df.drop(columns=[\"kelas\"])\n",
    "titik_targets_df = titik_df[[\"kelas\"]]"
   ]
  },
  {
   "cell_type": "code",
   "execution_count": 84,
   "metadata": {},
   "outputs": [
    {
     "data": {
      "text/html": [
       "<div>\n",
       "<style scoped>\n",
       "    .dataframe tbody tr th:only-of-type {\n",
       "        vertical-align: middle;\n",
       "    }\n",
       "\n",
       "    .dataframe tbody tr th {\n",
       "        vertical-align: top;\n",
       "    }\n",
       "\n",
       "    .dataframe thead th {\n",
       "        text-align: right;\n",
       "    }\n",
       "</style>\n",
       "<table border=\"1\" class=\"dataframe\">\n",
       "  <thead>\n",
       "    <tr style=\"text-align: right;\">\n",
       "      <th></th>\n",
       "      <th>x</th>\n",
       "      <th>y</th>\n",
       "    </tr>\n",
       "  </thead>\n",
       "  <tbody>\n",
       "    <tr>\n",
       "      <th>0</th>\n",
       "      <td>1.173375</td>\n",
       "      <td>4.570637</td>\n",
       "    </tr>\n",
       "    <tr>\n",
       "      <th>1</th>\n",
       "      <td>0.195961</td>\n",
       "      <td>3.504604</td>\n",
       "    </tr>\n",
       "    <tr>\n",
       "      <th>2</th>\n",
       "      <td>0.121400</td>\n",
       "      <td>2.163783</td>\n",
       "    </tr>\n",
       "    <tr>\n",
       "      <th>3</th>\n",
       "      <td>-1.170182</td>\n",
       "      <td>3.882771</td>\n",
       "    </tr>\n",
       "    <tr>\n",
       "      <th>4</th>\n",
       "      <td>-0.424403</td>\n",
       "      <td>0.534641</td>\n",
       "    </tr>\n",
       "    <tr>\n",
       "      <th>...</th>\n",
       "      <td>...</td>\n",
       "      <td>...</td>\n",
       "    </tr>\n",
       "    <tr>\n",
       "      <th>1995</th>\n",
       "      <td>2.423160</td>\n",
       "      <td>-0.337196</td>\n",
       "    </tr>\n",
       "    <tr>\n",
       "      <th>1996</th>\n",
       "      <td>1.949836</td>\n",
       "      <td>-0.627813</td>\n",
       "    </tr>\n",
       "    <tr>\n",
       "      <th>1997</th>\n",
       "      <td>2.109928</td>\n",
       "      <td>-0.382492</td>\n",
       "    </tr>\n",
       "    <tr>\n",
       "      <th>1998</th>\n",
       "      <td>4.178664</td>\n",
       "      <td>0.486168</td>\n",
       "    </tr>\n",
       "    <tr>\n",
       "      <th>1999</th>\n",
       "      <td>2.326363</td>\n",
       "      <td>1.228249</td>\n",
       "    </tr>\n",
       "  </tbody>\n",
       "</table>\n",
       "<p>2000 rows × 2 columns</p>\n",
       "</div>"
      ],
      "text/plain": [
       "             x         y\n",
       "0     1.173375  4.570637\n",
       "1     0.195961  3.504604\n",
       "2     0.121400  2.163783\n",
       "3    -1.170182  3.882771\n",
       "4    -0.424403  0.534641\n",
       "...        ...       ...\n",
       "1995  2.423160 -0.337196\n",
       "1996  1.949836 -0.627813\n",
       "1997  2.109928 -0.382492\n",
       "1998  4.178664  0.486168\n",
       "1999  2.326363  1.228249\n",
       "\n",
       "[2000 rows x 2 columns]"
      ]
     },
     "execution_count": 84,
     "metadata": {},
     "output_type": "execute_result"
    }
   ],
   "source": [
    "titik_inputs_df"
   ]
  },
  {
   "cell_type": "code",
   "execution_count": 85,
   "metadata": {},
   "outputs": [
    {
     "data": {
      "text/html": [
       "<div>\n",
       "<style scoped>\n",
       "    .dataframe tbody tr th:only-of-type {\n",
       "        vertical-align: middle;\n",
       "    }\n",
       "\n",
       "    .dataframe tbody tr th {\n",
       "        vertical-align: top;\n",
       "    }\n",
       "\n",
       "    .dataframe thead th {\n",
       "        text-align: right;\n",
       "    }\n",
       "</style>\n",
       "<table border=\"1\" class=\"dataframe\">\n",
       "  <thead>\n",
       "    <tr style=\"text-align: right;\">\n",
       "      <th></th>\n",
       "      <th>kelas</th>\n",
       "    </tr>\n",
       "  </thead>\n",
       "  <tbody>\n",
       "    <tr>\n",
       "      <th>0</th>\n",
       "      <td>0.0</td>\n",
       "    </tr>\n",
       "    <tr>\n",
       "      <th>1</th>\n",
       "      <td>0.0</td>\n",
       "    </tr>\n",
       "    <tr>\n",
       "      <th>2</th>\n",
       "      <td>0.0</td>\n",
       "    </tr>\n",
       "    <tr>\n",
       "      <th>3</th>\n",
       "      <td>0.0</td>\n",
       "    </tr>\n",
       "    <tr>\n",
       "      <th>4</th>\n",
       "      <td>0.0</td>\n",
       "    </tr>\n",
       "    <tr>\n",
       "      <th>...</th>\n",
       "      <td>...</td>\n",
       "    </tr>\n",
       "    <tr>\n",
       "      <th>1995</th>\n",
       "      <td>1.0</td>\n",
       "    </tr>\n",
       "    <tr>\n",
       "      <th>1996</th>\n",
       "      <td>1.0</td>\n",
       "    </tr>\n",
       "    <tr>\n",
       "      <th>1997</th>\n",
       "      <td>1.0</td>\n",
       "    </tr>\n",
       "    <tr>\n",
       "      <th>1998</th>\n",
       "      <td>1.0</td>\n",
       "    </tr>\n",
       "    <tr>\n",
       "      <th>1999</th>\n",
       "      <td>1.0</td>\n",
       "    </tr>\n",
       "  </tbody>\n",
       "</table>\n",
       "<p>2000 rows × 1 columns</p>\n",
       "</div>"
      ],
      "text/plain": [
       "      kelas\n",
       "0       0.0\n",
       "1       0.0\n",
       "2       0.0\n",
       "3       0.0\n",
       "4       0.0\n",
       "...     ...\n",
       "1995    1.0\n",
       "1996    1.0\n",
       "1997    1.0\n",
       "1998    1.0\n",
       "1999    1.0\n",
       "\n",
       "[2000 rows x 1 columns]"
      ]
     },
     "execution_count": 85,
     "metadata": {},
     "output_type": "execute_result"
    }
   ],
   "source": [
    "titik_targets_df"
   ]
  },
  {
   "cell_type": "markdown",
   "metadata": {},
   "source": [
    "Mengubahnya menjadi *array* numpy:"
   ]
  },
  {
   "cell_type": "code",
   "execution_count": 86,
   "metadata": {},
   "outputs": [],
   "source": [
    "titik_inputs_arr = titik_inputs_df.to_numpy()\n",
    "titik_targets_arr = titik_targets_df.to_numpy()"
   ]
  },
  {
   "cell_type": "markdown",
   "metadata": {},
   "source": [
    "Kemudian mengubahnya menjadi tensor PyTorch:"
   ]
  },
  {
   "cell_type": "code",
   "execution_count": 87,
   "metadata": {},
   "outputs": [],
   "source": [
    "titik_inputs_tensor = torch.from_numpy(titik_inputs_arr)\n",
    "titik_targets_tensor = torch.from_numpy(titik_targets_arr)"
   ]
  },
  {
   "cell_type": "markdown",
   "metadata": {},
   "source": [
    "Tujuan mengubah dari DataFrame menjadi tensor, tentunya supaya bisa diproses dengan PyTorch."
   ]
  },
  {
   "cell_type": "markdown",
   "metadata": {},
   "source": [
    "Kita bisa periksa, bentuknya sesuai:"
   ]
  },
  {
   "cell_type": "code",
   "execution_count": 88,
   "metadata": {},
   "outputs": [
    {
     "name": "stdout",
     "output_type": "stream",
     "text": [
      "tensor([[ 1.1734,  4.5706],\n",
      "        [ 0.1960,  3.5046],\n",
      "        [ 0.1214,  2.1638],\n",
      "        ...,\n",
      "        [ 2.1099, -0.3825],\n",
      "        [ 4.1787,  0.4862],\n",
      "        [ 2.3264,  1.2282]])\n"
     ]
    }
   ],
   "source": [
    "print(titik_inputs_tensor)"
   ]
  },
  {
   "cell_type": "code",
   "execution_count": 89,
   "metadata": {},
   "outputs": [
    {
     "name": "stdout",
     "output_type": "stream",
     "text": [
      "tensor([[0.],\n",
      "        [0.],\n",
      "        [0.],\n",
      "        ...,\n",
      "        [1.],\n",
      "        [1.],\n",
      "        [1.]])\n"
     ]
    }
   ],
   "source": [
    "print(titik_targets_tensor)"
   ]
  },
  {
   "cell_type": "markdown",
   "metadata": {},
   "source": [
    "Kemudian, kita bisa melakukan *train-validation-test split*, misalnya dengan rasio 80:10:10"
   ]
  },
  {
   "cell_type": "code",
   "execution_count": 90,
   "metadata": {},
   "outputs": [],
   "source": [
    "from sklearn.model_selection import train_test_split"
   ]
  },
  {
   "cell_type": "code",
   "execution_count": 91,
   "metadata": {},
   "outputs": [],
   "source": [
    "# data utuh menjadi data train 80% dan data \"test\" 20%\n",
    "titik_X_train, titik_X_test, titik_y_train, titik_y_test = train_test_split(\n",
    "    titik_inputs_tensor, titik_targets_tensor, test_size=0.2, random_state=42\n",
    ")\n",
    "\n",
    "# data \"test\" dibagi dua, menjadi data validation dan data test sesungguhnya\n",
    "titik_X_val, titik_X_test, titik_y_val, titik_y_test = train_test_split(\n",
    "    titik_X_test, titik_y_test, test_size=0.5, random_state=42\n",
    ")"
   ]
  },
  {
   "cell_type": "markdown",
   "metadata": {},
   "source": [
    "Kita bisa periksa ukurannya, rasionya sudah sesuai yang kita tetapkan:"
   ]
  },
  {
   "cell_type": "code",
   "execution_count": 92,
   "metadata": {},
   "outputs": [
    {
     "name": "stdout",
     "output_type": "stream",
     "text": [
      "torch.Size([1600, 2])\n",
      "torch.Size([200, 2])\n",
      "torch.Size([200, 2])\n"
     ]
    }
   ],
   "source": [
    "print(titik_X_train.shape)\n",
    "print(titik_X_val.shape)\n",
    "print(titik_X_test.shape)"
   ]
  },
  {
   "cell_type": "markdown",
   "metadata": {},
   "source": [
    "Sebelum dataset kita benar-benar siap untuk diproses dengan PyTorch, ada dua hal yang perlu kita lakukan:\n",
    "\n",
    "1. mengubahnya menjadi objek `Dataset` dengan `TensorDataset`\n",
    "\n",
    "    `Dataset` di sini adalah format dataset umum yang dikenal oleh PyTorch.\n",
    "\n",
    "2. mengubah objek `Dataset` menjadi objek `DataLoader`\n",
    "\n",
    "    `DataLoader` membuat objek `Dataset` menjadi *\"iterable\"* yaitu bisa diiterasikan dengan *for loop*, agar bisa digunakan dalam proses *training* maupun *testing*."
   ]
  },
  {
   "cell_type": "markdown",
   "metadata": {},
   "source": [
    "Baik `TensorDataset` maupun `DataLoader` bisa kita import dari `torch.utils.data`"
   ]
  },
  {
   "cell_type": "code",
   "execution_count": 93,
   "metadata": {},
   "outputs": [],
   "source": [
    "from torch.utils.data import TensorDataset, DataLoader"
   ]
  },
  {
   "cell_type": "markdown",
   "metadata": {},
   "source": [
    "Masing-masing dari data train, data validation, dan data test bisa kita ubah menjadi objek `Dataset` dengan menentukan mana prediktor dan mana target:"
   ]
  },
  {
   "cell_type": "code",
   "execution_count": 94,
   "metadata": {},
   "outputs": [],
   "source": [
    "titik_train_dataset = TensorDataset(titik_X_train, titik_y_train)\n",
    "titik_val_dataset = TensorDataset(titik_X_val, titik_y_val)\n",
    "titik_test_dataset = TensorDataset(titik_X_test, titik_y_test)"
   ]
  },
  {
   "cell_type": "markdown",
   "metadata": {},
   "source": [
    "Kemudian, masing-masing bisa kita ubah menjadi `DataLoader`, sekasligus menentukan *batch size*, dan juga menentukan apakah perlu ada *shuffling* di tiap epoch (biasanya dilakukan di data *train* untuk mengurangi *overfitting*):"
   ]
  },
  {
   "cell_type": "code",
   "execution_count": 95,
   "metadata": {},
   "outputs": [],
   "source": [
    "titik_train_dataloader = DataLoader(titik_train_dataset, batch_size=32, shuffle=True)\n",
    "titik_val_dataloader = DataLoader(titik_val_dataset, batch_size=32, shuffle=False)\n",
    "titik_test_dataloader = DataLoader(titik_test_dataset, batch_size=32, shuffle=False)"
   ]
  },
  {
   "cell_type": "markdown",
   "metadata": {},
   "source": [
    "### Menyusun model"
   ]
  },
  {
   "cell_type": "markdown",
   "metadata": {},
   "source": [
    "Ingat bahwa *perceptron* yang ingin kita susun hanya terdiri dari\n",
    "\n",
    "- *input layer* dengan dua *neuron*,\n",
    "\n",
    "- tidak ada *hidden layer*,\n",
    "\n",
    "- *output layer* dengan satu *neuron* dan fungsi aktivasi sigmoid\n",
    "\n",
    "Sehingga matriks bobot yang sesuai berukuran $2 \\times 1$, dan vektor bias yang sesuai berukuran $1 \\times 1$."
   ]
  },
  {
   "cell_type": "markdown",
   "metadata": {},
   "source": [
    "Di PyTorch, tiap model berupa *class* dengan ketentuan:\n",
    "\n",
    "- meng-*inherit* dari `torch.nn.Module` (yaitu *base class* untuk semua model PyTorch)\n",
    "\n",
    "- baris pertama di *constructor* `__init__` adalah\n",
    "\n",
    "    `super().__init__()`\n",
    "\n",
    "- harus mendefinisikan `forward()` untuk *forward pass*\n",
    "\n",
    "- komponen/variabel/atribut/parameter yang diperlukan biasanya didefinisikan di *constructor*\n",
    "\n",
    "    Catatan: parameter biasa didefinisikan dengan `torch.nn.Parameter` daripada `torch.tensor`"
   ]
  },
  {
   "cell_type": "markdown",
   "metadata": {},
   "source": [
    "Ini cukup mirip dengan *subclassing API* di Keras, yang meng-*inherit* dari `keras.Model` dan harus mendefinisikan `call()` untuk *forward pass*."
   ]
  },
  {
   "cell_type": "markdown",
   "metadata": {},
   "source": [
    "Mari kita susun *perceptron* kita, yang memiliki matriks bobot, vektor bias, dan fungsi aktivasi sigmoid:"
   ]
  },
  {
   "cell_type": "code",
   "execution_count": 4,
   "metadata": {},
   "outputs": [],
   "source": [
    "class MyPerceptron(torch.nn.Module):\n",
    "    def __init__(self):\n",
    "        super().__init__()\n",
    "\n",
    "        self.weights = torch.nn.Parameter(\n",
    "            torch.randn(size = (2, 1), dtype = torch.float32),\n",
    "            requires_grad=True # agar autgrad aktif\n",
    "        )\n",
    "\n",
    "        self.bias = torch.nn.Parameter(\n",
    "            torch.randn(size = (1,), dtype = torch.float32),\n",
    "            requires_grad=True\n",
    "        )\n",
    "    \n",
    "    def forward(self, x):\n",
    "        return torch.sigmoid(\n",
    "            torch.matmul(x, self.weights) + self.bias\n",
    "        )"
   ]
  },
  {
   "cell_type": "markdown",
   "metadata": {},
   "source": [
    "Kita bisa buat suatu *instance* atau objek dari *class* di atas:"
   ]
  },
  {
   "cell_type": "code",
   "execution_count": 5,
   "metadata": {},
   "outputs": [],
   "source": [
    "pisah_titik = MyPerceptron()"
   ]
  },
  {
   "cell_type": "markdown",
   "metadata": {},
   "source": [
    "Ini adalah model yang siap di-*train*. Sebelum *training*, kita bisa memeriksa parameter model (saat ini masih random sesuai `torch.randn`):"
   ]
  },
  {
   "cell_type": "code",
   "execution_count": 98,
   "metadata": {},
   "outputs": [
    {
     "data": {
      "text/plain": [
       "[Parameter containing:\n",
       " tensor([[-0.8412],\n",
       "         [-1.1300]], requires_grad=True),\n",
       " Parameter containing:\n",
       " tensor([-0.0640], requires_grad=True)]"
      ]
     },
     "execution_count": 98,
     "metadata": {},
     "output_type": "execute_result"
    }
   ],
   "source": [
    "list(pisah_titik.parameters())"
   ]
  },
  {
   "cell_type": "markdown",
   "metadata": {},
   "source": [
    "Mirip, ada juga yang namanya `.state_dict()`"
   ]
  },
  {
   "cell_type": "code",
   "execution_count": 99,
   "metadata": {},
   "outputs": [
    {
     "data": {
      "text/plain": [
       "OrderedDict([('weights',\n",
       "              tensor([[-0.8412],\n",
       "                      [-1.1300]])),\n",
       "             ('bias', tensor([-0.0640]))])"
      ]
     },
     "execution_count": 99,
     "metadata": {},
     "output_type": "execute_result"
    }
   ],
   "source": [
    "pisah_titik.state_dict()"
   ]
  },
  {
   "cell_type": "markdown",
   "metadata": {},
   "source": [
    "### Menyiapkan *hyperparameter*"
   ]
  },
  {
   "cell_type": "markdown",
   "metadata": {},
   "source": [
    "Untuk klasifikasi, *loss function* yang biasa digunakan adalah *crossentropy loss*, atau mungkin lebih spesifiknya *binary crossentropy loss*, yang disebut `torch.nn.BCELoss` di PyTorch. Kita bisa menyiapkannya sebagai objek."
   ]
  },
  {
   "cell_type": "code",
   "execution_count": 14,
   "metadata": {},
   "outputs": [],
   "source": [
    "titik_loss_fn = torch.nn.BCELoss()"
   ]
  },
  {
   "cell_type": "markdown",
   "metadata": {},
   "source": [
    "Serupa, *optimizer* juga disiapkan sebagai objek, misalnya `torch.optim.SGD` untuk SGD *(stochastic gradient descent)*:"
   ]
  },
  {
   "cell_type": "code",
   "execution_count": 101,
   "metadata": {},
   "outputs": [],
   "source": [
    "titik_opt = torch.optim.SGD(params=pisah_titik.parameters(), # merujuk ke parameter model\n",
    "                            lr=0.01) # learning rate"
   ]
  },
  {
   "cell_type": "markdown",
   "metadata": {},
   "source": [
    "### *Training loop*"
   ]
  },
  {
   "cell_type": "markdown",
   "metadata": {},
   "source": [
    "Mungkin agak mengejutkan: di PyTorch, kita dibebaskan untuk membuat *training loop* sendiri. Artinya, tidak ada fungsi `.fit()` yang tinggal kita panggil; kita perlu menyusun *for loop* sendiri, seperti di [Modul 7](./modul7.ipynb) :)"
   ]
  },
  {
   "cell_type": "markdown",
   "metadata": {},
   "source": [
    "Ingat kembali, tiap iterasi (yaitu per *batch*) di proses *training* melibatkan:\n",
    "\n",
    "1. *Forward pass*: menghitung nilai *output* (hasil prediksi) dari *input* (*batch*).\n",
    "\n",
    "2. Menghitung *loss* antara hasil prediksi dan nilai sebenarnya\n",
    "\n",
    "3. *Backpropagation*: menghitung gradien dari *loss* terhadap tiap parameter\n",
    "\n",
    "4. *Update optimizer*: memperbarui nilai parameter berdasarkan gradien dari *loss*, menggunakan rumus atau *optimizer* yang dipilih"
   ]
  },
  {
   "cell_type": "markdown",
   "metadata": {},
   "source": [
    "Ingat juga, selain *training*, ada juga yang namanya *validation* (atau terkadang disebut *testing* di beberapa sumber). Tahap *validation* ini menguji model di akhir tiap *epoch*, setelah semua *batch* melalui proses *training*. Langkahnya terdiri dari:\n",
    "\n",
    "1. *Forward pass*\n",
    "\n",
    "2. Menghitung *loss* dan/atau *accuracy* antara hasil prediksi dan nilai sebenarnya\n",
    "\n",
    "Perhatikan bahwa *validation* juga bisa dilakukan per *batch*, sehingga kedua langkah di atas dilakukan per *batch*. Kalau begitu, nilai akhir untuk *loss* dan/atau *accuracy* menjadi rata-rata dari nilainya di tiap *batch*."
   ]
  },
  {
   "cell_type": "markdown",
   "metadata": {},
   "source": [
    "Penjelasan di atas menjadi kode PyTorch sebagai berikut:"
   ]
  },
  {
   "cell_type": "code",
   "execution_count": 13,
   "metadata": {},
   "outputs": [
    {
     "name": "stdout",
     "output_type": "stream",
     "text": [
      "Epoch: 0 | avg train loss: 1.0023550987243652 | avg val loss: 0.6549612879753113\n",
      "Epoch: 1 | avg train loss: 0.424757719039917 | avg val loss: 0.3022421300411224\n",
      "Epoch: 2 | avg train loss: 0.2212503552436828 | avg val loss: 0.1808699667453766\n",
      "Epoch: 3 | avg train loss: 0.1497089713811874 | avg val loss: 0.1308697611093521\n",
      "Epoch: 4 | avg train loss: 0.1175468564033508 | avg val loss: 0.1053687334060669\n",
      "Epoch: 5 | avg train loss: 0.0995666906237602 | avg val loss: 0.0898655503988266\n",
      "Epoch: 6 | avg train loss: 0.0879358351230621 | avg val loss: 0.0794256925582885\n",
      "Epoch: 7 | avg train loss: 0.0796592533588409 | avg val loss: 0.0717914551496505\n",
      "Epoch: 8 | avg train loss: 0.0733261257410049 | avg val loss: 0.0658656656742096\n",
      "Epoch: 9 | avg train loss: 0.0682612806558609 | avg val loss: 0.061109509319067\n"
     ]
    }
   ],
   "source": [
    "epochs = 10\n",
    "\n",
    "train_loss_list = []\n",
    "val_loss_list = []\n",
    "\n",
    "# untuk tiap epoch,\n",
    "for epoch in range(epochs):\n",
    "    # siapkan model untuk tahap training\n",
    "    pisah_titik.to(device)\n",
    "    pisah_titik.train()\n",
    "    sum_train_loss = 0\n",
    "\n",
    "    # untuk tiap batch,\n",
    "    for X, y in titik_train_dataloader:\n",
    "        X = X.to(device)\n",
    "        y = y.to(device)\n",
    "\n",
    "        # Forward pass\n",
    "        y_pred = pisah_titik(X)\n",
    "\n",
    "        # Hitung loss\n",
    "        loss = titik_loss_fn(y_pred, y)\n",
    "        sum_train_loss += loss\n",
    "\n",
    "        # \"Optimizer zero grad\": nolkan dulu hasil hitung gradien\n",
    "        titik_opt.zero_grad()\n",
    "\n",
    "        # Backpropagation\n",
    "        loss.backward()\n",
    "\n",
    "        # Update optimizer, juga disebut \"optimizer step\"\n",
    "        titik_opt.step()\n",
    "\n",
    "    # hitung rata-rata train loss berdasarkan banyaknya batch\n",
    "    avg_train_loss = sum_train_loss / len(titik_train_dataloader)\n",
    "\n",
    "    # simpan train loss\n",
    "    train_loss_list.append(avg_train_loss)\n",
    "\n",
    "    # siapkan model untuk tahap validaion\n",
    "    pisah_titik.to(device)\n",
    "    pisah_titik.eval()\n",
    "    sum_val_loss = 0\n",
    "\n",
    "    # selalu digunakan ketika hendak testing\n",
    "    with torch.inference_mode():\n",
    "        # untuk tiap batch,\n",
    "        for X, y in titik_val_dataloader:\n",
    "            X = X.to(device)\n",
    "            y = y.to(device)\n",
    "            \n",
    "            # Forward pass\n",
    "            y_pred = pisah_titik(X)\n",
    "\n",
    "            # Hitung loss\n",
    "            sum_val_loss += titik_loss_fn(y_pred, y)\n",
    "        \n",
    "        # hitung rata-rata val loss berdasarkan banyaknya batch\n",
    "        avg_val_loss = sum_val_loss / len(titik_val_dataloader)\n",
    "        \n",
    "        # simpan val loss\n",
    "        val_loss_list.append(avg_val_loss)\n",
    "    \n",
    "    # tampilkan train loss dan val loss untuk epoch ini\n",
    "    print(f\"Epoch: {epoch} | avg train loss: {avg_train_loss} | avg val loss: {avg_val_loss}\")"
   ]
  },
  {
   "cell_type": "markdown",
   "metadata": {},
   "source": [
    "Perhatikan bahwa hasil *loss* di tiap *epoch* sudah kita simpan ke dalam list."
   ]
  },
  {
   "cell_type": "code",
   "execution_count": 116,
   "metadata": {},
   "outputs": [
    {
     "name": "stdout",
     "output_type": "stream",
     "text": [
      "[tensor(1.0024, grad_fn=<DivBackward0>), tensor(0.4248, grad_fn=<DivBackward0>), tensor(0.2213, grad_fn=<DivBackward0>), tensor(0.1497, grad_fn=<DivBackward0>), tensor(0.1175, grad_fn=<DivBackward0>), tensor(0.0996, grad_fn=<DivBackward0>), tensor(0.0879, grad_fn=<DivBackward0>), tensor(0.0797, grad_fn=<DivBackward0>), tensor(0.0733, grad_fn=<DivBackward0>), tensor(0.0683, grad_fn=<DivBackward0>)]\n",
      "[tensor(0.6550), tensor(0.3022), tensor(0.1809), tensor(0.1309), tensor(0.1054), tensor(0.0899), tensor(0.0794), tensor(0.0718), tensor(0.0659), tensor(0.0611)]\n"
     ]
    }
   ],
   "source": [
    "print(train_loss_list)\n",
    "print(val_loss_list)"
   ]
  },
  {
   "cell_type": "markdown",
   "metadata": {},
   "source": [
    "Maka, kita bisa ubah jadi DataFrame lalu menyimpannya sebagai CSV:"
   ]
  },
  {
   "cell_type": "code",
   "execution_count": 114,
   "metadata": {},
   "outputs": [],
   "source": [
    "titik_loss_df = pd.DataFrame(\n",
    "    [\n",
    "        [loss.item() for loss in train_loss_list],\n",
    "        [loss.item() for loss in val_loss_list]\n",
    "    ],\n",
    ").transpose().rename(columns={0: \"train_loss\", 1: \"val_loss\"})"
   ]
  },
  {
   "cell_type": "code",
   "execution_count": 115,
   "metadata": {},
   "outputs": [
    {
     "data": {
      "text/html": [
       "<div>\n",
       "<style scoped>\n",
       "    .dataframe tbody tr th:only-of-type {\n",
       "        vertical-align: middle;\n",
       "    }\n",
       "\n",
       "    .dataframe tbody tr th {\n",
       "        vertical-align: top;\n",
       "    }\n",
       "\n",
       "    .dataframe thead th {\n",
       "        text-align: right;\n",
       "    }\n",
       "</style>\n",
       "<table border=\"1\" class=\"dataframe\">\n",
       "  <thead>\n",
       "    <tr style=\"text-align: right;\">\n",
       "      <th></th>\n",
       "      <th>train_loss</th>\n",
       "      <th>val_loss</th>\n",
       "    </tr>\n",
       "  </thead>\n",
       "  <tbody>\n",
       "    <tr>\n",
       "      <th>0</th>\n",
       "      <td>1.002355</td>\n",
       "      <td>0.654961</td>\n",
       "    </tr>\n",
       "    <tr>\n",
       "      <th>1</th>\n",
       "      <td>0.424758</td>\n",
       "      <td>0.302242</td>\n",
       "    </tr>\n",
       "    <tr>\n",
       "      <th>2</th>\n",
       "      <td>0.221250</td>\n",
       "      <td>0.180870</td>\n",
       "    </tr>\n",
       "    <tr>\n",
       "      <th>3</th>\n",
       "      <td>0.149709</td>\n",
       "      <td>0.130870</td>\n",
       "    </tr>\n",
       "    <tr>\n",
       "      <th>4</th>\n",
       "      <td>0.117547</td>\n",
       "      <td>0.105369</td>\n",
       "    </tr>\n",
       "    <tr>\n",
       "      <th>5</th>\n",
       "      <td>0.099567</td>\n",
       "      <td>0.089866</td>\n",
       "    </tr>\n",
       "    <tr>\n",
       "      <th>6</th>\n",
       "      <td>0.087936</td>\n",
       "      <td>0.079426</td>\n",
       "    </tr>\n",
       "    <tr>\n",
       "      <th>7</th>\n",
       "      <td>0.079659</td>\n",
       "      <td>0.071791</td>\n",
       "    </tr>\n",
       "    <tr>\n",
       "      <th>8</th>\n",
       "      <td>0.073326</td>\n",
       "      <td>0.065866</td>\n",
       "    </tr>\n",
       "    <tr>\n",
       "      <th>9</th>\n",
       "      <td>0.068261</td>\n",
       "      <td>0.061110</td>\n",
       "    </tr>\n",
       "  </tbody>\n",
       "</table>\n",
       "</div>"
      ],
      "text/plain": [
       "   train_loss  val_loss\n",
       "0    1.002355  0.654961\n",
       "1    0.424758  0.302242\n",
       "2    0.221250  0.180870\n",
       "3    0.149709  0.130870\n",
       "4    0.117547  0.105369\n",
       "5    0.099567  0.089866\n",
       "6    0.087936  0.079426\n",
       "7    0.079659  0.071791\n",
       "8    0.073326  0.065866\n",
       "9    0.068261  0.061110"
      ]
     },
     "execution_count": 115,
     "metadata": {},
     "output_type": "execute_result"
    }
   ],
   "source": [
    "titik_loss_df"
   ]
  },
  {
   "cell_type": "code",
   "execution_count": 118,
   "metadata": {},
   "outputs": [],
   "source": [
    "titik_loss_df.to_csv(\"./pytorch_titik_loss_df.csv\", index=False)"
   ]
  },
  {
   "cell_type": "markdown",
   "metadata": {},
   "source": [
    "Kalau mau menyamakan dengan modul, kalian bisa *download* melalui GitHub Pages ini: [pytorch_titik_loss_df.csv](./pytorch_titik_loss_df.csv)"
   ]
  },
  {
   "cell_type": "markdown",
   "metadata": {},
   "source": [
    "Kita bisa import kembali:"
   ]
  },
  {
   "cell_type": "code",
   "execution_count": 7,
   "metadata": {},
   "outputs": [],
   "source": [
    "pytorch_titik_loss_df = pd.read_csv(\"./pytorch_titik_loss_df.csv\")"
   ]
  },
  {
   "cell_type": "markdown",
   "metadata": {},
   "source": [
    "Lalu kita bisa plot:"
   ]
  },
  {
   "cell_type": "code",
   "execution_count": 120,
   "metadata": {},
   "outputs": [
    {
     "data": {
      "image/png": "[encoded data removed]",
      "text/plain": [
       "<Figure size 640x480 with 1 Axes>"
      ]
     },
     "metadata": {},
     "output_type": "display_data"
    }
   ],
   "source": [
    "plt.plot(pytorch_titik_loss_df[\"train_loss\"], label = \"training loss\")\n",
    "plt.plot(pytorch_titik_loss_df[\"val_loss\"], label = \"validation loss\")\n",
    "plt.xlabel(\"epoch\")\n",
    "plt.legend()\n",
    "plt.show()"
   ]
  },
  {
   "cell_type": "markdown",
   "metadata": {},
   "source": [
    "### Prediksi"
   ]
  },
  {
   "cell_type": "markdown",
   "metadata": {},
   "source": [
    "### Menyimpan parameter model (saja)"
   ]
  },
  {
   "cell_type": "markdown",
   "metadata": {},
   "source": [
    "Ingat kembali, kita bisa melihat parameter model dengan `.state_dict()`"
   ]
  },
  {
   "cell_type": "code",
   "execution_count": 122,
   "metadata": {},
   "outputs": [
    {
     "data": {
      "text/plain": [
       "OrderedDict([('weights',\n",
       "              tensor([[ 0.9372],\n",
       "                      [-1.2340]])),\n",
       "             ('bias', tensor([0.3439]))])"
      ]
     },
     "execution_count": 122,
     "metadata": {},
     "output_type": "execute_result"
    }
   ],
   "source": [
    "pisah_titik.state_dict()"
   ]
  },
  {
   "cell_type": "markdown",
   "metadata": {},
   "source": [
    "Kita bisa menyimpan parameter model ke dalam *file* berakhiran `.pth` menggunakan `torch.save`"
   ]
  },
  {
   "cell_type": "code",
   "execution_count": 123,
   "metadata": {},
   "outputs": [],
   "source": [
    "torch.save(pisah_titik.state_dict(), \"./pisah_titik_state.pth\")"
   ]
  },
  {
   "cell_type": "markdown",
   "metadata": {},
   "source": [
    "Apabila ingin *load* kembali, kita perlu membuat *instance* terlebih dahulu..."
   ]
  },
  {
   "cell_type": "code",
   "execution_count": 124,
   "metadata": {},
   "outputs": [],
   "source": [
    "pisah_titik2 = MyPerceptron()"
   ]
  },
  {
   "cell_type": "markdown",
   "metadata": {},
   "source": [
    "Barulah kita panggil `.load_state_dict(torch.load(PATH))` seperti berikut:"
   ]
  },
  {
   "cell_type": "code",
   "execution_count": 125,
   "metadata": {},
   "outputs": [
    {
     "data": {
      "text/plain": [
       "<All keys matched successfully>"
      ]
     },
     "execution_count": 125,
     "metadata": {},
     "output_type": "execute_result"
    }
   ],
   "source": [
    "pisah_titik2.load_state_dict(torch.load(\"./pisah_titik_state.pth\"))"
   ]
  },
  {
   "cell_type": "markdown",
   "metadata": {},
   "source": [
    "Parameternya akan sama:"
   ]
  },
  {
   "cell_type": "code",
   "execution_count": 126,
   "metadata": {},
   "outputs": [
    {
     "data": {
      "text/plain": [
       "OrderedDict([('weights',\n",
       "              tensor([[ 0.9372],\n",
       "                      [-1.2340]])),\n",
       "             ('bias', tensor([0.3439]))])"
      ]
     },
     "execution_count": 126,
     "metadata": {},
     "output_type": "execute_result"
    }
   ],
   "source": [
    "pisah_titik2.state_dict()"
   ]
  },
  {
   "cell_type": "markdown",
   "metadata": {},
   "source": [
    "### `torch.nn.Linear` dan `torch.nn.Sequential`"
   ]
  },
  {
   "cell_type": "code",
   "execution_count": null,
   "metadata": {},
   "outputs": [],
   "source": [
    "class MyPerceptron_v2(torch.nn.Module):\n",
    "    def __init__(self):\n",
    "        super().__init__()\n",
    "\n",
    "        # satu dense layer dengan fungsi aktivasi linier\n",
    "        self.linear_layer = torch.nn.Linear(in_features=2, out_features=1)\n",
    "\n",
    "        # fungsi aktivasi sigmoid\n",
    "        self.sigmoid = torch.nn.Sigmoid()\n",
    "    \n",
    "    def forward(self, x):\n",
    "        x = self.linear_layer(x)\n",
    "        x = self.sigmoid(x)\n",
    "        return x"
   ]
  },
  {
   "cell_type": "code",
   "execution_count": null,
   "metadata": {},
   "outputs": [],
   "source": [
    "class MyPerceptron_v3(torch.nn.Module):\n",
    "    def __init__(self):\n",
    "        super().__init__()\n",
    "\n",
    "        # perhatikan: inputnya bukan berupa list, langsung saja tiap layer\n",
    "        self.layer = torch.nn.Sequential(\n",
    "            torch.nn.Linear(in_features=2, out_features=1),\n",
    "            torch.nn.Sigmoid()\n",
    "        )\n",
    "    \n",
    "    def forward(self, x):\n",
    "        x = self.layer(x)\n",
    "        return x"
   ]
  },
  {
   "cell_type": "markdown",
   "metadata": {},
   "source": [
    "## Fungsi *train step* dan *val step*"
   ]
  },
  {
   "cell_type": "markdown",
   "metadata": {},
   "source": [
    "*Training loop* kita terdiri dari dua bagian utama, yaitu tahap *training* dan tahap *validation*. Kita bisa menyusun *training loop* yang telah kita buat dengan lebih rapi, dengan memasukkan tiap tahap ke dalam fungsi yang nantinya tinggal dipanggil. Modifikasi yang dilakukan:\n",
    "\n",
    "- `pisah_titik` menjadi `model`\n",
    "\n",
    "- `titik_train_dataloader` menjadi `train_dataloader`\n",
    "\n",
    "- `titik_val_dataloader` menjadi `val_dataloader`\n",
    "\n",
    "- `titik_loss_fn` menjadi `loss_fn`\n",
    "\n",
    "- `titik_opt` menjadi `optimizer`"
   ]
  },
  {
   "cell_type": "code",
   "execution_count": null,
   "metadata": {},
   "outputs": [],
   "source": [
    "def train_step(model, train_dataloader, loss_fn, optimizer, device=device):\n",
    "    # siapkan model untuk tahap training\n",
    "    model.to(device)\n",
    "    model.train()\n",
    "    sum_train_loss = 0\n",
    "\n",
    "    # untuk tiap batch,\n",
    "    for X, y in train_dataloader:\n",
    "        X = X.to(device)\n",
    "        y = y.to(device)\n",
    "\n",
    "        # Forward pass\n",
    "        y_pred = model(X)\n",
    "\n",
    "        # Hitung loss\n",
    "        loss = loss_fn(y_pred, y)\n",
    "        sum_train_loss += loss\n",
    "\n",
    "        # \"Optimizer zero grad\": nolkan dulu hasil hitung gradien\n",
    "        optimizer.zero_grad()\n",
    "\n",
    "        # Backpropagation\n",
    "        loss.backward()\n",
    "\n",
    "        # Update optimizer, juga disebut \"optimizer step\"\n",
    "        optimizer.step()\n",
    "\n",
    "    # hitung rata-rata train loss berdasarkan banyaknya batch\n",
    "    avg_train_loss = sum_train_loss / len(train_dataloader)\n",
    "\n",
    "    # sedikit modifikasi: return train loss\n",
    "    return avg_train_loss"
   ]
  },
  {
   "cell_type": "code",
   "execution_count": null,
   "metadata": {},
   "outputs": [],
   "source": [
    "def val_step(model, val_dataloader, loss_fn, device=device):\n",
    "    # siapkan model untuk tahap validaion\n",
    "    model.to(device)\n",
    "    model.eval()\n",
    "    sum_val_loss = 0\n",
    "\n",
    "    # selalu digunakan ketika hendak testing\n",
    "    with torch.inference_mode():\n",
    "        # untuk tiap batch,\n",
    "        for X, y in val_dataloader:\n",
    "            X = X.to(device)\n",
    "            y = y.to(device)\n",
    "            \n",
    "            # Forward pass\n",
    "            y_pred = model(X)\n",
    "\n",
    "            # Hitung loss\n",
    "            sum_val_loss += loss_fn(y_pred, y)\n",
    "        \n",
    "        # hitung rata-rata val loss berdasarkan banyaknya batch\n",
    "        avg_val_loss = sum_val_loss / len(val_dataloader)\n",
    "        \n",
    "        # sedikit modifikasi: return val loss\n",
    "        return avg_val_loss"
   ]
  },
  {
   "cell_type": "markdown",
   "metadata": {},
   "source": [
    "Setelah mendefinisikan kedua fungsi di atas, *training loop* menjadi lebih sederhana:"
   ]
  },
  {
   "cell_type": "code",
   "execution_count": null,
   "metadata": {},
   "outputs": [],
   "source": [
    "epochs = 10\n",
    "\n",
    "train_loss_list = []\n",
    "val_loss_list = []\n",
    "\n",
    "# untuk tiap epoch,\n",
    "for epoch in range(epochs):\n",
    "    # training step\n",
    "    avg_train_loss = train_step(\n",
    "        model = pisah_titik,\n",
    "        train_dataloader = titik_train_dataloader,\n",
    "        loss_fn = titik_loss_fn,\n",
    "        optimizer = titik_opt,\n",
    "        device = device\n",
    "    )\n",
    "    train_loss_list.append(avg_train_loss)\n",
    "\n",
    "    # validation step\n",
    "    avg_val_loss = val_step(\n",
    "        model = pisah_titik,\n",
    "        val_dataloader = titik_val_dataloader,\n",
    "        loss_fn = titik_loss_fn,\n",
    "        device = device\n",
    "    )\n",
    "    val_loss_list.append(avg_val_loss)\n",
    "    \n",
    "    # tampilkan train loss dan val loss untuk epoch ini\n",
    "    print(f\"Epoch: {epoch} | avg train loss: {avg_train_loss} | avg val loss: {avg_val_loss}\")"
   ]
  },
  {
   "cell_type": "markdown",
   "metadata": {},
   "source": [
    "Bahkan, *training loop* secara keseluruhan bisa kita jadikan fungsi juga."
   ]
  },
  {
   "cell_type": "code",
   "execution_count": null,
   "metadata": {},
   "outputs": [],
   "source": [
    "def training_loop(\n",
    "        model, train_dataloader, val_dataloader,\n",
    "        loss_fn, optimizer, epochs, device = device\n",
    "    ):\n",
    "\n",
    "    train_loss_list = []\n",
    "    val_loss_list = []\n",
    "\n",
    "    # untuk tiap epoch,\n",
    "    for epoch in range(epochs):\n",
    "        # training step\n",
    "        avg_train_loss = train_step(\n",
    "            model, train_dataloader,\n",
    "            loss_fn, optimizer, device=device\n",
    "        )\n",
    "        train_loss_list.append(avg_train_loss)\n",
    "\n",
    "        # validation step\n",
    "        avg_val_loss = val_step(\n",
    "            model, val_dataloader,\n",
    "            loss_fn, optimizer, device=device\n",
    "        )\n",
    "        val_loss_list.append(avg_val_loss)\n",
    "        \n",
    "        # tampilkan train loss dan val loss untuk epoch ini\n",
    "        print(f\"Epoch: {epoch} | avg train loss: {avg_train_loss} | avg val loss: {avg_val_loss}\")\n",
    "    \n",
    "    # menyimpan kedua list ke dalam dictionary yang kemudian di-return\n",
    "    results_dict = {\n",
    "        \"train_loss\": [loss.item() for loss in train_loss_list],\n",
    "        \"val_loss\": [loss.item() for loss in val_loss_list]\n",
    "    }\n",
    "    return results_dict"
   ]
  },
  {
   "cell_type": "markdown",
   "metadata": {},
   "source": [
    "## Klasifikasi Gambar"
   ]
  },
  {
   "cell_type": "markdown",
   "metadata": {},
   "source": [
    "Sekarang kita akan mencoba melakukan klasifikasi gambar dengan dataset Fashion MNIST seperti di pertemuan sebelumnya."
   ]
  },
  {
   "cell_type": "markdown",
   "metadata": {},
   "source": [
    "### Persiapan data"
   ]
  },
  {
   "cell_type": "markdown",
   "metadata": {},
   "source": [
    "Langkah pertama adalah menyiapkan data. Untungnya, `DataLoader` untuk Fashion MNIST sudah tersedia di `torchvision.datasets.FashionMNIST` sehingga tinggal kita *download* seperti berikut."
   ]
  },
  {
   "cell_type": "markdown",
   "metadata": {},
   "source": [
    "Perkiraan *storage* yang dibutuhkan: 90 MB"
   ]
  },
  {
   "cell_type": "markdown",
   "metadata": {},
   "source": [
    "Apabila *download* di laptop kalian terlalu pelan, silakan gunakan Google Colaboratory saja, selesai kurang dari 30 detik"
   ]
  },
  {
   "cell_type": "code",
   "execution_count": 16,
   "metadata": {},
   "outputs": [],
   "source": [
    "fashion_train = torchvision.datasets.FashionMNIST(\n",
    "    root = \"./fashion_data\", # folder tempat download\n",
    "    train = True, # data training\n",
    "    download = True, # karena belum ada\n",
    "    # agar file gambar otomatis diubah menjadi tensor\n",
    "    transform = torchvision.transforms.ToTensor()\n",
    ")"
   ]
  },
  {
   "cell_type": "code",
   "execution_count": 17,
   "metadata": {},
   "outputs": [],
   "source": [
    "fashion_val = torchvision.datasets.FashionMNIST(\n",
    "    root = \"./fashion_data\", # folder yang sama untuk tempat download\n",
    "    train = False, # bukan data training\n",
    "    download = True,\n",
    "    transform = torchvision.transforms.ToTensor()\n",
    ")"
   ]
  },
  {
   "cell_type": "markdown",
   "metadata": {},
   "source": [
    "### Menyusun model"
   ]
  },
  {
   "cell_type": "markdown",
   "metadata": {},
   "source": [
    "### *Training*"
   ]
  },
  {
   "cell_type": "markdown",
   "metadata": {},
   "source": [
    "### Prediksi"
   ]
  },
  {
   "cell_type": "markdown",
   "metadata": {},
   "source": [
    "### Menyimpan parameter model"
   ]
  },
  {
   "cell_type": "markdown",
   "metadata": {},
   "source": [
    "## Referensi"
   ]
  },
  {
   "cell_type": "markdown",
   "metadata": {},
   "source": [
    "Internet\n",
    "\n",
    "- <https://paperswithcode.com/trends>\n",
    "\n",
    "- <https://pytorch.org/docs/stable/index.html>"
   ]
  },
  {
   "cell_type": "markdown",
   "metadata": {},
   "source": [
    "Sumber belajar PyTorch, *deep learning*, atau semacamnya, untuk belajar lebih lanjut\n",
    "\n",
    "- <https://www.learnpytorch.io/>\n",
    "\n",
    "- Buku *Dive into Deep Learning* (biasa disebut D2L), utamanya menggunakan PyTorch: <https://d2l.ai/>\n",
    "\n",
    "- Situs bernama *\"weights and biases\"* (wandb) menyediakan layanan pemantauan proses *training*: <https://wandb.ai/site>"
   ]
  },
  {
   "cell_type": "markdown",
   "metadata": {},
   "source": []
  }
 ],
 "metadata": {
  "kernelspec": {
   "display_name": "Python 3",
   "language": "python",
   "name": "python3"
  },
  "language_info": {
   "codemirror_mode": {
    "name": "ipython",
    "version": 3
   },
   "file_extension": ".py",
   "mimetype": "text/x-python",
   "name": "python",
   "nbconvert_exporter": "python",
   "pygments_lexer": "ipython3",
   "version": "3.10.11"
  }
 },
 "nbformat": 4,
 "nbformat_minor": 2
}
